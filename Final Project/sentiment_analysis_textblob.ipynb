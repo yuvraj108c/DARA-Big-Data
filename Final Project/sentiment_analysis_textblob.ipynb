{
 "cells": [
  {
   "cell_type": "code",
   "execution_count": 9,
   "id": "4b80752c-90b4-4509-b37c-19b2c0ee547d",
   "metadata": {},
   "outputs": [],
   "source": [
    "import pandas as pd\n",
    "from textblob import TextBlob\n",
    "import emoji\n",
    "import matplotlib.pyplot as plt\n",
    "import numpy as np\n",
    "from vaderSentiment.vaderSentiment import SentimentIntensityAnalyzer\n",
    "import plotly.express as px\n",
    "from plotly.offline import init_notebook_mode\n",
    "plt.style.use('fivethirtyeight')"
   ]
  },
  {
   "cell_type": "code",
   "execution_count": 10,
   "id": "fc8ab313-9386-45ea-a9e2-f23dcd6569f8",
   "metadata": {},
   "outputs": [],
   "source": [
    "df_with_emojis = pd.read_csv(\"covidData_cleaned_lowercase_noStopwords_emojis.csv\")\n",
    "df_with_emojis.dropna(subset=['tweet_text'],inplace=True)\n",
    "\n",
    "df_no_emojis = pd.read_csv(\"covidData_cleaned_lowercase_noStopwords_no_emojis.csv\")\n",
    "df_no_emojis.dropna(subset=['tweet_text'],inplace=True)"
   ]
  },
  {
   "cell_type": "code",
   "execution_count": 11,
   "id": "066854b8-b178-41fe-92fe-791832aaf994",
   "metadata": {},
   "outputs": [],
   "source": [
    "def getSubjectivity(text):\n",
    "    return TextBlob(text).sentiment.subjectivity\n",
    "\n",
    "def getPolarity(text):\n",
    "    return TextBlob(text).sentiment.polarity\n",
    "\n",
    "def get_sentiment_label(score):\n",
    "    if score < 0:\n",
    "        return 'Negative'\n",
    "    elif score == 0:\n",
    "        return 'Neutral'\n",
    "    else:\n",
    "        return 'Positive'  "
   ]
  },
  {
   "cell_type": "code",
   "execution_count": 15,
   "id": "c7cb8673-47eb-4f2c-8105-e42c45ca44aa",
   "metadata": {},
   "outputs": [],
   "source": [
    "df_no_emojis['TB_subjectivity_no_emoji'] = df_no_emojis['tweet_text'].apply(getSubjectivity)\n",
    "df_no_emojis['TB_polarity_no_emoji'] = df_no_emojis['tweet_text'].apply(getPolarity)\n",
    "df_no_emojis['TBsentiment_no_emoji'] = df_no_emojis['TB_polarity_no_emoji'].apply(get_sentiment_label)\n",
    "\n",
    "# df_no_emojis.head()"
   ]
  },
  {
   "cell_type": "code",
   "execution_count": 16,
   "id": "73de9b9c-8c33-4db3-a7a4-a2c5eba2a2d9",
   "metadata": {},
   "outputs": [],
   "source": [
    "def emoji_to_text(txt):\n",
    "    clean=emoji.demojize(txt, delimiters=(\"\", \"\"))\n",
    "    return clean.replace(\"_\",' ');"
   ]
  },
  {
   "cell_type": "code",
   "execution_count": 17,
   "id": "464cf368-758c-4a7b-be75-f53af543bb48",
   "metadata": {},
   "outputs": [],
   "source": [
    "df_with_emojis['tweet_text_emojitise'] = df_with_emojis['tweet_text'].apply(emoji_to_text)\n",
    "\n",
    "df_with_emojis['TB_subjectivity_with_emoji'] = df_with_emojis['tweet_text_emojitise'].apply(getSubjectivity)\n",
    "df_with_emojis['TB_polarity_with_emoji'] = df_with_emojis['tweet_text_emojitise'].apply(getPolarity)\n",
    "df_with_emojis['TBsentiment_with_emoji'] = df_with_emojis['TB_polarity_with_emoji'].apply(get_sentiment_label)\n",
    "\n",
    "# df_with_emojis.head()"
   ]
  },
  {
   "cell_type": "code",
   "execution_count": 18,
   "id": "d24174b4-4d9a-4993-aee3-48e5fbc1358d",
   "metadata": {},
   "outputs": [
    {
     "data": {
      "text/plain": [
       "Neutral     450\n",
       "Positive    437\n",
       "Negative    111\n",
       "Name: TBsentiment_no_emoji, dtype: int64"
      ]
     },
     "execution_count": 18,
     "metadata": {},
     "output_type": "execute_result"
    }
   ],
   "source": [
    "df_no_emojis['TBsentiment_no_emoji'].value_counts()"
   ]
  },
  {
   "cell_type": "code",
   "execution_count": 19,
   "id": "736d125f-eb24-400d-b16d-95be129875c4",
   "metadata": {},
   "outputs": [],
   "source": [
    "emojis_data = df_with_emojis['TBsentiment_with_emoji'].value_counts()\n",
    "no_emojis_data = df_no_emojis['TBsentiment_no_emoji'].value_counts()\n",
    "\n",
    "neutral = [emojis_data['Neutral'],no_emojis_data['Neutral']]\n",
    "positive = [emojis_data['Positive'],no_emojis_data['Positive']]\n",
    "negative = [emojis_data['Negative'],no_emojis_data['Negative']]"
   ]
  },
  {
   "cell_type": "code",
   "execution_count": 20,
   "id": "110a2aef-d6f1-4464-a572-1482eff405cd",
   "metadata": {},
   "outputs": [
    {
     "data": {
      "image/png": "[encoded data removed]",
      "text/plain": [
       "<Figure size 432x288 with 1 Axes>"
      ]
     },
     "metadata": {},
     "output_type": "display_data"
    }
   ],
   "source": [
    " \n",
    "X = ['With Emojis','Without Emojis']\n",
    "  \n",
    "X_axis = np.arange(len(X))\n",
    "\n",
    "plt.bar(X_axis, neutral, 0.2, label = 'Neutral')\n",
    "plt.bar(X_axis + 0.2, positive, 0.2, label = 'Positive')\n",
    "plt.bar(X_axis + 0.4, negative, 0.2, label = 'Negative')\n",
    "\n",
    "plt.xticks(X_axis, X)\n",
    "# plt.xlabel(\"Sentiments\")\n",
    "plt.ylabel(\"Count\")\n",
    "plt.title(\"Sentiment Analysis - TextBlob\")\n",
    "plt.legend()\n",
    "plt.show()"
   ]
  },
  {
   "cell_type": "code",
   "execution_count": 22,
   "id": "b750af59-078f-4e74-9114-9d5dbcf24252",
   "metadata": {},
   "outputs": [
    {
     "data": {
      "application/vnd.plotly.v1+json": {
       "config": {
        "plotlyServerURL": "https://plot.ly"
       },
       "data": [
        {
         "customdata": [
          [
           "case missed : recommends covid-19 six old. learn safe &amp ; effective :"
          ],
          [
           "florida-based grocery chain pharmacy retailer publix says offer covid-19 five ' time ' - surprising ! publix heir gave sh*t load $ $ ron desantis campaign. boycottpublix"
          ],
          [
           "thank misinformation safety key issue. must communicate vaccines safe &amp ; effective ! thisisourshot parents give mixed reaction 5"
          ],
          [
           "much damage done childhood trust rushing vax ? ’ genuinely sad scientist - really wonderful life-saving vaccines places doubt , ’ awful 😢"
          ],
          [
           "responsible publix ’ give 5"
          ],
          [
           "hey childhood diseases … florida open ! ! ! diphtheria , chicken pox , whooping cough , polio , measles , tb , come free fools state ! ! ! shingles anyone? ? ? florida state preorder"
          ],
          [
           "one biggest challenges overcoming skepticism ’ effectiveness necessity ."
          ],
          [
           "baylor scott &amp ; white medical research team needs unvaccinated study aiming better understand covid-19 prevention transmission ."
          ],
          [
           "pfizer reduces sperm quality — long ? • ' health defense ⁦ ⁩"
          ],
          [
           "soni : although ’ true many already exposed covid-19 , vaccines help prevent severely ill developing long-term complications due virus , including death ."
          ],
          [
           "despite tons evidence contrary , published following : covid-19 vaccines locally , toddlers safe effective. find nearby tarrant county clinic ."
          ],
          [
           "publix ’ give 5 publix release statement explaining decision"
          ],
          [
           "2. impulse make lot people ."
          ],
          [
           "shots little here. hardest part"
          ],
          [
           "news-leader : younger 5 receive covid-19 vaccines springfield"
          ],
          [
           "aged 6 older eligible covid-19"
          ],
          [
           "two plus stressful keeping free , finally got first ."
          ],
          [
           "fda cdc unanimously reported benefits outweigh risk comes vaccinating , parents seem divided ."
          ],
          [
           "’ data back notion safer taking vaccine. ’ “peace mind ” , science ."
          ],
          [
           "17,000 covid-19 vaccines 5 headed"
          ],
          [
           "cdc director rochelle p. walensky endorsed advisory committee immunization practices ’ ( acip ) recommendation 6 5 receive covid-19 vaccine. ..."
          ],
          [
           "vaccines approved _fda ages 6 five age. 💉 offering group clinics throughout valley walk-in basis :"
          ],
          [
           "litmus test trusting physician ’ advice discernment whether recommend healthy adults ."
          ],
          [
           "6 protect , time summer family trips. studies shown safe &amp ; effective preventing covid-19 illness children. read :"
          ],
          [
           "6 protect , time summer family trips. studies shown safe &amp ; effective preventing covid-19 illness children. read :"
          ],
          [
           "maternal 19 decreases risk serious illness hospitalization 6 maternal risk hospitalization covid-19 among &124 ; nejm"
          ],
          [
           "parents anxiously awaiting chance , remains seen robust demand ."
          ],
          [
           "georgia families struggle youngest"
          ],
          [
           "covid-19 vaccines soon locally 5 age. find , visit call 1-833-422-4255. parents also talk ’ health care provider. visit learn ."
          ],
          [
           "“where ? ” tnvaxnow protectourfuture"
          ],
          [
           "cdc recommends covid-19 vaccines children. read recommendation :"
          ],
          [
           "5 eligible covid-19. plan vaccinating ?"
          ],
          [
           "“i ’ vaccines moment since ’ , ’ rather longer studies effects , ” said nashare white , 15-month old. white fully , says ' hesitant ."
          ],
          [
           "pretty sad see publix stores refusing offer children. surprising , given politics owners ."
          ],
          [
           "company reportedly said ’ offer covid-19 group “at time . ”"
          ],
          [
           "covid-19 pregnancy — two price one &124 ; nejm \" evidence covid-19 vaccines help protect mothers highly relevant patient counseling : “2-for-1 ” deal may encourage mothers receive covid-19 . \""
          ],
          [
           "hope recent events ’ attended ’ 5 younger ( parents ) still waiting eligibility thus risk far higher effects unvaccinated vulnerable. thisiswhyweshouldstillwearmasks"
          ],
          [
           "“the good news families covid-19 vaccine-preventable disease 6 older. ” - dr. kris bryant , pediatric infectious diseases specialist norton ’ s. reports ."
          ],
          [
           "hard believe greedy publix could make money. know experience mother hurt store. publix ’ give 5 -"
          ],
          [
           "publix ' give 5 ( christopher ' donnell / tampa bay times )"
          ],
          [
           "hesitancy , bureaucracy , inequity , need explain formulas could slow delivery last unprotected group ."
          ],
          [
           "someone fill 5 would ever need given 1-4 y/o represent 143 deaths. make make sense ."
          ],
          [
           "icymi : tennessee gop lawmakers push block access vaccines. docs say ' bad idea :"
          ],
          [
           ". ’ give 5 -- grocery chain said explain decision “at time. ” _times"
          ],
          [
           "four republican lawmakers ask gov. lee prevent giving covid-19 5"
          ],
          [
           "case planning take publix ..."
          ],
          [
           "company reportedly said ’ offer covid-19 group “at time . ”"
          ],
          [
           "company reportedly said ’ offer covid-19 group “at time . ”"
          ],
          [
           "finally eligible covid-19 two began shots first started going arms ."
          ],
          [
           "hundreds locations across state offering , including one mall america , 6 ."
          ],
          [
           "\" maternal two doses mrna associated reduced risk hospitalization , including critical illness , among younger 6 . \""
          ],
          [
           "ron desantis right. ' ' ' infants. _sparkles _maga_cath"
          ],
          [
           "free country world pushing vaccines young. especially light recent admissions injuries. literally zero risk death covid. sickening"
          ],
          [
           "good. covidhearings"
          ],
          [
           "good tips ' appointment 6 covid-19 ."
          ],
          [
           "6 option parents. questions , talk pediatrician ."
          ],
          [
           "unitypoint clinic providing six five old. parents guardians use myunitypoint schedule &gt ; call ’ primary care physician ’ office set appointment ."
          ],
          [
           "company reportedly said ’ offer covid-19 group “at time . ”"
          ],
          [
           "“i encourage parents caregivers 6 5 take , \" said dr. janet memark , director cobb douglas public health ."
          ],
          [
           "following eua moderna pfizer ages 6 four , parents questions vaccines whether child. please see faqs cdc learn benefits covid-19 ."
          ],
          [
           "mother provides protection fetus post-natally ."
          ],
          [
           "great pediatric programs many women investigators💐 \" maternal 2 doses mrna associated w/⬇️risk hospitalization covid-19 , including critical illness , among younger 6 mos \" womeninmedicine"
          ],
          [
           "hinton , republican , said saddened hear florida ’ pre-order aged 6 up. felt desantis left cold , despite platform parents ’ rights ."
          ],
          [
           "primary health clinics idaho ’ largest metro area accepting walk-in patients seeking vaccines developed pfizer moderna ."
          ],
          [
           "dhec says vaccines ages 6 5 given clinics , health departments , providers request them. click article link find site near ."
          ],
          [
           "angelenos 6 eligible receive covid-19 , protecting families worst virus. decision comes safegaurd - la families finally breathe sigh relief knowing every household member protected ."
          ],
          [
           "🎥biden says ' planning another : washington ( ap ) — president joe biden visited clinic washington tuesday celebrate virtually americans covid-19 authorization vaccines …"
          ],
          [
           "' ' discrediting ! ' expert slams fda ' approval covid-19 vaccines 5 saying little evidence needed parents america ' youngest line"
          ],
          [
           "🎥biden says ' planning another : washington ( ap ) — president joe biden visited clinic washington tuesday celebrate virtually americans covid-19 authorization vaccines …"
          ],
          [
           "ugh. case ’ childcare center today , days ’ able vaccinated. freaking close. ( technically exposed , given rapidly cases spread past , ’ holding hope remain way. )"
          ],
          [
           "6 &amp ; older covid-19 contra costa. ' safe , effective &amp ; free way keep safe. info :"
          ],
          [
           "mean 13-year-old eddie st. louis county ? “i filled insane amount excitement joy able finally see friends. \" covid-19 vaccines safe ! learn :"
          ],
          [
           "federal regulators approved covid-19 shots 5 last week. parents enthusiastically welcomed news made appointments quickly possible , many others wary ."
          ],
          [
           "starting week , 18 million additional eligible covid-19 vaccination. covid-19 ? , process ? find"
          ],
          [
           "npr talks claire hannan , helped navigate rollouts 50 states , challenges involved quickly shots millions ."
          ],
          [
           "recent study maternal fetal antibody levels supports covid-19 maternal booster following full protect pregnant people , reports ."
          ],
          [
           "returned u.s. abroad okayed &lt ; 5 years. go 3 first dose ?"
          ],
          [
           "calling parents ! covid-19 vaccines 5 , anyone fence little ones ? please let know ! ’ love hear ’ ."
          ],
          [
           "ron desantis right. ' ' ' infants. _thetford _karen _rose _pv"
          ],
          [
           "' zero evidence benefit receiving shots. developed country injecting this. european countries even banned anyone 40yrs old. parents , defend ."
          ],
          [
           "u.s. states florida pre-ordered covid19vaccine doses 5. federal government deadline june 14 states pre-order doses. :"
          ],
          [
           "\" time politics. ' parents able everything keep safe , \" said president biden ."
          ],
          [
           "6 4 eligible covid-19 vaccine. , call glenwood medical center schedule 320.634.5157 ."
          ],
          [
           "👍👍👍 publix ’ give 5"
          ],
          [
           "covid-19 vaccines approved 6 - 4 yrs local pediatricians , health centers &amp ; marin county public health ( mcph ) preparing. appointments opening week. find spots @ marincounty"
          ],
          [
           "parents give mixed reaction 5"
          ],
          [
           "parents : questions covid-19 5 ? rush experts answers ."
          ],
          [
           "fda cdc unanimously reported benefits outweigh risk comes vaccinating , parents seem divided ."
          ],
          [
           "“governor , covid-19 emergency long passed tennessee . ”"
          ],
          [
           "good decision. following data. publix ’ give 5"
          ],
          [
           "yeeeeessssss ! expanded eligibility vaccines ages 6 4 ! ’ little excited starting tomorrow. info ➡"
          ],
          [
           "5 ? 18 % right away. 38 % wait see 11 % required 27 % definitely kff covid-19 monitor ( april 13-26 , 2022 ) president vp"
          ],
          [
           "’ batshit crazy give six"
          ],
          [
           "newly eligible covid-19 , want hear you. feeling news ? trouble finding shots hampshire , easy process ? let us know voices .org ."
          ],
          [
           "tenn. representative asks gov. bill lee halt distribution"
          ],
          [
           "covid-19 5 6 ."
          ],
          [
           "ages 6 older green light covid-19 vaccine. ' time shots arms ."
          ],
          [
           "fda cdc unanimously reported benefits outweigh risk comes vaccinating , parents seem divided ."
          ],
          [
           "family part ground floor publix. great uncle personal accountant henry jenkins publix started …"
          ],
          [
           "courage 💪"
          ],
          [
           "publix ’ give 5"
          ],
          [
           "clowns dangerous. family recovering last days 5 first positive case house. thankfully ’ boosted. heartless group human beings.protect republicans ’ ."
          ],
          [
           "experts look side effects expect six older ."
          ],
          [
           "fda cdc unanimously reported benefits outweigh risk comes vaccinating , parents seem divided ."
          ],
          [
           "q&amp ; : ucr expert dr. david lo shares thoughts vaccines children. read ⬇️ ucriverside"
          ],
          [
           "hard decision ... say ‼️ parents decide covid-19"
          ],
          [
           "covid-19 5 6 ."
          ],
          [
           "cdc receive smaller doses covid-19 , based age. like adult , ' helps keep covid-19 vaccines safe fda- authorized ages 6 older. :"
          ],
          [
           "starting today : begun administering pfizer &amp ; moderna vaccines 6 mos - 4 yrs main clinic , 1001 e. 9th street , building b. schedule appointment , call 775-328-2427. :"
          ],
          [
           ", *you* cried booked ’ appointment monday"
          ],
          [
           "following fda ’ approval covid-19 6 , four republican state lawmakers urging gov. bill lee tennessee department health distribute ."
          ],
          [
           "seem like cool caring group people ."
          ],
          [
           "covid-19 six five old. listen story jacqueline froelich :"
          ],
          [
           "agriculture commissioner nikkifried decrying gov. rondesantis ’ handling covid-19 , time lambasting recent decision pre-order vaccinations florida ."
          ],
          [
           "beginning june 28 , ages six four covid-19 ingham county health department ."
          ],
          [
           "agriculture commissioner nikkifried decrying gov. rondesantis ’ handling covid-19 , time lambasting recent decision pre-order vaccinations florida ."
          ],
          [
           "agriculture commissioner nikkifried decrying gov. rondesantis ’ handling covid-19 , time lambasting recent decision pre-order vaccinations florida ."
          ],
          [
           "covid-19 appointments june 23 &amp ; 24 national jewish health ages 5 11. visit website learn make appointment :"
          ],
          [
           "agriculture commissioner nikkifried decrying gov. rondesantis ’ handling covid-19 , time lambasting recent decision pre-order vaccinations florida ."
          ],
          [
           "6 eligible receive covid-19 , san mateo county officials encouraging guardians look toward ’ pediatrician treatment ."
          ],
          [
           "live updates : n.y.c. begins vaccinating , milestone"
          ],
          [
           "way : “major grocery chain &amp ; pharmacy retailer publix offer vaccinations nation ’ youngest 1,200 us stores . ”"
          ],
          [
           "letter gov. bill lee tennessee department health , four republican lawmakers ask halt distribution 6 ."
          ],
          [
           "iowa health experts encourage parents 6 covid-19"
          ],
          [
           "18 adults became eligible covid19vaccines , 6 4 u.s. : cdc"
          ],
          [
           "noah champ. got first dose pfizer 19 today. ’ even cry ."
          ],
          [
           "based florida company , drawing fucking line ! started , follow ."
          ],
          [
           "publix offering covid-19 5"
          ],
          [
           "_fda authorized emergency use two covid-19 vaccines 6 4 old. dr. priya soni discusses parents caregivers need know. learn :"
          ],
          [
           "’ mercy holding covid-19 clinic five"
          ],
          [
           "’ thinking vaccinating , know vaccinesideffects suffering long 20 months. *trial participants* still suffering. drug makers help gets sick ."
          ],
          [
           "walk-ins welcome : starting thursday , three occhd clinic locations offer covid-19 doses 6 older. ne clinic , 2700 ne 63rd ( 405 ) 419-4200. southern oaks clinic , 6728 hudson ave. , 405-419-4119. occhd ’ w. clinic , 4330 nw 10th st 405-419-4150 ."
          ],
          [
           "heading tomorrow 2nd booster vaccination. continue wear n95😷 even , ' easy &amp ; greatly reduces risk. protect &amp ; others please. even mild cases long term effects , *especially children* vax + 😷"
          ],
          [
           "time add younger team protected covid-19 vaccine. ask ' doctor questions , ' preparing ."
          ],
          [
           "know better 🤨"
          ],
          [
           "everyone ages 5 eligible covid-19 vaccines community-based clinic regency mall ! walk-ins welcome , ages 5-17 must accompanied guardian. information visit"
          ],
          [
           "well , except parents 82 % :"
          ],
          [
           "5 really need covid-19 vaccine? ? ?"
          ],
          [
           "“i ’ vaccines moment since ’ , ’ rather longer studies effects , ”"
          ],
          [
           "knoxville , tenn. ( wvlt ) - tennessee representative jason zachary joined coalition gop housemembers asking gov. bill lee halt covid-19 distribution , promotion recommendation five ."
          ],
          [
           "little ones babies vaccines"
          ],
          [
           "time rethink ban cuba , ' ? \" long declared u.s. national security threat , vicente vérez cuban chemist loved kids. \" cuba became pioneer covid-19 vaccines"
          ],
          [
           "brave ’ hospital patients among first ages 6 5 receive covid-19 louisiana , chnola ! schedule ’ , go call nurse hotline 504.386.3125 ."
          ],
          [
           "cuba became pioneer covid-19 vaccines"
          ],
          [
           "covid-19 vaccines five tippecanoe county starting thursday"
          ],
          [
           "tennessee house gop press gov. lee block state distribution youngest"
          ],
          [
           "wait ! brhd begin offering free covid-19 vaccines friday , june 24 , appointment , ages 6 5 ! learn upcoming clinics , make appointment , read faqs special update :"
          ],
          [
           "must climate change sad ( sudden adult death ) definitely jab. anyone thinks killing people banned social media forever ."
          ],
          [
           "clinics ages 6 scheduled. contact health care provider find state-run walk-in clinic nearest arrives vermont , clinics scheduled ."
          ],
          [
           "“if group strong level reinforce protection household , daycare facilities classrooms , thereby helping attendance also workplace , ” traxler said ."
          ],
          [
           "younger valley opportunity ."
          ],
          [
           "gets 5 unfit ."
          ],
          [
           "learn importance vaccinating 5 covid-19 ryan hassan , m.d. , m.p.h. visit :"
          ],
          [
           "father two boys , know ’ huge relief many parents 5 dallas county. encourage parents keep safe , talk pediatrician ."
          ],
          [
           "exclusive : whistleblower says 120,000 troops still unvaccinated , army may move june 30 deadline far future • ' health defense"
          ],
          [
           "shots little here. hardest part — wired"
          ],
          [
           "six able covid-19 health district community events across northern nevada ."
          ],
          [
           "6/24 west chester library offer pfizer covid-19 5. primary doses &amp ; boosters also available. walk-ins welcome ! information visit"
          ],
          [
           "four republican lawmakers ask gov. lee prevent giving covid-19 5 - four republican lawmakers signed letter asking governor bill lee go federal recommendations give covid-19 vaccines minors ."
          ],
          [
           "covid-19 update : 5 eligible pfizer moderna vaccine. learn safe effective :"
          ],
          [
           "south bay parents bring clinics"
          ],
          [
           "southern nevada health district begin offering covid-19 vaccines 6 5 ."
          ],
          [
           "llp 225 : covid-19 approved lunchlearnpod somedocs podsincolor"
          ],
          [
           "📣 join 6/29 facebook live event addressing key questions infants. hear ' dr. peter marks , ’ dr. sara oliver &amp ; ’ / ’ . rsvp :"
          ],
          [
           "5 , good luck finding st. joseph county ."
          ],
          [
           "6 5 covid-19 shots ! see doctors around state saying. talk ’ health care provider find location near make appointment :"
          ],
          [
           "contact ' healthcare provider schedule routine vaccines , including covid-19 , visit find near ."
          ],
          [
           "\" really ' want folks lose sight say ' ' , ' many … fatal infection. \" joe kurland , infectious-disease specialist , shares parents :"
          ],
          [
           "5 access covid-19 vaccines. experts including , l.a. care deputy chief medical officer , say pfizer/biontech moderna covid-19 vaccines offer important protection. find article ."
          ],
          [
           "vaccinations five here. jim adams , md , chief medical officer , tells recommends youngest members families. covidvaccine"
          ],
          [
           "wednesday announced soon receive initial doses children. see information ."
          ],
          [
           "publix ’ give 5 -- news , social impact &124 ; perfect enemy : vaccines"
          ],
          [
           "dr understood large group parents fully “other ” diseases understand “the science ” : a-most already c19 b- trial data include prev. infection"
          ],
          [
           "’ genius ( doctor ) read jama ’ study males adversely affected “vaccine . ”"
          ],
          [
           "statement u.s. secretary education miguel cardona covid-19 eligibility ages 5 younger"
          ],
          [
           "four republican lawmakers ask gov. lee prevent giving covid-19 5"
          ],
          [
           "covid-19 6 , many parents wondering signed shot. chief health officer explains ."
          ],
          [
           "u.s. country world six , president biden exclaimed ' ' country world right ' tuesday : ("
          ],
          [
           "wch offering walk-in covid-19 clinic 6/24. initial series booster vaccines available. pediatric vaccines boosters also qualify . please use main entrance check-in welcome center desk ."
          ],
          [
           "six able covid-19 health district community events across northern nevada ."
          ],
          [
           ". providing shots ages 6 4 beginning friday ."
          ],
          [
           "whoever came idea invite reporters watch doctors hold little got deserves props ."
          ],
          [
           "' see justification giving jabs babies 1 ) barely affected 2 ) ' ' immunity appears last matter weeks"
          ],
          [
           "excellent ! need protected great news ."
          ],
          [
           "ages 6 5 million doses shipped across country. question many parents ?"
          ],
          [
           "covid-19 trials vaccines conducted omicron predominance different incidence levels , efficacy estimates moderna pfizer vaccines cannot directly compared ."
          ],
          [
           "’ 5 patients tested positive week ’ wednesday. patients 2 5yrs. summer continue keep babies safe healthy. remember 5 ’ yet. cases start raising summer ."
          ],
          [
           "parents eager opportunity protect potentially fatal illness , wait continues ."
          ],
          [
           "23,500 doses toddlers due arrive iowa week federal regulators approved use , according iowa department public health ."
          ],
          [
           "shots little here. hardest part wired science : hesitancy , bureaucracy , inequity , need explain formulas could slow delivery last unprotected group ."
          ],
          [
           "might heard cdc recommends covid-19 six old. office appointments next week pfizer vaccine. ' share page appointments open. :"
          ],
          [
           "5 eligible vaccine. learn safe &amp ; effective : vaccines 5 yet. recommend visiting locations near ."
          ],
          [
           "tennessee house gop press gov. lee block state distribution youngest -- news , social impact &124 ; perfect enemy : vaccines"
          ],
          [
           "primary place 5 pediatrician ' office clinic. 5 covid-19 vaccines sedgwick county"
          ],
          [
           "post : \" shots little here. hardest part \""
          ],
          [
           "franklin county public health holding clinics 6"
          ],
          [
           ". offering covid-19 northern nevada 6 older. information make appointment ⬇️⬇️"
          ],
          [
           "covid-19 6 older. stop office 225 w. waco dr 8 : 30am-4 : 30pm , monday-friday receive vaccine. walk-ins welcome ."
          ],
          [
           "\" time politics. ' parents able everything keep safe , \" said president biden ."
          ],
          [
           "officials vanderburgh county health department say ' planning hold covid-19 clinic 6 ."
          ],
          [
           "shots little here. hardest part"
          ],
          [
           "county received first supply moderna doses tuesday night providing appointment ."
          ],
          [
           "god ' sake ... f ' ng hell wrong stupid republican idiots? ? ? tennessee house gop press gov. lee block state distribution youngest"
          ],
          [
           "5 eligible covid-19 vaccines. tricare pediatric clinic offer coming days. watch fb page info. continue offer vaccines &amp ; boosters everyone else. call 224-610-3899 today !"
          ],
          [
           "5 walgreens ? ' know"
          ],
          [
           "6 older eligible covid-19 vaccines. metro health offer covid-19 vaccines starting today pop-up clinics. find nearest clinic visit us online"
          ],
          [
           "' moment many us waiting ! covid-19 vaccines authorized 6 older. talk doctor covid-19 ."
          ],
          [
           "week , first covid-19 shots going arms youngest americans except florida state opted order vaccines ages six five old. newsbreaklocal"
          ],
          [
           "\" national efforts must combined efforts expand healthequity reduce impact systemic racism. \" read &amp ; chanya holness ' op-ed vaccines , equity , &amp ; kids. cc :"
          ],
          [
           "6 : 6 5 eligible covid-19 , southern nevada health district offering shots 8nn"
          ],
          [
           "u.s. delivers 2.7 mln doses five administration sites number delivered canada : zero ."
          ],
          [
           "starting wednesday , immunizations mall 6 ."
          ],
          [
           "case ' wondering stand vaccines youngest , told _gazette. 4yo appointment friday !"
          ],
          [
           "5 walgreens ? ' know"
          ],
          [
           "yes. vaccines safe fda-authorized ages 6 older. covid-19 vaccines undergoing intense safety monitoring u.s. history. :"
          ],
          [
           "poll : days federal regulators gave green light ages 6m-4yrs eligible covid-19 , gop lawmakers asking gov. lee halt distribution youngsters. ?"
          ],
          [
           "wait supply , please complete form request appointment. contact child. form :"
          ],
          [
           "manitobans asked opinion covid-19 plans ."
          ],
          [
           "cdc recommends six old. learn safe effective :"
          ],
          [
           "colorado received vaccines 5. according vanessa bernal cdphe , shots begin administered early week ."
          ],
          [
           "vaccines ages 5 older time , cdc food drug administration spent considerable time effort evaluating effectiveness safety vaccines …"
          ],
          [
           "biden enthuses : ' ' country world ' giving ' need vax. ' 💰 making scheme. animals died vax. would foreign substance injected ."
          ],
          [
           "cdc approved 6 , grace lee , pediatric infectious diseases physician , answers frequently asked questions vaccines ."
          ],
          [
           "offering appointments ages 6 4 pfizer covid-19 vaccine. 📅 make appointment : ❓ answers questions :"
          ],
          [
           "willing five-year-old head examined. data far final heart issues long-term complications given anyone , much less ."
          ],
          [
           "majority pediatric hospitalizations 0-4 ( see ) . let ' protect covid-19 ! vaccinessavelives"
          ],
          [
           "last weekend , cdc gave official recommendation ages 6 older covid-19. vaccines ages 6mo+ jcph clinic starting today. info vaccines , visit :"
          ],
          [
           "injecting bad parenting .. ’ simply unfit mom dad"
          ],
          [
           "\" impulse make lot people . \""
          ],
          [
           "soon missouri younger 5 old. rollout pfizer moderna vaccines underway. co-chair mu health care columbia dr ."
          ],
          [
           "5 arrives michigan week ; know"
          ],
          [
           ": cdc recommends covid-19 vaccines 6 age. learn schedule appointment calling ' primary care provider visiting"
          ],
          [
           "log twitter \" mental break \" find tn state legislature trying block literal landfill fire murfreesboro. great day middle tennesseans ."
          ],
          [
           "overheard conversation ( alternative ) doctors office. lady said knows vaccines ’ work , ’ twice bad reaction shots never vaccinated. congrats public health creating bigger group anti-vaxxers !"
          ],
          [
           ": republican members tennessee house calling gov. bill lee pause distribution covid-19 vaccines among , toddlers , preschoolers ."
          ],
          [
           "pfizer moderna covid-19 5 available. contact pediatrician today make plan. readily accessible vaccines groups pharmacies pop-up clinics — updates come ."
          ],
          [
           "harlingen host covid-19 clinic"
          ],
          [
           "uofn anti-mandatory pro wide availability mabs , paxlovid &amp ; evusheld high-risk kids. bad approved treatment 12s remdesivir hospitalized kids. vaccines approved 6 &amp ; up.🧵"
          ],
          [
           "appointment"
          ],
          [
           "younger 5 ? would willing share thoughts news story ? contact soraya keiser skeiser .com ."
          ],
          [
           "questions covid-19 kid( ) ? please callyourpediatrician ! ! !"
          ],
          [
           "dr. tim bray , director , joins ' ask expert discuss rollout covid-19 vaccines children. &124 ;"
          ],
          [
           "“what lack care society shown 5 parents microcosm lack care always ? ” article , close ..."
          ],
          [
           "wondering best ? read consider :"
          ],
          [
           "weekly round-up : 🟨chicago ' current cdc community level medium 💉vaccine 5 approved 🏥availability vaccines 😷masks still strongly recommended"
          ],
          [
           "happening : walk-ins welcome 3 &amp ; vaccines ( currently 2 dose _tx ) . toddlers 3 need book appointment nurse shots. ➡️"
          ],
          [
           "' offering pfizer moderna children. walk-in vaccines ages 3+ 807 w. layton ave. 6 2 , appointments required :"
          ],
          [
           "terrible legislature. tn gop conspiracy nuts needlessly keeping population risk. \" house gop lee : stop state health officials giving ' \""
          ],
          [
           "house gop lee : stop state health officials giving ' -- news , social impact &124 ; perfect enemy : vaccines"
          ],
          [
           "ages six older receive free houston health department sites : learn vaccinations immunizations : find nearby site"
          ],
          [
           ". offer covid-19 clinics ages 6 four years. please see dates , times , locations , including schools ; registration information ."
          ],
          [
           "ages 6 4 eligible receive covid-19 ! visit find vaccinations near you. pathwaytothefuture getvaccinated"
          ],
          [
           "' scheduled 🥳 excitement barely absorbing immense frustration ' taken long , also believe ' actually care country 🤷‍♀️"
          ],
          [
           "five-years-old covid19. alex li , md , pediatrician deputy chief medical officer , spoke discuss safety efficacy children. millergeerpr"
          ],
          [
           "five eligible receive vaccine. appointments patients 6 made california ’ online appointment-booking platform , read 👇"
          ],
          [
           "“i ' thankful. ' thankful science. ” parents rushed make appointments first day covid-19 doses 5 ."
          ],
          [
           "letter governor : tn gop reps want limit department health ' involvement vaccines :"
          ],
          [
           "biden enthuses : ‘we ’ country world ’ giving -"
          ],
          [
           "excellent explanation help parents decide … &amp ; covid-19 apple podcasts"
          ],
          [
           "tennessee house gop press gov. bill lee block distribution youngest"
          ],
          [
           "parents caregivers lining newly approved covid-19 children. parents taking wait-and-see approach planning all. ncga ncnews nchealth"
          ],
          [
           "let ’ florida ’ covid-19 &124 ; editorial -- news , social impact &124 ; perfect enemy : vaccines"
          ],
          [
           "join call today 2 p.m. edt talking points healthcareworkers discussing parents 6 5 , plus online resources clinicians ."
          ],
          [
           "fearless leader &amp ; champion dr. johnson interviewed newly approved vaccinations 5. read : covid19vaccine"
          ],
          [
           ": ( knoxville ) anti-vax supermajority wants block distributing kids. 😷 government overreach ✅ anti-science ✅ anti-parental choice ✅ pro-life ❌"
          ],
          [
           ": ( knoxville ) anti-vax supermajority wants block distributing kids. 😷 government overreach ✅ anti-science ✅ anti-parental choice ✅ pro-life ❌"
          ],
          [
           "light shocking development , immediately halt cv19 recommendation children. everyone , really. 1/"
          ],
          [
           "latest recommendations moderna covid-19 ages 6-17 tomorrow , june 23 , advisory committee immunization practices. join call sccmsome"
          ],
          [
           "looked replies tweet mine yesterday regarding vaccine. ' amazing number trolls &amp ; anti-vaxxers feel need spew anti-science , bible verses &amp ; threat. statistic need know. 70 dead az ."
          ],
          [
           "summit county public health says currently pfizer , three-shot series ."
          ],
          [
           "folks , ’ covid-19 vaccine. ’ enough research long term studies effects. ’ me. sincerely , mom vaccinates"
          ],
          [
           "5 begun receiving doses covid-19 hospitals , pediatricians health care centers , merely days receiving approval _fda ."
          ],
          [
           "st. charles county department public health begin offering covid-19 vaccinations ages 6 older june 27. appointments required vaccinations. schedule online call 636-949-1899 ."
          ],
          [
           "creepy joe ' borders , meeting oil companies anywhere else needs sure show clinic fjb ... fjb .... fjb"
          ],
          [
           "st. louis county department public health preparing offer covid-19 vaccinations six old. dph relies upon state missouri supply covid-19 , including doses aged six 5 ."
          ],
          [
           "tennessee house republican leadership wednesday asked gov. bill lee block department health \" distributing , promoting recommending \" covid-19 5 ."
          ],
          [
           "tennessee house republican leadership wednesday asked gov. bill lee block department health \" distributing , promoting recommending \" covid-19 5 ."
          ],
          [
           "tennessee house republican leadership wednesday asked gov. bill lee block department health \" distributing , promoting recommending \" covid-19 5 ."
          ],
          [
           "tennessee house republican leadership wednesday asked gov. bill lee block department health \" distributing , promoting recommending \" covid-19 5 ."
          ],
          [
           "tennessee house gop press gov. bill lee block distribution youngest"
          ],
          [
           "joe biden complete mess. bidenadministration bidengaffes centersfordiseasecontrolandpreventioncdc joebiden usnews washingtondc"
          ],
          [
           "tennessee house gop press gov. bill lee block distribution youngest"
          ],
          [
           "covid-19 vaccines 6 months+ help keep whole family safer serious illness hospitalization. give peace mind &amp ; help loved ones getvaccinated. visit call 833-422-4255 find near ."
          ],
          [
           "icymi : vaccines ages 6 up. able ages 6 safe effective covid-19 vaccines significant milestone brings even hope protects littlest michiganders ."
          ],
          [
           "tennessee house gop press gov. bill lee block distribution youngest ."
          ],
          [
           "tennessee house gop press gov. bill lee block distribution youngest science/healthcare ’ mix well tn. gop ! guns ok vaccinations ."
          ],
          [
           "' sick tired politicians trying make medical decisions. tennessee house gop press gov. bill lee block distribution youngest"
          ],
          [
           "tennessee house republican leaders pressing gov. bill lee block department health promotion distribution 5 ."
          ],
          [
           "’ 5 covid-19 shots johnson county"
          ],
          [
           "dr. sinda althoen , spoke discuss effectiveness safety covid-19 5. stjosephorange millergeerpr"
          ],
          [
           "parents looking 6 4 covid-19 , vanderbilt ' monroe carell jr. ' hospital holding event week ."
          ],
          [
           "mother shares emotional experience chicagonews breakingnews news"
          ],
          [
           "based known weighing benefits risks imho consenting jab tried endangerment ."
          ],
          [
           "doctors discuss safety effectiveness covid-19 shots five. upcoming saturday ’ mercy kansas , six four go clinic"
          ],
          [
           "much ignorance , ’ polite reaction like desantis trying control constituents ’ public health choices. house gop lee : stop state health officials giving '"
          ],
          [
           "tucson residents looking place 5 try immunizeunder5"
          ],
          [
           "tennessee house gop press gov. bill lee block distribution youngest worst timeline ever"
          ],
          [
           "got call , take 9am tomorrow 🙌😭💃🕺🏻😭🙌"
          ],
          [
           "desantis : biden admin lying policy - slay news"
          ],
          [
           "tennessee ’ gop politicians pressuring governor stop state offering covid-19 5. would stunning ’ incredibly predictable ."
          ],
          [
           "group insists ' healthcare parents school governing bodies implement mask mandates. seems hypocritical legislate parents ' decisions ."
          ],
          [
           "tennessee house gop press gov. bill lee block distribution youngest"
          ],
          [
           "today : 6 able moderna pfizer vaccines ."
          ],
          [
           "parents , vaccinating covid-19 removes one – many - worries comes kids. learn facts : yourchoicetheirhealth"
          ],
          [
           "tennessee house gop press gov. bill lee block state distributing youngest"
          ],
          [
           "several central ohio health departments hosting covid-19 clinics 6 receive ."
          ],
          [
           "tennessee house gop press gov. bill lee block distribution youngest"
          ],
          [
           "' heard ' difficult finding appt &lt ; 5 covid-19 vaccine. page comprehensive list vaxx locations dates , city. ( scroll see ! ) 👇🏾💉"
          ],
          [
           "pfizer covid-19 impacts semen : study ’ much ’ yet know regarding , want start jabbing babies ? ? ? ?"
          ],
          [
           "tennessee house gop press gov. bill lee block distribution youngest"
          ],
          [
           "tennessee house gop press gov. bill lee block distribution youngest"
          ],
          [
           "thursday ' immunization clinic friendship baptist church seaside people 5 &amp ; older. younger yet ."
          ],
          [
           "tennessee house gop press gov. bill lee block state distributing youngest"
          ],
          [
           "tennessee house gop press gov. bill lee block state distributing youngest"
          ],
          [
           "tennessee house gop press gov. bill lee block state distributing youngest"
          ],
          [
           "mdhhs announces six eligible ."
          ],
          [
           "ron desantis right. ' ' ' infants. _foramerica _87harvey"
          ],
          [
           "dr. norma perez spoke recent approval 5 covid-19 vaccine. altamed"
          ],
          [
           "health providers hopeful rates increase wisconsin , ages 6 5 eligible covid-19 ."
          ],
          [
           "u.s. food &amp ; drug administration authorized use pfizer everyone six older moderna six five ."
          ],
          [
           "province seeks feedback manitobans covid-19 plans children. read full story"
          ],
          [
           "say mrna \" ' \" dontbetheexperiment sure hell let experiment ! ! protect future ! pfizer covid-19 impacts semen : study"
          ],
          [
           "cdc recommending covid-19 vaccines 6 amid \" troubling surge ’ hospitalizations omicron wave \" . dr. jeff barke joined kusi discuss latest recommendation ."
          ],
          [
           "ron desantis right. ' ' ' infants. _ _slatter"
          ],
          [
           "parents encouraged talk doctors covid-19 vaccines 6 up. visit link list locations providing ."
          ],
          [
           "record high gas , groceries , rent , cost living , record inflation , ’ find formula , crashing stock market , reckless pull afghanistan also leaving americans , sending trillions dollars overseas instead americans , hey , 6 ."
          ],
          [
           ". talks claire hannan , helped navigate rollouts 50 states , challenges involved quickly shots millions ."
          ],
          [
           "got 2 yr am. took 30 mins appt. thanks utpol utleg childrenshealth"
          ],
          [
           "moderna requires 2 shots pfizer 3 ."
          ],
          [
           "moderna requires 2 shots pfizer 3 ."
          ],
          [
           "several central ohio health departments hosting covid-19 clinics 6 receive ."
          ],
          [
           "june 18 , cdc recommends 6 older pfizer moderna covid-19 vaccine. fcph offer clinics ages 6 starting week"
          ],
          [
           "ron desantis right. ' ' ' ."
          ],
          [
           "u. missouri specialist says covid-19 shots safe effective &124 ; columbia missourian &124 ;"
          ],
          [
           "took &lt ; 20 minutes attacked anti-vax community vaccinating deadly virus. board certified pediatrician actually watched die suffer covid. thankful ! tweetiatrician"
          ],
          [
           "go doctor eczema shots ready group may cry happy tears. finally able vaccinated. finally"
          ],
          [
           "' wisconsin milwaukee set begin vaccinating youngest monday. bellin green bay waiting shipments ."
          ],
          [
           "vacc problem vaccs ? know yall aint completely unvaccinated ! 😳😳😳"
          ],
          [
           "6 older eligible receive covid-19 ! visit find sites near you. jesdcares getvaccinated getboosted"
          ],
          [
           "🚨today day ! vaccines finally ages 6 5 ! vaccines always best way protect family. callyourpediatrician learn schedule today ."
          ],
          [
           "ron desantis right. ' ' ' infants. _tahardy _al"
          ],
          [
           "infected covid-19 , teens : • really sick • short- long-term health problems • spread covid-19 loved ones community help protect teens covid-19 ."
          ],
          [
           "home. city ' home program offering vaccines 6 age. schedule appointment learn vaccines :"
          ],
          [
           "finally ! thank always protecting ! anywhere near charleston sc , want , practice incredible vaccinating 6mo moderna. tweetiatrician vaccineswork"
          ],
          [
           "staying healthy pregnancy important health baby. encourages expecting mothers stay date covid-19 vaccines , including boosters. learn maternalhealth orangecounty"
          ],
          [
           "claim \" safe effective \" without actually knowing serious malpractice. idea risks , know fact risks incredibly tiny. insanity ."
          ],
          [
           "kiddo ' first scheduled friday morning. huge sigh relief is. ' wait finally see world. fair first 2 life ."
          ],
          [
           "ordered 32,000 doses covid-19 vaccines 6 old. two batches expected arrive week ."
          ],
          [
           "this. ’ many friends parents yet ’ sure sick thoughts care understand feel , ’ worth read"
          ],
          [
           "ask expert : msu doctor answers questions covid-19 ➡️"
          ],
          [
           "happy wednesday ’ ! week board certified pediatrician , dr. nina ford johnson joins us answer questions covid-19 know it. 🎧 tbginsession podsincolor"
          ],
          [
           "exciting long awaited covid-19 youngest approved. yet arrive office distribution. know many anxious vaccinated. let know soon offer one clinics ."
          ],
          [
           "covid-19 update : everyone 6 older able covid-19. help protect severe disease , hospitalization , death covid-19. learn :"
          ],
          [
           "covid-19 became 5. oaklandca alamedacounty"
          ],
          [
           "' got approved saturday afternoon ages 6 - 5 , clinics ' offering vaccines anyone 3 ( 18m pfizer cvs minute clinics ) . excited impatient ."
          ],
          [
           ". says due unexpected shipping delays currently access pfizer 5-years-old. moderna locations. wccb healthnews health news nc clt"
          ],
          [
           "upmc ’ community pediatrics offering covid-19 vaccines 6-months older. please call office schedule appointment. learn ."
          ],
          [
           "@ b u $ e ht"
          ],
          [
           "covid-19 5 : faqs parents infectious disease expert shares information covid-19"
          ],
          [
           "\" ' waiting long time access vaccine. every group , 6 , country eligible protection covid-19 , \" said us surgeon general dr. vivek murthy - read ..."
          ],
          [
           "wisconsin far ordered 48,500 covid-19 doses 6 5 ."
          ],
          [
           "yesterday , joined leadership requesting direct halt distribution , promotion recommendation 5. letter sent governor 👇🏻 ."
          ],
          [
           "speaks grace lee , associate chief medical officer pediatric infectious diseases physician , answering common questions parents vaccines ."
          ],
          [
           "starting today , 6 5-years-old clinics pontiac southfield. oaklandcounty , learn :"
          ],
          [
           "answering questions vaccinating little ones :"
          ],
          [
           "dr. rauner : vax 6 mo.s-4 yrs. = preventable death ; vax hesitancy affecting vax rates ; best sources follow info going forward – dr. katelyn jetelina , dr. daniel griffin ."
          ],
          [
           "rant bit pharmacies denying eligible 3 ? babies stuck homes entire lives. vaccinateourkids"
          ],
          [
           "offering free vaccines 6 older. visit information hours locations ( note : ' recommended call site ahead time confirm availability ) ."
          ],
          [
           "22 million teens ages 5-17 fully covid-19. , 5 eligible ! starting today , vaccines everyone ages 6 months+. schedule appointment : learn :"
          ],
          [
           "families ? surveyed parents 5 april &amp ; found : — 18 % eager asap — 38 % plan wait &amp ; see — 11 % seek required — 27 % ’ plan immunize disease"
          ],
          [
           "none “vaccine ” — joe jill ’ care ’ ."
          ],
          [
           "“for parents say , ‘i want protect potential problems future , ’ safest effective way maximize protection , ” said michael chang , md , ."
          ],
          [
           "heard wake 5 : 27 morning started coughing. ’ sign ’ up. ’ one lingering symptoms. got nearly 5 ago day , later afternoon ’ receive first dose. parenting day …"
          ],
          [
           "let ’ florida ’ covid-19 &124 ; editorial - tampa bay times"
          ],
          [
           "5 start covid-19 vaccines guidelines. &124 ;"
          ],
          [
           "thumbs dose one ! charlie got celebrate icecream cone. family celebrate day ? ( ps. questions vaccines , answers : vaxyourfam"
          ],
          [
           "ron desantis right. ' ' ' infants. _t4"
          ],
          [
           "republicans ’ care 1 million americans dying one person dies , instantly blame ? 200 million americans , ’ pretty noticeable vaccines actually safe like suggest ."
          ],
          [
           "safe effective covid-19 opening big , world little ones ages 6 up. learn move forward protect family"
          ],
          [
           "ron desantis right. ' ' ' infants. _mc49"
          ],
          [
           "\" time politics. ' parents able everything keep safe , \" said president biden ."
          ],
          [
           "u.s. begins vaccinating"
          ],
          [
           "beginning today , 5 mall america. plan take tot jab soon ? let ' talk ! better yet , email bethel ' finest soraya keiser skeiser .com -- tell fred sent !"
          ],
          [
           "1990s , ~20 5 died rotavirus annually us. , 77 % rotavirus. comparison , 442 4 died us , 30 % parents said group ."
          ],
          [
           "covid-19 vaccines 6 months+ help keep whole family safer serious illness &amp ; hospitalization. give peace mind &amp ; help loved ones getvaccinated. visit call 833-422-4255 find near ."
          ],
          [
           "california 5 begin vaccines - los angeles times ⁦ _2e⁩ ⁦ ⁩"
          ],
          [
           "📢 expanding covid-19 eligibility under-5 following federal authorization. austin parents , talk pediatrician attend shots tots clinic , linked :"
          ],
          [
           "santa fe parents visiting city week mixed feelings shots. many eager ones inoculated virus , others remained wary ."
          ],
          [
           "summer season , best way keep safe healthy soak sun covid-19. ages 5 eligible ! learn :"
          ],
          [
           "youngest americans start covid-19 vaccines tuesday. ' every know. usa today healthcare"
          ],
          [
           "ron desantis right. ' ' ' infants. _ _churchill_"
          ],
          [
           "take 🇺🇸the killing people causing heart inflammation🇺🇸i ’ twice without ; second time milder mildest cold🇺🇸the 1st time nowhere near bad 5 flu attacks past🇺🇸"
          ],
          [
           "even though patient ( 8yo , fully ) already recovered fever , still hospitalized beijing. point gotta ask , ’ point zero policy hundreds cases shut capital city ?"
          ],
          [
           "cdc recommends 6 older approving pfizer moderna vaccines saturday ."
          ],
          [
           "ron desantis right. ' ' ' infants. _fjc _1984 _"
          ],
          [
           "llp 225 : covid-19 approved lunchlearnpod podsincolor somedocs"
          ],
          [
           "📢kids 6 5 covid-19 shots ! make plan : talk ’ doctor ask questions/get vaccinated. also search locations find locations map : mdh kidsdeserveavaccine"
          ],
          [
           "health departments west virginia , ohio kentucky yet able administer covid-19 vaccines 5 , although federal government said parents able within next weeks ."
          ],
          [
           "hcps : attend today ’ coca call 2 – 3 p.m. et : recommendations pfizer-biontech moderna primary series 6 5 old. learn :"
          ],
          [
           "missouri department health senior services adopted cdc ' recommendation 5 receive covid-19 vaccines thursday ."
          ],
          [
           "franklin county public health holding covid-19 clinics week. ages eligible receive , including boosters ."
          ],
          [
           "reminder us frantically trying schedule vaccines 5 - government website friend , local pharmacies updating group respective ( pfizer/moderna ) availability receive stock"
          ],
          [
           "breakingnews 6 older eligible covid-19 vaccines ."
          ],
          [
           "cnn : vaccines 5yo available. ' dr. answers questions safety , efficacy , importance vaccinating group ."
          ],
          [
           "ron desantis right. ' ' ' infants. _back _seth _co _usmaga_fl _luney"
          ],
          [
           "guess whose finally ? hottoddlersummer coming !"
          ],
          [
           "chicago folks looking appointments booked newly eligible 6 5 , visit site anyone eligible vaccines , share others still need vaccines boosters. getvaccinated"
          ],
          [
           "icymi : utah 6 -- see one got son even earlier utpol"
          ],
          [
           "must watch parents vaccinated. remember providers “ compelled ” comply mandates/gov cdc/nih/ama recommendations employer. independent physicians/pa/nps “independent thinkers ” vs group thinkers ."
          ],
          [
           "3.5 1 got first vaccine. 🎉 🎉 🎉 🎉 🎉 🎉 🎉 🎉 🎉 🎉 🎉 🎉"
          ],
          [
           "latest cdc recommendation , 6 5 eligible receive covid-19 vaccine. learn , , call 832-393-4220 ."
          ],
          [
           "lawrence-douglas county public health announced dates times 15 upcoming covid-19 clinics ages 6 4 ."
          ],
          [
           "vaccines youngest coloradans here. answers questions ."
          ],
          [
           "following decision federal health officials authorize 6 receive covid-19 vaccines , californians able book appointments tiniest charges ."
          ],
          [
           "5 begins : ' shots california"
          ],
          [
           "covid-19 doses 5 begun arriving wisconsin. ' ' : _mathew"
          ],
          [
           "gotten first shot. waiting long feel numb. dress event season ."
          ],
          [
           "6 older eligible covid-19 ."
          ],
          [
           "rep. brenda lawrence ( d-mi-14 ) housedemocrat uscongress : “this huge news ! youngest , 6 5 . ”"
          ],
          [
           "nothing brag ! ' vaxxed early , five boosters reach puberty ! biden enthuses : ' ' country world ' giving"
          ],
          [
           "cdc recently approved vaccinations 6 up. segment health director talks exciting news , questions ' heard covid-19 ."
          ],
          [
           "feel like pending doom 🤔 biden enthuses : ' ' country world ' giving"
          ],
          [
           "minuteclinic vaccinating 18 cdc ' guidelines. schedule safe effective covid-19 :"
          ],
          [
           "scheduled appointment , listen up. ' yet gotten pfizer due shipping delay , moderna administering today ."
          ],
          [
           "cases littlest begin shots ; state rolls covid-19 ages 5 younger"
          ],
          [
           "people"
          ],
          [
           "good news keeping ' cute schools"
          ],
          [
           "country giving shots little ..."
          ],
          [
           "ages 6 older receive covid-19 vaccine. point , offering moderna group. please visit listing appointment walk-in clinics ."
          ],
          [
           "bad. key points : 1. make sure date vaccines 2. polio causes fever , fatigue , headache , &amp ; nausea. life threatening paralysis would consider “long polio ” 3 ."
          ],
          [
           "manitoba seeks feedback"
          ],
          [
           "soon offering vaccines 6 months. contact ' pediatrician primary care provider schedule appointment. detail ➡️"
          ],
          [
           "covid-19 doses 5 begun arriving wisconsin. ' ' ."
          ],
          [
           "covid-19 event held week monroe carell jr. ’ hospital wanting ages six four shot. 💉"
          ],
          [
           "abolishing federal public health agencies reasonable proposal giving power ."
          ],
          [
           "everyone 6 protection worst outcomes covid. learn wecandothis"
          ],
          [
           "six older. salt lake county health department scheduling covid-19 shots ages six older. schedule appointment online calling 385-468-shot ."
          ],
          [
           "’ 5 kansas city"
          ],
          [
           "join cdc southern alliance downtown square ruleville sunflower county health fair 9am 1pm june 25th ! ' food , educational resources , covid-19 booths , fun outdoor activities , much ."
          ],
          [
           "covid-19 vaccines approved ages 6 older. best way protect sick , hospitalized , long-lasting health impacts due covid-19. call 419-599-5545 schedule appointment today ."
          ],
          [
           "parents may questions covid-19 whether right child. pediatricians ready help. schedule appointment , find doctor ."
          ],
          [
           "parents may questions covid-19 whether right child. pediatricians ready help. schedule appointment , find doctor ."
          ],
          [
           "nashville parents say ’ confident covid-19 ."
          ],
          [
           "soon missouri five younger"
          ],
          [
           "santa barbara county expected receive pediatric covid-19 vaccines aged five early week following recent emergency authorization pediatric ."
          ],
          [
           "santa barbara county expected receive pediatric covid-19 vaccines aged five early week following recent emergency authorization pediatric ."
          ],
          [
           "illinois updates : quarantine rules , rollout"
          ],
          [
           "illinois updates : quarantine rules , rollout"
          ],
          [
           "boy got first today ! ! !"
          ],
          [
           "covid-19 bigger threat us school shootings"
          ],
          [
           "another expansion covid-19 eligibility , coconino county health human services ( cchhs ) begin offering doses wednesday , june 22 ."
          ],
          [
           "data emerging risks need weigh risks risks virus , virtually zero risk covid-19 , yet cdc recommending aged 6 5 take it. wtf going ?"
          ],
          [
           "“i ’ waiting long time , \" says sara saporta-keating , mom pediatric epidemiologist . covid-19 vaccines kiddos 6 months-5 ! share details pfizer moderna :"
          ],
          [
           "parents 6 4 better protect covid-19. recommends , including already covid-19 , vaccinated. visit find covid-19 near"
          ],
          [
           "shots tots : ’ parents nashville"
          ],
          [
           "5 eligible receive covid-19 vaccine‼️ vaccines safe , effective , give parents peace mind knowing protected. make appointment child/children :"
          ],
          [
           "6 5 covid-19 ! ! ! 👇find provider vaccines below👇"
          ],
          [
           "call medical provider check scheduling options uihc :"
          ],
          [
           "shots tots : ’ parents nashville"
          ],
          [
           "biden demnazis : ' ' country world ' alter dna"
          ],
          [
           "mother offered $ 1,000 last .. ' relatively intelligent , well-meaning , caring person. imagine pressure coercion shitbag , obsessed parents put ."
          ],
          [
           "covid-19 6 5 following approvals cdc fda , galveston county health district coastal health &amp ; wellness week begin offering covid-19 vaccines ages 6 5 ."
          ],
          [
           "pfizer moderna vaccines ok ’ 6 , doctors review three reasons parents. ( )"
          ],
          [
           "’ 10 wants give 2"
          ],
          [
           "this. saw morning shows ( ) florida rds prohibiting infants. , calls crap facts. ’ right whole time. omicron variant proved ."
          ],
          [
           "faq : viral solutions offer moderna covid-19 5 ? see answer"
          ],
          [
           "ok salt lakes. vaccines 6mo higher"
          ],
          [
           "let ’ ! vaccineswork getvaccinated vaxup"
          ],
          [
           "katie reis 6-year-old son 3-year-old daughter. neither ' plan changing time soon ."
          ],
          [
           "work underway plan rollout aged six four , covid-19 group may approved use canada summer. covid19mb protectmb"
          ],
          [
           "vaccines roll : ?"
          ],
          [
           "doctors health dallas department recommend 6 5 receive covid-19 , following centers disease control ’ endorsement weekend ."
          ],
          [
           "covid-19 still spreading 12 older booster. keep future generations safe healthy , boosted today. connect nearest tribal clinic texting \" \" 55251 ."
          ],
          [
           "today ' newscast : teton county residents sign 5 appointments. plus , wyoming residents comment primary elections electric vehicles , local documentary screens tonight ."
          ],
          [
           "clare craig vs cdc director / / eua amendment request pfizer-biontech covid-19 babies"
          ],
          [
           "moment many parents waiting ! 5 eligible receive vaccine. txlege"
          ],
          [
           "u.s. vaccines start roll"
          ],
          [
           "deaths due vaccine-induced myocarditis significant increase heart attack risk among youth , risks tied covid-19 shots continue grow – effectiveness reached embarrassing low. - epoch times"
          ],
          [
           "another man 20s died. ravens linebacker — jaylon ferguson — 26 died. team ’ say caused death. ferguson forced order play football ."
          ],
          [
           "much evidence needed responsible ‘fess-up ’ &amp ; stop pushing experimental , unlicensed inoculations , especially ?"
          ],
          [
           "latest covid-19 news : york city prepares 5 - york times"
          ],
          [
           "hour morning edition , nyc kicks latest rollout , time toddlers. ' explains launch may smooth ones past. tune ! 93.9fm"
          ],
          [
           "latest covid-19 news : york city prepares 5 – york times news worldnews googlenews sport fortnite vbucks roblox"
          ],
          [
           "’ 7 : 30am ’ already wasted sperm app blaming man ’ death vaccine. ’ fuckin weird. grow ."
          ],
          [
           "\" united states first country world offer safe effective covid-19 vaccines six , \" president biden said ."
          ],
          [
           "biden visited clinic washington , first shots given last major group ineligible vaccines ."
          ],
          [
           "unsure 5 covid-19 ? pediatric infectious diseases expert msu answered common questions ."
          ],
          [
           "starting today , 6 &amp ; older receive columbus public health. currently , pfizer offered plans add moderna dose soon supplies available. visit find walk-in clinic works ."
          ],
          [
           "open smartnews read \" covid-19 side effects ? experts seek ease parents ’ concerns \" : read web , tap :"
          ],
          [
           "biden enthuses : ' ' country world ' giving"
          ],
          [
           "2 million california eligible vaccine. many ?"
          ],
          [
           "u.s. opens little ; shots begin week &124 ; modern healthcare"
          ],
          [
           "dallas county immunization clinics doses recently-approved six 4-years-old"
          ],
          [
           "waited really long time wasnt going son momma said .. immediate reaction positive versus mine hell wheels ... good read president"
          ],
          [
           "president joe biden visited clinic tuesday celebrate virtually americans covid-19"
          ],
          [
           "schedule ' covid-19 today ."
          ],
          [
           "covid-19 doses 5 begun arriving wisconsin. ' ' ."
          ],
          [
           "6+ receive vaccine. call doctor local pharmacy determine availability. oaklandcounty residents schedule appointment us"
          ],
          [
           "family excited finally access covid-19 ! days little one protection do. grateful science ! chicago"
          ],
          [
           "number covid-19 cases texas reaches 7 million , san antonio ' youngest start receiving today. ' ."
          ],
          [
           "covid-19 doses 5 begun arriving wisconsin. ' ' ."
          ],
          [
           "covid-19 doses 5 begun arriving wisconsin. ' ' ."
          ],
          [
           "covid-19 doses 5 begun arriving wisconsin. ' ' ."
          ],
          [
           "covid-19 doses 5 begun arriving wisconsin. ' ' ."
          ],
          [
           "common side effects 5 ( alleviate )"
          ],
          [
           "parents anxious see little ones novel disease ’ wait much longer ."
          ],
          [
           "parents decide covid-19 loves politics would consider death jab child. loves would never consider death jab. said said"
          ],
          [
           "covid-19 authorized fda 6 5 ! pfizer moderna brands ."
          ],
          [
           "plans made roll st. louis county city health departments ."
          ],
          [
           "covid-19 doses 5 begun arriving wisconsin. ' ' ."
          ],
          [
           "covid-19 doses 5 begun arriving wisconsin. ' ' ."
          ],
          [
           "💉 5 axiosam"
          ],
          [
           ", concerns side effects , time full number shots could play parental decision making ."
          ],
          [
           "lincoln-lancaster county health department ' received covid-19 doses 5. , pharmacy options parents. ' know :"
          ],
          [
           "questions covid-19 answered ! hhcga hispanichealth"
          ],
          [
           "covid-19 doses 5 begun arriving wisconsin. ' ' ."
          ],
          [
           "champaign-urbana public health district host clinics week. danville ambucs honor community mover shaker dean carlton. ’ covering stories &amp ; newsroom &amp ; chambana radio news"
          ],
          [
           "covid-19 vaccinations happening milwaukee ."
          ],
          [
           "doctors cdc white house : \" calling end testing policies exclude regular life . \""
          ],
          [
           "city lubbock public health dept. announces covid-19 availability"
          ],
          [
           "5000,000 michigan 6 eligible receive covid-19 ."
          ],
          [
           "cdc admits never monitored vaers safety signals • ' health defense"
          ],
          [
           "pediatric comes 3 doses 2 moderna. recommends even still shot. morning"
          ],
          [
           "covid-19 — 3 older walk-in hayat pharmacy ’ clinic. parents 6 months-2 years-old schedule appointment next tuesday. ’ live details schedule one ."
          ],
          [
           "hour morning edition , nyc kicks latest rollout , time toddlers. ' explains launch may smooth ones past. tune ! 93.9fm"
          ],
          [
           "3 older walk pediatric covid-19 hayat pharmacy. 530 ."
          ],
          [
           "dyk six older ? visit schedule appointment near you. vaccines covered medicaid meaning out-of-pocket costs members ! 🩺👩‍⚕️ ➡️ learn , visit"
          ],
          [
           "meticulously structured lives around hope shots understood brutal luxury so. mothering lot work best circumstances. mothering ... relentless ."
          ],
          [
           "san antonio metro health announced offer covid-19 , ages 6 older ."
          ],
          [
           "common side effects 5 ( alleviate )"
          ],
          [
           "clare craig vs cdc director / / eua amendment request pfizer-biontech covid-19 babies"
          ],
          [
           "common side effects 5 ( alleviate )"
          ],
          [
           "’ need know , 5 charlotte ."
          ],
          [
           "all. of. this. except 22 old. turned 4 gets _tx friday. ’ safe protected ’ serious effects ."
          ],
          [
           "uab ’ pediatric infectious diseases co-director dr. david kimberlin says protect younger worst covid-19 ."
          ],
          [
           "know data beginning covid. vascular target serious adults lc. forgetting mumps protect boys sterility. must learn possible control vascular damages lc , &amp ; later"
          ],
          [
           "president joe biden visited clinic tuesday celebrate virtually americans covid-19 tuesday authorization vaccines 5 weekend ."
          ],
          [
           "two , many families waited covid-19 vaccines youngest kids. illinois providers begun giving first vaccines 5 ."
          ],
          [
           "charleston police station lockwood drive one first locations offer covid-19 ages 6 5-years-old. many locations still yet receive doses. tune delays rollout !"
          ],
          [
           "wait parents want younger covid-19. ' experts say ."
          ],
          [
           "flu killed 4x ' prove didnt mess going 5 trillion dollars spent way much money. someone countrys dont give"
          ],
          [
           "gang cult tracking software say ezra miller hostage. vaccines finally kids. logistics ' easy warnerstudios npr talks claire hannan , helped navigate rollouts 50 states , challenge …"
          ],
          [
           "asking parents check appointment requirements taking receive covid-19"
          ],
          [
           "\" ' country world right , \" president biden said , first lady jill biden met newly parents ."
          ],
          [
           "president biden visits parents clinic able first time ."
          ],
          [
           "across miami valley 6 covid-19 ."
          ],
          [
           "cult gang tracking software says ezra miller hostage. vaccines finally kids. logistics ' easy mmiw npr talks claire hannan , helped navigate rollouts 50 states , challenges involved …"
          ],
          [
           "covid-19 approved"
          ],
          [
           "covid-19 approved"
          ],
          [
           "threat … parents insane !"
          ],
          [
           "’ ’"
          ],
          [
           "reminder : - vaccines under-5 : still limited places due underfunded/understaffed rollout - full first under-5 outside study complete august - authorized treatment drugs babies"
          ],
          [
           "cdc director rochelle p. walensky endorsed advisory committee immunization practices ’ ( acip ) recommendation 6 5 receive covid-19 vaccine. ..."
          ],
          [
           "cdc admits never monitored vaers safety signals • ' health defense"
          ],
          [
           "look news article daily caller : gov. ron desantis plants flag first governor oppose vaccines"
          ],
          [
           "biden celebrates access six : ' monumental step forward '"
          ],
          [
           "cdc recommends covid-19 vaccines link source article shared epocrates , 1 medical reference app ."
          ],
          [
           "\" biden enthuses : ' ' country world ' giving \""
          ],
          [
           "u.s. vaccines start roll"
          ],
          [
           "austin-travis county health authority approves covid-19 eligibility babies"
          ],
          [
           "president joe biden visited clinic tuesday celebrate virtually americans covid-19 tuesday authorization vaccines 5 weekend ."
          ],
          [
           "orleans 6 first covid-19 vaccines today"
          ],
          [
           "chart doses intervals pedsicu great. thank _tx"
          ],
          [
           "dr. geert vanden bossche explains injected covid-19"
          ],
          [
           "covid-19 6-month 4-year-old children. safe , effective , authorized fda recommended cdc. best place vax ’ pediatrician ’ office ."
          ],
          [
           "us administer small , starting week learn : usnews meded medical emednews"
          ],
          [
           "president joe biden visited clinic tuesday celebrate virtually americans covid-19 tuesday authorization vaccines 5 weekend ."
          ],
          [
           "medical community lost touch reality ? - biden enthuses : ' ' country world ' giving vaccineskill"
          ],
          [
           "cdc orders injecting 6 babies two shots moderna cocid-19 important bullet point top right column gets myocarditis pericarditis first mrna - experts advise additional mrna covid-19 shots given"
          ],
          [
           "\" covid-19 along recommended childhood immunizations protect severe illness disease . \""
          ],
          [
           "5 , parents still questions. gathered questions parents one county ' top health officials answer ."
          ],
          [
           "’ think good news. injecting babies 6 experimental vax. ’ crazy. 😱😨😰 biden enthuses : ' ' country world ' giving – redstate"
          ],
          [
           "parents come decision ' going towards covid-19"
          ],
          [
           "pfizer/biontech vs. moderna covid-19 5 : know pfizer moderna biontech kidsvaccine"
          ],
          [
           "covid-19 la county toddlers"
          ],
          [
           "aged six four eligible receive covid-19 mexico , according mexico department health.💉"
          ],
          [
           "biden visits clinic , celebrates shots 5"
          ],
          [
           "president joe biden visited clinic tuesday celebrate virtually americans covid-19 tuesday authorization vaccines 5 weekend ."
          ],
          [
           "local doctors address covid-19 5"
          ],
          [
           "' fat no. \" required \" public school ? homeschool. make work. ' glad did. parents decide covid-19 foxnews"
          ],
          [
           "parents covid-19 santa clara county"
          ],
          [
           "gov desantis wrong zero risk kids. right time &amp ; antivirals move routine supply chains. feds assure access 23m persons without health insurance offer medicare benefits equity"
          ],
          [
           "this. , especially : \" wait taken toll. sucked joy long-awaited moment. compass spins , directionless. work care go bed . \""
          ],
          [
           "parents decide covid-19"
          ],
          [
           "\" time politics. ' parents able everything keep safe , \" said president biden ."
          ],
          [
           "🔥👇heartbreaking 😢💔"
          ],
          [
           "' official ! 6 older covid-19. vaccines health department starting thursday. klbk ' @[ elizabeth fitz ] spoke officials find else parents know ."
          ],
          [
           "tuesday , state health official signed allowing six five special versions pfizer moderna vaccines ."
          ],
          [
           "5 , parents still questions. gathered questions parents one county ' top health officials answer ."
          ],
          [
           "first day summer also first day many eligible covid-19. ' bay area rolling shots ."
          ],
          [
           "6 able covid-19"
          ],
          [
           "tuesday ' first day summer , first day many parents ' could covid-19. ' know bay area ' rollout far ."
          ],
          [
           "utah 6 covid-19 shots. breathing sign relief utpol"
          ],
          [
           "cdc admits never monitored vaers safety signals • ' health defense"
          ],
          [
           "president biden visited clinic tuesday celebrate virtually americans covid-19 tuesday authorization vaccines 5 weekend ."
          ],
          [
           "“the handling well better adults. \" getvaccinated"
          ],
          [
           "cousin brooklyn got ( thinks ) train “all people think ’ invincible ” bedridden lost 20lbs thought gonna die. vaccinated. , cool plan , america ."
          ],
          [
           "c.d.c. expected recommend vaccines"
          ],
          [
           "michigan department health human services announced tuesday michiganders ages 6 eligible covid-19 ."
          ],
          [
           "turned comments , huh ? resources help people injured families victims killed covid-19 ?"
          ],
          [
           "vanderbilt ’ hospital offering pfizer &lt ; 5 details link : ( reposting clarity ) tennessee kidsafetyfirst vaccinateourkids covidvaccine"
          ],
          [
           "5 arrive michigan week ; know ( story )"
          ],
          [
           "5 , business ."
          ],
          [
           "white house coordinator tells parents even immunity previous infection : cases drop 11 % - 100,000 per day mark first time since may"
          ],
          [
           "parents conflicting views whether younger 5"
          ],
          [
           "mom thrilled chicagonews breakingnews news"
          ],
          [
           "families toddlers find vaccines primary health care provider one san francisco ' clinics ."
          ],
          [
           "parents 5 , info vandy"
          ],
          [
           "dchd anticipates opening registration pediatric covid-19 fri. 6/24 appointments central public health center wheaton. residents seeking appointment sooner may able locate one using read :"
          ],
          [
           "happy tears ! got appointment 2yrs+ waiting ! sense relief hope immense us parents ! 😁😭🙏🎉"
          ],
          [
           "vaccines : 6 mo. 5 vaccinated. cdc given green light. moderna requires 2 doses. pfizer/biontech requires 3. ' slow rollout shipping delays -la county anticipates doses nearly 900 sites ."
          ],
          [
           "ann &amp ; robert h. lurie ' hospital chicago offering moderna individuals 6 4 ( 5 ) . lurie ' continue offer pfizer covid-19 individual …"
          ],
          [
           "president joe biden visited clinic tuesday celebrate virtually americans covid-19 tuesday authorization vaccines 5 weekend ."
          ],
          [
           "president joe biden visited clinic tuesday celebrate virtually americans covid-19 tuesday authorization vaccines 5 weekend ."
          ],
          [
           "“moreover , underscores need thorough investigation apparent association covid-19 administration adverse cardiovascular outcomes among adults . ”"
          ],
          [
           "hell kind parents 5 take , would never done first place , maybe may vulnerable ! !"
          ],
          [
           "cdc approved covid-19 shots 6 , lincoln-lancaster county health department yet received doses ."
          ],
          [
           "hooray keeping safe healthy ! first vaccines 5 administered today. lennon , aevin , callum sofia got pokes , first 3-shot , 3-month series pfizer doses. vaccinessavelives learn :"
          ],
          [
           "every got injection clinic day got double dose cdc says dont worry dont proof double dose hurt 🤡🌍"
          ],
          [
           "5 … .hell , 10 … .vaccinated , youre sick head. please unfollow ."
          ],
          [
           "' listen pharmaceutical company. give !"
          ],
          [
           "saw 4000 trials 2/3 dropped out. make evaluation that.✔️"
          ],
          [
           "got covidvaccine third trimester january 2021 ; happy got antibodies , got boosters breastfeeding ! thankful 15 mo ; gets ! putkids1st"
          ],
          [
           "' official : appointments ! ! hallelujah ! ! ! !"
          ],
          [
           "please watch share -"
          ],
          [
           "u.s. president joe biden first lady jill biden visit clinic u.s. begins distributing vaccines 6"
          ],
          [
           "john williams newsclick : would 5 ?"
          ],
          [
           "vaccines boosters best hope move beyond covid-19 pandemic. , covid-19 vaccines babies addition groups already eligible. learn :"
          ],
          [
           "many parents faced question , also : one version preferred ?"
          ],
          [
           "wrote tonight ' newsletter intro vaccines children. far one piece hate mail , improvement 2021 would several. apparently \" reckless \" wanting grandkids ."
          ],
          [
           "cdc admits never monitored vaers safety signals • ' health defense"
          ],
          [
           "icymi : schedule covid-19 younger 5 st. louis area ."
          ],
          [
           "1. would never take masked pediatrician wanted masked. 2. yes , would talk pediatrician mrna , recommended , would find pediatrician , 3. agent well aap ."
          ],
          [
           "approximately 500 younger 5 received first doses covid-19 rady ' hospital , according hospital officials. 207,723 san diego county included eligible group ."
          ],
          [
           "white house coordinator tells parents even immunity previous infection : cases drop 11 % - 100,000 per day mark first time since may"
          ],
          [
           "starting thursday , june 23 , covid-19 vaccines 6 older mecklenburg county public health details : wccb covide health"
          ],
          [
           "6 - 5 soon able vaccinated. vaccinategoleta cityofgoleta"
          ],
          [
           "6 receive covid-19 vaccines. find regarding sites eligibility :"
          ],
          [
           "justin buncombe county administered newly approved moderna covid-19 ( 6 five ) 30 today. county still waiting shipment pfizer vaccines approved 6 four old. _13"
          ],
          [
           "know ’ covid-19 san antonio know ’ covid-19 san antonio"
          ],
          [
           "\" ' seen many - including group - ' hospitalized heart inflammation infection. ' still learning means lifetime . \""
          ],
          [
           "biden visits clinic washington health authorities approve covid-19 vaccines six ."
          ],
          [
           "today , sedgwick county health department released statement following cdc recommending covid-19 vaccinations children. details : kakenews"
          ],
          [
           "oldest ( 3 ) finally scheduled youngest eligible next month. thank scientists making possible 🙌👏👏"
          ],
          [
           "whywake resident clinic began vaccinating 6 mo-5 covid-19 today. grateful hospital clinic leadership well nursing staff making happen quickly ! schedule appointment today ."
          ],
          [
           "americans covid-19 ."
          ],
          [
           "shipments vaccines younger providers began yesterday , june 20. recommend call first ask pediatrician preferred clinic yet. ’ continuing work providers across oregon make doses ."
          ],
          [
           "co-chair mu health care said 5 younger able first covid-19 dose \" coming days . \""
          ],
          [
           "president joe biden visited clinic tuesday celebrate virtually americans covid-19 tuesday authorization vaccines 5 weekend ."
          ],
          [
           "tuesday , four younger across country began versions pfizer modena covid-19 shots smaller. _a_ron_heg omaha nebraska"
          ],
          [
           "appointments required ages six five , 18 younger must guardian ."
          ],
          [
           "starting youngest san franciscans week ! info go getvaccinated"
          ],
          [
           "vaccines 6mos 5yrs starting today. best way fully protect soon possible. also protects , loved ones , community ."
          ],
          [
           "tuesday , rady ' hospital administered hundreds covid-19 shots youngest san diegans eligible receive covid-19 ."
          ],
          [
           "fda authorizing use little 6 , mexico follow california make attend public schools take ."
          ],
          [
           "clare craig vs cdc director / / eua amendment request pfizer-biontech covid-19 babies"
          ],
          [
           "cdc admits never monitored vaers safety signals ! response foia request submitted ’ health defense ."
          ],
          [
           "charlotte mistakenly given double dose , father says"
          ],
          [
           "covid-19 shots tots : 5 dc , md. va ."
          ],
          [
           "excited first covid-19 today ! part trials , learned got placebo ( darn ! ) gets real thing ! ’ scheduling church dedication 2 wks 3rd !"
          ],
          [
           "’ mercy offer clinics 5"
          ],
          [
           "marin county covid-19 status update june 21 , 2022 includes : -moderna pfizer approved -vaccination opportunities marin -updated local covid-19 data full update : subscribe daily updates email :"
          ],
          [
           "one question answered : ages 0 4 really need ? complications/side-effects emergency vs. mathematically insignificant risk death covid-19 ."
          ],
          [
           "one preferred ?"
          ],
          [
           "one preferred ?"
          ],
          [
           "one preferred ?"
          ],
          [
           "people go tv exaggerate know vaccines ps proof benefits , proof reduction misc hospitalization ( low n ) uptake still plateau 20 % . lies uptake. sad ."
          ],
          [
           "’ day ’ come soon enough families ."
          ],
          [
           "five younger covid-19 , parents still fence ."
          ],
          [
           "five younger covid-19 , parents still fence ."
          ],
          [
           "6 5 eligible covid-19. dedicated health safety patients &amp ; communities serve , sharing information clinics details finalized ! theverybestforkids"
          ],
          [
           "missouri health officials approved today. ' springfield-greene county health says parents next :"
          ],
          [
           "lurie ’ offering moderna individuals 6 4 ( 5 ) . lurie ' continue offer pfizer covid-19 individuals 5 older. make appointment , visit"
          ],
          [
           "god deal ."
          ],
          [
           "virtually americans covid-19"
          ],
          [
           "virtually americans covid-19"
          ],
          [
           "jonesboro pharmacy stocked covid-19 doses youngest ."
          ],
          [
           "covid-19 vaccines soon locally 5 age. find , visit parents also talk ’ health care provider , visit learn ."
          ],
          [
           "3 northeast ohio doctors weigh questions surrounding covid-19 vaccines ( _news reports )"
          ],
          [
           "michiganders ages 6 eligible covid-19 ."
          ],
          [
           "' turn ! covid-19 vaccines 6 months. visit book appointment , call ' healthcare provider. getvaccinated myc19vaccine vaccinatepasadena"
          ],
          [
           "covid-19 vaccines ages 6 4 atrium health wake forest baptist facilities. forsyth county department public health begin offering vaccinations wednesday ."
          ],
          [
           "one preferred ?"
          ],
          [
           "one preferred ?"
          ],
          [
           "healthcare providers across miami valley starting offer covid-19 doses six ."
          ],
          [
           "update ; covid-19 vaccines 6 4 old. - talk ' doctor setting appointment - major health systems sf general offering children. info :"
          ],
          [
           "parents ’ eager covid-19 ’ wait much longer ."
          ],
          [
           "\" c.d.c. recommends vaccinations children. \" apoorva mandavilli nyt"
          ],
          [
           "\" ' ecstatic ' finally happening , \" said leah casanave , health department ' division chief community health , nutrition clinical services. \" ' waited long enough. \" :"
          ],
          [
           "families waiting 5 receive"
          ],
          [
           "little finally scheduled next week 29th 💓💓💓💓💓💓 chose moderna considering information given"
          ],
          [
           "catch article ? \" c.d.c. recommends vaccinations children. \" nyt"
          ],
          [
           "\" c.d.c. recommends vaccinations children. \" apoorva mandavilli nyt york times"
          ],
          [
           "aph expanding covid-19 eligibility. caregivers 5 yrs skip online appointment process bring little ones sims elementary ( 1203 springdale rd. , austin , tx 78721 ) . wed thurs : 2-7 p.m. sat : 11 a.m. - 3 p.m ."
          ],
          [
           "great pediatric family support zoom last night … presenting information &lt ; 5 yo dr. yeganeh ladph. link : vaccinessavelives covidvaccine pediatrics thisisourshot vacunateya"
          ],
          [
           "dallas county began administering first doses group tuesday afternoon. tarrant county plans start administering wednesday ."
          ],
          [
           "\" c.d.c. recommends vaccinations children. \" apoorva mandavilli nyt"
          ],
          [
           "thalidomide , reason fda longer rushes drugs market . covid-19 shot. babies born without arms legs. born tiny flipper arms legs. severely disabled babies. many babies miscarried. thousands survived. many abandoned ."
          ],
          [
           "\" c.d.c. recommends vaccinations children. \" apoorva mandavilli nyt"
          ],
          [
           "\" c.d.c. recommends vaccinations children. \" apoorva mandavilli nyt"
          ],
          [
           "families waiting 5 receive"
          ],
          [
           "\" immunocompromised great opportunity first vaccinated. hope people group protected , \" dad said ."
          ],
          [
           "parents debate whether give :"
          ],
          [
           "1.3 million adverse reactions cited vaers. remember studies found vaers accounts approx 10 % adverse events , number much bigger"
          ],
          [
           "little kids?? ? ? way go ! ! ! ! ! !"
          ],
          [
           "received first today ! ! ! finally ! !"
          ],
          [
           "fda cdc approved use pfizer six four , also approved moderna six five ."
          ],
          [
           "tuesday marked first day toddlers 6 4 could covid-19 , following federal state approvals moderna pfizer vaccines weekend ."
          ],
          [
           "“there total 12 kids-participants managed two infections w/in time frame trial. 11 recipients &amp ; one received ! ... 12 two infections , one never-vaccinated group ! ”"
          ],
          [
           "\" c.d.c. recommends vaccinations children. \" apoorva mandavilli nyt"
          ],
          [
           "mexico : officials mexico department health announced tuesday ages six four eligible covid-19 ."
          ],
          [
           "city lubbock public health department pfizer moderna vaccines begin providing community week. ' know eligibility ."
          ],
          [
           "' ok money prevent us caught guard another risk , ' really necessary ."
          ],
          [
           "side effects 5 ? - nbc chicago"
          ],
          [
           "need shot/ booster. mobile 🚌 parking lot 🌈🏳️‍🌈✔💉 nice see 🙂 shots. pride2022 ."
          ],
          [
           "one preferred ?"
          ],
          [
           "live charlotte area looking 5 , put together little list ya !"
          ],
          [
           "u.s. begins vaccinating : great day ! ! ! vaccinessavelives 💉💉💉"
          ],
          [
           "biden touts covid-19 access 6"
          ],
          [
           "nm department health announces six 4 eligible covid-19 vaccine. announcement comes three days federal cdc issued recommendation seven eligibility extended ages 5 11. nmpol"
          ],
          [
           "“and joked good time visit : ' everybody knows like better people. ' ” heard … sexualized daughter … used shower … man allowed near 🤢"
          ],
          [
           "today , umc received first doses ages 5 &amp ; under. cdc recently approved pfizer covid-19 5 &amp ; under. dr. christina mateo , pediatrician umc west clinic , &amp ; son , kai , one 1st patients receive"
          ],
          [
           "6 able covid-19 vaccines. cdc fda signed approval last week ."
          ],
          [
           "moderna pfizer brand vaccines administered lower doses ."
          ],
          [
           ". offering covid-19 6 5 ."
          ],
          [
           "stop giving"
          ],
          [
           "hey fellow moms , dads caregivers , questions fda-approved covid-19 5 , msu dr. rebecca shein covered ."
          ],
          [
           "biden hails covid-19 historic , says offers peace mind - washington times"
          ],
          [
           "' everybody knows like better people . '"
          ],
          [
           "' ? ' got questions newly-approved vaccines six ? ' crazy , actually wrote/shot/edited/starred story read click link :"
          ],
          [
           "since signed 4.5 yo ' first dose , moved prayers ."
          ],
          [
           "countries banned people 30 adverse events want give zero risk ? pure evil , way around ."
          ],
          [
           "great news ! _dph announced today federal state approvals recommendations , ages 6 4 years. information found"
          ],
          [
           "parents five vaccines san francisco sfgate"
          ],
          [
           "covid-19 relief finally arrives"
          ],
          [
           "gillette ' providing pfizer-covid 19 patients six older. please visit gillette ’ covid-19 information page learn ."
          ],
          [
           "iowa health experts encourage parents 6 covid-19 ⁦ _krebs⁩ ⁦ ⁩"
          ],
          [
           "like adults , experience covid-19 side effects. learn recent approval 5 game-changer :"
          ],
          [
           "c.d.c. recommends covid-19 vaccines 5"
          ],
          [
           "cdc director signed covid-19 vaccines earlier week , expanding shots six five old. across country first doses today. locally , take time ."
          ],
          [
           "cdc director signed covid-19 vaccines earlier week , expanding shots six five old. across country first doses today. locally , take time ."
          ],
          [
           "fda cdc approved covid-19 6 months. ' let know available. ' yet accepting appointment requests. read image below. click faqs families ➡️"
          ],
          [
           "clinic - washington dc - place 6 jab ! worse ever !"
          ],
          [
           "u.s. president joe biden first lady jill biden visit clinic hosted district columbia ' department health highlight recent authorization recommendation vaccines 5"
          ],
          [
           "covid-19 vaccines approved 5 , two local doctors discuss parents need know. full story :"
          ],
          [
           "find mid-missouri able shots abc 17 news 6 ."
          ],
          [
           "covid-19 best way help protect contracting spreading virus reduces risk severe illness hospitalization. 📍 find pediatric site near :"
          ],
          [
           "biden celebrates us covid-19 rollout 5"
          ],
          [
           "add list reasons smart parents rejecting lunacy. actually , considered reckless endangerment. risk , zero benefit. wh chief recommends jab previously infected"
          ],
          [
           "nearly 300,000 wisconsin eligible covid-19 fda cdc approved shots 5 ."
          ],
          [
           "cdc admits never monitored vaers safety signals • ' health defense"
          ],
          [
           "please ’ experiment ! injections increase risk severe ’ zero long term safety data"
          ],
          [
           "' ' waited long enough ' : douglas county ' first 5 covid-19"
          ],
          [
           "san francisco department public health said parents start ages 6 4 covid-19 ."
          ],
          [
           "call doctor seek advice little ones '"
          ],
          [
           "fda gave final approval weekend group ."
          ],
          [
           "3-year-old marin among first patients 5 receive covid-19 advocate ’ medical group naperville tuesday. dad , chris , watching daughter sign “finally almost back normal . ”"
          ],
          [
           "scheduled ' first appointment ! ( waiting hold 40 minutes ... 😑 ) itsabouttime"
          ],
          [
           "cdc recommends 6 older approving pfizer moderna vaccines saturday ."
          ],
          [
           "blue cross covers covid-19 vaccines $ 0 newly eligible &124 ; health officials recommend everyone six older. learn find resources : vaccines covidvaccines getthefactsgetthevax"
          ],
          [
           "banning 6 5 yr olds wrong ?"
          ],
          [
           "biden takes selfies receiving"
          ],
          [
           "youngest group eligible , wisconsin department health services recommending five covid-19 ."
          ],
          [
           "fda cdc authorized covid-19 vaccines ages 6 5 years. offering free pfizer vaccines robert b. green clinic ( 903 w. martin st ) saturday , june 25 8 a.m. noon. registration opens wednesday , june 22"
          ],
          [
           "parents guardians ! covid-19 vaccines 6 months+ help keep whole family safer. give peace mind &amp ; help loved ones getvaccinated. visit find near ."
          ],
          [
           "wait – 6 older eligible receive covid-19 vaccine. learn :"
          ],
          [
           "wait – 6 older eligible receive covid-19 vaccine. learn :"
          ],
          [
           "fda gave final approval weekend group ."
          ],
          [
           "right mind would give 6 ? whole ordeal like 98 % survival rate covid-19. pfizer moderna clue long term side effects !"
          ],
          [
           "got tot ' ready ?"
          ],
          [
           "five eligible receive covid-19 first time utah tuesday ."
          ],
          [
           "fda gave final approval weekend group ."
          ],
          [
           "' offering covid-19 clinic 6/25/22 9 : 00 11 : 00 ages 6 - 4 old. please call office schedule appointment space limited. ( 615 ) 790-3200 ⭐ read"
          ],
          [
           "fda gave final approval weekend group ."
          ],
          [
           "fda gave final approval weekend group ."
          ],
          [
           "nearly 300,000 wisconsin eligible covid-19 fda cdc approved shots 5 ."
          ],
          [
           "million dollar question , 66 % drop trials ? trial end date 2/2024 , authorized , emergency authorization ? hypnotized ' bother eua ? parents ."
          ],
          [
           "parents weigh covid-19 options following approval cdc"
          ],
          [
           "immunizations became tuesday 19 million ages 6 5 , last group americans afforded protection , ⁦ ⁩ reports ."
          ],
          [
           "men myocarditis maybe found sooner ? response freedom information request cdc admitted never analyzed cdc-run vaers safety signals covid-19 vax"
          ],
          [
           "families able 6 months+ covid-19 ! contact pediatric provider schedule appointment. options include walgreens ( ages 3+ ) cvs ( 18 months+ ) . info getvaccinated"
          ],
          [
           "announced six eligible receive covid-19 vaccination. state health officials say reportedly 2,200 appointments currently statewide. ⤵️"
          ],
          [
           "watch 7 min review false claims made v. real data , comment ."
          ],
          [
           "news : parents/care-givers 5 eligible vaccines contact pediatric provider schedule appointment ; provide 5 targeted clinics certain communities impacted ⬇️"
          ],
          [
           "biden touts covid-19 access 6"
          ],
          [
           "families flock rady ’ hospital under-5 kick-off"
          ],
          [
           "june 21 , missouri department health human services approved distribution moderna pfizer/biontech covid-19 6 ."
          ],
          [
           "covid-19 hard find littlest state ' ourshot site slow update"
          ],
          [
           "looking covid-19 vaccines 5-years-old ? lancaster county parents may hard time finding one ."
          ],
          [
           "dr jane orient , executive director american physicians surgeons , talks janetwalker hautelifestylecom janeorient aaps covidvaccine kidscovid medical science : covid-19 - rush inject"
          ],
          [
           "nearly 300,000 wisconsin eligible covid-19 fda cdc approved shots 5 ."
          ],
          [
           "6 5 covid-19 shots ! make plan : talk ’ doctor ask questions/get vaccinated. read learn find vaccines newsletter :"
          ],
          [
           "looking covid-19 vaccines 5-years-old ? lancaster county parents may hard time finding one ."
          ],
          [
           "great news ! aged 6 5 old. best tool fight virus , encourage protect loved ones eligible ."
          ],
          [
           "covid-19 vaccines 6 older. little one help keep whole family safer serious illness hospitalization. learn :"
          ],
          [
           "nation ’ youngest chance vaccines covid-19. shots began monday locations , though expected ramp juneteenth federal holiday ."
          ],
          [
           "6 4 eligible san francisco. talk ' doctor setting appointment. read additional information : _dph"
          ],
          [
           "president joe biden visited clinic tuesday celebrate virtually americans covid-19 tuesday authorization vaccines 5 weekend ."
          ],
          [
           "vaccines way ages 6 4 ! encourage parents caregivers reach ’ primary health care provider regarding opportunities visit ( 1/2 )"
          ],
          [
           "🦄for best protection , cdc recommends covid-19 vaccines everyone 6 older boosters everyone 5 older , eligible. ’ link six things know : demvoice1"
          ],
          [
           "like adults , experience covid-19 side effects. learn recent approval 5 game-changer :"
          ],
          [
           "listen : vital role pediatricians play vaccinating 5 covid-19 ? today ' askanexpert , dr. explained eric thomas primary care doctors assure parents safety ."
          ],
          [
           "irini got first vax ! event packed toddlers babies. really warms heart. happy mom ."
          ],
          [
           "biden visits d.c. clinic approval shots 5 : biden encouraged parents aged 6 older following last week ' approval vaccines 5. nbcnews"
          ],
          [
           "families flock rady ' hospital under-5 kick-off"
          ],
          [
           "' ' long time coming ' : largest effort american history finally reached nation ' youngest ."
          ],
          [
           "families flock rady ' hospital under-5 kick-off"
          ],
          [
           "birminghampediatrics providing pfizer covid-19 ages 6 - 5 soon ! ' share additional update soon ' offering next group ."
          ],
          [
           "solano county expands covid-19 eligibility"
          ],
          [
           "solano county expands covid-19 eligibility"
          ],
          [
           "parents book appointments 5 receive covid-19 mall america site ."
          ],
          [
           "thanks ' leadership , nearly every american , parents protect dangerous disease. ' bfd !"
          ],
          [
           "vaccines six , families still questions shots ."
          ],
          [
           "parents book appointments 5 receive covid-19 mall america site ."
          ],
          [
           "parents book appointments 5 receive covid-19 mall america site ."
          ],
          [
           "parents book appointments 5 receive covid-19 mall america site ."
          ],
          [
           "dr. bishara freij , beaumont chief pediatric infectious disease , covid. \" die it. spread , well. fact ' less deadly , ' mean ' deadly. serious . \""
          ],
          [
           "first doses kid-sized vaccines administered douglas county health department tuesday. parents said felt relief ."
          ],
          [
           "summer season , best way keep safe healthy soak sun covid-19. ages 5 eligible !"
          ],
          [
           "ages six five covid-19. put together list younger kansas city area. may updated information ."
          ],
          [
           "president joe biden celebrating virtually americans covid-19 authorization vaccines 5 weekend ."
          ],
          [
           "dallas county gets doses"
          ],
          [
           "listen : six older finally covid-19. eric thomas spoke dr. , senior scholar center health security ."
          ],
          [
           "' authorized , vaccines 5 still largely unavailable michigan. story features , asks , \" urgency ? \" especially immunocompromised ones ."
          ],
          [
           "' ! ! ! ' got covid-19 toddlers ! please read call 708-424-7600 schedule appointment :"
          ],
          [
           "parents book appointments 5 receive covid-19 mall america site ."
          ],
          [
           "parents book appointments 5 receive covid-19 mall america site ."
          ],
          [
           "parents book appointments 5 receive covid-19 mall america site ."
          ],
          [
           "think ' despicable biden celebrating this. even think ' fine covid-19 , respect fact many concerned ' know long-term damage ? something celebrate ."
          ],
          [
           "dchhs announced today 6 older covid19. clinics appointment ! schedule appointment online visit : ☎️ 972-692-2780 🗓monday - friday ⏰8 : 30am - 3 : 30pm"
          ],
          [
           "6 months+ safe &amp ; effective covid-19 vaccines. give peace mind. help loved ones getvaccinated. visit information ."
          ],
          [
           "zero f**king chance ’ giving less 1-year daughter … zero chance ! 1. 2 kicked ass … 2. 2 kicked wife ’ butt 3a. booster kicked wife ’ butt 3b. booster exposed breastfeeding made sick"
          ],
          [
           "3 northeast ohio doctors weigh questions surrounding covid-19 vaccines"
          ],
          [
           "cdc , fda authorize emergency use 6 cov19"
          ],
          [
           "mid-june , 23 million ages 5 17 received two doses vaccine. ’ lot great shots protected 🎉🎊❤️"
          ],
          [
           "enjoyed alex coba ' live performance morning ! thank sharing story musical talents . listen houston ' makemusicday2022 segment :"
          ],
          [
           "el paso officials pre-ordered shots specific group anticipation.💉"
          ],
          [
           "first doses kid-sized vaccines administered douglas county health department tuesday. parents said felt relief. read :"
          ],
          [
           "cook county health looking forward providing covid-19 vaccines 6 4 soon ! expect first pediatric patients starting week june 27 , share details soon ."
          ],
          [
           "’ 5 kansas city"
          ],
          [
           "eliza wills able book covid-19 appointment son ’ easy. fact , said frustrating. ' alone. several parents guardians expressed frustration rollout 5 ."
          ],
          [
           "📣📣📣minnesota parents book covid-19 appointments 6 5 mall america ! good news minnesota families. learn :"
          ],
          [
           "ages 6 4 eligible covid-19"
          ],
          [
           "president biden tuesday pledged smooth rollout covid-19 aged 6 4 head pharmacies doctors ’ offices shots , giving rollout different look mass efforts older ages"
          ],
          [
           "look gift received today enrolling trial. “you showed us way ahead together ” ❤️ 🌍"
          ],
          [
           "centers disease control approved vaccines ages 5 , local healthcare providers deck appointments little ones ."
          ],
          [
           "officials ’ mercy hospital announced two locations tuesday morning ."
          ],
          [
           "“we welcome opportunity expand protection offered covid-19 community members . \""
          ],
          [
           "cdc signed covid-19 vaccines six , fox 17 got tips local pediatric infectious disease specialist parents consider comes vaccinating ."
          ],
          [
           "thisisourshot protect 💙💉 today , began offering covid-19 vaccinations ages 6 5 years. appointments open number locations across region :"
          ],
          [
           "mu health care ' covid-19 co-chair dr. margaret day said people interested well vaccinations going work ' safe ."
          ],
          [
           "vaccines uchd clinics starting june 27th. cdc accepted advisory committee immunization practices ’ ( acip ) recommendation ages 6 older covid19. :"
          ],
          [
           "austin public health offers several options covid-19 families 5 ' access pediatrician healthcare provider ."
          ],
          [
           "“i ' really hoping people understand means sense normalcy people enjoying , ” says northridge mom manpreet dhillon brar. story &amp ; ."
          ],
          [
           "tomorrow : 6 able local clinics ."
          ],
          [
           "lawn : biden highlights ’ covid-19 visit clinic"
          ],
          [
           "cosy-fm news : ages 6 4 eligible covid-19 southwestmichigan swmichigan localnews"
          ],
          [
           "missouri department health senior services ( dhss ) adopted centers disease control prevention ’ ( cdc ) recommendation six receive pfizer-biontech moderna covid-19 vaccines ."
          ],
          [
           "city lubbock public health department pfizer moderna vaccines begin providing community thursday , june 23 ."
          ],
          [
           "highly recommend ' jab 5 y/o"
          ],
          [
           "inject , ' parent. obviously willing go distance protect harm ."
          ],
          [
           "biden visits dc clinic administering covid-19 vaccines 5 old. president joe biden first lady jill biden visited washington , dc , clinic tuesday 5 immunized ..."
          ],
          [
           "good news ! appointments 6 month-4 vaccines , starting appointments wednesday , june 22. read : pediatrics"
          ],
          [
           "6 5 covid-19 shots ! make plan : talk ’ doctor ask questions/get vaccinated. also search locations find locations map :"
          ],
          [
           "clare craig vs cdc director / / eua amendment request pfizer-biontech covid-19 babies"
          ],
          [
           "nation ’ youngest chance vaccines covid-19. shots began monday locations , though expected ramp juneteenth federal holiday ."
          ],
          [
           "nation ' youngest chance vaccines covid-19 ."
          ],
          [
           "newsroom : ages 6 4 eligible covid-19"
          ],
          [
           "tearful , relieved parents : us babies toddlers first covid-19 shots covidvaccinekids pfizer fda getyourfirstshot"
          ],
          [
           "good news ! june 18 , cdc announced recommendation 6 months+ covid-19 vaccine. summer great time kiddos ' protected vacations &amp ; school starts back 😎☀️learn :"
          ],
          [
           "indiana state health officials encourage parents call 211 line find clinics littlest ."
          ],
          [
           "? talking ( little )"
          ],
          [
           "— first time six days covid-19 approval babies , american academy pediatrics released sleep guidelines prevent sudden death syndrome ."
          ],
          [
           "clinics ages 6 scheduled. find clinic nearest coming state week coming weeks. contact health care provider check site additional locations ."
          ],
          [
           "fda deemed covid-19 vaccines safe ages 6 5 , giving access last major group eligible ."
          ],
          [
           "washington ( ap ) — president joe biden visited clinic tuesday celebrate virtually americans covid-19 tuesday authorization vaccines 5 weekend ."
          ],
          [
           "wsjm news : ages 6 4 eligible covid-19 local state wsjmnews"
          ],
          [
           "check slinging knowledge 5 vaccines save lives"
          ],
          [
           "six covid-19 public health immunization clinic locations starting thursday ( 6/23 ) » saturday : clinic northwest health department ( 2845 beatties ford rd , charlotte ) 9 a.m. 2 p.m ."
          ],
          [
           "going current future 6 - 5 ? $ pfe $ mrna"
          ],
          [
           "today exciting day began administering covid-19 ages 6 5 ! schedule appointment texaschildrens , log mychart account visit"
          ],
          [
           "independent panel advisors centers disease control prevention voted saturday recommend vaccinating covid-19 vaccines manufactured either moderna pfizer"
          ],
          [
           "thread .. 🦠 6m-4/5 years. bottom line : last 3 , get. , info pfizer vs. moderna 1/n"
          ],
          [
           "covid-19 youngest eligible population coming southern nevada ."
          ],
          [
           "clinic june 27 9-11 a.m. berna facio professional development complex , 3315 louisiana blvd. ne. first second shots , plus boosters , , teens , adults ."
          ],
          [
           "pharmaceutical sales rep pushing vaccines kids. 2.5 data support need kids. dashboard shows strong immune system ."
          ],
          [
           "city lubbock public health department pfizer moderna vaccines begin providing community thursday , june 23 ."
          ],
          [
           "5 arrive michigan week ; know"
          ],
          [
           "president joe biden visited clinic tuesday celebrate virtually americans covid-19 tuesday authorization vaccines 5 weekend ."
          ],
          [
           "president joe biden visited clinic tuesday celebrate virtually americans covid-19 tuesday authorization vaccines 5 weekend ."
          ],
          [
           "prosecute jail involved ! mortality rate 5 less 0.1 % . viability studies show effective ! instead \" non-inferiority. \" finally , myocarditis pericarditis rates increased vaccine. pfizersucks"
          ],
          [
           "clare craig vs cdc director / / eua amendment request pfizer-biontech covid-19 babies"
          ],
          [
           "covid-19 vaccines become ages five-and-under state. utah health officials working answer potential questions concerns parents attaining ."
          ],
          [
           "📣huge milestone science ! vaccines safe , effective made them. outdoor activities summer fun , ' delay keeping safe. getthevax"
          ],
          [
           "covid-19 vaccines 6 months+ help keep whole family safer serious illness &amp ; hospitalization. give peace mind &amp ; help loved ones getvaccinated. visit call 833-422-4255 find near ."
          ],
          [
           "u.s. begins vaccinating health"
          ],
          [
           "receive smaller doses , based age. like adult , ' helps keep seriously sick covid-19. :"
          ],
          [
           "immunity covid19ab vaccines fades time booster gives protection. ' eligible , book additional dose : 3rd dose : everyone 12+ &amp ; immunocompromised 5+ 4th dose : seniors 70+ congregate care &amp ; fnmi 65+"
          ],
          [
           "president joe biden visited clinic tuesday celebrate virtually americans covid-19 tuesday authorization vaccines 5 weekend ."
          ],
          [
           "fda authorized covid-19 vaccines 5. parents know ? - cnn"
          ],
          [
           ". begin administering starting tomorrow. need two doses moderna three pfizer becomes ."
          ],
          [
           ", six , able receive covid-19 vaccination. mesa county public health ready help answer questions. information make appointment call us 970-248-6900 ."
          ],
          [
           "president joe biden visited clinic tuesday celebrate virtually americans covid-19 tuesday authorization vaccines 5 weekend"
          ],
          [
           "northeast ohio parents 5 managed schedule little ones yet ? keep striking out. frustrated thread places ' 17 ."
          ],
          [
           "salt lake county health department offering pfizer moderna vaccines six older ."
          ],
          [
           "following cdc ' june 18 recommendation , austin-travis county eligible receive newly-authorized moderna pfizer-biontech vaccines"
          ],
          [
           "president joe biden visited clinic tuesday celebrate virtually americans covid-19 authorization vaccines 5 weekend ."
          ],
          [
           "ages 6 older receive safe effective covid-19 vaccine. takeyourshotnc"
          ],
          [
           "\" understand parents still may questions , respect rights parents choose medical measures right , \" said lisa stefanovsky , administrative health officer ."
          ],
          [
           "desantis : biden admin lying policy"
          ],
          [
           "\" watch live : biden covid-19 vaccinations 5 \" associated press nyt"
          ],
          [
           "wh chief recommends jab previously infected"
          ],
          [
           "salt lake county health department offering covid-19 6 older today 5 different clinics availability"
          ],
          [
           "wisconsin department health services ( dhs ) supports centers disease control prevention ’ ( cdc ) recommendation ages 6 5 covid-19. within group …"
          ],
          [
           "southern nevada📢 beginning tomorrow , 6 5 receive covid-19 clinic. families sacrificed much protect youngest nevadans , major step forward safeguarding communities ."
          ],
          [
           "make sure keep latest news headlines bulldog reports !"
          ],
          [
           "46 life , ’ never seen anything confusing pushed children. literally makes sense. missing something ?"
          ],
          [
           "desantis : biden admin lying policy"
          ],
          [
           "podcast preview : finally , 6 older covid-19 vaccine. full episode :"
          ],
          [
           "’ even think 4 yo younger jabbed ’ watched"
          ],
          [
           "covid-19 approved six five"
          ],
          [
           "🎉the wait ! shares parents know 5 ➡️ vaccineswork"
          ],
          [
           "advocating important aspect job pediatricians , starts ! excited add youngest list !"
          ],
          [
           "spread word ! ( 6 - 4 ) eligible receive vaccinations ! ? check flyers santa clara county ."
          ],
          [
           "saturday , recommended 6 - 5 pfizer moderna covid-19 vaccine. parents schedule appointments starting week. head check availability appointments ."
          ],
          [
           "' look first ( ages 6mon 5 ) release , ahwfb says appointments open across region ; moderna pfizer vaccines"
          ],
          [
           "gov. newsom announces additional 400,000 covid-19 doses 5. many parents unsure , ’ largely see need ."
          ],
          [
           "spot take severe illness covid-19 , spring summer ! in-class learning , school activities weekend fun part active childhood experience. ' wait ages 5-11 !"
          ],
          [
           "gov. newsom announces additional 400,000 covid-19 doses 5 -"
          ],
          [
           "los angeles county department public health said website “due delays shipping , 6 older may wednesday . ”"
          ],
          [
           "fda cdc approved moderna pfizer covid-19 6 older. pfizer mchd starting thursday. moderna later month. call 251-410-mchd ( 6243 )"
          ],
          [
           "offering moderna 6 older beginning clinic friday , june 24 , 2022. friday clinics 8 : 30-10am 2-3 : 30pm. walk-ins welcome make appointment gcph"
          ],
          [
           "’ “vaccinate ” !"
          ],
          [
           "state health officials answering questions following fda ’ approval covid-19 vaccines six five ."
          ],
          [
           "begins : ' shots california"
          ],
          [
           "live wisconsin dhs officials hold q&amp ; regarding regarding covid-19 vaccinations 6 5 ."
          ],
          [
           "today ’ covid19_wi update , reminder. holding media briefing right 5. watch :"
          ],
          [
           "austin public health offering covid-19 vaccines 5"
          ],
          [
           "covid-19 update : 5 eligible pfizer moderna vaccine. learn safe effective :"
          ],
          [
           "6 5 eligible covid-19 vaccine. learn benefits younger children. ➡️"
          ],
          [
           "need , preschooler pediatric covid-19 ? austin public health walk-up clinics wednesday , thursday saturday"
          ],
          [
           "another example follow science crowd easily purposely misled science , claim worse thereby justify ."
          ],
          [
           "moment many parents waiting : 6 5 receive covid-19 vaccine. offering clinics week babies :"
          ],
          [
           "arkansas department health prepares covid-19 rollout"
          ],
          [
           "covid-19 vaccines ages 6 - 4 dayton ' s. learn schedule appointment ."
          ],
          [
           "covid-19 ? make appointment , says ."
          ],
          [
           "ages 6 eligible covid-19 vaccination. click read full story. cdhd offers vaccinations 8 - 4 : 30 pm m-f 6 pm thursdays. call ( 308 ) 385-5175 information ."
          ],
          [
           "plus : covid-19 authorized ."
          ],
          [
           "parents long waiting cdc recommend toddlers. , wpln ' reports families nashville tots ."
          ],
          [
           "wh chief recommends jab previously infected please ’ !"
          ],
          [
           "lawn : biden highlights ’ covid-19 clinic visit"
          ],
          [
           "looking speak parents/guardians 5 central indiana struggling find place kiddos covid-19 ."
          ],
          [
           "finally youngest group covid-19 ! callyourpediatrician learn find vaccinated. vaccinateourkids"
          ],
          [
           "people dying sleep happening regular basis. dead healthy people died sleep vaccines. ’ one thing common ."
          ],
          [
           "dhhs announces expansion covid-19 eligibility 6 nhpolitics"
          ],
          [
           "dhhs announces expansion covid-19 eligibility 6"
          ],
          [
           "u.s. start vaccines , though hurdles remain source : york times"
          ],
          [
           "cdc worked coerce 5 risk , fear misleading data. ’ confirmed one lead researchers. important read ."
          ],
          [
           "dhhs announces expansion covid-19 eligibility 6 : nhpolitics"
          ],
          [
           "vaccines 6 babies ! ! ! ! noooooo ! worked 15 taking care mommas newborn babies. ’ actually 😭😭. ’ surprised ’ approved newborns yet. glad retired ."
          ],
          [
           "louisianans ages 6 eligible free safe : 3-dose pfizer-biontech 2-dose moderna vaccine. check list providers near louisiana : sleevesupla givecovidtheboot"
          ],
          [
           "frequently asked questions covid-19"
          ],
          [
           "cdc director endorsed recommendation ages six 5 receive pfizer moderna covid-19 vaccines :"
          ],
          [
           "arkansas department health prepares covid-19 rollout news arkansasnews"
          ],
          [
           "cases rising texas. dshs recommends ages 6 4 either pfizer moderna ’ vaccines. questions , talk pediatrician. find providers"
          ],
          [
           "recent survey kaiser family foundation , 18 % parents said would immediately. 38 % said plan wait see 27 % said ' intend ."
          ],
          [
           "newsletter tuesday ( jun. 21 ) : week ' edition covers covid-19 eligibility , isbe june board meeting recap , act ' employment opportunities , funding youth community programming ! check :"
          ],
          [
           "arkansas department health prepares covid-19 rollout"
          ],
          [
           "dhhs announces expansion covid-19 eligibility 6"
          ],
          [
           "per cdc recommendations , offering covid-19 vaccines everyone ages 6 &amp ; older , boosters everyone ages 5 &amp ; older eligible. live des moines , call south side clinic schedule ' appt. ( 515 ) 612-9577 ."
          ],
          [
           "happy little receive vaccines , confused receiving omicron vaccine. understanding vaccines based original covid. ’ omicron 💉protect ? original long gone ."
          ],
          [
           "starting today , 6 older st. louis area. ’ ’ :"
          ],
          [
           "parents 5 , vaccines approved group ?"
          ],
          [
           "dr. kimberlin- division pediatric infectious diseases -- says 19 6 older \" safe effective \" maximizes protection children. mother , listening answers helpful !"
          ],
          [
           "icymi : cdc authorized 5 ! huge relief parents keep safer. book appointment link ."
          ],
          [
           "thanks last weekend ' announcement , nearly 20 million eligible covid19. many families , welcoming news marks another important step expanding prevention options virus health complications ."
          ],
          [
           "sedgwick , reno counties offering small kwch12"
          ],
          [
           "know ☝ 😐"
          ],
          [
           "weekend , updated guidance ages 6 5 old. , pfizer-biontech moderna covid-19 vaccines people aged 6 older. childrenwithdisabilities"
          ],
          [
           "next , final , major phase covid-19 campaign kicked week , california finally able secure doses 5. however , immediate access may limited ."
          ],
          [
           "5 , dr. norma perez tells w/ vaccinating safe , effective , protects harmful effects virus. altamed"
          ],
          [
           "covid19vaccines : expert dr. shares thoughts q&amp ; vaccines vaccinesideeffects covidvaccines covidvaccine vaccinateourkids publichealth"
          ],
          [
           "forsyth county department public health accepting covid-19 appointments younger 5 years-old start wednesday afternoon ."
          ],
          [
           "watch live : president biden gives remarks covid-19 vaccines five : president joe biden expected give remarks tuesday nation ' , toddlers preschoolers finally chance covid-19 ."
          ],
          [
           "unscientific policies continue diminish disrupt ' lives. join diverse array doctors , scientists advocates open letter calling end testing policies exclude normal life ."
          ],
          [
           "really excited ' research intention among parents kidney disease. work progress since 2020 vaccines available. vaccinessavelives idtwitter"
          ],
          [
           "attention parents : waiting , u.s. six eligible covid-19 vaccine. . hhcga hispanichealth"
          ],
          [
           "across texas received vaccinations fda authorized vaccinations 6 old. vaccineswork ! ehf &amp ; texas worked raise confidence &amp ; increase access life-saving vaccines ."
          ],
          [
           "actual science , cdc pushing vax onto children. european journal epidemiology : \" increases covid-19 unrelated levels across 68 countries 2947 counties united states . \""
          ],
          [
           "\" vaccines roll slowly u.s. younger 5. \" dana goldstein nyt"
          ],
          [
           "u.s. start vaccines , though hurdles remain source : york times"
          ],
          [
           "pediatricians roll first covid-19 authorized 5"
          ],
          [
           "5 , dr. norma perez tells mcaboy w/ vaccinating safe , effective , protects harmful effects virus. altamed"
          ],
          [
           "parents caregivers 6 5 better protect covid-19. vaccinations help keep family safe severe illness , hospitalization , death. find vaccines near wecandothis"
          ],
          [
           ". clinicaltrial helped confirm safety younger ."
          ],
          [
           "statement advisory committee ' approval safe , effective covid-19 ages 6 5 years. vaccineswork thisisourshot putkids1st callyourpediatrician"
          ],
          [
           "dallas county offer covid-19"
          ],
          [
           "vaccines toddlers welcome addition multi-layered strategy protection covid-19 includes mask wearing , social distancing , hand washing boosters adults. stopthespread ."
          ],
          [
           "colorado public health leaders plans place anticipating go-ahead cdc ."
          ]
         ],
         "hovertemplate": "TB_polarity_with_emoji=%{x}<br>TB_subjectivity_with_emoji=%{y}<br>tweet_text=%{customdata[0]}<extra></extra>",
         "legendgroup": "",
         "marker": {
          "color": "#636efa",
          "symbol": "circle"
         },
         "mode": "markers",
         "name": "",
         "orientation": "v",
         "showlegend": false,
         "type": "scatter",
         "x": [
          0.39999999999999997,
          0.875,
          0.3125,
          -0.1,
          0.2,
          0.060416666666666674,
          0,
          0.16666666666666666,
          -0.05,
          0.056249999999999994,
          0.275,
          0,
          0,
          -0.1875,
          0,
          0.033333333333333326,
          0.21666666666666667,
          0,
          0,
          0,
          0,
          0,
          0.5,
          0.55,
          0.55,
          -0.3333333333333333,
          -0.25,
          0,
          0,
          0,
          0,
          0,
          0.03333333333333333,
          0.15,
          0,
          0.4,
          -0.030000000000000006,
          0.4333333333333333,
          -0.2916666666666667,
          0,
          -0.15000000000000002,
          0,
          -0.6999999999999998,
          0,
          0,
          0,
          0,
          0,
          0.125,
          0,
          0,
          0.2857142857142857,
          0.08,
          0.7,
          0.7,
          0,
          0.25,
          0,
          0,
          0,
          0,
          0.325,
          -0.2333333333333333,
          0.25,
          0.1,
          -0.5,
          0,
          -0.1875,
          0,
          0.037500000000000006,
          0.4333333333333333,
          0.14464285714285716,
          0,
          0,
          0.3333333333333333,
          0.17083333333333334,
          0.25,
          0.1328125,
          0.44285714285714284,
          0.06666666666666667,
          0,
          0.5,
          -0.05,
          0,
          0,
          0,
          0,
          0,
          -0.05,
          0.35,
          0.11830357142857142,
          0.14285714285714285,
          -0.6,
          0.12323232323232323,
          0,
          0,
          0.12222222222222223,
          0,
          0.4,
          0,
          0,
          -0.024545454545454544,
          0.16666666666666666,
          0,
          -0.15555555555555559,
          -0.14583333333333334,
          0,
          0.19166666666666665,
          0.08333333333333333,
          0,
          0,
          0.35,
          0.1,
          0,
          0,
          0,
          0,
          0,
          0,
          0,
          0.13636363636363635,
          0.0625,
          0,
          0,
          0,
          0.25,
          -0.75,
          0,
          0.1,
          0,
          -0.3821428571428572,
          0.24166666666666667,
          0.18958333333333333,
          0,
          0.5,
          0.8,
          0,
          0.2,
          0,
          0,
          -0.1875,
          0.32499999999999996,
          0.55625,
          0,
          0,
          0,
          0.4285714285714286,
          -0.07333333333333333,
          0,
          0.4333333333333333,
          0,
          0,
          0,
          0.46666666666666673,
          0.05,
          -0.1875,
          0.5,
          0.6,
          0,
          0.55,
          0,
          0,
          0,
          0.06818181818181818,
          0.7,
          0.1,
          0.1,
          0.35,
          0.2,
          0,
          0,
          0.5166666666666667,
          0.04464285714285714,
          0,
          0,
          0,
          0.5,
          -0.23214285714285715,
          0.2533333333333333,
          0.5,
          0,
          -0.1875,
          0.025,
          0.9,
          0.5,
          0.05,
          0.4090909090909091,
          0,
          -0.0625,
          -0.1625,
          0.03333333333333333,
          0.4000000000000001,
          0.5166666666666667,
          0.4,
          -0.1875,
          0,
          0.005555555555555536,
          0.48333333333333334,
          0.5,
          0,
          -0.1875,
          0.25,
          -0.6999999999999998,
          0,
          0,
          0.08333333333333333,
          0.3958333333333333,
          0.175,
          0,
          0,
          0,
          0,
          0,
          0,
          0.2888888888888889,
          0.1,
          0.1,
          0,
          0.39999999999999997,
          0.1,
          0.05555555555555555,
          -0.125,
          0.1,
          0,
          0.04583333333333333,
          0,
          0.05555555555555555,
          -0.3499999999999999,
          0,
          0.05,
          0,
          0.4,
          0.23333333333333336,
          -0.23333333333333328,
          0,
          0.3875,
          0,
          -0.3999999999999999,
          0,
          0.125,
          0,
          0,
          0,
          1,
          0.10833333333333332,
          0.36190476190476195,
          0,
          -0.75,
          0.5166666666666667,
          0.2833333333333333,
          0,
          0.1,
          0.037500000000000006,
          0,
          -0.15555555555555559,
          0.25,
          0,
          0,
          1,
          0,
          0.13636363636363635,
          0.5166666666666667,
          0,
          0.13636363636363635,
          -0.1375,
          -0.1375,
          -0.13333333333333333,
          0.5,
          0.20000000000000004,
          0,
          0.15,
          -0.5,
          0.08333333333333333,
          0,
          0,
          0,
          0,
          0,
          0,
          0,
          -0.03749999999999999,
          0,
          0.16666666666666666,
          0.49375,
          0,
          0.5,
          -0.37142857142857144,
          0,
          0,
          0,
          0,
          0,
          0,
          0,
          0.1,
          0,
          -1,
          0,
          0,
          0.15,
          0,
          0,
          0.5,
          0.5,
          0,
          0,
          0,
          -0.3902777777777778,
          0.2,
          0,
          0,
          0.08333333333333333,
          0,
          0,
          0,
          0,
          0.2857142857142857,
          0,
          0,
          0.16666666666666666,
          0.35,
          0.390625,
          0.5,
          0.2857142857142857,
          0,
          0.16,
          0.3333333333333333,
          0.2,
          0,
          0,
          0,
          0.08333333333333333,
          0.2857142857142857,
          0.55,
          -0.1,
          0.375,
          -0.2,
          0.125,
          0.15416666666666667,
          0.5,
          0.2857142857142857,
          -0.004761904761904782,
          0,
          0.3333333333333333,
          0.45,
          0.15333333333333338,
          0.32,
          0,
          0.1464285714285714,
          0.2857142857142857,
          1,
          0.125,
          0.3333333333333333,
          0,
          0.0875,
          -0.008333333333333331,
          0.16666666666666666,
          0,
          0,
          6.938893903907228e-18,
          0.1,
          0.11481481481481481,
          -0.15,
          0,
          -0.1875,
          1,
          0,
          0.2833333333333333,
          0,
          0,
          0,
          0.19999999999999998,
          0.11666666666666665,
          0,
          0,
          0,
          0.2857142857142857,
          0.25,
          0.22812500000000002,
          0.2857142857142857,
          0.5,
          0,
          0.625,
          0,
          0.16666666666666666,
          0,
          0,
          0,
          0.7083333333333334,
          0,
          0.2857142857142857,
          -0.19999999999999996,
          0,
          0.16666666666666666,
          0.2857142857142857,
          0,
          0,
          0.3333333333333333,
          0.25,
          0,
          0,
          0,
          0.16666666666666666,
          0.4,
          0.14285714285714285,
          0,
          0.13636363636363635,
          0,
          0,
          0.25,
          0.5,
          0,
          0,
          0.25,
          0,
          0,
          -0.13333333333333333,
          0.16666666666666666,
          0.5000000000000001,
          0.125,
          0.15,
          0,
          0.55,
          -0.125,
          0,
          0,
          0.6,
          -0.1875,
          0.16666666666666666,
          -0.06249999999999996,
          0,
          0.34285714285714286,
          0,
          0,
          0.1,
          -1,
          0.16666666666666666,
          0,
          0.325,
          0.08184523809523811,
          0.24285714285714285,
          0.24285714285714285,
          0.5,
          0,
          -0.02,
          -0.02,
          0,
          0,
          0.48828125,
          0,
          0,
          -0.3,
          -0.0625,
          0.3,
          0,
          0.55,
          -0.15555555555555559,
          0,
          0,
          0,
          0.10000000000000002,
          0,
          0.5,
          0.2,
          -0.10476190476190478,
          0,
          0.375,
          0,
          0,
          -0.1,
          0,
          0,
          0.29166666666666663,
          0.13333333333333333,
          0,
          0.625,
          0,
          0.08333333333333333,
          -0.30000000000000004,
          0.125,
          0.5,
          0.19583333333333333,
          0.5,
          -0.35,
          0.45,
          0.10416666666666667,
          -0.3,
          0.11333333333333333,
          0,
          0,
          0.5,
          0.0062500000000000056,
          0,
          0.2924242424242424,
          0,
          0,
          0,
          0,
          0.046875,
          0,
          0,
          0,
          0,
          0,
          -0.3,
          -0.07916666666666666,
          0,
          0,
          0,
          0,
          0,
          0,
          0.35,
          0,
          0,
          0,
          0,
          0,
          0,
          0,
          0,
          0,
          0,
          0.101010101010101,
          0.19583333333333333,
          0.16666666666666666,
          0.19246031746031744,
          0.0625,
          0.16666666666666666,
          -0.3,
          0,
          -0.3,
          0,
          0.08888888888888889,
          -0.5,
          -0.1111111111111111,
          0,
          0.375,
          0.4375,
          0,
          -0.06874999999999999,
          0.21666666666666667,
          0,
          0.22402597402597402,
          0.375,
          0,
          0.21666666666666667,
          0,
          0,
          -1,
          0,
          0.08392857142857142,
          0,
          0,
          0.125,
          0,
          0,
          0,
          0,
          0,
          0,
          0.25,
          0.8,
          0,
          0.7000000000000001,
          -0.08333333333333333,
          0,
          0,
          0.35892857142857143,
          0,
          0.5,
          0.06666666666666665,
          0,
          0,
          0,
          -0.1,
          0,
          0,
          0,
          0.25,
          0,
          -0.10714285714285715,
          0.4,
          0,
          0.5,
          -0.2,
          0.08333333333333333,
          0.35714285714285715,
          0.5,
          0.3333333333333333,
          0.5,
          0.275,
          0,
          0,
          0,
          0.5,
          0.35,
          -0.1,
          0,
          -0.2,
          -0.75,
          0,
          0,
          0.02777777777777778,
          0,
          0.6,
          0.4,
          0,
          0.1,
          0.26666666666666666,
          -6.938893903907228e-18,
          0,
          0,
          0,
          0.05,
          0.022916666666666658,
          0,
          0.40625,
          0,
          -0.7142857142857143,
          0,
          0,
          0.5,
          0,
          0,
          0.25,
          0,
          1,
          0.5,
          -0.1625,
          0,
          0,
          0,
          -0.05000000000000001,
          0.02777777777777778,
          0.05555555555555555,
          0.5,
          0,
          0.11818181818181818,
          0,
          0.5,
          0,
          0,
          0,
          0.41666666666666663,
          0,
          0.125,
          0.25,
          0,
          0,
          0,
          0,
          0.425,
          0,
          -0.09375,
          0,
          0,
          0,
          0,
          0.25390625,
          0,
          0.11666666666666665,
          0.1,
          0,
          0,
          0,
          -0.25,
          0,
          0,
          0,
          0,
          0,
          0.16666666666666666,
          0,
          0,
          0,
          0,
          0,
          0,
          0,
          0,
          0,
          0,
          0,
          0,
          0.07083333333333335,
          0.2,
          0,
          -0.016666666666666666,
          0,
          -0.0625,
          0,
          0,
          0.056249999999999994,
          0.4,
          0.25,
          0,
          0.2,
          0,
          0,
          0,
          0.525,
          0,
          0,
          -0.7152557373046875,
          0.244140625,
          0,
          0.11666666666666665,
          0,
          0,
          0,
          0,
          0.25,
          0,
          0.21666666666666667,
          0,
          -0.04900568181818182,
          1,
          0,
          0,
          0.225,
          0.125,
          0.25,
          0,
          0,
          0,
          0,
          0.05,
          0.5,
          -0.3,
          0.25,
          -0.39285714285714285,
          1,
          0,
          0,
          0.16666666666666666,
          0,
          0,
          0,
          0.0875,
          0.0875,
          0.34285714285714286,
          -0.5,
          0.125,
          0.175,
          0.5,
          0.3,
          0,
          0.015873015873015872,
          0.1,
          0,
          -0.05,
          0.06666666666666667,
          0,
          -0.1875,
          0,
          0.08,
          0.3125,
          0.16666666666666666,
          0.07575757575757575,
          -0.5,
          0,
          0,
          0.1,
          0.3333333333333333,
          0.16666666666666666,
          0.16666666666666666,
          0,
          0.14107142857142857,
          0.2,
          0.25,
          0,
          0.01428571428571429,
          0,
          0,
          0.1,
          0,
          0,
          0,
          0,
          0.625,
          0.04338624338624337,
          -0.10000000000000003,
          0.029365079365079344,
          0,
          0,
          0,
          -0.2958333333333334,
          -0.2916666666666667,
          0,
          0.1,
          0,
          -0.2916666666666667,
          0.54,
          -0.03854166666666666,
          -0.1,
          0,
          0,
          0.4,
          0.4444444444444445,
          0,
          0.25,
          0.4375,
          0.016666666666666663,
          0,
          -0.016666666666666666,
          0,
          0,
          0,
          0,
          0,
          -0.11249999999999999,
          0,
          0,
          0,
          0,
          -0.2708333333333333,
          0.25,
          0.7083333333333334,
          0,
          0,
          0,
          0.022222222222222216,
          0.10714285714285714,
          0,
          0,
          0,
          0,
          0.45833333333333337,
          0.20833333333333331,
          0.6,
          -0.46130952380952384,
          0,
          0,
          0.8,
          0.22348484848484848,
          0,
          0.25,
          0.125,
          0,
          0.13333333333333333,
          0.7,
          0,
          0.11666666666666667,
          0,
          -0.09375,
          0,
          0.8,
          0,
          0,
          0.375,
          0.08333333333333333,
          0.03333333333333333,
          0.35,
          0.25,
          0,
          0,
          0,
          0,
          0.16,
          0.25,
          0.175,
          0.4375,
          0,
          0,
          -0.1,
          0,
          0,
          0.25,
          0.5583333333333333,
          0,
          -0.1875,
          0.08333333333333333,
          0,
          0.1875,
          0,
          0,
          0,
          0,
          0,
          0.375,
          0,
          0,
          0,
          0.012500000000000004,
          0.4333333333333333,
          0,
          0,
          0,
          0,
          0.11458333333333334,
          0,
          0,
          0.47500000000000003,
          0.16666666666666666,
          0,
          -0.20476190476190478,
          0,
          0,
          0,
          0,
          0.2333333333333333,
          0,
          -0.12916666666666665,
          0.16666666666666666,
          0,
          0,
          0.4222222222222222,
          0.14285714285714285,
          0,
          0.13636363636363635,
          -0.16666666666666666,
          0.08333333333333333,
          0,
          0.08750000000000001,
          0.5625,
          -0.25,
          0,
          0.2583333333333333,
          0,
          0,
          0.2857142857142857,
          0.484375,
          0,
          0,
          0.125,
          0.35714285714285715,
          0.06666666666666667,
          0,
          0.013888888888888886,
          0.05555555555555555,
          0.48333333333333334,
          0,
          0,
          0,
          0.13636363636363635,
          0.2857142857142857,
          0,
          0.55,
          0.14285714285714285,
          0,
          0.016666666666666663,
          0.5,
          0,
          0,
          0,
          0.22499999999999998,
          0,
          -0.05,
          -0.20833333333333331,
          0,
          0,
          0,
          0,
          0,
          0,
          0,
          0.4,
          0,
          0.04999999999999999,
          0.3333333333333333,
          0.1,
          0,
          0,
          0,
          0,
          0,
          0,
          0,
          0.15656565656565655,
          0.15208333333333332,
          0.08333333333333333,
          0,
          0.47222222222222215,
          0.4000000000000001,
          0.24000000000000005,
          -0.25,
          0,
          0.05555555555555555,
          0.14851190476190476,
          0.55,
          0,
          0,
          0.012121212121212116,
          0.075,
          0.3875,
          0,
          0.125,
          0,
          -0.15000000000000002,
          0,
          0.25,
          0.55,
          0.3666666666666667,
          0,
          0.55,
          0,
          0.4166666666666667,
          0
         ],
         "xaxis": "x",
         "y": [
          0.5,
          0.5,
          0.6375,
          0.76,
          0.55,
          0.75,
          0,
          0.16666666666666666,
          0.4,
          0.63125,
          0.35,
          0,
          0,
          0.5,
          0,
          0.3666666666666667,
          0.7111111111111111,
          0,
          0,
          0,
          0,
          0,
          0.5,
          0.65,
          0.65,
          0.6666666666666666,
          1,
          0,
          0,
          0,
          0,
          0,
          0.06666666666666667,
          0.8333333333333334,
          0,
          0.9,
          0.45,
          0.4666666666666667,
          0.5416666666666666,
          0,
          0.2333333333333333,
          0,
          0.6666666666666666,
          0,
          0,
          0,
          0,
          0,
          0.6666666666666666,
          0,
          0.4,
          0.5357142857142857,
          0.6900000000000001,
          0.6000000000000001,
          0.6000000000000001,
          0,
          0.35,
          0,
          0.06666666666666667,
          0.1,
          0,
          0.5125,
          0.4666666666666666,
          0.4,
          0.4,
          1,
          0,
          0.5,
          0,
          0.26875,
          0.5866666666666667,
          0.7017857142857142,
          0.5666666666666667,
          0.1,
          0.5,
          0.35,
          0.3333333333333333,
          0.55,
          0.7428571428571429,
          0.16666666666666666,
          0,
          0.5625,
          0.05,
          0,
          0.03333333333333333,
          0.25,
          0,
          0,
          0.4,
          0.35000000000000003,
          0.4714285714285714,
          0.5178571428571428,
          0.9,
          0.49595959595959593,
          0,
          0,
          0.4444444444444444,
          0,
          0.525,
          0,
          0,
          0.3890909090909091,
          0.3333333333333333,
          0,
          0.2888888888888889,
          0.2708333333333333,
          0,
          0.4083333333333333,
          0.21666666666666667,
          0,
          0.1,
          0.65,
          0.2,
          0.25,
          0,
          0.25,
          0.25,
          0,
          0.25,
          0,
          0.5,
          0.5,
          0,
          0,
          0,
          0.3333333333333333,
          0.8,
          0,
          0.2,
          0,
          0.6285714285714286,
          0.3333333333333333,
          0.4354166666666667,
          0,
          0.5,
          0.9,
          0,
          0.2,
          0,
          0,
          0.5,
          0.6000000000000001,
          0.6666666666666666,
          0,
          0.1,
          0,
          0.6857142857142857,
          0.47333333333333333,
          0,
          0.7333333333333333,
          0,
          0,
          0,
          0.6333333333333333,
          0.5625,
          0.5,
          0.625,
          0.6,
          0,
          0.65,
          0,
          0,
          0,
          0.75,
          0.6000000000000001,
          0.4,
          0.4,
          0.35,
          0.5,
          0,
          0,
          0.5333333333333333,
          0.4017857142857143,
          0,
          0,
          0,
          0.5,
          0.7678571428571428,
          0.3466666666666667,
          0.625,
          0,
          0.5,
          0.08333333333333334,
          0.875,
          0.5,
          0.5,
          0.5151515151515151,
          1,
          0.22083333333333333,
          0.3222222222222222,
          0.2333333333333333,
          0.5666666666666668,
          0.5333333333333333,
          0.5,
          0.5,
          0.06666666666666667,
          0.3111111111111111,
          0.6166666666666667,
          0.5625,
          0,
          0.5,
          0.3333333333333333,
          0.9,
          0,
          0,
          0.21666666666666667,
          0.41666666666666663,
          0.26666666666666666,
          0,
          0,
          0,
          0.1,
          0,
          0,
          0.611111111111111,
          0.5,
          0.4,
          0,
          0.5,
          0.3,
          0.29444444444444445,
          0.125,
          0.3,
          0,
          0.7041666666666667,
          0,
          0.16666666666666666,
          0.5119047619047619,
          0,
          0.1,
          0,
          0.5,
          0.31666666666666665,
          0.41111111111111115,
          0,
          0.3875,
          0,
          0.5333333333333333,
          0,
          0.375,
          0,
          0,
          0,
          0.3,
          0.2833333333333333,
          0.611904761904762,
          0,
          1,
          0.5333333333333333,
          0.5666666666666667,
          0,
          0.4,
          0.6125,
          0,
          0.2888888888888889,
          0.3333333333333333,
          0,
          0,
          1,
          0,
          0.45454545454545453,
          0.5333333333333333,
          0,
          0.45454545454545453,
          0.275,
          0.275,
          0.6333333333333333,
          0.9,
          0.65,
          0.23333333333333334,
          0.4666666666666666,
          0.5,
          0.19999999999999998,
          0.9444444444444444,
          0.22222222222222224,
          0,
          0,
          0,
          0,
          0,
          0.2875,
          0,
          0.5666666666666667,
          0.7,
          0,
          0.5,
          0.519047619047619,
          0,
          0,
          0,
          0,
          0.65,
          0,
          0,
          0.13333333333333333,
          0,
          1,
          0.6333333333333333,
          0,
          0.75,
          0,
          0,
          0.625,
          0.5,
          0,
          0.125,
          0,
          0.6444444444444445,
          0.2,
          0,
          0,
          0.16666666666666666,
          0,
          0,
          0,
          0,
          0.5357142857142857,
          0.25,
          0,
          0.3333333333333333,
          0.55,
          0.5069444444444444,
          0.9,
          0.5357142857142857,
          0,
          0.5399999999999999,
          0.5,
          0.2,
          0,
          0,
          0.125,
          0.21666666666666667,
          0.5357142857142857,
          0.65,
          0.25,
          0.78125,
          0.3,
          0.4,
          0.3666666666666667,
          0.65,
          0.5357142857142857,
          0.6523809523809524,
          0,
          0.7666666666666666,
          0.75,
          0.5133333333333334,
          0.6933333333333334,
          0.30000000000000004,
          0.5865079365079365,
          0.5357142857142857,
          1,
          0.675,
          0.47916666666666663,
          0,
          0.825,
          0.5916666666666667,
          0.3333333333333333,
          0,
          0,
          0.45,
          1,
          0.46296296296296297,
          0.25,
          0.1,
          0.5,
          0.3,
          0.625,
          0.5666666666666667,
          0.1,
          0,
          0,
          0.6416666666666667,
          0.24444444444444446,
          0,
          0,
          0,
          0.5357142857142857,
          0.7222222222222222,
          0.47500000000000003,
          0.5357142857142857,
          0.5625,
          0,
          0.5,
          0,
          0.5666666666666667,
          0,
          0.1,
          0.48333333333333334,
          0.43333333333333335,
          0,
          0.5357142857142857,
          0.35555555555555557,
          0,
          0.3333333333333333,
          0.5357142857142857,
          0,
          0,
          0.4166666666666667,
          0.35,
          0,
          0.06666666666666667,
          0.05,
          0.3333333333333333,
          0.4,
          0.26785714285714285,
          1,
          0.45454545454545453,
          0.5,
          0.125,
          0.3333333333333333,
          0.9,
          0.06666666666666667,
          0,
          0.3625,
          0,
          0,
          0.5777777777777778,
          0.3333333333333333,
          0.9,
          0.3,
          0.525,
          0,
          0.65,
          0.375,
          0,
          0,
          0.8,
          0.5,
          0.3333333333333333,
          0.7388888888888888,
          0,
          0.5178571428571428,
          0,
          0,
          0.3333333333333333,
          1,
          0.3333333333333333,
          0,
          0.30999999999999994,
          0.4663690476190476,
          0.5178571428571428,
          0.5178571428571428,
          0.8333333333333334,
          0,
          0.29000000000000004,
          0.29000000000000004,
          0,
          0,
          0.3333333333333333,
          0.5,
          0.1,
          0.7,
          0.4,
          0.45,
          0,
          0.65,
          0.2888888888888889,
          0,
          0,
          0,
          0.6555555555555556,
          0.1,
          0.5,
          0.1,
          0.5785714285714286,
          0,
          0.5,
          0,
          0,
          0.4,
          0,
          0.1,
          0.3645833333333333,
          0.16666666666666666,
          0,
          0.5,
          0,
          0.5166666666666667,
          0.2,
          0.5375,
          0.9,
          0.5499999999999999,
          0.9,
          0.5,
          0.5444444444444444,
          0.3,
          0.5,
          0.26,
          0.5,
          0,
          0.5,
          0.4,
          0,
          0.5151515151515151,
          0,
          0,
          0,
          0,
          0.75,
          0,
          0,
          0,
          0,
          0,
          0.5,
          0.5666666666666667,
          0,
          0,
          0,
          0,
          0,
          0,
          0.55,
          0,
          0,
          0,
          0.06666666666666667,
          0,
          0.038461538461538464,
          0.06666666666666667,
          0,
          0,
          0,
          0.27777777777777773,
          0.5499999999999999,
          0.3333333333333333,
          0.423015873015873,
          0.65,
          0.3333333333333333,
          0.5,
          0,
          0.5,
          0,
          0.45555555555555555,
          0.5,
          0.5555555555555555,
          0,
          0.41666666666666663,
          0.41666666666666663,
          0,
          0.11875000000000001,
          0.9166666666666667,
          0,
          0.4411976911976912,
          0.47916666666666663,
          0,
          0.9166666666666667,
          0,
          0,
          1,
          0,
          0.30853174603174605,
          0,
          0,
          0.16666666666666666,
          0,
          0,
          0,
          0,
          0,
          0,
          0.3333333333333333,
          0.75,
          0,
          0.5333333333333333,
          0.16666666666666666,
          0,
          0,
          0.5922619047619048,
          0,
          0.5,
          0.6333333333333333,
          0,
          0,
          0,
          0.4,
          0,
          0,
          0,
          0.5333333333333333,
          0,
          0.7178571428571429,
          0.6,
          0,
          0.5625,
          0.6,
          0.21666666666666667,
          0.5714285714285714,
          0.5,
          0.38888888888888884,
          0.625,
          0.5416666666666666,
          0,
          0,
          0,
          0.5,
          0.65,
          0.4,
          0.1,
          0,
          1,
          0,
          0,
          0.16666666666666666,
          0,
          0.7,
          0.5,
          0,
          0.26041666666666663,
          0.8666666666666667,
          0.44999999999999996,
          0.4,
          0,
          0,
          0.35,
          0.5777777777777778,
          0,
          0.41666666666666663,
          0,
          0.8571428571428571,
          0,
          0,
          0.5,
          0,
          0,
          0.3333333333333333,
          0,
          0.3,
          0.5,
          0.5625,
          0,
          0,
          0,
          0.3111111111111111,
          0.16666666666666666,
          0.16666666666666666,
          0.625,
          0,
          0.32727272727272727,
          0,
          0.5,
          0,
          0.1,
          0.6666666666666666,
          0.5,
          0,
          0.16666666666666666,
          0.3194444444444444,
          0,
          0.25,
          0,
          0.1,
          0.55,
          0,
          0.2833333333333333,
          0,
          0,
          0,
          0,
          0.3458333333333333,
          0,
          0.18333333333333335,
          0.1,
          0,
          0,
          0,
          0.65,
          0.5,
          0,
          0,
          0,
          0,
          0.3333333333333333,
          0,
          0,
          0,
          0,
          0,
          0,
          0,
          0,
          0.06666666666666667,
          0,
          0,
          0.1,
          0.39999999999999997,
          0.2,
          0,
          0.6333333333333333,
          0,
          0.5,
          0,
          0,
          0.7,
          0.4083333333333333,
          0.3333333333333333,
          0,
          0.45,
          0,
          0,
          0,
          0.5416666666666666,
          0,
          0.5,
          0.5,
          0.6666666666666666,
          0,
          0.3444444444444445,
          0.75,
          0,
          0,
          0.06666666666666667,
          0.75,
          0,
          0.5833333333333334,
          0,
          0.5,
          0.75,
          0,
          0,
          0.525,
          0.29166666666666663,
          0.3458333333333333,
          0,
          0,
          0,
          0,
          0,
          0.5,
          0.5,
          0.3333333333333333,
          0.75,
          0.75,
          0,
          1,
          0.3333333333333333,
          0,
          0.25,
          0,
          0.2583333333333333,
          0.2583333333333333,
          0.46785714285714286,
          0.6,
          0.29166666666666663,
          0.275,
          0.625,
          0.3666666666666667,
          0,
          0.30317460317460315,
          0.4,
          0,
          0.4,
          0.41111111111111115,
          0.06666666666666667,
          0.5,
          1,
          0.3966666666666666,
          0.3333333333333333,
          0.3333333333333333,
          0.22196969696969698,
          0.9,
          0,
          0,
          0.55,
          0.5333333333333333,
          0.3333333333333333,
          0.3333333333333333,
          1,
          0.44523809523809527,
          0.5,
          0.3333333333333333,
          1,
          0.17142857142857143,
          1,
          1,
          0.4,
          0,
          0.1,
          0.06666666666666667,
          0,
          0.625,
          0.40820105820105823,
          0.45,
          0.4301587301587302,
          0,
          0,
          0.1,
          0.4708333333333333,
          0.5416666666666666,
          0,
          0.4,
          0,
          0.5416666666666666,
          0.49000000000000005,
          0.475,
          0.4,
          0,
          0,
          0.5,
          0.3222222222222222,
          0.25,
          0.45,
          0.5111111111111111,
          0.225,
          0,
          0.4666666666666666,
          0,
          0,
          0,
          0,
          0,
          0.375,
          0,
          0,
          0,
          0,
          0.47361111111111115,
          0.3333333333333333,
          0.43333333333333335,
          0,
          0,
          0,
          0.4777777777777778,
          0.7142857142857143,
          0,
          0,
          0,
          0,
          0.5,
          0.3333333333333333,
          0.7000000000000001,
          0.4619047619047619,
          0,
          0,
          0.75,
          0.39999999999999997,
          0.125,
          0.3333333333333333,
          0.21666666666666667,
          0,
          0.5895833333333333,
          0.6000000000000001,
          0,
          0.4583333333333333,
          0,
          0.25,
          0,
          0.9,
          0,
          0.3,
          0.5,
          0.21666666666666667,
          0.022222222222222223,
          0.4,
          0.3125,
          0,
          0,
          0,
          0.06666666666666667,
          0.5399999999999999,
          0.75,
          0.26666666666666666,
          0.35000000000000003,
          0,
          0,
          0.4,
          0,
          0,
          0.3333333333333333,
          0.45,
          0,
          0.5,
          0.27777777777777773,
          0,
          0.35555555555555557,
          0,
          0,
          0,
          0.08333333333333334,
          0.2625,
          0.8,
          0.125,
          0.06666666666666667,
          0,
          0.20833333333333331,
          0.7333333333333333,
          0.06666666666666667,
          0,
          0,
          0,
          0.4666666666666667,
          0,
          1,
          0.5,
          0.5666666666666667,
          0,
          0.5523809523809523,
          0,
          0,
          0,
          0.1,
          0.3972222222222222,
          0,
          0.5666666666666667,
          0.3333333333333333,
          0.1,
          0,
          0.5444444444444444,
          0.26785714285714285,
          0,
          0.5,
          0.16666666666666666,
          0.4666666666666667,
          0,
          0.2333333333333333,
          0.8944444444444444,
          0.225,
          0,
          0.44166666666666665,
          0,
          0,
          0.5357142857142857,
          0.875,
          0,
          0.1,
          0.41666666666666663,
          0.4642857142857143,
          0.4,
          0,
          0.2583333333333333,
          0.14444444444444446,
          0.6166666666666667,
          0,
          0.1,
          0,
          0.5,
          0.5357142857142857,
          0.06666666666666667,
          0.65,
          0.26785714285714285,
          0.06666666666666667,
          0.7166666666666667,
          0.5,
          0,
          0,
          0,
          0.275,
          0,
          0.4,
          0.16666666666666666,
          0,
          0.25,
          1,
          0.36923076923076925,
          0,
          0,
          0,
          1,
          0,
          0.775,
          0.5666666666666668,
          0.3,
          0,
          0,
          0,
          0.25,
          0,
          0,
          0,
          0.38888888888888884,
          0.6833333333333335,
          0.21666666666666667,
          0,
          0.5444444444444444,
          0.9,
          0.4333333333333334,
          0.4,
          0,
          0.3111111111111111,
          0.4779761904761905,
          0.65,
          0,
          0.03333333333333333,
          0.6333333333333333,
          0.575,
          0.575,
          0,
          0.2,
          0.05,
          0.19999999999999998,
          0,
          0.3333333333333333,
          0.65,
          0.4666666666666666,
          0,
          0.65,
          0,
          0.48333333333333334,
          0.06666666666666667
         ],
         "yaxis": "y"
        }
       ],
       "layout": {
        "autosize": true,
        "legend": {
         "tracegroupgap": 0
        },
        "template": {
         "data": {
          "bar": [
           {
            "error_x": {
             "color": "#2a3f5f"
            },
            "error_y": {
             "color": "#2a3f5f"
            },
            "marker": {
             "line": {
              "color": "#E5ECF6",
              "width": 0.5
             }
            },
            "type": "bar"
           }
          ],
          "barpolar": [
           {
            "marker": {
             "line": {
              "color": "#E5ECF6",
              "width": 0.5
             }
            },
            "type": "barpolar"
           }
          ],
          "carpet": [
           {
            "aaxis": {
             "endlinecolor": "#2a3f5f",
             "gridcolor": "white",
             "linecolor": "white",
             "minorgridcolor": "white",
             "startlinecolor": "#2a3f5f"
            },
            "baxis": {
             "endlinecolor": "#2a3f5f",
             "gridcolor": "white",
             "linecolor": "white",
             "minorgridcolor": "white",
             "startlinecolor": "#2a3f5f"
            },
            "type": "carpet"
           }
          ],
          "choropleth": [
           {
            "colorbar": {
             "outlinewidth": 0,
             "ticks": ""
            },
            "type": "choropleth"
           }
          ],
          "contour": [
           {
            "colorbar": {
             "outlinewidth": 0,
             "ticks": ""
            },
            "colorscale": [
             [
              0,
              "#0d0887"
             ],
             [
              0.1111111111111111,
              "#46039f"
             ],
             [
              0.2222222222222222,
              "#7201a8"
             ],
             [
              0.3333333333333333,
              "#9c179e"
             ],
             [
              0.4444444444444444,
              "#bd3786"
             ],
             [
              0.5555555555555556,
              "#d8576b"
             ],
             [
              0.6666666666666666,
              "#ed7953"
             ],
             [
              0.7777777777777778,
              "#fb9f3a"
             ],
             [
              0.8888888888888888,
              "#fdca26"
             ],
             [
              1,
              "#f0f921"
             ]
            ],
            "type": "contour"
           }
          ],
          "contourcarpet": [
           {
            "colorbar": {
             "outlinewidth": 0,
             "ticks": ""
            },
            "type": "contourcarpet"
           }
          ],
          "heatmap": [
           {
            "colorbar": {
             "outlinewidth": 0,
             "ticks": ""
            },
            "colorscale": [
             [
              0,
              "#0d0887"
             ],
             [
              0.1111111111111111,
              "#46039f"
             ],
             [
              0.2222222222222222,
              "#7201a8"
             ],
             [
              0.3333333333333333,
              "#9c179e"
             ],
             [
              0.4444444444444444,
              "#bd3786"
             ],
             [
              0.5555555555555556,
              "#d8576b"
             ],
             [
              0.6666666666666666,
              "#ed7953"
             ],
             [
              0.7777777777777778,
              "#fb9f3a"
             ],
             [
              0.8888888888888888,
              "#fdca26"
             ],
             [
              1,
              "#f0f921"
             ]
            ],
            "type": "heatmap"
           }
          ],
          "heatmapgl": [
           {
            "colorbar": {
             "outlinewidth": 0,
             "ticks": ""
            },
            "colorscale": [
             [
              0,
              "#0d0887"
             ],
             [
              0.1111111111111111,
              "#46039f"
             ],
             [
              0.2222222222222222,
              "#7201a8"
             ],
             [
              0.3333333333333333,
              "#9c179e"
             ],
             [
              0.4444444444444444,
              "#bd3786"
             ],
             [
              0.5555555555555556,
              "#d8576b"
             ],
             [
              0.6666666666666666,
              "#ed7953"
             ],
             [
              0.7777777777777778,
              "#fb9f3a"
             ],
             [
              0.8888888888888888,
              "#fdca26"
             ],
             [
              1,
              "#f0f921"
             ]
            ],
            "type": "heatmapgl"
           }
          ],
          "histogram": [
           {
            "marker": {
             "colorbar": {
              "outlinewidth": 0,
              "ticks": ""
             }
            },
            "type": "histogram"
           }
          ],
          "histogram2d": [
           {
            "colorbar": {
             "outlinewidth": 0,
             "ticks": ""
            },
            "colorscale": [
             [
              0,
              "#0d0887"
             ],
             [
              0.1111111111111111,
              "#46039f"
             ],
             [
              0.2222222222222222,
              "#7201a8"
             ],
             [
              0.3333333333333333,
              "#9c179e"
             ],
             [
              0.4444444444444444,
              "#bd3786"
             ],
             [
              0.5555555555555556,
              "#d8576b"
             ],
             [
              0.6666666666666666,
              "#ed7953"
             ],
             [
              0.7777777777777778,
              "#fb9f3a"
             ],
             [
              0.8888888888888888,
              "#fdca26"
             ],
             [
              1,
              "#f0f921"
             ]
            ],
            "type": "histogram2d"
           }
          ],
          "histogram2dcontour": [
           {
            "colorbar": {
             "outlinewidth": 0,
             "ticks": ""
            },
            "colorscale": [
             [
              0,
              "#0d0887"
             ],
             [
              0.1111111111111111,
              "#46039f"
             ],
             [
              0.2222222222222222,
              "#7201a8"
             ],
             [
              0.3333333333333333,
              "#9c179e"
             ],
             [
              0.4444444444444444,
              "#bd3786"
             ],
             [
              0.5555555555555556,
              "#d8576b"
             ],
             [
              0.6666666666666666,
              "#ed7953"
             ],
             [
              0.7777777777777778,
              "#fb9f3a"
             ],
             [
              0.8888888888888888,
              "#fdca26"
             ],
             [
              1,
              "#f0f921"
             ]
            ],
            "type": "histogram2dcontour"
           }
          ],
          "mesh3d": [
           {
            "colorbar": {
             "outlinewidth": 0,
             "ticks": ""
            },
            "type": "mesh3d"
           }
          ],
          "parcoords": [
           {
            "line": {
             "colorbar": {
              "outlinewidth": 0,
              "ticks": ""
             }
            },
            "type": "parcoords"
           }
          ],
          "pie": [
           {
            "automargin": true,
            "type": "pie"
           }
          ],
          "scatter": [
           {
            "marker": {
             "colorbar": {
              "outlinewidth": 0,
              "ticks": ""
             }
            },
            "type": "scatter"
           }
          ],
          "scatter3d": [
           {
            "line": {
             "colorbar": {
              "outlinewidth": 0,
              "ticks": ""
             }
            },
            "marker": {
             "colorbar": {
              "outlinewidth": 0,
              "ticks": ""
             }
            },
            "type": "scatter3d"
           }
          ],
          "scattercarpet": [
           {
            "marker": {
             "colorbar": {
              "outlinewidth": 0,
              "ticks": ""
             }
            },
            "type": "scattercarpet"
           }
          ],
          "scattergeo": [
           {
            "marker": {
             "colorbar": {
              "outlinewidth": 0,
              "ticks": ""
             }
            },
            "type": "scattergeo"
           }
          ],
          "scattergl": [
           {
            "marker": {
             "colorbar": {
              "outlinewidth": 0,
              "ticks": ""
             }
            },
            "type": "scattergl"
           }
          ],
          "scattermapbox": [
           {
            "marker": {
             "colorbar": {
              "outlinewidth": 0,
              "ticks": ""
             }
            },
            "type": "scattermapbox"
           }
          ],
          "scatterpolar": [
           {
            "marker": {
             "colorbar": {
              "outlinewidth": 0,
              "ticks": ""
             }
            },
            "type": "scatterpolar"
           }
          ],
          "scatterpolargl": [
           {
            "marker": {
             "colorbar": {
              "outlinewidth": 0,
              "ticks": ""
             }
            },
            "type": "scatterpolargl"
           }
          ],
          "scatterternary": [
           {
            "marker": {
             "colorbar": {
              "outlinewidth": 0,
              "ticks": ""
             }
            },
            "type": "scatterternary"
           }
          ],
          "surface": [
           {
            "colorbar": {
             "outlinewidth": 0,
             "ticks": ""
            },
            "colorscale": [
             [
              0,
              "#0d0887"
             ],
             [
              0.1111111111111111,
              "#46039f"
             ],
             [
              0.2222222222222222,
              "#7201a8"
             ],
             [
              0.3333333333333333,
              "#9c179e"
             ],
             [
              0.4444444444444444,
              "#bd3786"
             ],
             [
              0.5555555555555556,
              "#d8576b"
             ],
             [
              0.6666666666666666,
              "#ed7953"
             ],
             [
              0.7777777777777778,
              "#fb9f3a"
             ],
             [
              0.8888888888888888,
              "#fdca26"
             ],
             [
              1,
              "#f0f921"
             ]
            ],
            "type": "surface"
           }
          ],
          "table": [
           {
            "cells": {
             "fill": {
              "color": "#EBF0F8"
             },
             "line": {
              "color": "white"
             }
            },
            "header": {
             "fill": {
              "color": "#C8D4E3"
             },
             "line": {
              "color": "white"
             }
            },
            "type": "table"
           }
          ]
         },
         "layout": {
          "annotationdefaults": {
           "arrowcolor": "#2a3f5f",
           "arrowhead": 0,
           "arrowwidth": 1
          },
          "coloraxis": {
           "colorbar": {
            "outlinewidth": 0,
            "ticks": ""
           }
          },
          "colorscale": {
           "diverging": [
            [
             0,
             "#8e0152"
            ],
            [
             0.1,
             "#c51b7d"
            ],
            [
             0.2,
             "#de77ae"
            ],
            [
             0.3,
             "#f1b6da"
            ],
            [
             0.4,
             "#fde0ef"
            ],
            [
             0.5,
             "#f7f7f7"
            ],
            [
             0.6,
             "#e6f5d0"
            ],
            [
             0.7,
             "#b8e186"
            ],
            [
             0.8,
             "#7fbc41"
            ],
            [
             0.9,
             "#4d9221"
            ],
            [
             1,
             "#276419"
            ]
           ],
           "sequential": [
            [
             0,
             "#0d0887"
            ],
            [
             0.1111111111111111,
             "#46039f"
            ],
            [
             0.2222222222222222,
             "#7201a8"
            ],
            [
             0.3333333333333333,
             "#9c179e"
            ],
            [
             0.4444444444444444,
             "#bd3786"
            ],
            [
             0.5555555555555556,
             "#d8576b"
            ],
            [
             0.6666666666666666,
             "#ed7953"
            ],
            [
             0.7777777777777778,
             "#fb9f3a"
            ],
            [
             0.8888888888888888,
             "#fdca26"
            ],
            [
             1,
             "#f0f921"
            ]
           ],
           "sequentialminus": [
            [
             0,
             "#0d0887"
            ],
            [
             0.1111111111111111,
             "#46039f"
            ],
            [
             0.2222222222222222,
             "#7201a8"
            ],
            [
             0.3333333333333333,
             "#9c179e"
            ],
            [
             0.4444444444444444,
             "#bd3786"
            ],
            [
             0.5555555555555556,
             "#d8576b"
            ],
            [
             0.6666666666666666,
             "#ed7953"
            ],
            [
             0.7777777777777778,
             "#fb9f3a"
            ],
            [
             0.8888888888888888,
             "#fdca26"
            ],
            [
             1,
             "#f0f921"
            ]
           ]
          },
          "colorway": [
           "#636efa",
           "#EF553B",
           "#00cc96",
           "#ab63fa",
           "#FFA15A",
           "#19d3f3",
           "#FF6692",
           "#B6E880",
           "#FF97FF",
           "#FECB52"
          ],
          "font": {
           "color": "#2a3f5f"
          },
          "geo": {
           "bgcolor": "white",
           "lakecolor": "white",
           "landcolor": "#E5ECF6",
           "showlakes": true,
           "showland": true,
           "subunitcolor": "white"
          },
          "hoverlabel": {
           "align": "left"
          },
          "hovermode": "closest",
          "mapbox": {
           "style": "light"
          },
          "paper_bgcolor": "white",
          "plot_bgcolor": "#E5ECF6",
          "polar": {
           "angularaxis": {
            "gridcolor": "white",
            "linecolor": "white",
            "ticks": ""
           },
           "bgcolor": "#E5ECF6",
           "radialaxis": {
            "gridcolor": "white",
            "linecolor": "white",
            "ticks": ""
           }
          },
          "scene": {
           "xaxis": {
            "backgroundcolor": "#E5ECF6",
            "gridcolor": "white",
            "gridwidth": 2,
            "linecolor": "white",
            "showbackground": true,
            "ticks": "",
            "zerolinecolor": "white"
           },
           "yaxis": {
            "backgroundcolor": "#E5ECF6",
            "gridcolor": "white",
            "gridwidth": 2,
            "linecolor": "white",
            "showbackground": true,
            "ticks": "",
            "zerolinecolor": "white"
           },
           "zaxis": {
            "backgroundcolor": "#E5ECF6",
            "gridcolor": "white",
            "gridwidth": 2,
            "linecolor": "white",
            "showbackground": true,
            "ticks": "",
            "zerolinecolor": "white"
           }
          },
          "shapedefaults": {
           "line": {
            "color": "#2a3f5f"
           }
          },
          "ternary": {
           "aaxis": {
            "gridcolor": "white",
            "linecolor": "white",
            "ticks": ""
           },
           "baxis": {
            "gridcolor": "white",
            "linecolor": "white",
            "ticks": ""
           },
           "bgcolor": "#E5ECF6",
           "caxis": {
            "gridcolor": "white",
            "linecolor": "white",
            "ticks": ""
           }
          },
          "title": {
           "x": 0.05
          },
          "xaxis": {
           "automargin": true,
           "gridcolor": "white",
           "linecolor": "white",
           "ticks": "",
           "title": {
            "standoff": 15
           },
           "zerolinecolor": "white",
           "zerolinewidth": 2
          },
          "yaxis": {
           "automargin": true,
           "gridcolor": "white",
           "linecolor": "white",
           "ticks": "",
           "title": {
            "standoff": 15
           },
           "zerolinecolor": "white",
           "zerolinewidth": 2
          }
         }
        },
        "title": {
         "text": "TextBlob Sentiment Analysis - With Emoji"
        },
        "xaxis": {
         "anchor": "y",
         "autorange": true,
         "domain": [
          0,
          1
         ],
         "range": [
          -1.1236973266878114,
          1.1236973266878114
         ],
         "title": {
          "text": "TB_polarity_with_emoji"
         },
         "type": "linear"
        },
        "yaxis": {
         "anchor": "x",
         "autorange": true,
         "domain": [
          0,
          1
         ],
         "range": [
          -0.0825242718446602,
          1.0825242718446602
         ],
         "title": {
          "text": "TB_subjectivity_with_emoji"
         },
         "type": "linear"
        }
       }
      },
      "image/png": "[encoded data removed]",
      "text/html": [
       "<div>\n",
       "        \n",
       "        \n",
       "            <div id=\"52dbcb79-16f0-45e5-bf14-dfaa1126697b\" class=\"plotly-graph-div\" style=\"height:525px; width:100%;\"></div>\n",
       "            <script type=\"text/javascript\">\n",
       "                require([\"plotly\"], function(Plotly) {\n",
       "                    window.PLOTLYENV=window.PLOTLYENV || {};\n",
       "                    \n",
       "                if (document.getElementById(\"52dbcb79-16f0-45e5-bf14-dfaa1126697b\")) {\n",
       "                    Plotly.newPlot(\n",
       "                        '52dbcb79-16f0-45e5-bf14-dfaa1126697b',\n",
       "                        [{\"customdata\": [[\"case missed : recommends covid-19 six old. learn safe &amp ; effective :\"], [\"florida-based grocery chain pharmacy retailer publix says offer covid-19 five ' time ' - surprising ! publix heir gave sh*t load $ $ ron desantis campaign. boycottpublix\"], [\"thank misinformation safety key issue. must communicate vaccines safe &amp ; effective ! thisisourshot parents give mixed reaction 5\"], [\"much damage done childhood trust rushing vax ? \\u2019 genuinely sad scientist - really wonderful life-saving vaccines places doubt , \\u2019 awful \\ud83d\\ude22\"], [\"responsible publix \\u2019 give 5\"], [\"hey childhood diseases \\u2026 florida open ! ! ! diphtheria , chicken pox , whooping cough , polio , measles , tb , come free fools state ! ! ! shingles anyone? ? ? florida state preorder\"], [\"one biggest challenges overcoming skepticism \\u2019 effectiveness necessity .\"], [\"baylor scott &amp ; white medical research team needs unvaccinated study aiming better understand covid-19 prevention transmission .\"], [\"pfizer reduces sperm quality \\u2014 long ? \\u2022 ' health defense \\u2066 \\u2069\"], [\"soni : although \\u2019 true many already exposed covid-19 , vaccines help prevent severely ill developing long-term complications due virus , including death .\"], [\"despite tons evidence contrary , published following : covid-19 vaccines locally , toddlers safe effective. find nearby tarrant county clinic .\"], [\"publix \\u2019 give 5 publix release statement explaining decision\"], [\"2. impulse make lot people .\"], [\"shots little here. hardest part\"], [\"news-leader : younger 5 receive covid-19 vaccines springfield\"], [\"aged 6 older eligible covid-19\"], [\"two plus stressful keeping free , finally got first .\"], [\"fda cdc unanimously reported benefits outweigh risk comes vaccinating , parents seem divided .\"], [\"\\u2019 data back notion safer taking vaccine. \\u2019 \\u201cpeace mind \\u201d , science .\"], [\"17,000 covid-19 vaccines 5 headed\"], [\"cdc director rochelle p. walensky endorsed advisory committee immunization practices \\u2019 ( acip ) recommendation 6 5 receive covid-19 vaccine. ...\"], [\"vaccines approved _fda ages 6 five age. \\ud83d\\udc89 offering group clinics throughout valley walk-in basis :\"], [\"litmus test trusting physician \\u2019 advice discernment whether recommend healthy adults .\"], [\"6 protect , time summer family trips. studies shown safe &amp ; effective preventing covid-19 illness children. read :\"], [\"6 protect , time summer family trips. studies shown safe &amp ; effective preventing covid-19 illness children. read :\"], [\"maternal 19 decreases risk serious illness hospitalization 6 maternal risk hospitalization covid-19 among &124 ; nejm\"], [\"parents anxiously awaiting chance , remains seen robust demand .\"], [\"georgia families struggle youngest\"], [\"covid-19 vaccines soon locally 5 age. find , visit call 1-833-422-4255. parents also talk \\u2019 health care provider. visit learn .\"], [\"\\u201cwhere ? \\u201d tnvaxnow protectourfuture\"], [\"cdc recommends covid-19 vaccines children. read recommendation :\"], [\"5 eligible covid-19. plan vaccinating ?\"], [\"\\u201ci \\u2019 vaccines moment since \\u2019 , \\u2019 rather longer studies effects , \\u201d said nashare white , 15-month old. white fully , says ' hesitant .\"], [\"pretty sad see publix stores refusing offer children. surprising , given politics owners .\"], [\"company reportedly said \\u2019 offer covid-19 group \\u201cat time . \\u201d\"], [\"covid-19 pregnancy \\u2014 two price one &124 ; nejm \\\" evidence covid-19 vaccines help protect mothers highly relevant patient counseling : \\u201c2-for-1 \\u201d deal may encourage mothers receive covid-19 . \\\"\"], [\"hope recent events \\u2019 attended \\u2019 5 younger ( parents ) still waiting eligibility thus risk far higher effects unvaccinated vulnerable. thisiswhyweshouldstillwearmasks\"], [\"\\u201cthe good news families covid-19 vaccine-preventable disease 6 older. \\u201d - dr. kris bryant , pediatric infectious diseases specialist norton \\u2019 s. reports .\"], [\"hard believe greedy publix could make money. know experience mother hurt store. publix \\u2019 give 5 -\"], [\"publix ' give 5 ( christopher ' donnell / tampa bay times )\"], [\"hesitancy , bureaucracy , inequity , need explain formulas could slow delivery last unprotected group .\"], [\"someone fill 5 would ever need given 1-4 y/o represent 143 deaths. make make sense .\"], [\"icymi : tennessee gop lawmakers push block access vaccines. docs say ' bad idea :\"], [\". \\u2019 give 5 -- grocery chain said explain decision \\u201cat time. \\u201d _times\"], [\"four republican lawmakers ask gov. lee prevent giving covid-19 5\"], [\"case planning take publix ...\"], [\"company reportedly said \\u2019 offer covid-19 group \\u201cat time . \\u201d\"], [\"company reportedly said \\u2019 offer covid-19 group \\u201cat time . \\u201d\"], [\"finally eligible covid-19 two began shots first started going arms .\"], [\"hundreds locations across state offering , including one mall america , 6 .\"], [\"\\\" maternal two doses mrna associated reduced risk hospitalization , including critical illness , among younger 6 . \\\"\"], [\"ron desantis right. ' ' ' infants. _sparkles _maga_cath\"], [\"free country world pushing vaccines young. especially light recent admissions injuries. literally zero risk death covid. sickening\"], [\"good. covidhearings\"], [\"good tips ' appointment 6 covid-19 .\"], [\"6 option parents. questions , talk pediatrician .\"], [\"unitypoint clinic providing six five old. parents guardians use myunitypoint schedule &gt ; call \\u2019 primary care physician \\u2019 office set appointment .\"], [\"company reportedly said \\u2019 offer covid-19 group \\u201cat time . \\u201d\"], [\"\\u201ci encourage parents caregivers 6 5 take , \\\" said dr. janet memark , director cobb douglas public health .\"], [\"following eua moderna pfizer ages 6 four , parents questions vaccines whether child. please see faqs cdc learn benefits covid-19 .\"], [\"mother provides protection fetus post-natally .\"], [\"great pediatric programs many women investigators\\ud83d\\udc90 \\\" maternal 2 doses mrna associated w/\\u2b07\\ufe0frisk hospitalization covid-19 , including critical illness , among younger 6 mos \\\" womeninmedicine\"], [\"hinton , republican , said saddened hear florida \\u2019 pre-order aged 6 up. felt desantis left cold , despite platform parents \\u2019 rights .\"], [\"primary health clinics idaho \\u2019 largest metro area accepting walk-in patients seeking vaccines developed pfizer moderna .\"], [\"dhec says vaccines ages 6 5 given clinics , health departments , providers request them. click article link find site near .\"], [\"angelenos 6 eligible receive covid-19 , protecting families worst virus. decision comes safegaurd - la families finally breathe sigh relief knowing every household member protected .\"], [\"\\ud83c\\udfa5biden says ' planning another : washington ( ap ) \\u2014 president joe biden visited clinic washington tuesday celebrate virtually americans covid-19 authorization vaccines \\u2026\"], [\"' ' discrediting ! ' expert slams fda ' approval covid-19 vaccines 5 saying little evidence needed parents america ' youngest line\"], [\"\\ud83c\\udfa5biden says ' planning another : washington ( ap ) \\u2014 president joe biden visited clinic washington tuesday celebrate virtually americans covid-19 authorization vaccines \\u2026\"], [\"ugh. case \\u2019 childcare center today , days \\u2019 able vaccinated. freaking close. ( technically exposed , given rapidly cases spread past , \\u2019 holding hope remain way. )\"], [\"6 &amp ; older covid-19 contra costa. ' safe , effective &amp ; free way keep safe. info :\"], [\"mean 13-year-old eddie st. louis county ? \\u201ci filled insane amount excitement joy able finally see friends. \\\" covid-19 vaccines safe ! learn :\"], [\"federal regulators approved covid-19 shots 5 last week. parents enthusiastically welcomed news made appointments quickly possible , many others wary .\"], [\"starting week , 18 million additional eligible covid-19 vaccination. covid-19 ? , process ? find\"], [\"npr talks claire hannan , helped navigate rollouts 50 states , challenges involved quickly shots millions .\"], [\"recent study maternal fetal antibody levels supports covid-19 maternal booster following full protect pregnant people , reports .\"], [\"returned u.s. abroad okayed &lt ; 5 years. go 3 first dose ?\"], [\"calling parents ! covid-19 vaccines 5 , anyone fence little ones ? please let know ! \\u2019 love hear \\u2019 .\"], [\"ron desantis right. ' ' ' infants. _thetford _karen _rose _pv\"], [\"' zero evidence benefit receiving shots. developed country injecting this. european countries even banned anyone 40yrs old. parents , defend .\"], [\"u.s. states florida pre-ordered covid19vaccine doses 5. federal government deadline june 14 states pre-order doses. :\"], [\"\\\" time politics. ' parents able everything keep safe , \\\" said president biden .\"], [\"6 4 eligible covid-19 vaccine. , call glenwood medical center schedule 320.634.5157 .\"], [\"\\ud83d\\udc4d\\ud83d\\udc4d\\ud83d\\udc4d publix \\u2019 give 5\"], [\"covid-19 vaccines approved 6 - 4 yrs local pediatricians , health centers &amp ; marin county public health ( mcph ) preparing. appointments opening week. find spots @ marincounty\"], [\"parents give mixed reaction 5\"], [\"parents : questions covid-19 5 ? rush experts answers .\"], [\"fda cdc unanimously reported benefits outweigh risk comes vaccinating , parents seem divided .\"], [\"\\u201cgovernor , covid-19 emergency long passed tennessee . \\u201d\"], [\"good decision. following data. publix \\u2019 give 5\"], [\"yeeeeessssss ! expanded eligibility vaccines ages 6 4 ! \\u2019 little excited starting tomorrow. info \\u27a1\"], [\"5 ? 18 % right away. 38 % wait see 11 % required 27 % definitely kff covid-19 monitor ( april 13-26 , 2022 ) president vp\"], [\"\\u2019 batshit crazy give six\"], [\"newly eligible covid-19 , want hear you. feeling news ? trouble finding shots hampshire , easy process ? let us know voices .org .\"], [\"tenn. representative asks gov. bill lee halt distribution\"], [\"covid-19 5 6 .\"], [\"ages 6 older green light covid-19 vaccine. ' time shots arms .\"], [\"fda cdc unanimously reported benefits outweigh risk comes vaccinating , parents seem divided .\"], [\"family part ground floor publix. great uncle personal accountant henry jenkins publix started \\u2026\"], [\"courage \\ud83d\\udcaa\"], [\"publix \\u2019 give 5\"], [\"clowns dangerous. family recovering last days 5 first positive case house. thankfully \\u2019 boosted. heartless group human beings.protect republicans \\u2019 .\"], [\"experts look side effects expect six older .\"], [\"fda cdc unanimously reported benefits outweigh risk comes vaccinating , parents seem divided .\"], [\"q&amp ; : ucr expert dr. david lo shares thoughts vaccines children. read \\u2b07\\ufe0f ucriverside\"], [\"hard decision ... say \\u203c\\ufe0f parents decide covid-19\"], [\"covid-19 5 6 .\"], [\"cdc receive smaller doses covid-19 , based age. like adult , ' helps keep covid-19 vaccines safe fda- authorized ages 6 older. :\"], [\"starting today : begun administering pfizer &amp ; moderna vaccines 6 mos - 4 yrs main clinic , 1001 e. 9th street , building b. schedule appointment , call 775-328-2427. :\"], [\", *you* cried booked \\u2019 appointment monday\"], [\"following fda \\u2019 approval covid-19 6 , four republican state lawmakers urging gov. bill lee tennessee department health distribute .\"], [\"seem like cool caring group people .\"], [\"covid-19 six five old. listen story jacqueline froelich :\"], [\"agriculture commissioner nikkifried decrying gov. rondesantis \\u2019 handling covid-19 , time lambasting recent decision pre-order vaccinations florida .\"], [\"beginning june 28 , ages six four covid-19 ingham county health department .\"], [\"agriculture commissioner nikkifried decrying gov. rondesantis \\u2019 handling covid-19 , time lambasting recent decision pre-order vaccinations florida .\"], [\"agriculture commissioner nikkifried decrying gov. rondesantis \\u2019 handling covid-19 , time lambasting recent decision pre-order vaccinations florida .\"], [\"covid-19 appointments june 23 &amp ; 24 national jewish health ages 5 11. visit website learn make appointment :\"], [\"agriculture commissioner nikkifried decrying gov. rondesantis \\u2019 handling covid-19 , time lambasting recent decision pre-order vaccinations florida .\"], [\"6 eligible receive covid-19 , san mateo county officials encouraging guardians look toward \\u2019 pediatrician treatment .\"], [\"live updates : n.y.c. begins vaccinating , milestone\"], [\"way : \\u201cmajor grocery chain &amp ; pharmacy retailer publix offer vaccinations nation \\u2019 youngest 1,200 us stores . \\u201d\"], [\"letter gov. bill lee tennessee department health , four republican lawmakers ask halt distribution 6 .\"], [\"iowa health experts encourage parents 6 covid-19\"], [\"18 adults became eligible covid19vaccines , 6 4 u.s. : cdc\"], [\"noah champ. got first dose pfizer 19 today. \\u2019 even cry .\"], [\"based florida company , drawing fucking line ! started , follow .\"], [\"publix offering covid-19 5\"], [\"_fda authorized emergency use two covid-19 vaccines 6 4 old. dr. priya soni discusses parents caregivers need know. learn :\"], [\"\\u2019 mercy holding covid-19 clinic five\"], [\"\\u2019 thinking vaccinating , know vaccinesideffects suffering long 20 months. *trial participants* still suffering. drug makers help gets sick .\"], [\"walk-ins welcome : starting thursday , three occhd clinic locations offer covid-19 doses 6 older. ne clinic , 2700 ne 63rd ( 405 ) 419-4200. southern oaks clinic , 6728 hudson ave. , 405-419-4119. occhd \\u2019 w. clinic , 4330 nw 10th st 405-419-4150 .\"], [\"heading tomorrow 2nd booster vaccination. continue wear n95\\ud83d\\ude37 even , ' easy &amp ; greatly reduces risk. protect &amp ; others please. even mild cases long term effects , *especially children* vax + \\ud83d\\ude37\"], [\"time add younger team protected covid-19 vaccine. ask ' doctor questions , ' preparing .\"], [\"know better \\ud83e\\udd28\"], [\"everyone ages 5 eligible covid-19 vaccines community-based clinic regency mall ! walk-ins welcome , ages 5-17 must accompanied guardian. information visit\"], [\"well , except parents 82 % :\"], [\"5 really need covid-19 vaccine? ? ?\"], [\"\\u201ci \\u2019 vaccines moment since \\u2019 , \\u2019 rather longer studies effects , \\u201d\"], [\"knoxville , tenn. ( wvlt ) - tennessee representative jason zachary joined coalition gop housemembers asking gov. bill lee halt covid-19 distribution , promotion recommendation five .\"], [\"little ones babies vaccines\"], [\"time rethink ban cuba , ' ? \\\" long declared u.s. national security threat , vicente v\\u00e9rez cuban chemist loved kids. \\\" cuba became pioneer covid-19 vaccines\"], [\"brave \\u2019 hospital patients among first ages 6 5 receive covid-19 louisiana , chnola ! schedule \\u2019 , go call nurse hotline 504.386.3125 .\"], [\"cuba became pioneer covid-19 vaccines\"], [\"covid-19 vaccines five tippecanoe county starting thursday\"], [\"tennessee house gop press gov. lee block state distribution youngest\"], [\"wait ! brhd begin offering free covid-19 vaccines friday , june 24 , appointment , ages 6 5 ! learn upcoming clinics , make appointment , read faqs special update :\"], [\"must climate change sad ( sudden adult death ) definitely jab. anyone thinks killing people banned social media forever .\"], [\"clinics ages 6 scheduled. contact health care provider find state-run walk-in clinic nearest arrives vermont , clinics scheduled .\"], [\"\\u201cif group strong level reinforce protection household , daycare facilities classrooms , thereby helping attendance also workplace , \\u201d traxler said .\"], [\"younger valley opportunity .\"], [\"gets 5 unfit .\"], [\"learn importance vaccinating 5 covid-19 ryan hassan , m.d. , m.p.h. visit :\"], [\"father two boys , know \\u2019 huge relief many parents 5 dallas county. encourage parents keep safe , talk pediatrician .\"], [\"exclusive : whistleblower says 120,000 troops still unvaccinated , army may move june 30 deadline far future \\u2022 ' health defense\"], [\"shots little here. hardest part \\u2014 wired\"], [\"six able covid-19 health district community events across northern nevada .\"], [\"6/24 west chester library offer pfizer covid-19 5. primary doses &amp ; boosters also available. walk-ins welcome ! information visit\"], [\"four republican lawmakers ask gov. lee prevent giving covid-19 5 - four republican lawmakers signed letter asking governor bill lee go federal recommendations give covid-19 vaccines minors .\"], [\"covid-19 update : 5 eligible pfizer moderna vaccine. learn safe effective :\"], [\"south bay parents bring clinics\"], [\"southern nevada health district begin offering covid-19 vaccines 6 5 .\"], [\"llp 225 : covid-19 approved lunchlearnpod somedocs podsincolor\"], [\"\\ud83d\\udce3 join 6/29 facebook live event addressing key questions infants. hear ' dr. peter marks , \\u2019 dr. sara oliver &amp ; \\u2019 / \\u2019 . rsvp :\"], [\"5 , good luck finding st. joseph county .\"], [\"6 5 covid-19 shots ! see doctors around state saying. talk \\u2019 health care provider find location near make appointment :\"], [\"contact ' healthcare provider schedule routine vaccines , including covid-19 , visit find near .\"], [\"\\\" really ' want folks lose sight say ' ' , ' many \\u2026 fatal infection. \\\" joe kurland , infectious-disease specialist , shares parents :\"], [\"5 access covid-19 vaccines. experts including , l.a. care deputy chief medical officer , say pfizer/biontech moderna covid-19 vaccines offer important protection. find article .\"], [\"vaccinations five here. jim adams , md , chief medical officer , tells recommends youngest members families. covidvaccine\"], [\"wednesday announced soon receive initial doses children. see information .\"], [\"publix \\u2019 give 5 -- news , social impact &124 ; perfect enemy : vaccines\"], [\"dr understood large group parents fully \\u201cother \\u201d diseases understand \\u201cthe science \\u201d : a-most already c19 b- trial data include prev. infection\"], [\"\\u2019 genius ( doctor ) read jama \\u2019 study males adversely affected \\u201cvaccine . \\u201d\"], [\"statement u.s. secretary education miguel cardona covid-19 eligibility ages 5 younger\"], [\"four republican lawmakers ask gov. lee prevent giving covid-19 5\"], [\"covid-19 6 , many parents wondering signed shot. chief health officer explains .\"], [\"u.s. country world six , president biden exclaimed ' ' country world right ' tuesday : (\"], [\"wch offering walk-in covid-19 clinic 6/24. initial series booster vaccines available. pediatric vaccines boosters also qualify . please use main entrance check-in welcome center desk .\"], [\"six able covid-19 health district community events across northern nevada .\"], [\". providing shots ages 6 4 beginning friday .\"], [\"whoever came idea invite reporters watch doctors hold little got deserves props .\"], [\"' see justification giving jabs babies 1 ) barely affected 2 ) ' ' immunity appears last matter weeks\"], [\"excellent ! need protected great news .\"], [\"ages 6 5 million doses shipped across country. question many parents ?\"], [\"covid-19 trials vaccines conducted omicron predominance different incidence levels , efficacy estimates moderna pfizer vaccines cannot directly compared .\"], [\"\\u2019 5 patients tested positive week \\u2019 wednesday. patients 2 5yrs. summer continue keep babies safe healthy. remember 5 \\u2019 yet. cases start raising summer .\"], [\"parents eager opportunity protect potentially fatal illness , wait continues .\"], [\"23,500 doses toddlers due arrive iowa week federal regulators approved use , according iowa department public health .\"], [\"shots little here. hardest part wired science : hesitancy , bureaucracy , inequity , need explain formulas could slow delivery last unprotected group .\"], [\"might heard cdc recommends covid-19 six old. office appointments next week pfizer vaccine. ' share page appointments open. :\"], [\"5 eligible vaccine. learn safe &amp ; effective : vaccines 5 yet. recommend visiting locations near .\"], [\"tennessee house gop press gov. lee block state distribution youngest -- news , social impact &124 ; perfect enemy : vaccines\"], [\"primary place 5 pediatrician ' office clinic. 5 covid-19 vaccines sedgwick county\"], [\"post : \\\" shots little here. hardest part \\\"\"], [\"franklin county public health holding clinics 6\"], [\". offering covid-19 northern nevada 6 older. information make appointment \\u2b07\\ufe0f\\u2b07\\ufe0f\"], [\"covid-19 6 older. stop office 225 w. waco dr 8 : 30am-4 : 30pm , monday-friday receive vaccine. walk-ins welcome .\"], [\"\\\" time politics. ' parents able everything keep safe , \\\" said president biden .\"], [\"officials vanderburgh county health department say ' planning hold covid-19 clinic 6 .\"], [\"shots little here. hardest part\"], [\"county received first supply moderna doses tuesday night providing appointment .\"], [\"god ' sake ... f ' ng hell wrong stupid republican idiots? ? ? tennessee house gop press gov. lee block state distribution youngest\"], [\"5 eligible covid-19 vaccines. tricare pediatric clinic offer coming days. watch fb page info. continue offer vaccines &amp ; boosters everyone else. call 224-610-3899 today !\"], [\"5 walgreens ? ' know\"], [\"6 older eligible covid-19 vaccines. metro health offer covid-19 vaccines starting today pop-up clinics. find nearest clinic visit us online\"], [\"' moment many us waiting ! covid-19 vaccines authorized 6 older. talk doctor covid-19 .\"], [\"week , first covid-19 shots going arms youngest americans except florida state opted order vaccines ages six five old. newsbreaklocal\"], [\"\\\" national efforts must combined efforts expand healthequity reduce impact systemic racism. \\\" read &amp ; chanya holness ' op-ed vaccines , equity , &amp ; kids. cc :\"], [\"6 : 6 5 eligible covid-19 , southern nevada health district offering shots 8nn\"], [\"u.s. delivers 2.7 mln doses five administration sites number delivered canada : zero .\"], [\"starting wednesday , immunizations mall 6 .\"], [\"case ' wondering stand vaccines youngest , told _gazette. 4yo appointment friday !\"], [\"5 walgreens ? ' know\"], [\"yes. vaccines safe fda-authorized ages 6 older. covid-19 vaccines undergoing intense safety monitoring u.s. history. :\"], [\"poll : days federal regulators gave green light ages 6m-4yrs eligible covid-19 , gop lawmakers asking gov. lee halt distribution youngsters. ?\"], [\"wait supply , please complete form request appointment. contact child. form :\"], [\"manitobans asked opinion covid-19 plans .\"], [\"cdc recommends six old. learn safe effective :\"], [\"colorado received vaccines 5. according vanessa bernal cdphe , shots begin administered early week .\"], [\"vaccines ages 5 older time , cdc food drug administration spent considerable time effort evaluating effectiveness safety vaccines \\u2026\"], [\"biden enthuses : ' ' country world ' giving ' need vax. ' \\ud83d\\udcb0 making scheme. animals died vax. would foreign substance injected .\"], [\"cdc approved 6 , grace lee , pediatric infectious diseases physician , answers frequently asked questions vaccines .\"], [\"offering appointments ages 6 4 pfizer covid-19 vaccine. \\ud83d\\udcc5 make appointment : \\u2753 answers questions :\"], [\"willing five-year-old head examined. data far final heart issues long-term complications given anyone , much less .\"], [\"majority pediatric hospitalizations 0-4 ( see ) . let ' protect covid-19 ! vaccinessavelives\"], [\"last weekend , cdc gave official recommendation ages 6 older covid-19. vaccines ages 6mo+ jcph clinic starting today. info vaccines , visit :\"], [\"injecting bad parenting .. \\u2019 simply unfit mom dad\"], [\"\\\" impulse make lot people . \\\"\"], [\"soon missouri younger 5 old. rollout pfizer moderna vaccines underway. co-chair mu health care columbia dr .\"], [\"5 arrives michigan week ; know\"], [\": cdc recommends covid-19 vaccines 6 age. learn schedule appointment calling ' primary care provider visiting\"], [\"log twitter \\\" mental break \\\" find tn state legislature trying block literal landfill fire murfreesboro. great day middle tennesseans .\"], [\"overheard conversation ( alternative ) doctors office. lady said knows vaccines \\u2019 work , \\u2019 twice bad reaction shots never vaccinated. congrats public health creating bigger group anti-vaxxers !\"], [\": republican members tennessee house calling gov. bill lee pause distribution covid-19 vaccines among , toddlers , preschoolers .\"], [\"pfizer moderna covid-19 5 available. contact pediatrician today make plan. readily accessible vaccines groups pharmacies pop-up clinics \\u2014 updates come .\"], [\"harlingen host covid-19 clinic\"], [\"uofn anti-mandatory pro wide availability mabs , paxlovid &amp ; evusheld high-risk kids. bad approved treatment 12s remdesivir hospitalized kids. vaccines approved 6 &amp ; up.\\ud83e\\uddf5\"], [\"appointment\"], [\"younger 5 ? would willing share thoughts news story ? contact soraya keiser skeiser .com .\"], [\"questions covid-19 kid( ) ? please callyourpediatrician ! ! !\"], [\"dr. tim bray , director , joins ' ask expert discuss rollout covid-19 vaccines children. &124 ;\"], [\"\\u201cwhat lack care society shown 5 parents microcosm lack care always ? \\u201d article , close ...\"], [\"wondering best ? read consider :\"], [\"weekly round-up : \\ud83d\\udfe8chicago ' current cdc community level medium \\ud83d\\udc89vaccine 5 approved \\ud83c\\udfe5availability vaccines \\ud83d\\ude37masks still strongly recommended\"], [\"happening : walk-ins welcome 3 &amp ; vaccines ( currently 2 dose _tx ) . toddlers 3 need book appointment nurse shots. \\u27a1\\ufe0f\"], [\"' offering pfizer moderna children. walk-in vaccines ages 3+ 807 w. layton ave. 6 2 , appointments required :\"], [\"terrible legislature. tn gop conspiracy nuts needlessly keeping population risk. \\\" house gop lee : stop state health officials giving ' \\\"\"], [\"house gop lee : stop state health officials giving ' -- news , social impact &124 ; perfect enemy : vaccines\"], [\"ages six older receive free houston health department sites : learn vaccinations immunizations : find nearby site\"], [\". offer covid-19 clinics ages 6 four years. please see dates , times , locations , including schools ; registration information .\"], [\"ages 6 4 eligible receive covid-19 ! visit find vaccinations near you. pathwaytothefuture getvaccinated\"], [\"' scheduled \\ud83e\\udd73 excitement barely absorbing immense frustration ' taken long , also believe ' actually care country \\ud83e\\udd37\\u200d\\u2640\\ufe0f\"], [\"five-years-old covid19. alex li , md , pediatrician deputy chief medical officer , spoke discuss safety efficacy children. millergeerpr\"], [\"five eligible receive vaccine. appointments patients 6 made california \\u2019 online appointment-booking platform , read \\ud83d\\udc47\"], [\"\\u201ci ' thankful. ' thankful science. \\u201d parents rushed make appointments first day covid-19 doses 5 .\"], [\"letter governor : tn gop reps want limit department health ' involvement vaccines :\"], [\"biden enthuses : \\u2018we \\u2019 country world \\u2019 giving -\"], [\"excellent explanation help parents decide \\u2026 &amp ; covid-19 apple podcasts\"], [\"tennessee house gop press gov. bill lee block distribution youngest\"], [\"parents caregivers lining newly approved covid-19 children. parents taking wait-and-see approach planning all. ncga ncnews nchealth\"], [\"let \\u2019 florida \\u2019 covid-19 &124 ; editorial -- news , social impact &124 ; perfect enemy : vaccines\"], [\"join call today 2 p.m. edt talking points healthcareworkers discussing parents 6 5 , plus online resources clinicians .\"], [\"fearless leader &amp ; champion dr. johnson interviewed newly approved vaccinations 5. read : covid19vaccine\"], [\": ( knoxville ) anti-vax supermajority wants block distributing kids. \\ud83d\\ude37 government overreach \\u2705 anti-science \\u2705 anti-parental choice \\u2705 pro-life \\u274c\"], [\": ( knoxville ) anti-vax supermajority wants block distributing kids. \\ud83d\\ude37 government overreach \\u2705 anti-science \\u2705 anti-parental choice \\u2705 pro-life \\u274c\"], [\"light shocking development , immediately halt cv19 recommendation children. everyone , really. 1/\"], [\"latest recommendations moderna covid-19 ages 6-17 tomorrow , june 23 , advisory committee immunization practices. join call sccmsome\"], [\"looked replies tweet mine yesterday regarding vaccine. ' amazing number trolls &amp ; anti-vaxxers feel need spew anti-science , bible verses &amp ; threat. statistic need know. 70 dead az .\"], [\"summit county public health says currently pfizer , three-shot series .\"], [\"folks , \\u2019 covid-19 vaccine. \\u2019 enough research long term studies effects. \\u2019 me. sincerely , mom vaccinates\"], [\"5 begun receiving doses covid-19 hospitals , pediatricians health care centers , merely days receiving approval _fda .\"], [\"st. charles county department public health begin offering covid-19 vaccinations ages 6 older june 27. appointments required vaccinations. schedule online call 636-949-1899 .\"], [\"creepy joe ' borders , meeting oil companies anywhere else needs sure show clinic fjb ... fjb .... fjb\"], [\"st. louis county department public health preparing offer covid-19 vaccinations six old. dph relies upon state missouri supply covid-19 , including doses aged six 5 .\"], [\"tennessee house republican leadership wednesday asked gov. bill lee block department health \\\" distributing , promoting recommending \\\" covid-19 5 .\"], [\"tennessee house republican leadership wednesday asked gov. bill lee block department health \\\" distributing , promoting recommending \\\" covid-19 5 .\"], [\"tennessee house republican leadership wednesday asked gov. bill lee block department health \\\" distributing , promoting recommending \\\" covid-19 5 .\"], [\"tennessee house republican leadership wednesday asked gov. bill lee block department health \\\" distributing , promoting recommending \\\" covid-19 5 .\"], [\"tennessee house gop press gov. bill lee block distribution youngest\"], [\"joe biden complete mess. bidenadministration bidengaffes centersfordiseasecontrolandpreventioncdc joebiden usnews washingtondc\"], [\"tennessee house gop press gov. bill lee block distribution youngest\"], [\"covid-19 vaccines 6 months+ help keep whole family safer serious illness hospitalization. give peace mind &amp ; help loved ones getvaccinated. visit call 833-422-4255 find near .\"], [\"icymi : vaccines ages 6 up. able ages 6 safe effective covid-19 vaccines significant milestone brings even hope protects littlest michiganders .\"], [\"tennessee house gop press gov. bill lee block distribution youngest .\"], [\"tennessee house gop press gov. bill lee block distribution youngest science/healthcare \\u2019 mix well tn. gop ! guns ok vaccinations .\"], [\"' sick tired politicians trying make medical decisions. tennessee house gop press gov. bill lee block distribution youngest\"], [\"tennessee house republican leaders pressing gov. bill lee block department health promotion distribution 5 .\"], [\"\\u2019 5 covid-19 shots johnson county\"], [\"dr. sinda althoen , spoke discuss effectiveness safety covid-19 5. stjosephorange millergeerpr\"], [\"parents looking 6 4 covid-19 , vanderbilt ' monroe carell jr. ' hospital holding event week .\"], [\"mother shares emotional experience chicagonews breakingnews news\"], [\"based known weighing benefits risks imho consenting jab tried endangerment .\"], [\"doctors discuss safety effectiveness covid-19 shots five. upcoming saturday \\u2019 mercy kansas , six four go clinic\"], [\"much ignorance , \\u2019 polite reaction like desantis trying control constituents \\u2019 public health choices. house gop lee : stop state health officials giving '\"], [\"tucson residents looking place 5 try immunizeunder5\"], [\"tennessee house gop press gov. bill lee block distribution youngest worst timeline ever\"], [\"got call , take 9am tomorrow \\ud83d\\ude4c\\ud83d\\ude2d\\ud83d\\udc83\\ud83d\\udd7a\\ud83c\\udffb\\ud83d\\ude2d\\ud83d\\ude4c\"], [\"desantis : biden admin lying policy - slay news\"], [\"tennessee \\u2019 gop politicians pressuring governor stop state offering covid-19 5. would stunning \\u2019 incredibly predictable .\"], [\"group insists ' healthcare parents school governing bodies implement mask mandates. seems hypocritical legislate parents ' decisions .\"], [\"tennessee house gop press gov. bill lee block distribution youngest\"], [\"today : 6 able moderna pfizer vaccines .\"], [\"parents , vaccinating covid-19 removes one \\u2013 many - worries comes kids. learn facts : yourchoicetheirhealth\"], [\"tennessee house gop press gov. bill lee block state distributing youngest\"], [\"several central ohio health departments hosting covid-19 clinics 6 receive .\"], [\"tennessee house gop press gov. bill lee block distribution youngest\"], [\"' heard ' difficult finding appt &lt ; 5 covid-19 vaccine. page comprehensive list vaxx locations dates , city. ( scroll see ! ) \\ud83d\\udc47\\ud83c\\udffe\\ud83d\\udc89\"], [\"pfizer covid-19 impacts semen : study \\u2019 much \\u2019 yet know regarding , want start jabbing babies ? ? ? ?\"], [\"tennessee house gop press gov. bill lee block distribution youngest\"], [\"tennessee house gop press gov. bill lee block distribution youngest\"], [\"thursday ' immunization clinic friendship baptist church seaside people 5 &amp ; older. younger yet .\"], [\"tennessee house gop press gov. bill lee block state distributing youngest\"], [\"tennessee house gop press gov. bill lee block state distributing youngest\"], [\"tennessee house gop press gov. bill lee block state distributing youngest\"], [\"mdhhs announces six eligible .\"], [\"ron desantis right. ' ' ' infants. _foramerica _87harvey\"], [\"dr. norma perez spoke recent approval 5 covid-19 vaccine. altamed\"], [\"health providers hopeful rates increase wisconsin , ages 6 5 eligible covid-19 .\"], [\"u.s. food &amp ; drug administration authorized use pfizer everyone six older moderna six five .\"], [\"province seeks feedback manitobans covid-19 plans children. read full story\"], [\"say mrna \\\" ' \\\" dontbetheexperiment sure hell let experiment ! ! protect future ! pfizer covid-19 impacts semen : study\"], [\"cdc recommending covid-19 vaccines 6 amid \\\" troubling surge \\u2019 hospitalizations omicron wave \\\" . dr. jeff barke joined kusi discuss latest recommendation .\"], [\"ron desantis right. ' ' ' infants. _ _slatter\"], [\"parents encouraged talk doctors covid-19 vaccines 6 up. visit link list locations providing .\"], [\"record high gas , groceries , rent , cost living , record inflation , \\u2019 find formula , crashing stock market , reckless pull afghanistan also leaving americans , sending trillions dollars overseas instead americans , hey , 6 .\"], [\". talks claire hannan , helped navigate rollouts 50 states , challenges involved quickly shots millions .\"], [\"got 2 yr am. took 30 mins appt. thanks utpol utleg childrenshealth\"], [\"moderna requires 2 shots pfizer 3 .\"], [\"moderna requires 2 shots pfizer 3 .\"], [\"several central ohio health departments hosting covid-19 clinics 6 receive .\"], [\"june 18 , cdc recommends 6 older pfizer moderna covid-19 vaccine. fcph offer clinics ages 6 starting week\"], [\"ron desantis right. ' ' ' .\"], [\"u. missouri specialist says covid-19 shots safe effective &124 ; columbia missourian &124 ;\"], [\"took &lt ; 20 minutes attacked anti-vax community vaccinating deadly virus. board certified pediatrician actually watched die suffer covid. thankful ! tweetiatrician\"], [\"go doctor eczema shots ready group may cry happy tears. finally able vaccinated. finally\"], [\"' wisconsin milwaukee set begin vaccinating youngest monday. bellin green bay waiting shipments .\"], [\"vacc problem vaccs ? know yall aint completely unvaccinated ! \\ud83d\\ude33\\ud83d\\ude33\\ud83d\\ude33\"], [\"6 older eligible receive covid-19 ! visit find sites near you. jesdcares getvaccinated getboosted\"], [\"\\ud83d\\udea8today day ! vaccines finally ages 6 5 ! vaccines always best way protect family. callyourpediatrician learn schedule today .\"], [\"ron desantis right. ' ' ' infants. _tahardy _al\"], [\"infected covid-19 , teens : \\u2022 really sick \\u2022 short- long-term health problems \\u2022 spread covid-19 loved ones community help protect teens covid-19 .\"], [\"home. city ' home program offering vaccines 6 age. schedule appointment learn vaccines :\"], [\"finally ! thank always protecting ! anywhere near charleston sc , want , practice incredible vaccinating 6mo moderna. tweetiatrician vaccineswork\"], [\"staying healthy pregnancy important health baby. encourages expecting mothers stay date covid-19 vaccines , including boosters. learn maternalhealth orangecounty\"], [\"claim \\\" safe effective \\\" without actually knowing serious malpractice. idea risks , know fact risks incredibly tiny. insanity .\"], [\"kiddo ' first scheduled friday morning. huge sigh relief is. ' wait finally see world. fair first 2 life .\"], [\"ordered 32,000 doses covid-19 vaccines 6 old. two batches expected arrive week .\"], [\"this. \\u2019 many friends parents yet \\u2019 sure sick thoughts care understand feel , \\u2019 worth read\"], [\"ask expert : msu doctor answers questions covid-19 \\u27a1\\ufe0f\"], [\"happy wednesday \\u2019 ! week board certified pediatrician , dr. nina ford johnson joins us answer questions covid-19 know it. \\ud83c\\udfa7 tbginsession podsincolor\"], [\"exciting long awaited covid-19 youngest approved. yet arrive office distribution. know many anxious vaccinated. let know soon offer one clinics .\"], [\"covid-19 update : everyone 6 older able covid-19. help protect severe disease , hospitalization , death covid-19. learn :\"], [\"covid-19 became 5. oaklandca alamedacounty\"], [\"' got approved saturday afternoon ages 6 - 5 , clinics ' offering vaccines anyone 3 ( 18m pfizer cvs minute clinics ) . excited impatient .\"], [\". says due unexpected shipping delays currently access pfizer 5-years-old. moderna locations. wccb healthnews health news nc clt\"], [\"upmc \\u2019 community pediatrics offering covid-19 vaccines 6-months older. please call office schedule appointment. learn .\"], [\"@ b u $ e ht\"], [\"covid-19 5 : faqs parents infectious disease expert shares information covid-19\"], [\"\\\" ' waiting long time access vaccine. every group , 6 , country eligible protection covid-19 , \\\" said us surgeon general dr. vivek murthy - read ...\"], [\"wisconsin far ordered 48,500 covid-19 doses 6 5 .\"], [\"yesterday , joined leadership requesting direct halt distribution , promotion recommendation 5. letter sent governor \\ud83d\\udc47\\ud83c\\udffb .\"], [\"speaks grace lee , associate chief medical officer pediatric infectious diseases physician , answering common questions parents vaccines .\"], [\"starting today , 6 5-years-old clinics pontiac southfield. oaklandcounty , learn :\"], [\"answering questions vaccinating little ones :\"], [\"dr. rauner : vax 6 mo.s-4 yrs. = preventable death ; vax hesitancy affecting vax rates ; best sources follow info going forward \\u2013 dr. katelyn jetelina , dr. daniel griffin .\"], [\"rant bit pharmacies denying eligible 3 ? babies stuck homes entire lives. vaccinateourkids\"], [\"offering free vaccines 6 older. visit information hours locations ( note : ' recommended call site ahead time confirm availability ) .\"], [\"22 million teens ages 5-17 fully covid-19. , 5 eligible ! starting today , vaccines everyone ages 6 months+. schedule appointment : learn :\"], [\"families ? surveyed parents 5 april &amp ; found : \\u2014 18 % eager asap \\u2014 38 % plan wait &amp ; see \\u2014 11 % seek required \\u2014 27 % \\u2019 plan immunize disease\"], [\"none \\u201cvaccine \\u201d \\u2014 joe jill \\u2019 care \\u2019 .\"], [\"\\u201cfor parents say , \\u2018i want protect potential problems future , \\u2019 safest effective way maximize protection , \\u201d said michael chang , md , .\"], [\"heard wake 5 : 27 morning started coughing. \\u2019 sign \\u2019 up. \\u2019 one lingering symptoms. got nearly 5 ago day , later afternoon \\u2019 receive first dose. parenting day \\u2026\"], [\"let \\u2019 florida \\u2019 covid-19 &124 ; editorial - tampa bay times\"], [\"5 start covid-19 vaccines guidelines. &124 ;\"], [\"thumbs dose one ! charlie got celebrate icecream cone. family celebrate day ? ( ps. questions vaccines , answers : vaxyourfam\"], [\"ron desantis right. ' ' ' infants. _t4\"], [\"republicans \\u2019 care 1 million americans dying one person dies , instantly blame ? 200 million americans , \\u2019 pretty noticeable vaccines actually safe like suggest .\"], [\"safe effective covid-19 opening big , world little ones ages 6 up. learn move forward protect family\"], [\"ron desantis right. ' ' ' infants. _mc49\"], [\"\\\" time politics. ' parents able everything keep safe , \\\" said president biden .\"], [\"u.s. begins vaccinating\"], [\"beginning today , 5 mall america. plan take tot jab soon ? let ' talk ! better yet , email bethel ' finest soraya keiser skeiser .com -- tell fred sent !\"], [\"1990s , ~20 5 died rotavirus annually us. , 77 % rotavirus. comparison , 442 4 died us , 30 % parents said group .\"], [\"covid-19 vaccines 6 months+ help keep whole family safer serious illness &amp ; hospitalization. give peace mind &amp ; help loved ones getvaccinated. visit call 833-422-4255 find near .\"], [\"california 5 begin vaccines - los angeles times \\u2066 _2e\\u2069 \\u2066 \\u2069\"], [\"\\ud83d\\udce2 expanding covid-19 eligibility under-5 following federal authorization. austin parents , talk pediatrician attend shots tots clinic , linked :\"], [\"santa fe parents visiting city week mixed feelings shots. many eager ones inoculated virus , others remained wary .\"], [\"summer season , best way keep safe healthy soak sun covid-19. ages 5 eligible ! learn :\"], [\"youngest americans start covid-19 vaccines tuesday. ' every know. usa today healthcare\"], [\"ron desantis right. ' ' ' infants. _ _churchill_\"], [\"take \\ud83c\\uddfa\\ud83c\\uddf8the killing people causing heart inflammation\\ud83c\\uddfa\\ud83c\\uddf8i \\u2019 twice without ; second time milder mildest cold\\ud83c\\uddfa\\ud83c\\uddf8the 1st time nowhere near bad 5 flu attacks past\\ud83c\\uddfa\\ud83c\\uddf8\"], [\"even though patient ( 8yo , fully ) already recovered fever , still hospitalized beijing. point gotta ask , \\u2019 point zero policy hundreds cases shut capital city ?\"], [\"cdc recommends 6 older approving pfizer moderna vaccines saturday .\"], [\"ron desantis right. ' ' ' infants. _fjc _1984 _\"], [\"llp 225 : covid-19 approved lunchlearnpod podsincolor somedocs\"], [\"\\ud83d\\udce2kids 6 5 covid-19 shots ! make plan : talk \\u2019 doctor ask questions/get vaccinated. also search locations find locations map : mdh kidsdeserveavaccine\"], [\"health departments west virginia , ohio kentucky yet able administer covid-19 vaccines 5 , although federal government said parents able within next weeks .\"], [\"hcps : attend today \\u2019 coca call 2 \\u2013 3 p.m. et : recommendations pfizer-biontech moderna primary series 6 5 old. learn :\"], [\"missouri department health senior services adopted cdc ' recommendation 5 receive covid-19 vaccines thursday .\"], [\"franklin county public health holding covid-19 clinics week. ages eligible receive , including boosters .\"], [\"reminder us frantically trying schedule vaccines 5 - government website friend , local pharmacies updating group respective ( pfizer/moderna ) availability receive stock\"], [\"breakingnews 6 older eligible covid-19 vaccines .\"], [\"cnn : vaccines 5yo available. ' dr. answers questions safety , efficacy , importance vaccinating group .\"], [\"ron desantis right. ' ' ' infants. _back _seth _co _usmaga_fl _luney\"], [\"guess whose finally ? hottoddlersummer coming !\"], [\"chicago folks looking appointments booked newly eligible 6 5 , visit site anyone eligible vaccines , share others still need vaccines boosters. getvaccinated\"], [\"icymi : utah 6 -- see one got son even earlier utpol\"], [\"must watch parents vaccinated. remember providers \\u201c compelled \\u201d comply mandates/gov cdc/nih/ama recommendations employer. independent physicians/pa/nps \\u201cindependent thinkers \\u201d vs group thinkers .\"], [\"3.5 1 got first vaccine. \\ud83c\\udf89 \\ud83c\\udf89 \\ud83c\\udf89 \\ud83c\\udf89 \\ud83c\\udf89 \\ud83c\\udf89 \\ud83c\\udf89 \\ud83c\\udf89 \\ud83c\\udf89 \\ud83c\\udf89 \\ud83c\\udf89 \\ud83c\\udf89\"], [\"latest cdc recommendation , 6 5 eligible receive covid-19 vaccine. learn , , call 832-393-4220 .\"], [\"lawrence-douglas county public health announced dates times 15 upcoming covid-19 clinics ages 6 4 .\"], [\"vaccines youngest coloradans here. answers questions .\"], [\"following decision federal health officials authorize 6 receive covid-19 vaccines , californians able book appointments tiniest charges .\"], [\"5 begins : ' shots california\"], [\"covid-19 doses 5 begun arriving wisconsin. ' ' : _mathew\"], [\"gotten first shot. waiting long feel numb. dress event season .\"], [\"6 older eligible covid-19 .\"], [\"rep. brenda lawrence ( d-mi-14 ) housedemocrat uscongress : \\u201cthis huge news ! youngest , 6 5 . \\u201d\"], [\"nothing brag ! ' vaxxed early , five boosters reach puberty ! biden enthuses : ' ' country world ' giving\"], [\"cdc recently approved vaccinations 6 up. segment health director talks exciting news , questions ' heard covid-19 .\"], [\"feel like pending doom \\ud83e\\udd14 biden enthuses : ' ' country world ' giving\"], [\"minuteclinic vaccinating 18 cdc ' guidelines. schedule safe effective covid-19 :\"], [\"scheduled appointment , listen up. ' yet gotten pfizer due shipping delay , moderna administering today .\"], [\"cases littlest begin shots ; state rolls covid-19 ages 5 younger\"], [\"people\"], [\"good news keeping ' cute schools\"], [\"country giving shots little ...\"], [\"ages 6 older receive covid-19 vaccine. point , offering moderna group. please visit listing appointment walk-in clinics .\"], [\"bad. key points : 1. make sure date vaccines 2. polio causes fever , fatigue , headache , &amp ; nausea. life threatening paralysis would consider \\u201clong polio \\u201d 3 .\"], [\"manitoba seeks feedback\"], [\"soon offering vaccines 6 months. contact ' pediatrician primary care provider schedule appointment. detail \\u27a1\\ufe0f\"], [\"covid-19 doses 5 begun arriving wisconsin. ' ' .\"], [\"covid-19 event held week monroe carell jr. \\u2019 hospital wanting ages six four shot. \\ud83d\\udc89\"], [\"abolishing federal public health agencies reasonable proposal giving power .\"], [\"everyone 6 protection worst outcomes covid. learn wecandothis\"], [\"six older. salt lake county health department scheduling covid-19 shots ages six older. schedule appointment online calling 385-468-shot .\"], [\"\\u2019 5 kansas city\"], [\"join cdc southern alliance downtown square ruleville sunflower county health fair 9am 1pm june 25th ! ' food , educational resources , covid-19 booths , fun outdoor activities , much .\"], [\"covid-19 vaccines approved ages 6 older. best way protect sick , hospitalized , long-lasting health impacts due covid-19. call 419-599-5545 schedule appointment today .\"], [\"parents may questions covid-19 whether right child. pediatricians ready help. schedule appointment , find doctor .\"], [\"parents may questions covid-19 whether right child. pediatricians ready help. schedule appointment , find doctor .\"], [\"nashville parents say \\u2019 confident covid-19 .\"], [\"soon missouri five younger\"], [\"santa barbara county expected receive pediatric covid-19 vaccines aged five early week following recent emergency authorization pediatric .\"], [\"santa barbara county expected receive pediatric covid-19 vaccines aged five early week following recent emergency authorization pediatric .\"], [\"illinois updates : quarantine rules , rollout\"], [\"illinois updates : quarantine rules , rollout\"], [\"boy got first today ! ! !\"], [\"covid-19 bigger threat us school shootings\"], [\"another expansion covid-19 eligibility , coconino county health human services ( cchhs ) begin offering doses wednesday , june 22 .\"], [\"data emerging risks need weigh risks risks virus , virtually zero risk covid-19 , yet cdc recommending aged 6 5 take it. wtf going ?\"], [\"\\u201ci \\u2019 waiting long time , \\\" says sara saporta-keating , mom pediatric epidemiologist . covid-19 vaccines kiddos 6 months-5 ! share details pfizer moderna :\"], [\"parents 6 4 better protect covid-19. recommends , including already covid-19 , vaccinated. visit find covid-19 near\"], [\"shots tots : \\u2019 parents nashville\"], [\"5 eligible receive covid-19 vaccine\\u203c\\ufe0f vaccines safe , effective , give parents peace mind knowing protected. make appointment child/children :\"], [\"6 5 covid-19 ! ! ! \\ud83d\\udc47find provider vaccines below\\ud83d\\udc47\"], [\"call medical provider check scheduling options uihc :\"], [\"shots tots : \\u2019 parents nashville\"], [\"biden demnazis : ' ' country world ' alter dna\"], [\"mother offered $ 1,000 last .. ' relatively intelligent , well-meaning , caring person. imagine pressure coercion shitbag , obsessed parents put .\"], [\"covid-19 6 5 following approvals cdc fda , galveston county health district coastal health &amp ; wellness week begin offering covid-19 vaccines ages 6 5 .\"], [\"pfizer moderna vaccines ok \\u2019 6 , doctors review three reasons parents. ( )\"], [\"\\u2019 10 wants give 2\"], [\"this. saw morning shows ( ) florida rds prohibiting infants. , calls crap facts. \\u2019 right whole time. omicron variant proved .\"], [\"faq : viral solutions offer moderna covid-19 5 ? see answer\"], [\"ok salt lakes. vaccines 6mo higher\"], [\"let \\u2019 ! vaccineswork getvaccinated vaxup\"], [\"katie reis 6-year-old son 3-year-old daughter. neither ' plan changing time soon .\"], [\"work underway plan rollout aged six four , covid-19 group may approved use canada summer. covid19mb protectmb\"], [\"vaccines roll : ?\"], [\"doctors health dallas department recommend 6 5 receive covid-19 , following centers disease control \\u2019 endorsement weekend .\"], [\"covid-19 still spreading 12 older booster. keep future generations safe healthy , boosted today. connect nearest tribal clinic texting \\\" \\\" 55251 .\"], [\"today ' newscast : teton county residents sign 5 appointments. plus , wyoming residents comment primary elections electric vehicles , local documentary screens tonight .\"], [\"clare craig vs cdc director / / eua amendment request pfizer-biontech covid-19 babies\"], [\"moment many parents waiting ! 5 eligible receive vaccine. txlege\"], [\"u.s. vaccines start roll\"], [\"deaths due vaccine-induced myocarditis significant increase heart attack risk among youth , risks tied covid-19 shots continue grow \\u2013 effectiveness reached embarrassing low. - epoch times\"], [\"another man 20s died. ravens linebacker \\u2014 jaylon ferguson \\u2014 26 died. team \\u2019 say caused death. ferguson forced order play football .\"], [\"much evidence needed responsible \\u2018fess-up \\u2019 &amp ; stop pushing experimental , unlicensed inoculations , especially ?\"], [\"latest covid-19 news : york city prepares 5 - york times\"], [\"hour morning edition , nyc kicks latest rollout , time toddlers. ' explains launch may smooth ones past. tune ! 93.9fm\"], [\"latest covid-19 news : york city prepares 5 \\u2013 york times news worldnews googlenews sport fortnite vbucks roblox\"], [\"\\u2019 7 : 30am \\u2019 already wasted sperm app blaming man \\u2019 death vaccine. \\u2019 fuckin weird. grow .\"], [\"\\\" united states first country world offer safe effective covid-19 vaccines six , \\\" president biden said .\"], [\"biden visited clinic washington , first shots given last major group ineligible vaccines .\"], [\"unsure 5 covid-19 ? pediatric infectious diseases expert msu answered common questions .\"], [\"starting today , 6 &amp ; older receive columbus public health. currently , pfizer offered plans add moderna dose soon supplies available. visit find walk-in clinic works .\"], [\"open smartnews read \\\" covid-19 side effects ? experts seek ease parents \\u2019 concerns \\\" : read web , tap :\"], [\"biden enthuses : ' ' country world ' giving\"], [\"2 million california eligible vaccine. many ?\"], [\"u.s. opens little ; shots begin week &124 ; modern healthcare\"], [\"dallas county immunization clinics doses recently-approved six 4-years-old\"], [\"waited really long time wasnt going son momma said .. immediate reaction positive versus mine hell wheels ... good read president\"], [\"president joe biden visited clinic tuesday celebrate virtually americans covid-19\"], [\"schedule ' covid-19 today .\"], [\"covid-19 doses 5 begun arriving wisconsin. ' ' .\"], [\"6+ receive vaccine. call doctor local pharmacy determine availability. oaklandcounty residents schedule appointment us\"], [\"family excited finally access covid-19 ! days little one protection do. grateful science ! chicago\"], [\"number covid-19 cases texas reaches 7 million , san antonio ' youngest start receiving today. ' .\"], [\"covid-19 doses 5 begun arriving wisconsin. ' ' .\"], [\"covid-19 doses 5 begun arriving wisconsin. ' ' .\"], [\"covid-19 doses 5 begun arriving wisconsin. ' ' .\"], [\"covid-19 doses 5 begun arriving wisconsin. ' ' .\"], [\"common side effects 5 ( alleviate )\"], [\"parents anxious see little ones novel disease \\u2019 wait much longer .\"], [\"parents decide covid-19 loves politics would consider death jab child. loves would never consider death jab. said said\"], [\"covid-19 authorized fda 6 5 ! pfizer moderna brands .\"], [\"plans made roll st. louis county city health departments .\"], [\"covid-19 doses 5 begun arriving wisconsin. ' ' .\"], [\"covid-19 doses 5 begun arriving wisconsin. ' ' .\"], [\"\\ud83d\\udc89 5 axiosam\"], [\", concerns side effects , time full number shots could play parental decision making .\"], [\"lincoln-lancaster county health department ' received covid-19 doses 5. , pharmacy options parents. ' know :\"], [\"questions covid-19 answered ! hhcga hispanichealth\"], [\"covid-19 doses 5 begun arriving wisconsin. ' ' .\"], [\"champaign-urbana public health district host clinics week. danville ambucs honor community mover shaker dean carlton. \\u2019 covering stories &amp ; newsroom &amp ; chambana radio news\"], [\"covid-19 vaccinations happening milwaukee .\"], [\"doctors cdc white house : \\\" calling end testing policies exclude regular life . \\\"\"], [\"city lubbock public health dept. announces covid-19 availability\"], [\"5000,000 michigan 6 eligible receive covid-19 .\"], [\"cdc admits never monitored vaers safety signals \\u2022 ' health defense\"], [\"pediatric comes 3 doses 2 moderna. recommends even still shot. morning\"], [\"covid-19 \\u2014 3 older walk-in hayat pharmacy \\u2019 clinic. parents 6 months-2 years-old schedule appointment next tuesday. \\u2019 live details schedule one .\"], [\"hour morning edition , nyc kicks latest rollout , time toddlers. ' explains launch may smooth ones past. tune ! 93.9fm\"], [\"3 older walk pediatric covid-19 hayat pharmacy. 530 .\"], [\"dyk six older ? visit schedule appointment near you. vaccines covered medicaid meaning out-of-pocket costs members ! \\ud83e\\ude7a\\ud83d\\udc69\\u200d\\u2695\\ufe0f \\u27a1\\ufe0f learn , visit\"], [\"meticulously structured lives around hope shots understood brutal luxury so. mothering lot work best circumstances. mothering ... relentless .\"], [\"san antonio metro health announced offer covid-19 , ages 6 older .\"], [\"common side effects 5 ( alleviate )\"], [\"clare craig vs cdc director / / eua amendment request pfizer-biontech covid-19 babies\"], [\"common side effects 5 ( alleviate )\"], [\"\\u2019 need know , 5 charlotte .\"], [\"all. of. this. except 22 old. turned 4 gets _tx friday. \\u2019 safe protected \\u2019 serious effects .\"], [\"uab \\u2019 pediatric infectious diseases co-director dr. david kimberlin says protect younger worst covid-19 .\"], [\"know data beginning covid. vascular target serious adults lc. forgetting mumps protect boys sterility. must learn possible control vascular damages lc , &amp ; later\"], [\"president joe biden visited clinic tuesday celebrate virtually americans covid-19 tuesday authorization vaccines 5 weekend .\"], [\"two , many families waited covid-19 vaccines youngest kids. illinois providers begun giving first vaccines 5 .\"], [\"charleston police station lockwood drive one first locations offer covid-19 ages 6 5-years-old. many locations still yet receive doses. tune delays rollout !\"], [\"wait parents want younger covid-19. ' experts say .\"], [\"flu killed 4x ' prove didnt mess going 5 trillion dollars spent way much money. someone countrys dont give\"], [\"gang cult tracking software say ezra miller hostage. vaccines finally kids. logistics ' easy warnerstudios npr talks claire hannan , helped navigate rollouts 50 states , challenge \\u2026\"], [\"asking parents check appointment requirements taking receive covid-19\"], [\"\\\" ' country world right , \\\" president biden said , first lady jill biden met newly parents .\"], [\"president biden visits parents clinic able first time .\"], [\"across miami valley 6 covid-19 .\"], [\"cult gang tracking software says ezra miller hostage. vaccines finally kids. logistics ' easy mmiw npr talks claire hannan , helped navigate rollouts 50 states , challenges involved \\u2026\"], [\"covid-19 approved\"], [\"covid-19 approved\"], [\"threat \\u2026 parents insane !\"], [\"\\u2019 \\u2019\"], [\"reminder : - vaccines under-5 : still limited places due underfunded/understaffed rollout - full first under-5 outside study complete august - authorized treatment drugs babies\"], [\"cdc director rochelle p. walensky endorsed advisory committee immunization practices \\u2019 ( acip ) recommendation 6 5 receive covid-19 vaccine. ...\"], [\"cdc admits never monitored vaers safety signals \\u2022 ' health defense\"], [\"look news article daily caller : gov. ron desantis plants flag first governor oppose vaccines\"], [\"biden celebrates access six : ' monumental step forward '\"], [\"cdc recommends covid-19 vaccines link source article shared epocrates , 1 medical reference app .\"], [\"\\\" biden enthuses : ' ' country world ' giving \\\"\"], [\"u.s. vaccines start roll\"], [\"austin-travis county health authority approves covid-19 eligibility babies\"], [\"president joe biden visited clinic tuesday celebrate virtually americans covid-19 tuesday authorization vaccines 5 weekend .\"], [\"orleans 6 first covid-19 vaccines today\"], [\"chart doses intervals pedsicu great. thank _tx\"], [\"dr. geert vanden bossche explains injected covid-19\"], [\"covid-19 6-month 4-year-old children. safe , effective , authorized fda recommended cdc. best place vax \\u2019 pediatrician \\u2019 office .\"], [\"us administer small , starting week learn : usnews meded medical emednews\"], [\"president joe biden visited clinic tuesday celebrate virtually americans covid-19 tuesday authorization vaccines 5 weekend .\"], [\"medical community lost touch reality ? - biden enthuses : ' ' country world ' giving vaccineskill\"], [\"cdc orders injecting 6 babies two shots moderna cocid-19 important bullet point top right column gets myocarditis pericarditis first mrna - experts advise additional mrna covid-19 shots given\"], [\"\\\" covid-19 along recommended childhood immunizations protect severe illness disease . \\\"\"], [\"5 , parents still questions. gathered questions parents one county ' top health officials answer .\"], [\"\\u2019 think good news. injecting babies 6 experimental vax. \\u2019 crazy. \\ud83d\\ude31\\ud83d\\ude28\\ud83d\\ude30 biden enthuses : ' ' country world ' giving \\u2013 redstate\"], [\"parents come decision ' going towards covid-19\"], [\"pfizer/biontech vs. moderna covid-19 5 : know pfizer moderna biontech kidsvaccine\"], [\"covid-19 la county toddlers\"], [\"aged six four eligible receive covid-19 mexico , according mexico department health.\\ud83d\\udc89\"], [\"biden visits clinic , celebrates shots 5\"], [\"president joe biden visited clinic tuesday celebrate virtually americans covid-19 tuesday authorization vaccines 5 weekend .\"], [\"local doctors address covid-19 5\"], [\"' fat no. \\\" required \\\" public school ? homeschool. make work. ' glad did. parents decide covid-19 foxnews\"], [\"parents covid-19 santa clara county\"], [\"gov desantis wrong zero risk kids. right time &amp ; antivirals move routine supply chains. feds assure access 23m persons without health insurance offer medicare benefits equity\"], [\"this. , especially : \\\" wait taken toll. sucked joy long-awaited moment. compass spins , directionless. work care go bed . \\\"\"], [\"parents decide covid-19\"], [\"\\\" time politics. ' parents able everything keep safe , \\\" said president biden .\"], [\"\\ud83d\\udd25\\ud83d\\udc47heartbreaking \\ud83d\\ude22\\ud83d\\udc94\"], [\"' official ! 6 older covid-19. vaccines health department starting thursday. klbk ' @[ elizabeth fitz ] spoke officials find else parents know .\"], [\"tuesday , state health official signed allowing six five special versions pfizer moderna vaccines .\"], [\"5 , parents still questions. gathered questions parents one county ' top health officials answer .\"], [\"first day summer also first day many eligible covid-19. ' bay area rolling shots .\"], [\"6 able covid-19\"], [\"tuesday ' first day summer , first day many parents ' could covid-19. ' know bay area ' rollout far .\"], [\"utah 6 covid-19 shots. breathing sign relief utpol\"], [\"cdc admits never monitored vaers safety signals \\u2022 ' health defense\"], [\"president biden visited clinic tuesday celebrate virtually americans covid-19 tuesday authorization vaccines 5 weekend .\"], [\"\\u201cthe handling well better adults. \\\" getvaccinated\"], [\"cousin brooklyn got ( thinks ) train \\u201call people think \\u2019 invincible \\u201d bedridden lost 20lbs thought gonna die. vaccinated. , cool plan , america .\"], [\"c.d.c. expected recommend vaccines\"], [\"michigan department health human services announced tuesday michiganders ages 6 eligible covid-19 .\"], [\"turned comments , huh ? resources help people injured families victims killed covid-19 ?\"], [\"vanderbilt \\u2019 hospital offering pfizer &lt ; 5 details link : ( reposting clarity ) tennessee kidsafetyfirst vaccinateourkids covidvaccine\"], [\"5 arrive michigan week ; know ( story )\"], [\"5 , business .\"], [\"white house coordinator tells parents even immunity previous infection : cases drop 11 % - 100,000 per day mark first time since may\"], [\"parents conflicting views whether younger 5\"], [\"mom thrilled chicagonews breakingnews news\"], [\"families toddlers find vaccines primary health care provider one san francisco ' clinics .\"], [\"parents 5 , info vandy\"], [\"dchd anticipates opening registration pediatric covid-19 fri. 6/24 appointments central public health center wheaton. residents seeking appointment sooner may able locate one using read :\"], [\"happy tears ! got appointment 2yrs+ waiting ! sense relief hope immense us parents ! \\ud83d\\ude01\\ud83d\\ude2d\\ud83d\\ude4f\\ud83c\\udf89\"], [\"vaccines : 6 mo. 5 vaccinated. cdc given green light. moderna requires 2 doses. pfizer/biontech requires 3. ' slow rollout shipping delays -la county anticipates doses nearly 900 sites .\"], [\"ann &amp ; robert h. lurie ' hospital chicago offering moderna individuals 6 4 ( 5 ) . lurie ' continue offer pfizer covid-19 individual \\u2026\"], [\"president joe biden visited clinic tuesday celebrate virtually americans covid-19 tuesday authorization vaccines 5 weekend .\"], [\"president joe biden visited clinic tuesday celebrate virtually americans covid-19 tuesday authorization vaccines 5 weekend .\"], [\"\\u201cmoreover , underscores need thorough investigation apparent association covid-19 administration adverse cardiovascular outcomes among adults . \\u201d\"], [\"hell kind parents 5 take , would never done first place , maybe may vulnerable ! !\"], [\"cdc approved covid-19 shots 6 , lincoln-lancaster county health department yet received doses .\"], [\"hooray keeping safe healthy ! first vaccines 5 administered today. lennon , aevin , callum sofia got pokes , first 3-shot , 3-month series pfizer doses. vaccinessavelives learn :\"], [\"every got injection clinic day got double dose cdc says dont worry dont proof double dose hurt \\ud83e\\udd21\\ud83c\\udf0d\"], [\"5 \\u2026 .hell , 10 \\u2026 .vaccinated , youre sick head. please unfollow .\"], [\"' listen pharmaceutical company. give !\"], [\"saw 4000 trials 2/3 dropped out. make evaluation that.\\u2714\\ufe0f\"], [\"got covidvaccine third trimester january 2021 ; happy got antibodies , got boosters breastfeeding ! thankful 15 mo ; gets ! putkids1st\"], [\"' official : appointments ! ! hallelujah ! ! ! !\"], [\"please watch share -\"], [\"u.s. president joe biden first lady jill biden visit clinic u.s. begins distributing vaccines 6\"], [\"john williams newsclick : would 5 ?\"], [\"vaccines boosters best hope move beyond covid-19 pandemic. , covid-19 vaccines babies addition groups already eligible. learn :\"], [\"many parents faced question , also : one version preferred ?\"], [\"wrote tonight ' newsletter intro vaccines children. far one piece hate mail , improvement 2021 would several. apparently \\\" reckless \\\" wanting grandkids .\"], [\"cdc admits never monitored vaers safety signals \\u2022 ' health defense\"], [\"icymi : schedule covid-19 younger 5 st. louis area .\"], [\"1. would never take masked pediatrician wanted masked. 2. yes , would talk pediatrician mrna , recommended , would find pediatrician , 3. agent well aap .\"], [\"approximately 500 younger 5 received first doses covid-19 rady ' hospital , according hospital officials. 207,723 san diego county included eligible group .\"], [\"white house coordinator tells parents even immunity previous infection : cases drop 11 % - 100,000 per day mark first time since may\"], [\"starting thursday , june 23 , covid-19 vaccines 6 older mecklenburg county public health details : wccb covide health\"], [\"6 - 5 soon able vaccinated. vaccinategoleta cityofgoleta\"], [\"6 receive covid-19 vaccines. find regarding sites eligibility :\"], [\"justin buncombe county administered newly approved moderna covid-19 ( 6 five ) 30 today. county still waiting shipment pfizer vaccines approved 6 four old. _13\"], [\"know \\u2019 covid-19 san antonio know \\u2019 covid-19 san antonio\"], [\"\\\" ' seen many - including group - ' hospitalized heart inflammation infection. ' still learning means lifetime . \\\"\"], [\"biden visits clinic washington health authorities approve covid-19 vaccines six .\"], [\"today , sedgwick county health department released statement following cdc recommending covid-19 vaccinations children. details : kakenews\"], [\"oldest ( 3 ) finally scheduled youngest eligible next month. thank scientists making possible \\ud83d\\ude4c\\ud83d\\udc4f\\ud83d\\udc4f\"], [\"whywake resident clinic began vaccinating 6 mo-5 covid-19 today. grateful hospital clinic leadership well nursing staff making happen quickly ! schedule appointment today .\"], [\"americans covid-19 .\"], [\"shipments vaccines younger providers began yesterday , june 20. recommend call first ask pediatrician preferred clinic yet. \\u2019 continuing work providers across oregon make doses .\"], [\"co-chair mu health care said 5 younger able first covid-19 dose \\\" coming days . \\\"\"], [\"president joe biden visited clinic tuesday celebrate virtually americans covid-19 tuesday authorization vaccines 5 weekend .\"], [\"tuesday , four younger across country began versions pfizer modena covid-19 shots smaller. _a_ron_heg omaha nebraska\"], [\"appointments required ages six five , 18 younger must guardian .\"], [\"starting youngest san franciscans week ! info go getvaccinated\"], [\"vaccines 6mos 5yrs starting today. best way fully protect soon possible. also protects , loved ones , community .\"], [\"tuesday , rady ' hospital administered hundreds covid-19 shots youngest san diegans eligible receive covid-19 .\"], [\"fda authorizing use little 6 , mexico follow california make attend public schools take .\"], [\"clare craig vs cdc director / / eua amendment request pfizer-biontech covid-19 babies\"], [\"cdc admits never monitored vaers safety signals ! response foia request submitted \\u2019 health defense .\"], [\"charlotte mistakenly given double dose , father says\"], [\"covid-19 shots tots : 5 dc , md. va .\"], [\"excited first covid-19 today ! part trials , learned got placebo ( darn ! ) gets real thing ! \\u2019 scheduling church dedication 2 wks 3rd !\"], [\"\\u2019 mercy offer clinics 5\"], [\"marin county covid-19 status update june 21 , 2022 includes : -moderna pfizer approved -vaccination opportunities marin -updated local covid-19 data full update : subscribe daily updates email :\"], [\"one question answered : ages 0 4 really need ? complications/side-effects emergency vs. mathematically insignificant risk death covid-19 .\"], [\"one preferred ?\"], [\"one preferred ?\"], [\"one preferred ?\"], [\"people go tv exaggerate know vaccines ps proof benefits , proof reduction misc hospitalization ( low n ) uptake still plateau 20 % . lies uptake. sad .\"], [\"\\u2019 day \\u2019 come soon enough families .\"], [\"five younger covid-19 , parents still fence .\"], [\"five younger covid-19 , parents still fence .\"], [\"6 5 eligible covid-19. dedicated health safety patients &amp ; communities serve , sharing information clinics details finalized ! theverybestforkids\"], [\"missouri health officials approved today. ' springfield-greene county health says parents next :\"], [\"lurie \\u2019 offering moderna individuals 6 4 ( 5 ) . lurie ' continue offer pfizer covid-19 individuals 5 older. make appointment , visit\"], [\"god deal .\"], [\"virtually americans covid-19\"], [\"virtually americans covid-19\"], [\"jonesboro pharmacy stocked covid-19 doses youngest .\"], [\"covid-19 vaccines soon locally 5 age. find , visit parents also talk \\u2019 health care provider , visit learn .\"], [\"3 northeast ohio doctors weigh questions surrounding covid-19 vaccines ( _news reports )\"], [\"michiganders ages 6 eligible covid-19 .\"], [\"' turn ! covid-19 vaccines 6 months. visit book appointment , call ' healthcare provider. getvaccinated myc19vaccine vaccinatepasadena\"], [\"covid-19 vaccines ages 6 4 atrium health wake forest baptist facilities. forsyth county department public health begin offering vaccinations wednesday .\"], [\"one preferred ?\"], [\"one preferred ?\"], [\"healthcare providers across miami valley starting offer covid-19 doses six .\"], [\"update ; covid-19 vaccines 6 4 old. - talk ' doctor setting appointment - major health systems sf general offering children. info :\"], [\"parents \\u2019 eager covid-19 \\u2019 wait much longer .\"], [\"\\\" c.d.c. recommends vaccinations children. \\\" apoorva mandavilli nyt\"], [\"\\\" ' ecstatic ' finally happening , \\\" said leah casanave , health department ' division chief community health , nutrition clinical services. \\\" ' waited long enough. \\\" :\"], [\"families waiting 5 receive\"], [\"little finally scheduled next week 29th \\ud83d\\udc93\\ud83d\\udc93\\ud83d\\udc93\\ud83d\\udc93\\ud83d\\udc93\\ud83d\\udc93 chose moderna considering information given\"], [\"catch article ? \\\" c.d.c. recommends vaccinations children. \\\" nyt\"], [\"\\\" c.d.c. recommends vaccinations children. \\\" apoorva mandavilli nyt york times\"], [\"aph expanding covid-19 eligibility. caregivers 5 yrs skip online appointment process bring little ones sims elementary ( 1203 springdale rd. , austin , tx 78721 ) . wed thurs : 2-7 p.m. sat : 11 a.m. - 3 p.m .\"], [\"great pediatric family support zoom last night \\u2026 presenting information &lt ; 5 yo dr. yeganeh ladph. link : vaccinessavelives covidvaccine pediatrics thisisourshot vacunateya\"], [\"dallas county began administering first doses group tuesday afternoon. tarrant county plans start administering wednesday .\"], [\"\\\" c.d.c. recommends vaccinations children. \\\" apoorva mandavilli nyt\"], [\"thalidomide , reason fda longer rushes drugs market . covid-19 shot. babies born without arms legs. born tiny flipper arms legs. severely disabled babies. many babies miscarried. thousands survived. many abandoned .\"], [\"\\\" c.d.c. recommends vaccinations children. \\\" apoorva mandavilli nyt\"], [\"\\\" c.d.c. recommends vaccinations children. \\\" apoorva mandavilli nyt\"], [\"families waiting 5 receive\"], [\"\\\" immunocompromised great opportunity first vaccinated. hope people group protected , \\\" dad said .\"], [\"parents debate whether give :\"], [\"1.3 million adverse reactions cited vaers. remember studies found vaers accounts approx 10 % adverse events , number much bigger\"], [\"little kids?? ? ? way go ! ! ! ! ! !\"], [\"received first today ! ! ! finally ! !\"], [\"fda cdc approved use pfizer six four , also approved moderna six five .\"], [\"tuesday marked first day toddlers 6 4 could covid-19 , following federal state approvals moderna pfizer vaccines weekend .\"], [\"\\u201cthere total 12 kids-participants managed two infections w/in time frame trial. 11 recipients &amp ; one received ! ... 12 two infections , one never-vaccinated group ! \\u201d\"], [\"\\\" c.d.c. recommends vaccinations children. \\\" apoorva mandavilli nyt\"], [\"mexico : officials mexico department health announced tuesday ages six four eligible covid-19 .\"], [\"city lubbock public health department pfizer moderna vaccines begin providing community week. ' know eligibility .\"], [\"' ok money prevent us caught guard another risk , ' really necessary .\"], [\"side effects 5 ? - nbc chicago\"], [\"need shot/ booster. mobile \\ud83d\\ude8c parking lot \\ud83c\\udf08\\ud83c\\udff3\\ufe0f\\u200d\\ud83c\\udf08\\u2714\\ud83d\\udc89 nice see \\ud83d\\ude42 shots. pride2022 .\"], [\"one preferred ?\"], [\"live charlotte area looking 5 , put together little list ya !\"], [\"u.s. begins vaccinating : great day ! ! ! vaccinessavelives \\ud83d\\udc89\\ud83d\\udc89\\ud83d\\udc89\"], [\"biden touts covid-19 access 6\"], [\"nm department health announces six 4 eligible covid-19 vaccine. announcement comes three days federal cdc issued recommendation seven eligibility extended ages 5 11. nmpol\"], [\"\\u201cand joked good time visit : ' everybody knows like better people. ' \\u201d heard \\u2026 sexualized daughter \\u2026 used shower \\u2026 man allowed near \\ud83e\\udd22\"], [\"today , umc received first doses ages 5 &amp ; under. cdc recently approved pfizer covid-19 5 &amp ; under. dr. christina mateo , pediatrician umc west clinic , &amp ; son , kai , one 1st patients receive\"], [\"6 able covid-19 vaccines. cdc fda signed approval last week .\"], [\"moderna pfizer brand vaccines administered lower doses .\"], [\". offering covid-19 6 5 .\"], [\"stop giving\"], [\"hey fellow moms , dads caregivers , questions fda-approved covid-19 5 , msu dr. rebecca shein covered .\"], [\"biden hails covid-19 historic , says offers peace mind - washington times\"], [\"' everybody knows like better people . '\"], [\"' ? ' got questions newly-approved vaccines six ? ' crazy , actually wrote/shot/edited/starred story read click link :\"], [\"since signed 4.5 yo ' first dose , moved prayers .\"], [\"countries banned people 30 adverse events want give zero risk ? pure evil , way around .\"], [\"great news ! _dph announced today federal state approvals recommendations , ages 6 4 years. information found\"], [\"parents five vaccines san francisco sfgate\"], [\"covid-19 relief finally arrives\"], [\"gillette ' providing pfizer-covid 19 patients six older. please visit gillette \\u2019 covid-19 information page learn .\"], [\"iowa health experts encourage parents 6 covid-19 \\u2066 _krebs\\u2069 \\u2066 \\u2069\"], [\"like adults , experience covid-19 side effects. learn recent approval 5 game-changer :\"], [\"c.d.c. recommends covid-19 vaccines 5\"], [\"cdc director signed covid-19 vaccines earlier week , expanding shots six five old. across country first doses today. locally , take time .\"], [\"cdc director signed covid-19 vaccines earlier week , expanding shots six five old. across country first doses today. locally , take time .\"], [\"fda cdc approved covid-19 6 months. ' let know available. ' yet accepting appointment requests. read image below. click faqs families \\u27a1\\ufe0f\"], [\"clinic - washington dc - place 6 jab ! worse ever !\"], [\"u.s. president joe biden first lady jill biden visit clinic hosted district columbia ' department health highlight recent authorization recommendation vaccines 5\"], [\"covid-19 vaccines approved 5 , two local doctors discuss parents need know. full story :\"], [\"find mid-missouri able shots abc 17 news 6 .\"], [\"covid-19 best way help protect contracting spreading virus reduces risk severe illness hospitalization. \\ud83d\\udccd find pediatric site near :\"], [\"biden celebrates us covid-19 rollout 5\"], [\"add list reasons smart parents rejecting lunacy. actually , considered reckless endangerment. risk , zero benefit. wh chief recommends jab previously infected\"], [\"nearly 300,000 wisconsin eligible covid-19 fda cdc approved shots 5 .\"], [\"cdc admits never monitored vaers safety signals \\u2022 ' health defense\"], [\"please \\u2019 experiment ! injections increase risk severe \\u2019 zero long term safety data\"], [\"' ' waited long enough ' : douglas county ' first 5 covid-19\"], [\"san francisco department public health said parents start ages 6 4 covid-19 .\"], [\"call doctor seek advice little ones '\"], [\"fda gave final approval weekend group .\"], [\"3-year-old marin among first patients 5 receive covid-19 advocate \\u2019 medical group naperville tuesday. dad , chris , watching daughter sign \\u201cfinally almost back normal . \\u201d\"], [\"scheduled ' first appointment ! ( waiting hold 40 minutes ... \\ud83d\\ude11 ) itsabouttime\"], [\"cdc recommends 6 older approving pfizer moderna vaccines saturday .\"], [\"blue cross covers covid-19 vaccines $ 0 newly eligible &124 ; health officials recommend everyone six older. learn find resources : vaccines covidvaccines getthefactsgetthevax\"], [\"banning 6 5 yr olds wrong ?\"], [\"biden takes selfies receiving\"], [\"youngest group eligible , wisconsin department health services recommending five covid-19 .\"], [\"fda cdc authorized covid-19 vaccines ages 6 5 years. offering free pfizer vaccines robert b. green clinic ( 903 w. martin st ) saturday , june 25 8 a.m. noon. registration opens wednesday , june 22\"], [\"parents guardians ! covid-19 vaccines 6 months+ help keep whole family safer. give peace mind &amp ; help loved ones getvaccinated. visit find near .\"], [\"wait \\u2013 6 older eligible receive covid-19 vaccine. learn :\"], [\"wait \\u2013 6 older eligible receive covid-19 vaccine. learn :\"], [\"fda gave final approval weekend group .\"], [\"right mind would give 6 ? whole ordeal like 98 % survival rate covid-19. pfizer moderna clue long term side effects !\"], [\"got tot ' ready ?\"], [\"five eligible receive covid-19 first time utah tuesday .\"], [\"fda gave final approval weekend group .\"], [\"' offering covid-19 clinic 6/25/22 9 : 00 11 : 00 ages 6 - 4 old. please call office schedule appointment space limited. ( 615 ) 790-3200 \\u2b50 read\"], [\"fda gave final approval weekend group .\"], [\"fda gave final approval weekend group .\"], [\"nearly 300,000 wisconsin eligible covid-19 fda cdc approved shots 5 .\"], [\"million dollar question , 66 % drop trials ? trial end date 2/2024 , authorized , emergency authorization ? hypnotized ' bother eua ? parents .\"], [\"parents weigh covid-19 options following approval cdc\"], [\"immunizations became tuesday 19 million ages 6 5 , last group americans afforded protection , \\u2066 \\u2069 reports .\"], [\"men myocarditis maybe found sooner ? response freedom information request cdc admitted never analyzed cdc-run vaers safety signals covid-19 vax\"], [\"families able 6 months+ covid-19 ! contact pediatric provider schedule appointment. options include walgreens ( ages 3+ ) cvs ( 18 months+ ) . info getvaccinated\"], [\"announced six eligible receive covid-19 vaccination. state health officials say reportedly 2,200 appointments currently statewide. \\u2935\\ufe0f\"], [\"watch 7 min review false claims made v. real data , comment .\"], [\"news : parents/care-givers 5 eligible vaccines contact pediatric provider schedule appointment ; provide 5 targeted clinics certain communities impacted \\u2b07\\ufe0f\"], [\"biden touts covid-19 access 6\"], [\"families flock rady \\u2019 hospital under-5 kick-off\"], [\"june 21 , missouri department health human services approved distribution moderna pfizer/biontech covid-19 6 .\"], [\"covid-19 hard find littlest state ' ourshot site slow update\"], [\"looking covid-19 vaccines 5-years-old ? lancaster county parents may hard time finding one .\"], [\"dr jane orient , executive director american physicians surgeons , talks janetwalker hautelifestylecom janeorient aaps covidvaccine kidscovid medical science : covid-19 - rush inject\"], [\"nearly 300,000 wisconsin eligible covid-19 fda cdc approved shots 5 .\"], [\"6 5 covid-19 shots ! make plan : talk \\u2019 doctor ask questions/get vaccinated. read learn find vaccines newsletter :\"], [\"looking covid-19 vaccines 5-years-old ? lancaster county parents may hard time finding one .\"], [\"great news ! aged 6 5 old. best tool fight virus , encourage protect loved ones eligible .\"], [\"covid-19 vaccines 6 older. little one help keep whole family safer serious illness hospitalization. learn :\"], [\"nation \\u2019 youngest chance vaccines covid-19. shots began monday locations , though expected ramp juneteenth federal holiday .\"], [\"6 4 eligible san francisco. talk ' doctor setting appointment. read additional information : _dph\"], [\"president joe biden visited clinic tuesday celebrate virtually americans covid-19 tuesday authorization vaccines 5 weekend .\"], [\"vaccines way ages 6 4 ! encourage parents caregivers reach \\u2019 primary health care provider regarding opportunities visit ( 1/2 )\"], [\"\\ud83e\\udd84for best protection , cdc recommends covid-19 vaccines everyone 6 older boosters everyone 5 older , eligible. \\u2019 link six things know : demvoice1\"], [\"like adults , experience covid-19 side effects. learn recent approval 5 game-changer :\"], [\"listen : vital role pediatricians play vaccinating 5 covid-19 ? today ' askanexpert , dr. explained eric thomas primary care doctors assure parents safety .\"], [\"irini got first vax ! event packed toddlers babies. really warms heart. happy mom .\"], [\"biden visits d.c. clinic approval shots 5 : biden encouraged parents aged 6 older following last week ' approval vaccines 5. nbcnews\"], [\"families flock rady ' hospital under-5 kick-off\"], [\"' ' long time coming ' : largest effort american history finally reached nation ' youngest .\"], [\"families flock rady ' hospital under-5 kick-off\"], [\"birminghampediatrics providing pfizer covid-19 ages 6 - 5 soon ! ' share additional update soon ' offering next group .\"], [\"solano county expands covid-19 eligibility\"], [\"solano county expands covid-19 eligibility\"], [\"parents book appointments 5 receive covid-19 mall america site .\"], [\"thanks ' leadership , nearly every american , parents protect dangerous disease. ' bfd !\"], [\"vaccines six , families still questions shots .\"], [\"parents book appointments 5 receive covid-19 mall america site .\"], [\"parents book appointments 5 receive covid-19 mall america site .\"], [\"parents book appointments 5 receive covid-19 mall america site .\"], [\"dr. bishara freij , beaumont chief pediatric infectious disease , covid. \\\" die it. spread , well. fact ' less deadly , ' mean ' deadly. serious . \\\"\"], [\"first doses kid-sized vaccines administered douglas county health department tuesday. parents said felt relief .\"], [\"summer season , best way keep safe healthy soak sun covid-19. ages 5 eligible !\"], [\"ages six five covid-19. put together list younger kansas city area. may updated information .\"], [\"president joe biden celebrating virtually americans covid-19 authorization vaccines 5 weekend .\"], [\"dallas county gets doses\"], [\"listen : six older finally covid-19. eric thomas spoke dr. , senior scholar center health security .\"], [\"' authorized , vaccines 5 still largely unavailable michigan. story features , asks , \\\" urgency ? \\\" especially immunocompromised ones .\"], [\"' ! ! ! ' got covid-19 toddlers ! please read call 708-424-7600 schedule appointment :\"], [\"parents book appointments 5 receive covid-19 mall america site .\"], [\"parents book appointments 5 receive covid-19 mall america site .\"], [\"parents book appointments 5 receive covid-19 mall america site .\"], [\"think ' despicable biden celebrating this. even think ' fine covid-19 , respect fact many concerned ' know long-term damage ? something celebrate .\"], [\"dchhs announced today 6 older covid19. clinics appointment ! schedule appointment online visit : \\u260e\\ufe0f 972-692-2780 \\ud83d\\uddd3monday - friday \\u23f08 : 30am - 3 : 30pm\"], [\"6 months+ safe &amp ; effective covid-19 vaccines. give peace mind. help loved ones getvaccinated. visit information .\"], [\"zero f**king chance \\u2019 giving less 1-year daughter \\u2026 zero chance ! 1. 2 kicked ass \\u2026 2. 2 kicked wife \\u2019 butt 3a. booster kicked wife \\u2019 butt 3b. booster exposed breastfeeding made sick\"], [\"3 northeast ohio doctors weigh questions surrounding covid-19 vaccines\"], [\"cdc , fda authorize emergency use 6 cov19\"], [\"mid-june , 23 million ages 5 17 received two doses vaccine. \\u2019 lot great shots protected \\ud83c\\udf89\\ud83c\\udf8a\\u2764\\ufe0f\"], [\"enjoyed alex coba ' live performance morning ! thank sharing story musical talents . listen houston ' makemusicday2022 segment :\"], [\"el paso officials pre-ordered shots specific group anticipation.\\ud83d\\udc89\"], [\"first doses kid-sized vaccines administered douglas county health department tuesday. parents said felt relief. read :\"], [\"cook county health looking forward providing covid-19 vaccines 6 4 soon ! expect first pediatric patients starting week june 27 , share details soon .\"], [\"\\u2019 5 kansas city\"], [\"eliza wills able book covid-19 appointment son \\u2019 easy. fact , said frustrating. ' alone. several parents guardians expressed frustration rollout 5 .\"], [\"\\ud83d\\udce3\\ud83d\\udce3\\ud83d\\udce3minnesota parents book covid-19 appointments 6 5 mall america ! good news minnesota families. learn :\"], [\"ages 6 4 eligible covid-19\"], [\"president biden tuesday pledged smooth rollout covid-19 aged 6 4 head pharmacies doctors \\u2019 offices shots , giving rollout different look mass efforts older ages\"], [\"look gift received today enrolling trial. \\u201cyou showed us way ahead together \\u201d \\u2764\\ufe0f \\ud83c\\udf0d\"], [\"centers disease control approved vaccines ages 5 , local healthcare providers deck appointments little ones .\"], [\"officials \\u2019 mercy hospital announced two locations tuesday morning .\"], [\"\\u201cwe welcome opportunity expand protection offered covid-19 community members . \\\"\"], [\"cdc signed covid-19 vaccines six , fox 17 got tips local pediatric infectious disease specialist parents consider comes vaccinating .\"], [\"thisisourshot protect \\ud83d\\udc99\\ud83d\\udc89 today , began offering covid-19 vaccinations ages 6 5 years. appointments open number locations across region :\"], [\"mu health care ' covid-19 co-chair dr. margaret day said people interested well vaccinations going work ' safe .\"], [\"vaccines uchd clinics starting june 27th. cdc accepted advisory committee immunization practices \\u2019 ( acip ) recommendation ages 6 older covid19. :\"], [\"austin public health offers several options covid-19 families 5 ' access pediatrician healthcare provider .\"], [\"\\u201ci ' really hoping people understand means sense normalcy people enjoying , \\u201d says northridge mom manpreet dhillon brar. story &amp ; .\"], [\"tomorrow : 6 able local clinics .\"], [\"lawn : biden highlights \\u2019 covid-19 visit clinic\"], [\"cosy-fm news : ages 6 4 eligible covid-19 southwestmichigan swmichigan localnews\"], [\"missouri department health senior services ( dhss ) adopted centers disease control prevention \\u2019 ( cdc ) recommendation six receive pfizer-biontech moderna covid-19 vaccines .\"], [\"city lubbock public health department pfizer moderna vaccines begin providing community thursday , june 23 .\"], [\"highly recommend ' jab 5 y/o\"], [\"inject , ' parent. obviously willing go distance protect harm .\"], [\"biden visits dc clinic administering covid-19 vaccines 5 old. president joe biden first lady jill biden visited washington , dc , clinic tuesday 5 immunized ...\"], [\"good news ! appointments 6 month-4 vaccines , starting appointments wednesday , june 22. read : pediatrics\"], [\"6 5 covid-19 shots ! make plan : talk \\u2019 doctor ask questions/get vaccinated. also search locations find locations map :\"], [\"clare craig vs cdc director / / eua amendment request pfizer-biontech covid-19 babies\"], [\"nation \\u2019 youngest chance vaccines covid-19. shots began monday locations , though expected ramp juneteenth federal holiday .\"], [\"nation ' youngest chance vaccines covid-19 .\"], [\"newsroom : ages 6 4 eligible covid-19\"], [\"tearful , relieved parents : us babies toddlers first covid-19 shots covidvaccinekids pfizer fda getyourfirstshot\"], [\"good news ! june 18 , cdc announced recommendation 6 months+ covid-19 vaccine. summer great time kiddos ' protected vacations &amp ; school starts back \\ud83d\\ude0e\\u2600\\ufe0flearn :\"], [\"indiana state health officials encourage parents call 211 line find clinics littlest .\"], [\"? talking ( little )\"], [\"\\u2014 first time six days covid-19 approval babies , american academy pediatrics released sleep guidelines prevent sudden death syndrome .\"], [\"clinics ages 6 scheduled. find clinic nearest coming state week coming weeks. contact health care provider check site additional locations .\"], [\"fda deemed covid-19 vaccines safe ages 6 5 , giving access last major group eligible .\"], [\"washington ( ap ) \\u2014 president joe biden visited clinic tuesday celebrate virtually americans covid-19 tuesday authorization vaccines 5 weekend .\"], [\"wsjm news : ages 6 4 eligible covid-19 local state wsjmnews\"], [\"check slinging knowledge 5 vaccines save lives\"], [\"six covid-19 public health immunization clinic locations starting thursday ( 6/23 ) \\u00bb saturday : clinic northwest health department ( 2845 beatties ford rd , charlotte ) 9 a.m. 2 p.m .\"], [\"going current future 6 - 5 ? $ pfe $ mrna\"], [\"today exciting day began administering covid-19 ages 6 5 ! schedule appointment texaschildrens , log mychart account visit\"], [\"independent panel advisors centers disease control prevention voted saturday recommend vaccinating covid-19 vaccines manufactured either moderna pfizer\"], [\"thread .. \\ud83e\\udda0 6m-4/5 years. bottom line : last 3 , get. , info pfizer vs. moderna 1/n\"], [\"covid-19 youngest eligible population coming southern nevada .\"], [\"clinic june 27 9-11 a.m. berna facio professional development complex , 3315 louisiana blvd. ne. first second shots , plus boosters , , teens , adults .\"], [\"pharmaceutical sales rep pushing vaccines kids. 2.5 data support need kids. dashboard shows strong immune system .\"], [\"city lubbock public health department pfizer moderna vaccines begin providing community thursday , june 23 .\"], [\"5 arrive michigan week ; know\"], [\"president joe biden visited clinic tuesday celebrate virtually americans covid-19 tuesday authorization vaccines 5 weekend .\"], [\"president joe biden visited clinic tuesday celebrate virtually americans covid-19 tuesday authorization vaccines 5 weekend .\"], [\"prosecute jail involved ! mortality rate 5 less 0.1 % . viability studies show effective ! instead \\\" non-inferiority. \\\" finally , myocarditis pericarditis rates increased vaccine. pfizersucks\"], [\"clare craig vs cdc director / / eua amendment request pfizer-biontech covid-19 babies\"], [\"covid-19 vaccines become ages five-and-under state. utah health officials working answer potential questions concerns parents attaining .\"], [\"\\ud83d\\udce3huge milestone science ! vaccines safe , effective made them. outdoor activities summer fun , ' delay keeping safe. getthevax\"], [\"covid-19 vaccines 6 months+ help keep whole family safer serious illness &amp ; hospitalization. give peace mind &amp ; help loved ones getvaccinated. visit call 833-422-4255 find near .\"], [\"u.s. begins vaccinating health\"], [\"receive smaller doses , based age. like adult , ' helps keep seriously sick covid-19. :\"], [\"immunity covid19ab vaccines fades time booster gives protection. ' eligible , book additional dose : 3rd dose : everyone 12+ &amp ; immunocompromised 5+ 4th dose : seniors 70+ congregate care &amp ; fnmi 65+\"], [\"president joe biden visited clinic tuesday celebrate virtually americans covid-19 tuesday authorization vaccines 5 weekend .\"], [\"fda authorized covid-19 vaccines 5. parents know ? - cnn\"], [\". begin administering starting tomorrow. need two doses moderna three pfizer becomes .\"], [\", six , able receive covid-19 vaccination. mesa county public health ready help answer questions. information make appointment call us 970-248-6900 .\"], [\"president joe biden visited clinic tuesday celebrate virtually americans covid-19 tuesday authorization vaccines 5 weekend\"], [\"northeast ohio parents 5 managed schedule little ones yet ? keep striking out. frustrated thread places ' 17 .\"], [\"salt lake county health department offering pfizer moderna vaccines six older .\"], [\"following cdc ' june 18 recommendation , austin-travis county eligible receive newly-authorized moderna pfizer-biontech vaccines\"], [\"president joe biden visited clinic tuesday celebrate virtually americans covid-19 authorization vaccines 5 weekend .\"], [\"ages 6 older receive safe effective covid-19 vaccine. takeyourshotnc\"], [\"\\\" understand parents still may questions , respect rights parents choose medical measures right , \\\" said lisa stefanovsky , administrative health officer .\"], [\"desantis : biden admin lying policy\"], [\"\\\" watch live : biden covid-19 vaccinations 5 \\\" associated press nyt\"], [\"wh chief recommends jab previously infected\"], [\"salt lake county health department offering covid-19 6 older today 5 different clinics availability\"], [\"wisconsin department health services ( dhs ) supports centers disease control prevention \\u2019 ( cdc ) recommendation ages 6 5 covid-19. within group \\u2026\"], [\"southern nevada\\ud83d\\udce2 beginning tomorrow , 6 5 receive covid-19 clinic. families sacrificed much protect youngest nevadans , major step forward safeguarding communities .\"], [\"make sure keep latest news headlines bulldog reports !\"], [\"46 life , \\u2019 never seen anything confusing pushed children. literally makes sense. missing something ?\"], [\"desantis : biden admin lying policy\"], [\"podcast preview : finally , 6 older covid-19 vaccine. full episode :\"], [\"\\u2019 even think 4 yo younger jabbed \\u2019 watched\"], [\"covid-19 approved six five\"], [\"\\ud83c\\udf89the wait ! shares parents know 5 \\u27a1\\ufe0f vaccineswork\"], [\"advocating important aspect job pediatricians , starts ! excited add youngest list !\"], [\"spread word ! ( 6 - 4 ) eligible receive vaccinations ! ? check flyers santa clara county .\"], [\"saturday , recommended 6 - 5 pfizer moderna covid-19 vaccine. parents schedule appointments starting week. head check availability appointments .\"], [\"' look first ( ages 6mon 5 ) release , ahwfb says appointments open across region ; moderna pfizer vaccines\"], [\"gov. newsom announces additional 400,000 covid-19 doses 5. many parents unsure , \\u2019 largely see need .\"], [\"spot take severe illness covid-19 , spring summer ! in-class learning , school activities weekend fun part active childhood experience. ' wait ages 5-11 !\"], [\"gov. newsom announces additional 400,000 covid-19 doses 5 -\"], [\"los angeles county department public health said website \\u201cdue delays shipping , 6 older may wednesday . \\u201d\"], [\"fda cdc approved moderna pfizer covid-19 6 older. pfizer mchd starting thursday. moderna later month. call 251-410-mchd ( 6243 )\"], [\"offering moderna 6 older beginning clinic friday , june 24 , 2022. friday clinics 8 : 30-10am 2-3 : 30pm. walk-ins welcome make appointment gcph\"], [\"\\u2019 \\u201cvaccinate \\u201d !\"], [\"state health officials answering questions following fda \\u2019 approval covid-19 vaccines six five .\"], [\"begins : ' shots california\"], [\"live wisconsin dhs officials hold q&amp ; regarding regarding covid-19 vaccinations 6 5 .\"], [\"today \\u2019 covid19_wi update , reminder. holding media briefing right 5. watch :\"], [\"austin public health offering covid-19 vaccines 5\"], [\"covid-19 update : 5 eligible pfizer moderna vaccine. learn safe effective :\"], [\"6 5 eligible covid-19 vaccine. learn benefits younger children. \\u27a1\\ufe0f\"], [\"need , preschooler pediatric covid-19 ? austin public health walk-up clinics wednesday , thursday saturday\"], [\"another example follow science crowd easily purposely misled science , claim worse thereby justify .\"], [\"moment many parents waiting : 6 5 receive covid-19 vaccine. offering clinics week babies :\"], [\"arkansas department health prepares covid-19 rollout\"], [\"covid-19 vaccines ages 6 - 4 dayton ' s. learn schedule appointment .\"], [\"covid-19 ? make appointment , says .\"], [\"ages 6 eligible covid-19 vaccination. click read full story. cdhd offers vaccinations 8 - 4 : 30 pm m-f 6 pm thursdays. call ( 308 ) 385-5175 information .\"], [\"plus : covid-19 authorized .\"], [\"parents long waiting cdc recommend toddlers. , wpln ' reports families nashville tots .\"], [\"wh chief recommends jab previously infected please \\u2019 !\"], [\"lawn : biden highlights \\u2019 covid-19 clinic visit\"], [\"looking speak parents/guardians 5 central indiana struggling find place kiddos covid-19 .\"], [\"finally youngest group covid-19 ! callyourpediatrician learn find vaccinated. vaccinateourkids\"], [\"people dying sleep happening regular basis. dead healthy people died sleep vaccines. \\u2019 one thing common .\"], [\"dhhs announces expansion covid-19 eligibility 6 nhpolitics\"], [\"dhhs announces expansion covid-19 eligibility 6\"], [\"u.s. start vaccines , though hurdles remain source : york times\"], [\"cdc worked coerce 5 risk , fear misleading data. \\u2019 confirmed one lead researchers. important read .\"], [\"dhhs announces expansion covid-19 eligibility 6 : nhpolitics\"], [\"vaccines 6 babies ! ! ! ! noooooo ! worked 15 taking care mommas newborn babies. \\u2019 actually \\ud83d\\ude2d\\ud83d\\ude2d. \\u2019 surprised \\u2019 approved newborns yet. glad retired .\"], [\"louisianans ages 6 eligible free safe : 3-dose pfizer-biontech 2-dose moderna vaccine. check list providers near louisiana : sleevesupla givecovidtheboot\"], [\"frequently asked questions covid-19\"], [\"cdc director endorsed recommendation ages six 5 receive pfizer moderna covid-19 vaccines :\"], [\"arkansas department health prepares covid-19 rollout news arkansasnews\"], [\"cases rising texas. dshs recommends ages 6 4 either pfizer moderna \\u2019 vaccines. questions , talk pediatrician. find providers\"], [\"recent survey kaiser family foundation , 18 % parents said would immediately. 38 % said plan wait see 27 % said ' intend .\"], [\"newsletter tuesday ( jun. 21 ) : week ' edition covers covid-19 eligibility , isbe june board meeting recap , act ' employment opportunities , funding youth community programming ! check :\"], [\"arkansas department health prepares covid-19 rollout\"], [\"dhhs announces expansion covid-19 eligibility 6\"], [\"per cdc recommendations , offering covid-19 vaccines everyone ages 6 &amp ; older , boosters everyone ages 5 &amp ; older eligible. live des moines , call south side clinic schedule ' appt. ( 515 ) 612-9577 .\"], [\"happy little receive vaccines , confused receiving omicron vaccine. understanding vaccines based original covid. \\u2019 omicron \\ud83d\\udc89protect ? original long gone .\"], [\"starting today , 6 older st. louis area. \\u2019 \\u2019 :\"], [\"parents 5 , vaccines approved group ?\"], [\"dr. kimberlin- division pediatric infectious diseases -- says 19 6 older \\\" safe effective \\\" maximizes protection children. mother , listening answers helpful !\"], [\"icymi : cdc authorized 5 ! huge relief parents keep safer. book appointment link .\"], [\"thanks last weekend ' announcement , nearly 20 million eligible covid19. many families , welcoming news marks another important step expanding prevention options virus health complications .\"], [\"sedgwick , reno counties offering small kwch12\"], [\"know \\u261d \\ud83d\\ude10\"], [\"weekend , updated guidance ages 6 5 old. , pfizer-biontech moderna covid-19 vaccines people aged 6 older. childrenwithdisabilities\"], [\"next , final , major phase covid-19 campaign kicked week , california finally able secure doses 5. however , immediate access may limited .\"], [\"5 , dr. norma perez tells w/ vaccinating safe , effective , protects harmful effects virus. altamed\"], [\"covid19vaccines : expert dr. shares thoughts q&amp ; vaccines vaccinesideeffects covidvaccines covidvaccine vaccinateourkids publichealth\"], [\"forsyth county department public health accepting covid-19 appointments younger 5 years-old start wednesday afternoon .\"], [\"watch live : president biden gives remarks covid-19 vaccines five : president joe biden expected give remarks tuesday nation ' , toddlers preschoolers finally chance covid-19 .\"], [\"unscientific policies continue diminish disrupt ' lives. join diverse array doctors , scientists advocates open letter calling end testing policies exclude normal life .\"], [\"really excited ' research intention among parents kidney disease. work progress since 2020 vaccines available. vaccinessavelives idtwitter\"], [\"attention parents : waiting , u.s. six eligible covid-19 vaccine. . hhcga hispanichealth\"], [\"across texas received vaccinations fda authorized vaccinations 6 old. vaccineswork ! ehf &amp ; texas worked raise confidence &amp ; increase access life-saving vaccines .\"], [\"actual science , cdc pushing vax onto children. european journal epidemiology : \\\" increases covid-19 unrelated levels across 68 countries 2947 counties united states . \\\"\"], [\"\\\" vaccines roll slowly u.s. younger 5. \\\" dana goldstein nyt\"], [\"u.s. start vaccines , though hurdles remain source : york times\"], [\"pediatricians roll first covid-19 authorized 5\"], [\"5 , dr. norma perez tells mcaboy w/ vaccinating safe , effective , protects harmful effects virus. altamed\"], [\"parents caregivers 6 5 better protect covid-19. vaccinations help keep family safe severe illness , hospitalization , death. find vaccines near wecandothis\"], [\". clinicaltrial helped confirm safety younger .\"], [\"statement advisory committee ' approval safe , effective covid-19 ages 6 5 years. vaccineswork thisisourshot putkids1st callyourpediatrician\"], [\"dallas county offer covid-19\"], [\"vaccines toddlers welcome addition multi-layered strategy protection covid-19 includes mask wearing , social distancing , hand washing boosters adults. stopthespread .\"], [\"colorado public health leaders plans place anticipating go-ahead cdc .\"]], \"hovertemplate\": \"TB_polarity_with_emoji=%{x}<br>TB_subjectivity_with_emoji=%{y}<br>tweet_text=%{customdata[0]}<extra></extra>\", \"legendgroup\": \"\", \"marker\": {\"color\": \"#636efa\", \"symbol\": \"circle\"}, \"mode\": \"markers\", \"name\": \"\", \"orientation\": \"v\", \"showlegend\": false, \"type\": \"scatter\", \"x\": [0.39999999999999997, 0.875, 0.3125, -0.1, 0.2, 0.060416666666666674, 0.0, 0.16666666666666666, -0.05, 0.056249999999999994, 0.275, 0.0, 0.0, -0.1875, 0.0, 0.033333333333333326, 0.21666666666666667, 0.0, 0.0, 0.0, 0.0, 0.0, 0.5, 0.55, 0.55, -0.3333333333333333, -0.25, 0.0, 0.0, 0.0, 0.0, 0.0, 0.03333333333333333, 0.15, 0.0, 0.4, -0.030000000000000006, 0.4333333333333333, -0.2916666666666667, 0.0, -0.15000000000000002, 0.0, -0.6999999999999998, 0.0, 0.0, 0.0, 0.0, 0.0, 0.125, 0.0, 0.0, 0.2857142857142857, 0.08, 0.7, 0.7, 0.0, 0.25, 0.0, 0.0, 0.0, 0.0, 0.325, -0.2333333333333333, 0.25, 0.1, -0.5, 0.0, -0.1875, 0.0, 0.037500000000000006, 0.4333333333333333, 0.14464285714285716, 0.0, 0.0, 0.3333333333333333, 0.17083333333333334, 0.25, 0.1328125, 0.44285714285714284, 0.06666666666666667, 0.0, 0.5, -0.05, 0.0, 0.0, 0.0, 0.0, 0.0, -0.05, 0.35, 0.11830357142857142, 0.14285714285714285, -0.6, 0.12323232323232323, 0.0, 0.0, 0.12222222222222223, 0.0, 0.4, 0.0, 0.0, -0.024545454545454544, 0.16666666666666666, 0.0, -0.15555555555555559, -0.14583333333333334, 0.0, 0.19166666666666665, 0.08333333333333333, 0.0, 0.0, 0.35, 0.1, 0.0, 0.0, 0.0, 0.0, 0.0, 0.0, 0.0, 0.13636363636363635, 0.0625, 0.0, 0.0, 0.0, 0.25, -0.75, 0.0, 0.1, 0.0, -0.3821428571428572, 0.24166666666666667, 0.18958333333333333, 0.0, 0.5, 0.8, 0.0, 0.2, 0.0, 0.0, -0.1875, 0.32499999999999996, 0.55625, 0.0, 0.0, 0.0, 0.4285714285714286, -0.07333333333333333, 0.0, 0.4333333333333333, 0.0, 0.0, 0.0, 0.46666666666666673, 0.05, -0.1875, 0.5, 0.6, 0.0, 0.55, 0.0, 0.0, 0.0, 0.06818181818181818, 0.7, 0.1, 0.1, 0.35, 0.2, 0.0, 0.0, 0.5166666666666667, 0.04464285714285714, 0.0, 0.0, 0.0, 0.5, -0.23214285714285715, 0.2533333333333333, 0.5, 0.0, -0.1875, 0.025, 0.9, 0.5, 0.05, 0.4090909090909091, 0.0, -0.0625, -0.1625, 0.03333333333333333, 0.4000000000000001, 0.5166666666666667, 0.4, -0.1875, 0.0, 0.005555555555555536, 0.48333333333333334, 0.5, 0.0, -0.1875, 0.25, -0.6999999999999998, 0.0, 0.0, 0.08333333333333333, 0.3958333333333333, 0.175, 0.0, 0.0, 0.0, 0.0, 0.0, 0.0, 0.2888888888888889, 0.1, 0.1, 0.0, 0.39999999999999997, 0.1, 0.05555555555555555, -0.125, 0.1, 0.0, 0.04583333333333333, 0.0, 0.05555555555555555, -0.3499999999999999, 0.0, 0.05, 0.0, 0.4, 0.23333333333333336, -0.23333333333333328, 0.0, 0.3875, 0.0, -0.3999999999999999, 0.0, 0.125, 0.0, 0.0, 0.0, 1.0, 0.10833333333333332, 0.36190476190476195, 0.0, -0.75, 0.5166666666666667, 0.2833333333333333, 0.0, 0.1, 0.037500000000000006, 0.0, -0.15555555555555559, 0.25, 0.0, 0.0, 1.0, 0.0, 0.13636363636363635, 0.5166666666666667, 0.0, 0.13636363636363635, -0.1375, -0.1375, -0.13333333333333333, 0.5, 0.20000000000000004, 0.0, 0.15, -0.5, 0.08333333333333333, 0.0, 0.0, 0.0, 0.0, 0.0, 0.0, 0.0, -0.03749999999999999, 0.0, 0.16666666666666666, 0.49375, 0.0, 0.5, -0.37142857142857144, 0.0, 0.0, 0.0, 0.0, 0.0, 0.0, 0.0, 0.1, 0.0, -1.0, 0.0, 0.0, 0.15, 0.0, 0.0, 0.5, 0.5, 0.0, 0.0, 0.0, -0.3902777777777778, 0.2, 0.0, 0.0, 0.08333333333333333, 0.0, 0.0, 0.0, 0.0, 0.2857142857142857, 0.0, 0.0, 0.16666666666666666, 0.35, 0.390625, 0.5, 0.2857142857142857, 0.0, 0.16, 0.3333333333333333, 0.2, 0.0, 0.0, 0.0, 0.08333333333333333, 0.2857142857142857, 0.55, -0.1, 0.375, -0.2, 0.125, 0.15416666666666667, 0.5, 0.2857142857142857, -0.004761904761904782, 0.0, 0.3333333333333333, 0.45, 0.15333333333333338, 0.32, 0.0, 0.1464285714285714, 0.2857142857142857, 1.0, 0.125, 0.3333333333333333, 0.0, 0.0875, -0.008333333333333331, 0.16666666666666666, 0.0, 0.0, 6.938893903907228e-18, 0.1, 0.11481481481481481, -0.15, 0.0, -0.1875, 1.0, 0.0, 0.2833333333333333, 0.0, 0.0, 0.0, 0.19999999999999998, 0.11666666666666665, 0.0, 0.0, 0.0, 0.2857142857142857, 0.25, 0.22812500000000002, 0.2857142857142857, 0.5, 0.0, 0.625, 0.0, 0.16666666666666666, 0.0, 0.0, 0.0, 0.7083333333333334, 0.0, 0.2857142857142857, -0.19999999999999996, 0.0, 0.16666666666666666, 0.2857142857142857, 0.0, 0.0, 0.3333333333333333, 0.25, 0.0, 0.0, 0.0, 0.16666666666666666, 0.4, 0.14285714285714285, 0.0, 0.13636363636363635, 0.0, 0.0, 0.25, 0.5, 0.0, 0.0, 0.25, 0.0, 0.0, -0.13333333333333333, 0.16666666666666666, 0.5000000000000001, 0.125, 0.15, 0.0, 0.55, -0.125, 0.0, 0.0, 0.6, -0.1875, 0.16666666666666666, -0.06249999999999996, 0.0, 0.34285714285714286, 0.0, 0.0, 0.1, -1.0, 0.16666666666666666, 0.0, 0.325, 0.08184523809523811, 0.24285714285714285, 0.24285714285714285, 0.5, 0.0, -0.02, -0.02, 0.0, 0.0, 0.48828125, 0.0, 0.0, -0.3, -0.0625, 0.3, 0.0, 0.55, -0.15555555555555559, 0.0, 0.0, 0.0, 0.10000000000000002, 0.0, 0.5, 0.2, -0.10476190476190478, 0.0, 0.375, 0.0, 0.0, -0.1, 0.0, 0.0, 0.29166666666666663, 0.13333333333333333, 0.0, 0.625, 0.0, 0.08333333333333333, -0.30000000000000004, 0.125, 0.5, 0.19583333333333333, 0.5, -0.35, 0.45, 0.10416666666666667, -0.3, 0.11333333333333333, 0.0, 0.0, 0.5, 0.0062500000000000056, 0.0, 0.2924242424242424, 0.0, 0.0, 0.0, 0.0, 0.046875, 0.0, 0.0, 0.0, 0.0, 0.0, -0.3, -0.07916666666666666, 0.0, 0.0, 0.0, 0.0, 0.0, 0.0, 0.35, 0.0, 0.0, 0.0, 0.0, 0.0, 0.0, 0.0, 0.0, 0.0, 0.0, 0.101010101010101, 0.19583333333333333, 0.16666666666666666, 0.19246031746031744, 0.0625, 0.16666666666666666, -0.3, 0.0, -0.3, 0.0, 0.08888888888888889, -0.5, -0.1111111111111111, 0.0, 0.375, 0.4375, 0.0, -0.06874999999999999, 0.21666666666666667, 0.0, 0.22402597402597402, 0.375, 0.0, 0.21666666666666667, 0.0, 0.0, -1.0, 0.0, 0.08392857142857142, 0.0, 0.0, 0.125, 0.0, 0.0, 0.0, 0.0, 0.0, 0.0, 0.25, 0.8, 0.0, 0.7000000000000001, -0.08333333333333333, 0.0, 0.0, 0.35892857142857143, 0.0, 0.5, 0.06666666666666665, 0.0, 0.0, 0.0, -0.1, 0.0, 0.0, 0.0, 0.25, 0.0, -0.10714285714285715, 0.4, 0.0, 0.5, -0.2, 0.08333333333333333, 0.35714285714285715, 0.5, 0.3333333333333333, 0.5, 0.275, 0.0, 0.0, 0.0, 0.5, 0.35, -0.1, 0.0, -0.2, -0.75, 0.0, 0.0, 0.02777777777777778, 0.0, 0.6, 0.4, 0.0, 0.1, 0.26666666666666666, -6.938893903907228e-18, 0.0, 0.0, 0.0, 0.05, 0.022916666666666658, 0.0, 0.40625, 0.0, -0.7142857142857143, 0.0, 0.0, 0.5, 0.0, 0.0, 0.25, 0.0, 1.0, 0.5, -0.1625, 0.0, 0.0, 0.0, -0.05000000000000001, 0.02777777777777778, 0.05555555555555555, 0.5, 0.0, 0.11818181818181818, 0.0, 0.5, 0.0, 0.0, 0.0, 0.41666666666666663, 0.0, 0.125, 0.25, 0.0, 0.0, 0.0, 0.0, 0.425, 0.0, -0.09375, 0.0, 0.0, 0.0, 0.0, 0.25390625, 0.0, 0.11666666666666665, 0.1, 0.0, 0.0, 0.0, -0.25, 0.0, 0.0, 0.0, 0.0, 0.0, 0.16666666666666666, 0.0, 0.0, 0.0, 0.0, 0.0, 0.0, 0.0, 0.0, 0.0, 0.0, 0.0, 0.0, 0.07083333333333335, 0.2, 0.0, -0.016666666666666666, 0.0, -0.0625, 0.0, 0.0, 0.056249999999999994, 0.4, 0.25, 0.0, 0.2, 0.0, 0.0, 0.0, 0.525, 0.0, 0.0, -0.7152557373046875, 0.244140625, 0.0, 0.11666666666666665, 0.0, 0.0, 0.0, 0.0, 0.25, 0.0, 0.21666666666666667, 0.0, -0.04900568181818182, 1.0, 0.0, 0.0, 0.225, 0.125, 0.25, 0.0, 0.0, 0.0, 0.0, 0.05, 0.5, -0.3, 0.25, -0.39285714285714285, 1.0, 0.0, 0.0, 0.16666666666666666, 0.0, 0.0, 0.0, 0.0875, 0.0875, 0.34285714285714286, -0.5, 0.125, 0.175, 0.5, 0.3, 0.0, 0.015873015873015872, 0.1, 0.0, -0.05, 0.06666666666666667, 0.0, -0.1875, 0.0, 0.08, 0.3125, 0.16666666666666666, 0.07575757575757575, -0.5, 0.0, 0.0, 0.1, 0.3333333333333333, 0.16666666666666666, 0.16666666666666666, 0.0, 0.14107142857142857, 0.2, 0.25, 0.0, 0.01428571428571429, 0.0, 0.0, 0.1, 0.0, 0.0, 0.0, 0.0, 0.625, 0.04338624338624337, -0.10000000000000003, 0.029365079365079344, 0.0, 0.0, 0.0, -0.2958333333333334, -0.2916666666666667, 0.0, 0.1, 0.0, -0.2916666666666667, 0.54, -0.03854166666666666, -0.1, 0.0, 0.0, 0.4, 0.4444444444444445, 0.0, 0.25, 0.4375, 0.016666666666666663, 0.0, -0.016666666666666666, 0.0, 0.0, 0.0, 0.0, 0.0, -0.11249999999999999, 0.0, 0.0, 0.0, 0.0, -0.2708333333333333, 0.25, 0.7083333333333334, 0.0, 0.0, 0.0, 0.022222222222222216, 0.10714285714285714, 0.0, 0.0, 0.0, 0.0, 0.45833333333333337, 0.20833333333333331, 0.6, -0.46130952380952384, 0.0, 0.0, 0.8, 0.22348484848484848, 0.0, 0.25, 0.125, 0.0, 0.13333333333333333, 0.7, 0.0, 0.11666666666666667, 0.0, -0.09375, 0.0, 0.8, 0.0, 0.0, 0.375, 0.08333333333333333, 0.03333333333333333, 0.35, 0.25, 0.0, 0.0, 0.0, 0.0, 0.16, 0.25, 0.175, 0.4375, 0.0, 0.0, -0.1, 0.0, 0.0, 0.25, 0.5583333333333333, 0.0, -0.1875, 0.08333333333333333, 0.0, 0.1875, 0.0, 0.0, 0.0, 0.0, 0.0, 0.375, 0.0, 0.0, 0.0, 0.012500000000000004, 0.4333333333333333, 0.0, 0.0, 0.0, 0.0, 0.11458333333333334, 0.0, 0.0, 0.47500000000000003, 0.16666666666666666, 0.0, -0.20476190476190478, 0.0, 0.0, 0.0, 0.0, 0.2333333333333333, 0.0, -0.12916666666666665, 0.16666666666666666, 0.0, 0.0, 0.4222222222222222, 0.14285714285714285, 0.0, 0.13636363636363635, -0.16666666666666666, 0.08333333333333333, 0.0, 0.08750000000000001, 0.5625, -0.25, 0.0, 0.2583333333333333, 0.0, 0.0, 0.2857142857142857, 0.484375, 0.0, 0.0, 0.125, 0.35714285714285715, 0.06666666666666667, 0.0, 0.013888888888888886, 0.05555555555555555, 0.48333333333333334, 0.0, 0.0, 0.0, 0.13636363636363635, 0.2857142857142857, 0.0, 0.55, 0.14285714285714285, 0.0, 0.016666666666666663, 0.5, 0.0, 0.0, 0.0, 0.22499999999999998, 0.0, -0.05, -0.20833333333333331, 0.0, 0.0, 0.0, 0.0, 0.0, 0.0, 0.0, 0.4, 0.0, 0.04999999999999999, 0.3333333333333333, 0.1, 0.0, 0.0, 0.0, 0.0, 0.0, 0.0, 0.0, 0.15656565656565655, 0.15208333333333332, 0.08333333333333333, 0.0, 0.47222222222222215, 0.4000000000000001, 0.24000000000000005, -0.25, 0.0, 0.05555555555555555, 0.14851190476190476, 0.55, 0.0, 0.0, 0.012121212121212116, 0.075, 0.3875, 0.0, 0.125, 0.0, -0.15000000000000002, 0.0, 0.25, 0.55, 0.3666666666666667, 0.0, 0.55, 0.0, 0.4166666666666667, 0.0], \"xaxis\": \"x\", \"y\": [0.5, 0.5, 0.6375, 0.76, 0.55, 0.75, 0.0, 0.16666666666666666, 0.4, 0.63125, 0.35, 0.0, 0.0, 0.5, 0.0, 0.3666666666666667, 0.7111111111111111, 0.0, 0.0, 0.0, 0.0, 0.0, 0.5, 0.65, 0.65, 0.6666666666666666, 1.0, 0.0, 0.0, 0.0, 0.0, 0.0, 0.06666666666666667, 0.8333333333333334, 0.0, 0.9, 0.45, 0.4666666666666667, 0.5416666666666666, 0.0, 0.2333333333333333, 0.0, 0.6666666666666666, 0.0, 0.0, 0.0, 0.0, 0.0, 0.6666666666666666, 0.0, 0.4, 0.5357142857142857, 0.6900000000000001, 0.6000000000000001, 0.6000000000000001, 0.0, 0.35, 0.0, 0.06666666666666667, 0.1, 0.0, 0.5125, 0.4666666666666666, 0.4, 0.4, 1.0, 0.0, 0.5, 0.0, 0.26875, 0.5866666666666667, 0.7017857142857142, 0.5666666666666667, 0.1, 0.5, 0.35, 0.3333333333333333, 0.55, 0.7428571428571429, 0.16666666666666666, 0.0, 0.5625, 0.05, 0.0, 0.03333333333333333, 0.25, 0.0, 0.0, 0.4, 0.35000000000000003, 0.4714285714285714, 0.5178571428571428, 0.9, 0.49595959595959593, 0.0, 0.0, 0.4444444444444444, 0.0, 0.525, 0.0, 0.0, 0.3890909090909091, 0.3333333333333333, 0.0, 0.2888888888888889, 0.2708333333333333, 0.0, 0.4083333333333333, 0.21666666666666667, 0.0, 0.1, 0.65, 0.2, 0.25, 0.0, 0.25, 0.25, 0.0, 0.25, 0.0, 0.5, 0.5, 0.0, 0.0, 0.0, 0.3333333333333333, 0.8, 0.0, 0.2, 0.0, 0.6285714285714286, 0.3333333333333333, 0.4354166666666667, 0.0, 0.5, 0.9, 0.0, 0.2, 0.0, 0.0, 0.5, 0.6000000000000001, 0.6666666666666666, 0.0, 0.1, 0.0, 0.6857142857142857, 0.47333333333333333, 0.0, 0.7333333333333333, 0.0, 0.0, 0.0, 0.6333333333333333, 0.5625, 0.5, 0.625, 0.6, 0.0, 0.65, 0.0, 0.0, 0.0, 0.75, 0.6000000000000001, 0.4, 0.4, 0.35, 0.5, 0.0, 0.0, 0.5333333333333333, 0.4017857142857143, 0.0, 0.0, 0.0, 0.5, 0.7678571428571428, 0.3466666666666667, 0.625, 0.0, 0.5, 0.08333333333333334, 0.875, 0.5, 0.5, 0.5151515151515151, 1.0, 0.22083333333333333, 0.3222222222222222, 0.2333333333333333, 0.5666666666666668, 0.5333333333333333, 0.5, 0.5, 0.06666666666666667, 0.3111111111111111, 0.6166666666666667, 0.5625, 0.0, 0.5, 0.3333333333333333, 0.9, 0.0, 0.0, 0.21666666666666667, 0.41666666666666663, 0.26666666666666666, 0.0, 0.0, 0.0, 0.1, 0.0, 0.0, 0.611111111111111, 0.5, 0.4, 0.0, 0.5, 0.3, 0.29444444444444445, 0.125, 0.3, 0.0, 0.7041666666666667, 0.0, 0.16666666666666666, 0.5119047619047619, 0.0, 0.1, 0.0, 0.5, 0.31666666666666665, 0.41111111111111115, 0.0, 0.3875, 0.0, 0.5333333333333333, 0.0, 0.375, 0.0, 0.0, 0.0, 0.3, 0.2833333333333333, 0.611904761904762, 0.0, 1.0, 0.5333333333333333, 0.5666666666666667, 0.0, 0.4, 0.6125, 0.0, 0.2888888888888889, 0.3333333333333333, 0.0, 0.0, 1.0, 0.0, 0.45454545454545453, 0.5333333333333333, 0.0, 0.45454545454545453, 0.275, 0.275, 0.6333333333333333, 0.9, 0.65, 0.23333333333333334, 0.4666666666666666, 0.5, 0.19999999999999998, 0.9444444444444444, 0.22222222222222224, 0.0, 0.0, 0.0, 0.0, 0.0, 0.2875, 0.0, 0.5666666666666667, 0.7, 0.0, 0.5, 0.519047619047619, 0.0, 0.0, 0.0, 0.0, 0.65, 0.0, 0.0, 0.13333333333333333, 0.0, 1.0, 0.6333333333333333, 0.0, 0.75, 0.0, 0.0, 0.625, 0.5, 0.0, 0.125, 0.0, 0.6444444444444445, 0.2, 0.0, 0.0, 0.16666666666666666, 0.0, 0.0, 0.0, 0.0, 0.5357142857142857, 0.25, 0.0, 0.3333333333333333, 0.55, 0.5069444444444444, 0.9, 0.5357142857142857, 0.0, 0.5399999999999999, 0.5, 0.2, 0.0, 0.0, 0.125, 0.21666666666666667, 0.5357142857142857, 0.65, 0.25, 0.78125, 0.3, 0.4, 0.3666666666666667, 0.65, 0.5357142857142857, 0.6523809523809524, 0.0, 0.7666666666666666, 0.75, 0.5133333333333334, 0.6933333333333334, 0.30000000000000004, 0.5865079365079365, 0.5357142857142857, 1.0, 0.675, 0.47916666666666663, 0.0, 0.825, 0.5916666666666667, 0.3333333333333333, 0.0, 0.0, 0.45, 1.0, 0.46296296296296297, 0.25, 0.1, 0.5, 0.3, 0.625, 0.5666666666666667, 0.1, 0.0, 0.0, 0.6416666666666667, 0.24444444444444446, 0.0, 0.0, 0.0, 0.5357142857142857, 0.7222222222222222, 0.47500000000000003, 0.5357142857142857, 0.5625, 0.0, 0.5, 0.0, 0.5666666666666667, 0.0, 0.1, 0.48333333333333334, 0.43333333333333335, 0.0, 0.5357142857142857, 0.35555555555555557, 0.0, 0.3333333333333333, 0.5357142857142857, 0.0, 0.0, 0.4166666666666667, 0.35, 0.0, 0.06666666666666667, 0.05, 0.3333333333333333, 0.4, 0.26785714285714285, 1.0, 0.45454545454545453, 0.5, 0.125, 0.3333333333333333, 0.9, 0.06666666666666667, 0.0, 0.3625, 0.0, 0.0, 0.5777777777777778, 0.3333333333333333, 0.9, 0.3, 0.525, 0.0, 0.65, 0.375, 0.0, 0.0, 0.8, 0.5, 0.3333333333333333, 0.7388888888888888, 0.0, 0.5178571428571428, 0.0, 0.0, 0.3333333333333333, 1.0, 0.3333333333333333, 0.0, 0.30999999999999994, 0.4663690476190476, 0.5178571428571428, 0.5178571428571428, 0.8333333333333334, 0.0, 0.29000000000000004, 0.29000000000000004, 0.0, 0.0, 0.3333333333333333, 0.5, 0.1, 0.7, 0.4, 0.45, 0.0, 0.65, 0.2888888888888889, 0.0, 0.0, 0.0, 0.6555555555555556, 0.1, 0.5, 0.1, 0.5785714285714286, 0.0, 0.5, 0.0, 0.0, 0.4, 0.0, 0.1, 0.3645833333333333, 0.16666666666666666, 0.0, 0.5, 0.0, 0.5166666666666667, 0.2, 0.5375, 0.9, 0.5499999999999999, 0.9, 0.5, 0.5444444444444444, 0.3, 0.5, 0.26, 0.5, 0.0, 0.5, 0.4, 0.0, 0.5151515151515151, 0.0, 0.0, 0.0, 0.0, 0.75, 0.0, 0.0, 0.0, 0.0, 0.0, 0.5, 0.5666666666666667, 0.0, 0.0, 0.0, 0.0, 0.0, 0.0, 0.55, 0.0, 0.0, 0.0, 0.06666666666666667, 0.0, 0.038461538461538464, 0.06666666666666667, 0.0, 0.0, 0.0, 0.27777777777777773, 0.5499999999999999, 0.3333333333333333, 0.423015873015873, 0.65, 0.3333333333333333, 0.5, 0.0, 0.5, 0.0, 0.45555555555555555, 0.5, 0.5555555555555555, 0.0, 0.41666666666666663, 0.41666666666666663, 0.0, 0.11875000000000001, 0.9166666666666667, 0.0, 0.4411976911976912, 0.47916666666666663, 0.0, 0.9166666666666667, 0.0, 0.0, 1.0, 0.0, 0.30853174603174605, 0.0, 0.0, 0.16666666666666666, 0.0, 0.0, 0.0, 0.0, 0.0, 0.0, 0.3333333333333333, 0.75, 0.0, 0.5333333333333333, 0.16666666666666666, 0.0, 0.0, 0.5922619047619048, 0.0, 0.5, 0.6333333333333333, 0.0, 0.0, 0.0, 0.4, 0.0, 0.0, 0.0, 0.5333333333333333, 0.0, 0.7178571428571429, 0.6, 0.0, 0.5625, 0.6, 0.21666666666666667, 0.5714285714285714, 0.5, 0.38888888888888884, 0.625, 0.5416666666666666, 0.0, 0.0, 0.0, 0.5, 0.65, 0.4, 0.1, 0.0, 1.0, 0.0, 0.0, 0.16666666666666666, 0.0, 0.7, 0.5, 0.0, 0.26041666666666663, 0.8666666666666667, 0.44999999999999996, 0.4, 0.0, 0.0, 0.35, 0.5777777777777778, 0.0, 0.41666666666666663, 0.0, 0.8571428571428571, 0.0, 0.0, 0.5, 0.0, 0.0, 0.3333333333333333, 0.0, 0.3, 0.5, 0.5625, 0.0, 0.0, 0.0, 0.3111111111111111, 0.16666666666666666, 0.16666666666666666, 0.625, 0.0, 0.32727272727272727, 0.0, 0.5, 0.0, 0.1, 0.6666666666666666, 0.5, 0.0, 0.16666666666666666, 0.3194444444444444, 0.0, 0.25, 0.0, 0.1, 0.55, 0.0, 0.2833333333333333, 0.0, 0.0, 0.0, 0.0, 0.3458333333333333, 0.0, 0.18333333333333335, 0.1, 0.0, 0.0, 0.0, 0.65, 0.5, 0.0, 0.0, 0.0, 0.0, 0.3333333333333333, 0.0, 0.0, 0.0, 0.0, 0.0, 0.0, 0.0, 0.0, 0.06666666666666667, 0.0, 0.0, 0.1, 0.39999999999999997, 0.2, 0.0, 0.6333333333333333, 0.0, 0.5, 0.0, 0.0, 0.7, 0.4083333333333333, 0.3333333333333333, 0.0, 0.45, 0.0, 0.0, 0.0, 0.5416666666666666, 0.0, 0.5, 0.5, 0.6666666666666666, 0.0, 0.3444444444444445, 0.75, 0.0, 0.0, 0.06666666666666667, 0.75, 0.0, 0.5833333333333334, 0.0, 0.5, 0.75, 0.0, 0.0, 0.525, 0.29166666666666663, 0.3458333333333333, 0.0, 0.0, 0.0, 0.0, 0.0, 0.5, 0.5, 0.3333333333333333, 0.75, 0.75, 0.0, 1.0, 0.3333333333333333, 0.0, 0.25, 0.0, 0.2583333333333333, 0.2583333333333333, 0.46785714285714286, 0.6, 0.29166666666666663, 0.275, 0.625, 0.3666666666666667, 0.0, 0.30317460317460315, 0.4, 0.0, 0.4, 0.41111111111111115, 0.06666666666666667, 0.5, 1.0, 0.3966666666666666, 0.3333333333333333, 0.3333333333333333, 0.22196969696969698, 0.9, 0.0, 0.0, 0.55, 0.5333333333333333, 0.3333333333333333, 0.3333333333333333, 1.0, 0.44523809523809527, 0.5, 0.3333333333333333, 1.0, 0.17142857142857143, 1.0, 1.0, 0.4, 0.0, 0.1, 0.06666666666666667, 0.0, 0.625, 0.40820105820105823, 0.45, 0.4301587301587302, 0.0, 0.0, 0.1, 0.4708333333333333, 0.5416666666666666, 0.0, 0.4, 0.0, 0.5416666666666666, 0.49000000000000005, 0.475, 0.4, 0.0, 0.0, 0.5, 0.3222222222222222, 0.25, 0.45, 0.5111111111111111, 0.225, 0.0, 0.4666666666666666, 0.0, 0.0, 0.0, 0.0, 0.0, 0.375, 0.0, 0.0, 0.0, 0.0, 0.47361111111111115, 0.3333333333333333, 0.43333333333333335, 0.0, 0.0, 0.0, 0.4777777777777778, 0.7142857142857143, 0.0, 0.0, 0.0, 0.0, 0.5, 0.3333333333333333, 0.7000000000000001, 0.4619047619047619, 0.0, 0.0, 0.75, 0.39999999999999997, 0.125, 0.3333333333333333, 0.21666666666666667, 0.0, 0.5895833333333333, 0.6000000000000001, 0.0, 0.4583333333333333, 0.0, 0.25, 0.0, 0.9, 0.0, 0.3, 0.5, 0.21666666666666667, 0.022222222222222223, 0.4, 0.3125, 0.0, 0.0, 0.0, 0.06666666666666667, 0.5399999999999999, 0.75, 0.26666666666666666, 0.35000000000000003, 0.0, 0.0, 0.4, 0.0, 0.0, 0.3333333333333333, 0.45, 0.0, 0.5, 0.27777777777777773, 0.0, 0.35555555555555557, 0.0, 0.0, 0.0, 0.08333333333333334, 0.2625, 0.8, 0.125, 0.06666666666666667, 0.0, 0.20833333333333331, 0.7333333333333333, 0.06666666666666667, 0.0, 0.0, 0.0, 0.4666666666666667, 0.0, 1.0, 0.5, 0.5666666666666667, 0.0, 0.5523809523809523, 0.0, 0.0, 0.0, 0.1, 0.3972222222222222, 0.0, 0.5666666666666667, 0.3333333333333333, 0.1, 0.0, 0.5444444444444444, 0.26785714285714285, 0.0, 0.5, 0.16666666666666666, 0.4666666666666667, 0.0, 0.2333333333333333, 0.8944444444444444, 0.225, 0.0, 0.44166666666666665, 0.0, 0.0, 0.5357142857142857, 0.875, 0.0, 0.1, 0.41666666666666663, 0.4642857142857143, 0.4, 0.0, 0.2583333333333333, 0.14444444444444446, 0.6166666666666667, 0.0, 0.1, 0.0, 0.5, 0.5357142857142857, 0.06666666666666667, 0.65, 0.26785714285714285, 0.06666666666666667, 0.7166666666666667, 0.5, 0.0, 0.0, 0.0, 0.275, 0.0, 0.4, 0.16666666666666666, 0.0, 0.25, 1.0, 0.36923076923076925, 0.0, 0.0, 0.0, 1.0, 0.0, 0.775, 0.5666666666666668, 0.3, 0.0, 0.0, 0.0, 0.25, 0.0, 0.0, 0.0, 0.38888888888888884, 0.6833333333333335, 0.21666666666666667, 0.0, 0.5444444444444444, 0.9, 0.4333333333333334, 0.4, 0.0, 0.3111111111111111, 0.4779761904761905, 0.65, 0.0, 0.03333333333333333, 0.6333333333333333, 0.575, 0.575, 0.0, 0.2, 0.05, 0.19999999999999998, 0.0, 0.3333333333333333, 0.65, 0.4666666666666666, 0.0, 0.65, 0.0, 0.48333333333333334, 0.06666666666666667], \"yaxis\": \"y\"}],\n",
       "                        {\"legend\": {\"tracegroupgap\": 0}, \"template\": {\"data\": {\"bar\": [{\"error_x\": {\"color\": \"#2a3f5f\"}, \"error_y\": {\"color\": \"#2a3f5f\"}, \"marker\": {\"line\": {\"color\": \"#E5ECF6\", \"width\": 0.5}}, \"type\": \"bar\"}], \"barpolar\": [{\"marker\": {\"line\": {\"color\": \"#E5ECF6\", \"width\": 0.5}}, \"type\": \"barpolar\"}], \"carpet\": [{\"aaxis\": {\"endlinecolor\": \"#2a3f5f\", \"gridcolor\": \"white\", \"linecolor\": \"white\", \"minorgridcolor\": \"white\", \"startlinecolor\": \"#2a3f5f\"}, \"baxis\": {\"endlinecolor\": \"#2a3f5f\", \"gridcolor\": \"white\", \"linecolor\": \"white\", \"minorgridcolor\": \"white\", \"startlinecolor\": \"#2a3f5f\"}, \"type\": \"carpet\"}], \"choropleth\": [{\"colorbar\": {\"outlinewidth\": 0, \"ticks\": \"\"}, \"type\": \"choropleth\"}], \"contour\": [{\"colorbar\": {\"outlinewidth\": 0, \"ticks\": \"\"}, \"colorscale\": [[0.0, \"#0d0887\"], [0.1111111111111111, \"#46039f\"], [0.2222222222222222, \"#7201a8\"], [0.3333333333333333, \"#9c179e\"], [0.4444444444444444, \"#bd3786\"], [0.5555555555555556, \"#d8576b\"], [0.6666666666666666, \"#ed7953\"], [0.7777777777777778, \"#fb9f3a\"], [0.8888888888888888, \"#fdca26\"], [1.0, \"#f0f921\"]], \"type\": \"contour\"}], \"contourcarpet\": [{\"colorbar\": {\"outlinewidth\": 0, \"ticks\": \"\"}, \"type\": \"contourcarpet\"}], \"heatmap\": [{\"colorbar\": {\"outlinewidth\": 0, \"ticks\": \"\"}, \"colorscale\": [[0.0, \"#0d0887\"], [0.1111111111111111, \"#46039f\"], [0.2222222222222222, \"#7201a8\"], [0.3333333333333333, \"#9c179e\"], [0.4444444444444444, \"#bd3786\"], [0.5555555555555556, \"#d8576b\"], [0.6666666666666666, \"#ed7953\"], [0.7777777777777778, \"#fb9f3a\"], [0.8888888888888888, \"#fdca26\"], [1.0, \"#f0f921\"]], \"type\": \"heatmap\"}], \"heatmapgl\": [{\"colorbar\": {\"outlinewidth\": 0, \"ticks\": \"\"}, \"colorscale\": [[0.0, \"#0d0887\"], [0.1111111111111111, \"#46039f\"], [0.2222222222222222, \"#7201a8\"], [0.3333333333333333, \"#9c179e\"], [0.4444444444444444, \"#bd3786\"], [0.5555555555555556, \"#d8576b\"], [0.6666666666666666, \"#ed7953\"], [0.7777777777777778, \"#fb9f3a\"], [0.8888888888888888, \"#fdca26\"], [1.0, \"#f0f921\"]], \"type\": \"heatmapgl\"}], \"histogram\": [{\"marker\": {\"colorbar\": {\"outlinewidth\": 0, \"ticks\": \"\"}}, \"type\": \"histogram\"}], \"histogram2d\": [{\"colorbar\": {\"outlinewidth\": 0, \"ticks\": \"\"}, \"colorscale\": [[0.0, \"#0d0887\"], [0.1111111111111111, \"#46039f\"], [0.2222222222222222, \"#7201a8\"], [0.3333333333333333, \"#9c179e\"], [0.4444444444444444, \"#bd3786\"], [0.5555555555555556, \"#d8576b\"], [0.6666666666666666, \"#ed7953\"], [0.7777777777777778, \"#fb9f3a\"], [0.8888888888888888, \"#fdca26\"], [1.0, \"#f0f921\"]], \"type\": \"histogram2d\"}], \"histogram2dcontour\": [{\"colorbar\": {\"outlinewidth\": 0, \"ticks\": \"\"}, \"colorscale\": [[0.0, \"#0d0887\"], [0.1111111111111111, \"#46039f\"], [0.2222222222222222, \"#7201a8\"], [0.3333333333333333, \"#9c179e\"], [0.4444444444444444, \"#bd3786\"], [0.5555555555555556, \"#d8576b\"], [0.6666666666666666, \"#ed7953\"], [0.7777777777777778, \"#fb9f3a\"], [0.8888888888888888, \"#fdca26\"], [1.0, \"#f0f921\"]], \"type\": \"histogram2dcontour\"}], \"mesh3d\": [{\"colorbar\": {\"outlinewidth\": 0, \"ticks\": \"\"}, \"type\": \"mesh3d\"}], \"parcoords\": [{\"line\": {\"colorbar\": {\"outlinewidth\": 0, \"ticks\": \"\"}}, \"type\": \"parcoords\"}], \"pie\": [{\"automargin\": true, \"type\": \"pie\"}], \"scatter\": [{\"marker\": {\"colorbar\": {\"outlinewidth\": 0, \"ticks\": \"\"}}, \"type\": \"scatter\"}], \"scatter3d\": [{\"line\": {\"colorbar\": {\"outlinewidth\": 0, \"ticks\": \"\"}}, \"marker\": {\"colorbar\": {\"outlinewidth\": 0, \"ticks\": \"\"}}, \"type\": \"scatter3d\"}], \"scattercarpet\": [{\"marker\": {\"colorbar\": {\"outlinewidth\": 0, \"ticks\": \"\"}}, \"type\": \"scattercarpet\"}], \"scattergeo\": [{\"marker\": {\"colorbar\": {\"outlinewidth\": 0, \"ticks\": \"\"}}, \"type\": \"scattergeo\"}], \"scattergl\": [{\"marker\": {\"colorbar\": {\"outlinewidth\": 0, \"ticks\": \"\"}}, \"type\": \"scattergl\"}], \"scattermapbox\": [{\"marker\": {\"colorbar\": {\"outlinewidth\": 0, \"ticks\": \"\"}}, \"type\": \"scattermapbox\"}], \"scatterpolar\": [{\"marker\": {\"colorbar\": {\"outlinewidth\": 0, \"ticks\": \"\"}}, \"type\": \"scatterpolar\"}], \"scatterpolargl\": [{\"marker\": {\"colorbar\": {\"outlinewidth\": 0, \"ticks\": \"\"}}, \"type\": \"scatterpolargl\"}], \"scatterternary\": [{\"marker\": {\"colorbar\": {\"outlinewidth\": 0, \"ticks\": \"\"}}, \"type\": \"scatterternary\"}], \"surface\": [{\"colorbar\": {\"outlinewidth\": 0, \"ticks\": \"\"}, \"colorscale\": [[0.0, \"#0d0887\"], [0.1111111111111111, \"#46039f\"], [0.2222222222222222, \"#7201a8\"], [0.3333333333333333, \"#9c179e\"], [0.4444444444444444, \"#bd3786\"], [0.5555555555555556, \"#d8576b\"], [0.6666666666666666, \"#ed7953\"], [0.7777777777777778, \"#fb9f3a\"], [0.8888888888888888, \"#fdca26\"], [1.0, \"#f0f921\"]], \"type\": \"surface\"}], \"table\": [{\"cells\": {\"fill\": {\"color\": \"#EBF0F8\"}, \"line\": {\"color\": \"white\"}}, \"header\": {\"fill\": {\"color\": \"#C8D4E3\"}, \"line\": {\"color\": \"white\"}}, \"type\": \"table\"}]}, \"layout\": {\"annotationdefaults\": {\"arrowcolor\": \"#2a3f5f\", \"arrowhead\": 0, \"arrowwidth\": 1}, \"coloraxis\": {\"colorbar\": {\"outlinewidth\": 0, \"ticks\": \"\"}}, \"colorscale\": {\"diverging\": [[0, \"#8e0152\"], [0.1, \"#c51b7d\"], [0.2, \"#de77ae\"], [0.3, \"#f1b6da\"], [0.4, \"#fde0ef\"], [0.5, \"#f7f7f7\"], [0.6, \"#e6f5d0\"], [0.7, \"#b8e186\"], [0.8, \"#7fbc41\"], [0.9, \"#4d9221\"], [1, \"#276419\"]], \"sequential\": [[0.0, \"#0d0887\"], [0.1111111111111111, \"#46039f\"], [0.2222222222222222, \"#7201a8\"], [0.3333333333333333, \"#9c179e\"], [0.4444444444444444, \"#bd3786\"], [0.5555555555555556, \"#d8576b\"], [0.6666666666666666, \"#ed7953\"], [0.7777777777777778, \"#fb9f3a\"], [0.8888888888888888, \"#fdca26\"], [1.0, \"#f0f921\"]], \"sequentialminus\": [[0.0, \"#0d0887\"], [0.1111111111111111, \"#46039f\"], [0.2222222222222222, \"#7201a8\"], [0.3333333333333333, \"#9c179e\"], [0.4444444444444444, \"#bd3786\"], [0.5555555555555556, \"#d8576b\"], [0.6666666666666666, \"#ed7953\"], [0.7777777777777778, \"#fb9f3a\"], [0.8888888888888888, \"#fdca26\"], [1.0, \"#f0f921\"]]}, \"colorway\": [\"#636efa\", \"#EF553B\", \"#00cc96\", \"#ab63fa\", \"#FFA15A\", \"#19d3f3\", \"#FF6692\", \"#B6E880\", \"#FF97FF\", \"#FECB52\"], \"font\": {\"color\": \"#2a3f5f\"}, \"geo\": {\"bgcolor\": \"white\", \"lakecolor\": \"white\", \"landcolor\": \"#E5ECF6\", \"showlakes\": true, \"showland\": true, \"subunitcolor\": \"white\"}, \"hoverlabel\": {\"align\": \"left\"}, \"hovermode\": \"closest\", \"mapbox\": {\"style\": \"light\"}, \"paper_bgcolor\": \"white\", \"plot_bgcolor\": \"#E5ECF6\", \"polar\": {\"angularaxis\": {\"gridcolor\": \"white\", \"linecolor\": \"white\", \"ticks\": \"\"}, \"bgcolor\": \"#E5ECF6\", \"radialaxis\": {\"gridcolor\": \"white\", \"linecolor\": \"white\", \"ticks\": \"\"}}, \"scene\": {\"xaxis\": {\"backgroundcolor\": \"#E5ECF6\", \"gridcolor\": \"white\", \"gridwidth\": 2, \"linecolor\": \"white\", \"showbackground\": true, \"ticks\": \"\", \"zerolinecolor\": \"white\"}, \"yaxis\": {\"backgroundcolor\": \"#E5ECF6\", \"gridcolor\": \"white\", \"gridwidth\": 2, \"linecolor\": \"white\", \"showbackground\": true, \"ticks\": \"\", \"zerolinecolor\": \"white\"}, \"zaxis\": {\"backgroundcolor\": \"#E5ECF6\", \"gridcolor\": \"white\", \"gridwidth\": 2, \"linecolor\": \"white\", \"showbackground\": true, \"ticks\": \"\", \"zerolinecolor\": \"white\"}}, \"shapedefaults\": {\"line\": {\"color\": \"#2a3f5f\"}}, \"ternary\": {\"aaxis\": {\"gridcolor\": \"white\", \"linecolor\": \"white\", \"ticks\": \"\"}, \"baxis\": {\"gridcolor\": \"white\", \"linecolor\": \"white\", \"ticks\": \"\"}, \"bgcolor\": \"#E5ECF6\", \"caxis\": {\"gridcolor\": \"white\", \"linecolor\": \"white\", \"ticks\": \"\"}}, \"title\": {\"x\": 0.05}, \"xaxis\": {\"automargin\": true, \"gridcolor\": \"white\", \"linecolor\": \"white\", \"ticks\": \"\", \"title\": {\"standoff\": 15}, \"zerolinecolor\": \"white\", \"zerolinewidth\": 2}, \"yaxis\": {\"automargin\": true, \"gridcolor\": \"white\", \"linecolor\": \"white\", \"ticks\": \"\", \"title\": {\"standoff\": 15}, \"zerolinecolor\": \"white\", \"zerolinewidth\": 2}}}, \"title\": {\"text\": \"TextBlob Sentiment Analysis - With Emoji\"}, \"xaxis\": {\"anchor\": \"y\", \"domain\": [0.0, 1.0], \"title\": {\"text\": \"TB_polarity_with_emoji\"}}, \"yaxis\": {\"anchor\": \"x\", \"domain\": [0.0, 1.0], \"title\": {\"text\": \"TB_subjectivity_with_emoji\"}}},\n",
       "                        {\"responsive\": true}\n",
       "                    ).then(function(){\n",
       "                            \n",
       "var gd = document.getElementById('52dbcb79-16f0-45e5-bf14-dfaa1126697b');\n",
       "var x = new MutationObserver(function (mutations, observer) {{\n",
       "        var display = window.getComputedStyle(gd).display;\n",
       "        if (!display || display === 'none') {{\n",
       "            console.log([gd, 'removed!']);\n",
       "            Plotly.purge(gd);\n",
       "            observer.disconnect();\n",
       "        }}\n",
       "}});\n",
       "\n",
       "// Listen for the removal of the full notebook cells\n",
       "var notebookContainer = gd.closest('#notebook-container');\n",
       "if (notebookContainer) {{\n",
       "    x.observe(notebookContainer, {childList: true});\n",
       "}}\n",
       "\n",
       "// Listen for the clearing of the current output cell\n",
       "var outputEl = gd.closest('.output');\n",
       "if (outputEl) {{\n",
       "    x.observe(outputEl, {childList: true});\n",
       "}}\n",
       "\n",
       "                        })\n",
       "                };\n",
       "                });\n",
       "            </script>\n",
       "        </div>"
      ]
     },
     "metadata": {},
     "output_type": "display_data"
    }
   ],
   "source": [
    "fig = px.scatter(df_with_emojis, x=\"TB_polarity_with_emoji\", y=\"TB_subjectivity_with_emoji\", hover_data=['tweet_text'],\n",
    "                 title=\"TextBlob Sentiment Analysis - With Emoji\")\n",
    "\n",
    "fig.show()"
   ]
  },
  {
   "cell_type": "code",
   "execution_count": 23,
   "id": "4b9451d9-9889-43d4-ac9b-ba2159e520b9",
   "metadata": {},
   "outputs": [
    {
     "data": {
      "application/vnd.plotly.v1+json": {
       "config": {
        "plotlyServerURL": "https://plot.ly"
       },
       "data": [
        {
         "customdata": [
          [
           "case missed recommends 19 six old. learn safe effective"
          ],
          [
           "florida based grocery chain pharmacy retailer publix says offer 19 five ' time ' surprising ! publix heir gave sh load ron desantis campaign. boycottpublix"
          ],
          [
           "thank misinformation safety key issue. must communicate vaccines safe effective ! thisisourshot parents give mixed reaction 5"
          ],
          [
           "much damage done childhood trust rushing vax ? genuinely sad scientist really wonderful life saving vaccines places doubt , awful"
          ],
          [
           "responsible publix give 5"
          ],
          [
           "hey childhood diseases florida open ! ! ! diphtheria , chicken pox , whooping cough , polio , measles , tb , come free fools state ! ! ! shingles anyone?? ? florida state preorder"
          ],
          [
           "one biggest challenges overcoming skepticism effectiveness necessity it."
          ],
          [
           "baylor scott white medical research team needs unvaccinated study aiming better understand 19 prevention transmission."
          ],
          [
           "pfizer reduces sperm quality long ? ' health defense"
          ],
          [
           "soni although true many already exposed 19 , vaccines help prevent severely ill developing long term complications due virus , including death."
          ],
          [
           "despite tons evidence contrary , published following 19 vaccines locally , toddlers safe effective. find nearby tarrant county clinic ."
          ],
          [
           "publix give 5 publix release statement explaining decision"
          ],
          [
           "2. impulse make lot people."
          ],
          [
           "shots little here. hardest part"
          ],
          [
           "news leader younger 5 receive 19 vaccines springfield"
          ],
          [
           "aged 6 older eligible 19"
          ],
          [
           "two plus stressful keeping free , finally got first vaccine."
          ],
          [
           "fda cdc unanimously reported benefits outweigh risk comes vaccinating , parents seem divided."
          ],
          [
           "data back notion safer taking vaccine. peace mind , science."
          ],
          [
           "17,000 19 vaccines 5 headed"
          ],
          [
           "cdc director rochelle p. walensky endorsed advisory committee immunization practices acip recommendation 6 5 receive 19 vaccine. ..."
          ],
          [
           "vaccines approved fda ages 6 five age. offering group clinics throughout valley walk basis"
          ],
          [
           "litmus test trusting physician advice discernment whether recommend healthy adults ."
          ],
          [
           "6 protect , time summer family trips. studies shown safe effective preventing 19 illness children. read"
          ],
          [
           "6 protect , time summer family trips. studies shown safe effective preventing 19 illness children. read"
          ],
          [
           "maternal 19 decreases risk serious illness hospitalization 6 maternal risk hospitalization 19 among nejm"
          ],
          [
           "parents anxiously awaiting chance , remains seen robust demand be."
          ],
          [
           "georgia families struggle youngest"
          ],
          [
           "19 vaccines soon locally 5 age. find , visit call 1 833 422 4255. parents also talk health care provider. visit learn ."
          ],
          [
           "? tnvaxnow protectourfuture"
          ],
          [
           "cdc recommends 19 vaccines children. read recommendation"
          ],
          [
           "5 eligible 19. plan vaccinating ?"
          ],
          [
           "vaccines moment since , rather longer studies effects , said nashare white , 15 old. white fully , says ' hesitant baby."
          ],
          [
           "pretty sad see publix stores refusing offer children. surprising , given politics owners."
          ],
          [
           "company reportedly said offer 19 group time."
          ],
          [
           "19 pregnancy two price one nejm evidence 19 vaccines help protect mothers highly relevant patient counseling 2 1 deal may encourage mothers receive 19 vaccination."
          ],
          [
           "hope recent events attended 5 younger parents still waiting eligibility thus risk far higher effects unvaccinated vulnerable. thisiswhyweshouldstillwearmasks"
          ],
          [
           "good news families 19 preventable disease 6 older. dr. kris bryant , pediatric infectious diseases specialist norton s. reports."
          ],
          [
           "hard believe greedy publix could make money. know experience mother hurt store. publix give 5"
          ],
          [
           "publix ' give 5 christopher ' donnell tampa bay times"
          ],
          [
           "hesitancy , bureaucracy , inequity , need explain formulas could slow delivery last unprotected group."
          ],
          [
           "someone fill 5 would ever need given 1 4 represent 143 deaths. make make sense ."
          ],
          [
           "icymi tennessee gop lawmakers push block access vaccines. docs say ' bad idea"
          ],
          [
           ". give 5 grocery chain said explain decision time. times"
          ],
          [
           "four republican lawmakers ask gov. lee prevent giving 19 5"
          ],
          [
           "case planning take publix ..."
          ],
          [
           "company reportedly said offer 19 group time."
          ],
          [
           "company reportedly said offer 19 group time."
          ],
          [
           "finally eligible 19 two began shots first started going arms."
          ],
          [
           "hundreds locations across state offering , including one mall america , 6 months."
          ],
          [
           "maternal two doses mrna associated reduced risk hospitalization , including critical illness , among younger 6 age."
          ],
          [
           "ron desantis right. ' ' ' infants. sparkles maga cath"
          ],
          [
           "free country world pushing vaccines young. especially light recent admissions injuries. literally zero risk death covid. sickening"
          ],
          [
           "good. covidhearings"
          ],
          [
           "good tips ' appointment 6 19 vaccine."
          ],
          [
           "6 option parents. questions , talk pediatrician ."
          ],
          [
           "unitypoint clinic providing six five old. parents guardians use myunitypoint schedule gt call primary care physician office set appointment."
          ],
          [
           "company reportedly said offer 19 group time."
          ],
          [
           "encourage parents caregivers 6 5 take , said dr. janet memark , director cobb douglas public health."
          ],
          [
           "following eua moderna pfizer ages 6 four , parents questions vaccines whether child. please see faqs cdc learn benefits 19."
          ],
          [
           "mother provides protection fetus post natally covid."
          ],
          [
           "great pediatric programs many women investigators maternal 2 doses mrna associated w risk hospitalization 19 , including critical illness , among younger 6 mos womeninmedicine"
          ],
          [
           "hinton , republican , said saddened hear florida pre order aged 6 up. felt desantis left cold , despite platform parents rights."
          ],
          [
           "primary health clinics idaho largest metro area accepting walk patients seeking vaccines developed pfizer moderna."
          ],
          [
           "dhec says vaccines ages 6 5 given clinics , health departments , providers request them. click article link find site near you."
          ],
          [
           "angelenos 6 eligible receive 19 , protecting families worst virus. decision comes safegaurd la families finally breathe sigh relief knowing every household member protected."
          ],
          [
           "biden says ' planning another washington ap president joe biden visited clinic washington tuesday celebrate virtually americans 19 authorization vaccines"
          ],
          [
           "' ' discrediting ! ' expert slams fda ' approval 19 vaccines 5 saying little evidence needed parents america ' youngest line"
          ],
          [
           "biden says ' planning another washington ap president joe biden visited clinic washington tuesday celebrate virtually americans 19 authorization vaccines"
          ],
          [
           "ugh. case childcare center today , days able vaccinated. freaking close. technically exposed , given rapidly cases spread past , holding hope remain way."
          ],
          [
           "6 older 19 contra costa. ' safe , effective free way keep safe. info"
          ],
          [
           "mean 13 eddie st. louis county ? filled insane amount excitement joy able finally see friends. 19 vaccines safe ! learn"
          ],
          [
           "federal regulators approved 19 shots 5 last week. parents enthusiastically welcomed news made appointments quickly possible , many others wary vaccinated."
          ],
          [
           "starting week , 18 million additional eligible 19 vaccination. 19 ? , process ? find"
          ],
          [
           "npr talks claire hannan , helped navigate rollouts 50 states , challenges involved quickly shots millions kids."
          ],
          [
           "recent study maternal fetal antibody levels supports 19 maternal booster following full protect pregnant people , reports."
          ],
          [
           "returned u.s. abroad okayed lt 5 years. go 3 first dose ?"
          ],
          [
           "calling parents ! 19 vaccines 5 , anyone fence little ones ? please let know ! love hear ."
          ],
          [
           "ron desantis right. ' ' ' infants. thetford karen rose pv"
          ],
          [
           "' zero evidence benefit receiving shots. developed country injecting this. european countries even banned anyone 40yrs old. parents , defend this."
          ],
          [
           "u.s. states florida pre ordered covid19vaccine doses 5. federal government deadline june 14 states pre order doses."
          ],
          [
           "time politics. ' parents able everything keep safe , said president biden."
          ],
          [
           "6 4 eligible 19 vaccine. , call glenwood medical center schedule 320.634.5157."
          ],
          [
           "publix give 5"
          ],
          [
           "19 vaccines approved 6 4 yrs local pediatricians , health centers marin county public health mcph preparing. appointments opening week. find spots marincounty"
          ],
          [
           "parents give mixed reaction 5"
          ],
          [
           "parents questions 19 5 ? rush experts answers."
          ],
          [
           "fda cdc unanimously reported benefits outweigh risk comes vaccinating , parents seem divided."
          ],
          [
           "governor , 19 emergency long passed tennessee."
          ],
          [
           "good decision. following data. publix give 5"
          ],
          [
           "yeeeeessssss ! expanded eligibility vaccines ages 6 4 ! little excited starting tomorrow. info"
          ],
          [
           "5 ? 18 right away. 38 wait see 11 required 27 definitely kff 19 monitor april 13 26 , 2022 president vp"
          ],
          [
           "batshit crazy give six"
          ],
          [
           "newly eligible 19 , want hear you. feeling news ? trouble finding shots hampshire , easy process ? let us know voices .org."
          ],
          [
           "tenn. representative asks gov. bill lee halt distribution"
          ],
          [
           "19 5 6 old."
          ],
          [
           "ages 6 older green light 19 vaccine. ' time shots arms."
          ],
          [
           "fda cdc unanimously reported benefits outweigh risk comes vaccinating , parents seem divided."
          ],
          [
           "family part ground floor publix. great uncle personal accountant henry jenkins publix started"
          ],
          [
           "courage"
          ],
          [
           "publix give 5"
          ],
          [
           "clowns dangerous. family recovering last days 5 first positive case house. thankfully boosted. heartless group human beings.protect republicans t."
          ],
          [
           "experts look side effects expect six older."
          ],
          [
           "fda cdc unanimously reported benefits outweigh risk comes vaccinating , parents seem divided."
          ],
          [
           "q ucr expert dr. david lo shares thoughts vaccines children. read ucriverside"
          ],
          [
           "hard decision ... say parents decide 19"
          ],
          [
           "19 5 6 old."
          ],
          [
           "cdc receive smaller doses 19 , based age. like adult , ' helps keep 19 vaccines safe fda authorized ages 6 older."
          ],
          [
           "starting today begun administering pfizer moderna vaccines 6 mos 4 yrs main clinic , 1001 e. 9th street , building b. schedule appointment , call 775 328 2427."
          ],
          [
           ", cried booked appointment monday"
          ],
          [
           "following fda approval 19 6 , four republican state lawmakers urging gov. bill lee tennessee department health distribute vaccine."
          ],
          [
           "seem like cool caring group people."
          ],
          [
           "19 six five old. listen story jacqueline froelich"
          ],
          [
           "agriculture commissioner nikkifried decrying gov. rondesantis handling 19 , time lambasting recent decision pre order vaccinations florida."
          ],
          [
           "beginning june 28 , ages six four 19 ingham county health department."
          ],
          [
           "agriculture commissioner nikkifried decrying gov. rondesantis handling 19 , time lambasting recent decision pre order vaccinations florida."
          ],
          [
           "agriculture commissioner nikkifried decrying gov. rondesantis handling 19 , time lambasting recent decision pre order vaccinations florida."
          ],
          [
           "19 appointments june 23 24 national jewish health ages 5 11. visit website learn make appointment"
          ],
          [
           "agriculture commissioner nikkifried decrying gov. rondesantis handling 19 , time lambasting recent decision pre order vaccinations florida."
          ],
          [
           "6 eligible receive 19 , san mateo county officials encouraging guardians look toward pediatrician treatment."
          ],
          [
           "live updates n.y.c. begins vaccinating , milestone"
          ],
          [
           "way major grocery chain pharmacy retailer publix offer vaccinations nation youngest 1,200 us stores."
          ],
          [
           "letter gov. bill lee tennessee department health , four republican lawmakers ask halt distribution 6 old."
          ],
          [
           "iowa health experts encourage parents 6 19"
          ],
          [
           "18 adults became eligible covid19vaccines , 6 4 u.s. cdc"
          ],
          [
           "noah champ. got first dose pfizer 19 today. even cry."
          ],
          [
           "based florida company , drawing fucking line ! started , follow."
          ],
          [
           "publix offering 19 5"
          ],
          [
           "fda authorized emergency use two 19 vaccines 6 4 old. dr. priya soni discusses parents caregivers need know. learn"
          ],
          [
           "mercy holding 19 clinic five"
          ],
          [
           "thinking vaccinating , know vaccinesideffects suffering long 20 months. trial participants still suffering. drug makers help gets sick ."
          ],
          [
           "walk ins welcome starting thursday , three occhd clinic locations offer 19 doses 6 older. ne clinic , 2700 ne 63rd 405 419 4200. southern oaks clinic , 6728 hudson ave. , 405 419 4119. occhd w. clinic , 4330 nw 10th st 405 419 4150."
          ],
          [
           "heading tomorrow 2nd booster vaccination. continue wear n95 even , ' easy greatly reduces risk. protect others please. even mild cases long term effects , especially vax"
          ],
          [
           "time add younger team protected 19 vaccine. ask ' doctor questions , ' preparing this."
          ],
          [
           "know better"
          ],
          [
           "everyone ages 5 eligible 19 vaccines community based clinic regency mall ! walk ins welcome , ages 5 17 must accompanied guardian. information visit"
          ],
          [
           "well , except parents 82"
          ],
          [
           "5 really need 19 vaccine?? ?"
          ],
          [
           "vaccines moment since , rather longer studies effects ,"
          ],
          [
           "knoxville , tenn. wvlt tennessee representative jason zachary joined coalition gop housemembers asking gov. bill lee halt 19 distribution , promotion recommendation five age."
          ],
          [
           "little ones babies vaccines"
          ],
          [
           "time rethink ban cuba , ' ? long declared u.s. national security threat , vicente v rez cuban chemist loved kids. cuba became pioneer 19 vaccines"
          ],
          [
           "brave hospital patients among first ages 6 5 receive 19 louisiana , chnola ! schedule , go call nurse hotline 504.386.3125."
          ],
          [
           "cuba became pioneer 19 vaccines"
          ],
          [
           "19 vaccines five tippecanoe county starting thursday"
          ],
          [
           "tennessee house gop press gov. lee block state distribution youngest"
          ],
          [
           "wait ! brhd begin offering free 19 vaccines friday , june 24 , appointment , ages 6 5 ! learn upcoming clinics , make appointment , read faqs special update"
          ],
          [
           "must climate change sad sudden adult death definitely jab. anyone thinks killing people banned social media forever."
          ],
          [
           "clinics ages 6 scheduled. contact health care provider find state run walk clinic nearest arrives vermont , clinics scheduled."
          ],
          [
           "group strong level reinforce protection household , daycare facilities classrooms , thereby helping attendance also workplace , traxler said."
          ],
          [
           "younger valley opportunity ."
          ],
          [
           "gets 5 unfit ."
          ],
          [
           "learn importance vaccinating 5 19 ryan hassan , m.d. , m.p.h. visit"
          ],
          [
           "father two boys , know huge relief many parents 5 dallas county. encourage parents keep safe , talk pediatrician vaccinated."
          ],
          [
           "exclusive whistleblower says 120,000 troops still unvaccinated , army may move june 30 deadline far future ' health defense"
          ],
          [
           "shots little here. hardest part wired"
          ],
          [
           "six able 19 health district community events across northern nevada."
          ],
          [
           "6 24 west chester library offer pfizer 19 5. primary doses boosters also available. walk ins welcome ! information visit"
          ],
          [
           "four republican lawmakers ask gov. lee prevent giving 19 5 four republican lawmakers signed letter asking governor bill lee go federal recommendations give 19 vaccines minors."
          ],
          [
           "19 update 5 eligible pfizer moderna vaccine. learn safe effective"
          ],
          [
           "south bay parents bring clinics"
          ],
          [
           "southern nevada health district begin offering 19 vaccines 6 5 age."
          ],
          [
           "llp 225 19 approved lunchlearnpod somedocs podsincolor"
          ],
          [
           "join 6 29 facebook live event addressing key questions infants. hear ' dr. peter marks , dr. sara oliver . rsvp"
          ],
          [
           "5 , good luck finding st. joseph county."
          ],
          [
           "6 5 19 shots ! see doctors around state saying. talk health care provider find location near make appointment"
          ],
          [
           "contact ' healthcare provider schedule routine vaccines , including 19 , visit find near you."
          ],
          [
           "really ' want folks lose sight say ' ' , ' many fatal infection. joe kurland , infectious disease specialist , shares parents"
          ],
          [
           "5 access 19 vaccines. experts including , l.a. care deputy chief medical officer , say pfizer biontech moderna 19 vaccines offer important protection. find article."
          ],
          [
           "vaccinations five here. jim adams , md , chief medical officer , tells recommends youngest members families. covidvaccine"
          ],
          [
           "wednesday announced soon receive initial doses children. see information ."
          ],
          [
           "publix give 5 news , social impact perfect enemy vaccines"
          ],
          [
           "dr understood large group parents fully diseases understand science already c19 b trial data include prev. infection"
          ],
          [
           "genius doctor read jama study males adversely affected vaccine."
          ],
          [
           "statement u.s. secretary education miguel cardona 19 eligibility ages 5 younger"
          ],
          [
           "four republican lawmakers ask gov. lee prevent giving 19 5"
          ],
          [
           "19 6 , many parents wondering signed shot. chief health officer explains."
          ],
          [
           "u.s. country world six , president biden exclaimed ' ' country world right ' tuesday"
          ],
          [
           "wch offering walk 19 clinic 6 24. initial series booster vaccines available. pediatric vaccines boosters also qualify . please use main entrance check welcome center desk."
          ],
          [
           "six able 19 health district community events across northern nevada."
          ],
          [
           ". providing shots ages 6 4 beginning friday."
          ],
          [
           "whoever came idea invite reporters watch doctors hold little got deserves props."
          ],
          [
           "' see justification giving jabs babies 1 barely affected 2 ' ' immunity appears last matter weeks"
          ],
          [
           "excellent ! need protected great news."
          ],
          [
           "ages 6 5 million doses shipped across country. question many parents ?"
          ],
          [
           "19 trials vaccines conducted omicron predominance different incidence levels , efficacy estimates moderna pfizer vaccines cannot directly compared."
          ],
          [
           "5 patients tested positive week wednesday. patients 2 5yrs. summer continue keep babies safe healthy. remember 5 yet. cases start raising summer ."
          ],
          [
           "parents eager opportunity protect potentially fatal illness , wait continues."
          ],
          [
           "23,500 doses toddlers due arrive iowa week federal regulators approved use , according iowa department public health."
          ],
          [
           "shots little here. hardest part wired science hesitancy , bureaucracy , inequity , need explain formulas could slow delivery last unprotected group."
          ],
          [
           "might heard cdc recommends 19 six old. office appointments next week pfizer vaccine. ' share page appointments open."
          ],
          [
           "5 eligible vaccine. learn safe effective vaccines 5 yet. recommend visiting locations near you."
          ],
          [
           "tennessee house gop press gov. lee block state distribution youngest news , social impact perfect enemy vaccines"
          ],
          [
           "primary place 5 pediatrician ' office clinic. 5 19 vaccines sedgwick county"
          ],
          [
           "post shots little here. hardest part"
          ],
          [
           "franklin county public health holding clinics 6"
          ],
          [
           ". offering 19 northern nevada 6 older. information make appointment"
          ],
          [
           "19 6 older. stop office 225 w. waco dr 8 30am 4 30pm , monday friday receive vaccine. walk ins welcome."
          ],
          [
           "time politics. ' parents able everything keep safe , said president biden."
          ],
          [
           "officials vanderburgh county health department say ' planning hold 19 clinic 6 months."
          ],
          [
           "shots little here. hardest part"
          ],
          [
           "county received first supply moderna doses tuesday night providing appointment only."
          ],
          [
           "god ' sake ... f ' ng hell wrong stupid republican idiots?? ? tennessee house gop press gov. lee block state distribution youngest"
          ],
          [
           "5 eligible 19 vaccines. tricare pediatric clinic offer coming days. watch fb page info. continue offer vaccines boosters everyone else. call 224 610 3899 today !"
          ],
          [
           "5 walgreens ? ' know"
          ],
          [
           "6 older eligible 19 vaccines. metro health offer 19 vaccines starting today pop clinics. find nearest clinic visit us online"
          ],
          [
           "' moment many us waiting ! 19 vaccines authorized 6 older. talk doctor 19 vaccination."
          ],
          [
           "week , first 19 shots going arms youngest americans except florida state opted order vaccines ages six five old. newsbreaklocal"
          ],
          [
           "national efforts must combined efforts expand healthequity reduce impact systemic racism. read chanya holness ' op ed vaccines , equity , kids. cc"
          ],
          [
           "6 6 5 eligible 19 , southern nevada health district offering shots 8nn"
          ],
          [
           "u.s. delivers 2.7 mln doses five administration sites number delivered canada zero."
          ],
          [
           "starting wednesday , immunizations mall 6 old."
          ],
          [
           "case ' wondering stand vaccines youngest , told gazette. 4yo appointment friday !"
          ],
          [
           "5 walgreens ? ' know"
          ],
          [
           "yes. vaccines safe fda authorized ages 6 older. 19 vaccines undergoing intense safety monitoring u.s. history."
          ],
          [
           "poll days federal regulators gave green light ages 6m 4yrs eligible 19 , gop lawmakers asking gov. lee halt distribution youngsters. ?"
          ],
          [
           "wait supply , please complete form request appointment. contact child. form"
          ],
          [
           "manitobans asked opinion 19 plans children."
          ],
          [
           "cdc recommends six old. learn safe effective"
          ],
          [
           "colorado received vaccines 5. according vanessa bernal cdphe , shots begin administered early week."
          ],
          [
           "vaccines ages 5 older time , cdc food drug administration spent considerable time effort evaluating effectiveness safety vaccines"
          ],
          [
           "biden enthuses ' ' country world ' giving ' need vax. ' making scheme. animals died vax. would foreign substance injected ."
          ],
          [
           "cdc approved 6 , grace lee , pediatric infectious diseases physician , answers frequently asked questions vaccines children."
          ],
          [
           "offering appointments ages 6 4 pfizer 19 vaccine. make appointment answers questions"
          ],
          [
           "willing five head examined. data far final heart issues long term complications given anyone , much less children."
          ],
          [
           "majority pediatric hospitalizations 0 4 see . let ' protect 19 ! vaccinessavelives"
          ],
          [
           "last weekend , cdc gave official recommendation ages 6 older 19. vaccines ages 6mo jcph clinic starting today. info vaccines , visit"
          ],
          [
           "injecting bad parenting .. simply unfit mom dad"
          ],
          [
           "impulse make lot people."
          ],
          [
           "soon missouri younger 5 old. rollout pfizer moderna vaccines underway. co chair mu health care columbia dr."
          ],
          [
           "5 arrives michigan week know"
          ],
          [
           "cdc recommends 19 vaccines 6 age. learn schedule appointment calling ' primary care provider visiting"
          ],
          [
           "log twitter mental break find tn state legislature trying block literal landfill fire murfreesboro. great day middle tennesseans ."
          ],
          [
           "overheard conversation alternative doctors office. lady said knows vaccines work , twice bad reaction shots never vaccinated. congrats public health creating bigger group anti vaxxers !"
          ],
          [
           "republican members tennessee house calling gov. bill lee pause distribution 19 vaccines among , toddlers , preschoolers."
          ],
          [
           "pfizer moderna 19 5 available. contact pediatrician today make plan. readily accessible vaccines groups pharmacies pop clinics updates come."
          ],
          [
           "harlingen host 19 clinic"
          ],
          [
           "uofn anti mandatory pro wide availability mabs , paxlovid evusheld high risk kids. bad approved treatment 12s remdesivir hospitalized kids. vaccines approved 6 up."
          ],
          [
           "appointment"
          ],
          [
           "younger 5 ? would willing share thoughts news story ? contact soraya keiser skeiser .com ."
          ],
          [
           "questions 19 ? please callyourpediatrician ! ! !"
          ],
          [
           "dr. tim bray , director , joins ' ask expert discuss rollout 19 vaccines children."
          ],
          [
           "lack care society shown 5 parents microcosm lack care always ? article , close ..."
          ],
          [
           "wondering best ? read consider"
          ],
          [
           "weekly round chicago ' current cdc community level medium 5 approved availability vaccines masks still strongly recommended"
          ],
          [
           "happening walk ins welcome 3 vaccines currently 2 dose tx . toddlers 3 need book appointment nurse shots."
          ],
          [
           "' offering pfizer moderna children. walk vaccines ages 3 807 w. layton ave. 6 2 , appointments required"
          ],
          [
           "terrible legislature. tn gop conspiracy nuts needlessly keeping population risk. house gop lee stop state health officials giving '"
          ],
          [
           "house gop lee stop state health officials giving ' news , social impact perfect enemy vaccines"
          ],
          [
           "ages six older receive free houston health department sites learn vaccinations immunizations find nearby site"
          ],
          [
           ". offer 19 clinics ages 6 four years. please see dates , times , locations , including schools registration information."
          ],
          [
           "ages 6 4 eligible receive 19 ! visit find vaccinations near you. pathwaytothefuture getvaccinated"
          ],
          [
           "' scheduled excitement barely absorbing immense frustration ' taken long , also believe ' actually care country"
          ],
          [
           "five covid19. alex li , md , pediatrician deputy chief medical officer , spoke discuss safety efficacy children. millergeerpr"
          ],
          [
           "five eligible receive vaccine. appointments patients 6 made california online appointment booking platform , read"
          ],
          [
           "' thankful. ' thankful science. parents rushed make appointments first day 19 doses 5."
          ],
          [
           "letter governor tn gop reps want limit department health ' involvement vaccines"
          ],
          [
           "biden enthuses country world giving"
          ],
          [
           "excellent explanation help parents decide 19 apple podcasts"
          ],
          [
           "tennessee house gop press gov. bill lee block distribution youngest"
          ],
          [
           "parents caregivers lining newly approved 19 children. parents taking wait see approach planning all. ncga ncnews nchealth"
          ],
          [
           "let florida 19 editorial news , social impact perfect enemy vaccines"
          ],
          [
           "join call today 2 p.m. edt talking points healthcareworkers discussing parents 6 5 , plus online resources clinicians."
          ],
          [
           "fearless leader champion dr. johnson interviewed newly approved vaccinations 5. read covid19vaccine"
          ],
          [
           "knoxville anti vax supermajority wants block distributing kids. government overreach anti science anti parental choice pro life"
          ],
          [
           "knoxville anti vax supermajority wants block distributing kids. government overreach anti science anti parental choice pro life"
          ],
          [
           "light shocking development , immediately halt cv19 recommendation children. everyone , really. 1"
          ],
          [
           "latest recommendations moderna 19 ages 6 17 tomorrow , june 23 , advisory committee immunization practices. join call sccmsome"
          ],
          [
           "looked replies tweet mine yesterday regarding vaccine. ' amazing number trolls anti vaxxers feel need spew anti science , bible verses threat. statistic need know. 70 dead az."
          ],
          [
           "summit county public health says currently pfizer , three series."
          ],
          [
           "folks , 19 vaccine. enough research long term studies effects. me. sincerely , mom vaccinates"
          ],
          [
           "5 begun receiving doses 19 hospitals , pediatricians health care centers , merely days receiving approval fda ."
          ],
          [
           "st. charles county department public health begin offering 19 vaccinations ages 6 older june 27. appointments required vaccinations. schedule online call 636 949 1899."
          ],
          [
           "creepy joe ' borders , meeting oil companies anywhere else needs sure show clinic fjb ... fjb .... fjb"
          ],
          [
           "st. louis county department public health preparing offer 19 vaccinations six old. dph relies upon state missouri supply 19 , including doses aged six 5 years."
          ],
          [
           "tennessee house republican leadership wednesday asked gov. bill lee block department health distributing , promoting recommending 19 5."
          ],
          [
           "tennessee house republican leadership wednesday asked gov. bill lee block department health distributing , promoting recommending 19 5."
          ],
          [
           "tennessee house republican leadership wednesday asked gov. bill lee block department health distributing , promoting recommending 19 5."
          ],
          [
           "tennessee house republican leadership wednesday asked gov. bill lee block department health distributing , promoting recommending 19 5."
          ],
          [
           "tennessee house gop press gov. bill lee block distribution youngest"
          ],
          [
           "joe biden complete mess. bidenadministration bidengaffes centersfordiseasecontrolandpreventioncdc joebiden usnews washingtondc"
          ],
          [
           "tennessee house gop press gov. bill lee block distribution youngest"
          ],
          [
           "19 vaccines 6 help keep whole family safer serious illness hospitalization. give peace mind help loved ones getvaccinated. visit call 833 422 4255 find near you."
          ],
          [
           "icymi vaccines ages 6 up. able ages 6 safe effective 19 vaccines significant milestone brings even hope protects littlest michiganders."
          ],
          [
           "tennessee house gop press gov. bill lee block distribution youngest kids."
          ],
          [
           "tennessee house gop press gov. bill lee block distribution youngest science healthcare mix well tn. gop ! guns ok vaccinations ."
          ],
          [
           "' sick tired politicians trying make medical decisions. tennessee house gop press gov. bill lee block distribution youngest"
          ],
          [
           "tennessee house republican leaders pressing gov. bill lee block department health promotion distribution 5 under."
          ],
          [
           "5 19 shots johnson county"
          ],
          [
           "dr. sinda althoen , spoke discuss effectiveness safety 19 5. stjosephorange millergeerpr"
          ],
          [
           "parents looking 6 4 19 , vanderbilt ' monroe carell jr. ' hospital holding event week."
          ],
          [
           "mother shares emotional experience chicagonews breakingnews news"
          ],
          [
           "based known weighing benefits risks imho consenting jab tried endangerment."
          ],
          [
           "doctors discuss safety effectiveness 19 shots five. upcoming saturday mercy kansas , six four go clinic"
          ],
          [
           "much ignorance , polite reaction like desantis trying control constituents public health choices. house gop lee stop state health officials giving '"
          ],
          [
           "tucson residents looking place 5 try immunizeunder5"
          ],
          [
           "tennessee house gop press gov. bill lee block distribution youngest worst timeline ever"
          ],
          [
           "got call , take 9am tomorrow"
          ],
          [
           "desantis biden admin lying policy slay news"
          ],
          [
           "tennessee gop politicians pressuring governor stop state offering 19 5. would stunning incredibly predictable."
          ],
          [
           "group insists ' healthcare parents school governing bodies implement mask mandates. seems hypocritical legislate parents ' decisions covid."
          ],
          [
           "tennessee house gop press gov. bill lee block distribution youngest"
          ],
          [
           "today 6 able moderna pfizer vaccines."
          ],
          [
           "parents , vaccinating 19 removes one many worries comes kids. learn facts yourchoicetheirhealth"
          ],
          [
           "tennessee house gop press gov. bill lee block state distributing youngest"
          ],
          [
           "several central ohio health departments hosting 19 clinics 6 receive vaccine."
          ],
          [
           "tennessee house gop press gov. bill lee block distribution youngest"
          ],
          [
           "' heard ' difficult finding appt lt 5 19 vaccine. page comprehensive list vaxx locations dates , city. scroll see !"
          ],
          [
           "pfizer 19 impacts semen study much yet know regarding , want start jabbing babies? ? kids? ?"
          ],
          [
           "tennessee house gop press gov. bill lee block distribution youngest"
          ],
          [
           "tennessee house gop press gov. bill lee block distribution youngest"
          ],
          [
           "thursday ' immunization clinic friendship baptist church seaside people 5 older. younger yet."
          ],
          [
           "tennessee house gop press gov. bill lee block state distributing youngest"
          ],
          [
           "tennessee house gop press gov. bill lee block state distributing youngest"
          ],
          [
           "tennessee house gop press gov. bill lee block state distributing youngest"
          ],
          [
           "mdhhs announces six eligible vaccine."
          ],
          [
           "ron desantis right. ' ' ' infants. foramerica 87harvey"
          ],
          [
           "dr. norma perez spoke recent approval 5 19 vaccine. altamed"
          ],
          [
           "health providers hopeful rates increase wisconsin , ages 6 5 eligible 19 vaccine."
          ],
          [
           "u.s. food drug administration authorized use pfizer everyone six older moderna six five age."
          ],
          [
           "province seeks feedback manitobans 19 plans children. read full story"
          ],
          [
           "say mrna ' dontbetheexperiment sure hell let experiment ! ! protect future ! pfizer 19 impacts semen study"
          ],
          [
           "cdc recommending 19 vaccines 6 amid troubling surge hospitalizations omicron wave . dr. jeff barke joined kusi discuss latest recommendation."
          ],
          [
           "ron desantis right. ' ' ' infants. slatter"
          ],
          [
           "parents encouraged talk doctors 19 vaccines 6 up. visit link list locations providing vaccine."
          ],
          [
           "record high gas , groceries , rent , cost living , record inflation , find formula , crashing stock market , reckless pull afghanistan also leaving americans , sending trillions dollars overseas instead americans , hey , 6 shot."
          ],
          [
           ". talks claire hannan , helped navigate rollouts 50 states , challenges involved quickly shots millions kids."
          ],
          [
           "got 2 yr am. took 30 mins appt. thanks utpol utleg childrenshealth"
          ],
          [
           "moderna requires 2 shots pfizer 3."
          ],
          [
           "moderna requires 2 shots pfizer 3."
          ],
          [
           "several central ohio health departments hosting 19 clinics 6 receive vaccine."
          ],
          [
           "june 18 , cdc recommends 6 older pfizer moderna 19 vaccine. fcph offer clinics ages 6 starting week"
          ],
          [
           "ron desantis right. ' ' ' infants."
          ],
          [
           "u. missouri specialist says 19 shots safe effective columbia missourian"
          ],
          [
           "took lt 20 minutes attacked anti vax community vaccinating deadly virus. board certified pediatrician actually watched die suffer covid. thankful ! tweetiatrician"
          ],
          [
           "go doctor eczema shots ready group may cry happy tears. finally able vaccinated. finally"
          ],
          [
           "' wisconsin milwaukee set begin vaccinating youngest monday. bellin green bay waiting shipments."
          ],
          [
           "vacc problem vaccs ? know yall aint completely unvaccinated !"
          ],
          [
           "6 older eligible receive 19 ! visit find sites near you. jesdcares getvaccinated getboosted"
          ],
          [
           "today day ! vaccines finally ages 6 5 ! vaccines always best way protect family. callyourpediatrician learn schedule today."
          ],
          [
           "ron desantis right. ' ' ' infants. tahardy al"
          ],
          [
           "infected 19 , teens really sick short long term health problems spread 19 loved ones community help protect teens 19."
          ],
          [
           "home. city ' home program offering vaccines 6 age. schedule appointment learn vaccines"
          ],
          [
           "finally ! thank always protecting ! anywhere near charleston sc , want , practice incredible vaccinating 6mo moderna. tweetiatrician vaccineswork"
          ],
          [
           "staying healthy pregnancy important health baby. encourages expecting mothers stay date 19 vaccines , including boosters. learn maternalhealth orangecounty"
          ],
          [
           "claim safe effective without actually knowing serious malpractice. idea risks , know fact risks incredibly tiny. insanity."
          ],
          [
           "kiddo ' first scheduled friday morning. huge sigh relief is. ' wait finally see world. fair first 2 life ."
          ],
          [
           "ordered 32,000 doses 19 vaccines 6 old. two batches expected arrive week."
          ],
          [
           "this. many friends parents yet sure sick thoughts care understand feel , worth read"
          ],
          [
           "ask expert msu doctor answers questions 19"
          ],
          [
           "happy wednesday ! week board certified pediatrician , dr. nina ford johnson joins us answer questions 19 know it. tbginsession podsincolor"
          ],
          [
           "exciting long awaited 19 youngest approved. yet arrive office distribution. know many anxious vaccinated. let know soon offer one clinics."
          ],
          [
           "19 update everyone 6 older able 19. help protect severe disease , hospitalization , death 19. learn"
          ],
          [
           "19 became 5. oaklandca alamedacounty"
          ],
          [
           "' got approved saturday afternoon ages 6 5 , clinics ' offering vaccines anyone 3 18m pfizer cvs minute clinics . excited impatient ."
          ],
          [
           ". says due unexpected shipping delays currently access pfizer 5 old. moderna locations. wccb healthnews health news nc clt"
          ],
          [
           "upmc community pediatrics offering 19 vaccines 6 older. please call office schedule appointment. learn more."
          ],
          [
           "b u e ht"
          ],
          [
           "19 5 faqs parents infectious disease expert shares information 19"
          ],
          [
           "' waiting long time access vaccine. every group , 6 , country eligible protection 19 , said us surgeon general dr. vivek murthy read ..."
          ],
          [
           "wisconsin far ordered 48,500 19 doses 6 5 old."
          ],
          [
           "yesterday , joined leadership requesting direct halt distribution , promotion recommendation 5. letter sent governor ."
          ],
          [
           "speaks grace lee , associate chief medical officer pediatric infectious diseases physician , answering common questions parents vaccines children."
          ],
          [
           "starting today , 6 5 clinics pontiac southfield. oaklandcounty , learn"
          ],
          [
           "answering questions vaccinating little ones"
          ],
          [
           "dr. rauner vax 6 mo.s 4 yrs. preventable death vax hesitancy affecting vax rates best sources follow info going forward dr. katelyn jetelina , dr. daniel griffin."
          ],
          [
           "rant bit pharmacies denying eligible 3 ? babies stuck homes entire lives. vaccinateourkids"
          ],
          [
           "offering free vaccines 6 older. visit information hours locations note ' recommended call site ahead time confirm availability ."
          ],
          [
           "22 million teens ages 5 17 fully 19. , 5 eligible ! starting today , vaccines everyone ages 6 . schedule appointment learn"
          ],
          [
           "families ? surveyed parents 5 april found 18 eager asap 38 plan wait see 11 seek required 27 plan immunize disease"
          ],
          [
           "none joe jill care old."
          ],
          [
           "parents say , want protect potential problems future , safest effective way maximize protection , said michael chang , md , ."
          ],
          [
           "heard wake 5 27 morning started coughing. sign up. one lingering symptoms. got nearly 5 ago day , later afternoon receive first dose. parenting day"
          ],
          [
           "let florida 19 editorial tampa bay times"
          ],
          [
           "5 start 19 vaccines guidelines."
          ],
          [
           "thumbs dose one ! charlie got celebrate icecream cone. family celebrate day ? ps. questions vaccines , answers vaxyourfam"
          ],
          [
           "ron desantis right. ' ' ' infants. t4"
          ],
          [
           "republicans care 1 million americans dying one person dies , instantly blame ? 200 million americans , pretty noticeable vaccines actually safe like suggest ."
          ],
          [
           "safe effective 19 opening big , world little ones ages 6 up. learn move forward protect family"
          ],
          [
           "ron desantis right. ' ' ' infants. mc49"
          ],
          [
           "time politics. ' parents able everything keep safe , said president biden."
          ],
          [
           "u.s. begins vaccinating"
          ],
          [
           "beginning today , 5 mall america. plan take tot jab soon ? let ' talk ! better yet , email bethel ' finest soraya keiser skeiser .com tell fred sent !"
          ],
          [
           "1990s , 20 5 died rotavirus annually us. , 77 rotavirus. comparison , 442 4 died us , 30 parents said group."
          ],
          [
           "19 vaccines 6 help keep whole family safer serious illness hospitalization. give peace mind help loved ones getvaccinated. visit call 833 422 4255 find near you."
          ],
          [
           "california 5 begin vaccines los angeles times 2e"
          ],
          [
           "expanding 19 eligibility 5 following federal authorization. austin parents , talk pediatrician attend shots tots clinic , linked"
          ],
          [
           "santa fe parents visiting city week mixed feelings shots. many eager ones inoculated virus , others remained wary."
          ],
          [
           "summer season , best way keep safe healthy soak sun 19. ages 5 eligible ! learn"
          ],
          [
           "youngest americans start 19 vaccines tuesday. ' every know. usa today healthcare"
          ],
          [
           "ron desantis right. ' ' ' infants. churchill"
          ],
          [
           "take killing people causing heart inflammation twice without second time milder mildest cold 1st time nowhere near bad 5 flu attacks past"
          ],
          [
           "even though patient 8yo , fully already recovered fever , still hospitalized beijing. point gotta ask , point zero policy hundreds cases shut capital city ?"
          ],
          [
           "cdc recommends 6 older approving pfizer moderna vaccines saturday."
          ],
          [
           "ron desantis right. ' ' ' infants. fjc 1984"
          ],
          [
           "llp 225 19 approved lunchlearnpod podsincolor somedocs"
          ],
          [
           "6 5 19 shots ! make plan talk doctor ask questions vaccinated. also search locations find locations map mdh kidsdeserveavaccine"
          ],
          [
           "health departments west virginia , ohio kentucky yet able administer 19 vaccines 5 , although federal government said parents able within next weeks."
          ],
          [
           "hcps attend today coca call 2 3 p.m. et recommendations pfizer biontech moderna primary series 6 5 old. learn"
          ],
          [
           "missouri department health senior services adopted cdc ' recommendation 5 receive 19 vaccines thursday."
          ],
          [
           "franklin county public health holding 19 clinics week. ages eligible receive , including boosters."
          ],
          [
           "reminder us frantically trying schedule vaccines 5 government website friend , local pharmacies updating group respective pfizer moderna availability receive stock"
          ],
          [
           "breakingnews 6 older eligible 19 vaccines."
          ],
          [
           "cnn vaccines 5yo available. ' dr. answers questions safety , efficacy , importance vaccinating group children."
          ],
          [
           "ron desantis right. ' ' ' infants. back seth co usmaga fl luney"
          ],
          [
           "guess whose finally ? hottoddlersummer coming !"
          ],
          [
           "chicago folks looking appointments booked newly eligible 6 5 , visit site anyone eligible vaccines , share others still need vaccines boosters. getvaccinated"
          ],
          [
           "icymi utah 6 see one got son even earlier utpol"
          ],
          [
           "must watch parents vaccinated. remember providers compelled comply mandates gov cdc nih ama recommendations employer. independent physicians pa nps independent thinkers vs group thinkers."
          ],
          [
           "3.5 1 got first vaccine."
          ],
          [
           "latest cdc recommendation , 6 5 eligible receive 19 vaccine. learn , , call 832 393 4220."
          ],
          [
           "lawrence douglas county public health announced dates times 15 upcoming 19 clinics ages 6 4 old."
          ],
          [
           "vaccines youngest coloradans here. answers questions."
          ],
          [
           "following decision federal health officials authorize 6 receive 19 vaccines , californians able book appointments tiniest charges."
          ],
          [
           "5 begins ' shots california"
          ],
          [
           "19 doses 5 begun arriving wisconsin. ' ' mathew"
          ],
          [
           "gotten first shot. waiting long feel numb. dress event season ."
          ],
          [
           "6 older eligible 19 vaccine."
          ],
          [
           "rep. brenda lawrence mi 14 housedemocrat uscongress huge news ! youngest , 6 5 old."
          ],
          [
           "nothing brag ! ' vaxxed early , five boosters reach puberty ! biden enthuses ' ' country world ' giving"
          ],
          [
           "cdc recently approved vaccinations 6 up. segment health director talks exciting news , questions ' heard 19."
          ],
          [
           "feel like pending doom biden enthuses ' ' country world ' giving"
          ],
          [
           "minuteclinic vaccinating 18 cdc ' guidelines. schedule safe effective 19"
          ],
          [
           "scheduled appointment , listen up. ' yet gotten pfizer due shipping delay , moderna administering today."
          ],
          [
           "cases littlest begin shots state rolls 19 ages 5 younger"
          ],
          [
           "people"
          ],
          [
           "good news keeping ' cute schools"
          ],
          [
           "country giving shots little ..."
          ],
          [
           "ages 6 older receive 19 vaccine. point , offering moderna group. please visit listing appointment walk clinics."
          ],
          [
           "bad. key points 1. make sure date vaccines 2. polio causes fever , fatigue , headache , nausea. life threatening paralysis would consider long polio 3."
          ],
          [
           "manitoba seeks feedback"
          ],
          [
           "soon offering vaccines 6 months. contact ' pediatrician primary care provider schedule appointment. detail"
          ],
          [
           "19 doses 5 begun arriving wisconsin. ' ' available."
          ],
          [
           "19 event held week monroe carell jr. hospital wanting ages six four shot."
          ],
          [
           "abolishing federal public health agencies reasonable proposal giving power."
          ],
          [
           "everyone 6 protection worst outcomes covid. learn wecandothis"
          ],
          [
           "six older. salt lake county health department scheduling 19 shots ages six older. schedule appointment online calling 385 468 shot."
          ],
          [
           "5 kansas city"
          ],
          [
           "join cdc southern alliance downtown square ruleville sunflower county health fair 9am 1pm june 25th ! ' food , educational resources , 19 booths , fun outdoor activities , much more."
          ],
          [
           "19 vaccines approved ages 6 older. best way protect sick , hospitalized , long lasting health impacts due 19. call 419 599 5545 schedule appointment today."
          ],
          [
           "parents may questions 19 whether right child. pediatricians ready help. schedule appointment , find doctor."
          ],
          [
           "parents may questions 19 whether right child. pediatricians ready help. schedule appointment , find doctor."
          ],
          [
           "nashville parents say confident 19 children."
          ],
          [
           "soon missouri five younger"
          ],
          [
           "santa barbara county expected receive pediatric 19 vaccines aged five early week following recent emergency authorization pediatric vaccine."
          ],
          [
           "santa barbara county expected receive pediatric 19 vaccines aged five early week following recent emergency authorization pediatric vaccine."
          ],
          [
           "illinois updates quarantine rules , rollout"
          ],
          [
           "illinois updates quarantine rules , rollout"
          ],
          [
           "boy got first today ! ! !"
          ],
          [
           "19 bigger threat us school shootings"
          ],
          [
           "another expansion 19 eligibility , coconino county health human services cchhs begin offering doses wednesday , june 22."
          ],
          [
           "data emerging risks need weigh risks risks virus , virtually zero risk 19 , yet cdc recommending aged 6 5 take it. wtf going ?"
          ],
          [
           "waiting long time , says sara saporta keating , mom pediatric epidemiologist . 19 vaccines kiddos 6 5 ! share details pfizer moderna"
          ],
          [
           "parents 6 4 better protect 19. recommends , including already 19 , vaccinated. visit find 19 near"
          ],
          [
           "shots tots parents nashville"
          ],
          [
           "5 eligible receive 19 vaccines safe , effective , give parents peace mind knowing protected. make appointment"
          ],
          [
           "6 5 19 ! ! ! find provider vaccines"
          ],
          [
           "call medical provider check scheduling options uihc"
          ],
          [
           "shots tots parents nashville"
          ],
          [
           "biden demnazis ' ' country world ' alter dna"
          ],
          [
           "mother offered 1,000 last .. ' relatively intelligent , well meaning , caring person. imagine pressure coercion shitbag , obsessed parents put ."
          ],
          [
           "19 6 5 following approvals cdc fda , galveston county health district coastal health wellness week begin offering 19 vaccines ages 6 5 old."
          ],
          [
           "pfizer moderna vaccines ok 6 , doctors review three reasons parents."
          ],
          [
           "10 wants give 2"
          ],
          [
           "this. saw morning shows florida rds prohibiting infants. , calls crap facts. right whole time. omicron variant proved that."
          ],
          [
           "faq viral solutions offer moderna 19 5 ? see answer"
          ],
          [
           "ok salt lakes. vaccines 6mo higher"
          ],
          [
           "let ! vaccineswork getvaccinated vaxup"
          ],
          [
           "katie reis 6 son 3 daughter. neither ' plan changing time soon."
          ],
          [
           "work underway plan rollout aged six four , 19 group may approved use canada summer. covid19mb protectmb"
          ],
          [
           "vaccines roll ?"
          ],
          [
           "doctors health dallas department recommend 6 5 receive 19 , following centers disease control endorsement weekend."
          ],
          [
           "19 still spreading 12 older booster. keep future generations safe healthy , boosted today. connect nearest tribal clinic texting 55251."
          ],
          [
           "today ' newscast teton county residents sign 5 appointments. plus , wyoming residents comment primary elections electric vehicles , local documentary screens tonight."
          ],
          [
           "clare craig vs cdc director eua amendment request pfizer biontech 19 babies"
          ],
          [
           "moment many parents waiting ! 5 eligible receive vaccine. txlege"
          ],
          [
           "u.s. vaccines start roll"
          ],
          [
           "deaths due induced myocarditis significant increase heart attack risk among youth , risks tied 19 shots continue grow effectiveness reached embarrassing low. epoch times"
          ],
          [
           "another man 20s died. ravens linebacker jaylon ferguson 26 died. team say caused death. ferguson forced order play football."
          ],
          [
           "much evidence needed responsible fess stop pushing experimental , unlicensed inoculations , especially ?"
          ],
          [
           "latest 19 news york city prepares 5 york times"
          ],
          [
           "hour morning edition , nyc kicks latest rollout , time toddlers. ' explains launch may smooth ones past. tune ! 93.9fm"
          ],
          [
           "latest 19 news york city prepares 5 york times news worldnews googlenews sport fortnite vbucks roblox"
          ],
          [
           "7 30am already wasted sperm app blaming man death vaccine. fuckin weird. grow ."
          ],
          [
           "united states first country world offer safe effective 19 vaccines six , president biden said."
          ],
          [
           "biden visited clinic washington , first shots given last major group ineligible vaccines."
          ],
          [
           "unsure 5 19 ? pediatric infectious diseases expert msu answered common questions."
          ],
          [
           "starting today , 6 older receive columbus public health. currently , pfizer offered plans add moderna dose soon supplies available. visit find walk clinic works you."
          ],
          [
           "open smartnews read 19 side effects ? experts seek ease parents concerns read web , tap"
          ],
          [
           "biden enthuses ' ' country world ' giving"
          ],
          [
           "2 million california eligible vaccine. many ?"
          ],
          [
           "u.s. opens little shots begin week modern healthcare"
          ],
          [
           "dallas county immunization clinics doses recently approved six 4"
          ],
          [
           "waited really long time wasnt going son momma said .. immediate reaction positive versus mine hell wheels ... good read president"
          ],
          [
           "president joe biden visited clinic tuesday celebrate virtually americans 19"
          ],
          [
           "schedule ' 19 today."
          ],
          [
           "19 doses 5 begun arriving wisconsin. ' ' available."
          ],
          [
           "6 receive vaccine. call doctor local pharmacy determine availability. oaklandcounty residents schedule appointment us"
          ],
          [
           "family excited finally access 19 ! days little one protection do. grateful science ! chicago"
          ],
          [
           "number 19 cases texas reaches 7 million , san antonio ' youngest start receiving today. ' where."
          ],
          [
           "19 doses 5 begun arriving wisconsin. ' ' available."
          ],
          [
           "19 doses 5 begun arriving wisconsin. ' ' available."
          ],
          [
           "19 doses 5 begun arriving wisconsin. ' ' available."
          ],
          [
           "19 doses 5 begun arriving wisconsin. ' ' available."
          ],
          [
           "common side effects 5 alleviate"
          ],
          [
           "parents anxious see little ones novel disease wait much longer."
          ],
          [
           "parents decide 19 loves politics would consider death jab child. loves would never consider death jab. said said"
          ],
          [
           "19 authorized fda 6 5 ! pfizer moderna brands ."
          ],
          [
           "plans made roll st. louis county city health departments."
          ],
          [
           "19 doses 5 begun arriving wisconsin. ' ' available."
          ],
          [
           "19 doses 5 begun arriving wisconsin. ' ' available."
          ],
          [
           "5 axiosam"
          ],
          [
           ", concerns side effects , time full number shots could play parental decision making."
          ],
          [
           "lincoln lancaster county health department ' received 19 doses 5. , pharmacy options parents. ' know"
          ],
          [
           "questions 19 answered ! hhcga hispanichealth"
          ],
          [
           "19 doses 5 begun arriving wisconsin. ' ' available."
          ],
          [
           "champaign urbana public health district host clinics week. danville ambucs honor community mover shaker dean carlton. covering stories newsroom chambana radio news"
          ],
          [
           "19 vaccinations happening milwaukee."
          ],
          [
           "doctors cdc white house calling end testing policies exclude regular life."
          ],
          [
           "city lubbock public health dept. announces 19 availability"
          ],
          [
           "5000,000 michigan 6 eligible receive 19 vaccine."
          ],
          [
           "cdc admits never monitored vaers safety signals ' health defense"
          ],
          [
           "pediatric comes 3 doses 2 moderna. recommends even still shot. morning"
          ],
          [
           "19 3 older walk hayat pharmacy clinic. parents 6 2 schedule appointment next tuesday. live details schedule one ."
          ],
          [
           "hour morning edition , nyc kicks latest rollout , time toddlers. ' explains launch may smooth ones past. tune ! 93.9fm"
          ],
          [
           "3 older walk pediatric 19 hayat pharmacy. 530 ."
          ],
          [
           "dyk six older ? visit schedule appointment near you. vaccines covered medicaid meaning pocket costs members ! learn , visit"
          ],
          [
           "meticulously structured lives around hope shots understood brutal luxury so. mothering lot work best circumstances. mothering ... relentless."
          ],
          [
           "san antonio metro health announced offer 19 , ages 6 older."
          ],
          [
           "common side effects 5 alleviate"
          ],
          [
           "clare craig vs cdc director eua amendment request pfizer biontech 19 babies"
          ],
          [
           "common side effects 5 alleviate"
          ],
          [
           "need know , 5 charlotte."
          ],
          [
           "all. of. this. except 22 old. turned 4 gets tx friday. safe protected serious effects."
          ],
          [
           "uab pediatric infectious diseases co director dr. david kimberlin says protect younger worst 19."
          ],
          [
           "know data beginning covid. vascular target serious adults lc. forgetting mumps protect boys sterility. must learn possible control vascular damages lc , later"
          ],
          [
           "president joe biden visited clinic tuesday celebrate virtually americans 19 tuesday authorization vaccines 5 weekend."
          ],
          [
           "two , many families waited 19 vaccines youngest kids. illinois providers begun giving first vaccines 5."
          ],
          [
           "charleston police station lockwood drive one first locations offer 19 ages 6 5 old. many locations still yet receive doses. tune delays rollout !"
          ],
          [
           "wait parents want younger 19. ' experts say."
          ],
          [
           "flu killed 4x ' prove didnt mess going 5 trillion dollars spent way much money. someone countrys dont give"
          ],
          [
           "gang cult tracking software say ezra miller hostage. vaccines finally kids. logistics ' easy warnerstudios npr talks claire hannan , helped navigate rollouts 50 states , challenge"
          ],
          [
           "asking parents check appointment requirements taking receive 19"
          ],
          [
           "' country world right , president biden said , first lady jill biden met newly parents."
          ],
          [
           "president biden visits parents clinic able first time."
          ],
          [
           "across miami valley 6 19 vaccine."
          ],
          [
           "cult gang tracking software says ezra miller hostage. vaccines finally kids. logistics ' easy mmiw npr talks claire hannan , helped navigate rollouts 50 states , challenges involved"
          ],
          [
           "19 approved"
          ],
          [
           "19 approved"
          ],
          [
           "threat parents insane !"
          ],
          [
           "reminder vaccines 5 still limited places due underfunded understaffed rollout full first 5 outside study complete august authorized treatment drugs babies"
          ],
          [
           "cdc director rochelle p. walensky endorsed advisory committee immunization practices acip recommendation 6 5 receive 19 vaccine. ..."
          ],
          [
           "cdc admits never monitored vaers safety signals ' health defense"
          ],
          [
           "look news article daily caller gov. ron desantis plants flag first governor oppose vaccines"
          ],
          [
           "biden celebrates access six ' monumental step forward '"
          ],
          [
           "cdc recommends 19 vaccines link source article shared epocrates , 1 medical reference app."
          ],
          [
           "biden enthuses ' ' country world ' giving"
          ],
          [
           "u.s. vaccines start roll"
          ],
          [
           "austin travis county health authority approves 19 eligibility babies"
          ],
          [
           "president joe biden visited clinic tuesday celebrate virtually americans 19 tuesday authorization vaccines 5 weekend."
          ],
          [
           "orleans 6 first 19 vaccines today"
          ],
          [
           "chart doses intervals pedsicu great. thank tx"
          ],
          [
           "dr. geert vanden bossche explains injected 19"
          ],
          [
           "19 6 4 children. safe , effective , authorized fda recommended cdc. best place vax pediatrician office."
          ],
          [
           "us administer small , starting week learn usnews meded medical emednews"
          ],
          [
           "president joe biden visited clinic tuesday celebrate virtually americans 19 tuesday authorization vaccines 5 weekend."
          ],
          [
           "medical community lost touch reality ? biden enthuses ' ' country world ' giving vaccineskill"
          ],
          [
           "cdc orders injecting 6 babies two shots moderna cocid 19 important bullet point top right column gets myocarditis pericarditis first mrna experts advise additional mrna 19 shots given"
          ],
          [
           "19 along recommended childhood immunizations protect severe illness disease."
          ],
          [
           "5 , parents still questions. gathered questions parents one county ' top health officials answer."
          ],
          [
           "think good news. injecting babies 6 experimental vax. crazy. biden enthuses ' ' country world ' giving redstate"
          ],
          [
           "parents come decision ' going towards 19"
          ],
          [
           "pfizer biontech vs. moderna 19 5 know pfizer moderna biontech kidsvaccine"
          ],
          [
           "19 la county toddlers"
          ],
          [
           "aged six four eligible receive 19 mexico , according mexico department health."
          ],
          [
           "biden visits clinic , celebrates shots 5"
          ],
          [
           "president joe biden visited clinic tuesday celebrate virtually americans 19 tuesday authorization vaccines 5 weekend."
          ],
          [
           "local doctors address 19 5"
          ],
          [
           "' fat no. required public school ? homeschool. make work. ' glad did. parents decide 19 foxnews"
          ],
          [
           "parents 19 santa clara county"
          ],
          [
           "gov desantis wrong zero risk kids. right time antivirals move routine supply chains. feds assure access 23m persons without health insurance offer medicare benefits equity"
          ],
          [
           "this. , especially wait taken toll. sucked joy long awaited moment. compass spins , directionless. work care go bed again."
          ],
          [
           "parents decide 19"
          ],
          [
           "time politics. ' parents able everything keep safe , said president biden."
          ],
          [
           "heartbreaking"
          ],
          [
           "' official ! 6 older 19. vaccines health department starting thursday. klbk ' elizabeth fitz spoke officials find else parents know."
          ],
          [
           "tuesday , state health official signed allowing six five special versions pfizer moderna vaccines."
          ],
          [
           "5 , parents still questions. gathered questions parents one county ' top health officials answer."
          ],
          [
           "first day summer also first day many eligible 19. ' bay area rolling shots."
          ],
          [
           "6 able 19"
          ],
          [
           "tuesday ' first day summer , first day many parents ' could 19. ' know bay area ' rollout far."
          ],
          [
           "utah 6 19 shots. breathing sign relief utpol"
          ],
          [
           "cdc admits never monitored vaers safety signals ' health defense"
          ],
          [
           "president biden visited clinic tuesday celebrate virtually americans 19 tuesday authorization vaccines 5 weekend."
          ],
          [
           "handling well better adults. getvaccinated"
          ],
          [
           "cousin brooklyn got thinks train people think invincible bedridden lost 20lbs thought gonna die. vaccinated. , cool plan , america ."
          ],
          [
           "c.d.c. expected recommend vaccines"
          ],
          [
           "michigan department health human services announced tuesday michiganders ages 6 eligible 19 vaccine."
          ],
          [
           "turned comments , huh ? resources help people injured families victims killed 19 ?"
          ],
          [
           "vanderbilt hospital offering pfizer lt 5 details link reposting clarity tennessee kidsafetyfirst vaccinateourkids covidvaccine"
          ],
          [
           "5 arrive michigan week know story"
          ],
          [
           "5 , business ."
          ],
          [
           "white house coordinator tells parents even immunity previous infection cases drop 11 100,000 per day mark first time since may"
          ],
          [
           "parents conflicting views whether younger 5"
          ],
          [
           "mom thrilled chicagonews breakingnews news"
          ],
          [
           "families toddlers find vaccines primary health care provider one san francisco ' clinics."
          ],
          [
           "parents 5 , info vandy"
          ],
          [
           "dchd anticipates opening registration pediatric 19 fri. 6 24 appointments central public health center wheaton. residents seeking appointment sooner may able locate one using read"
          ],
          [
           "happy tears ! got appointment 2yrs waiting ! sense relief hope immense us parents !"
          ],
          [
           "vaccines 6 mo. 5 vaccinated. cdc given green light. moderna requires 2 doses. pfizer biontech requires 3. ' slow rollout shipping delays la county anticipates doses nearly 900 sites."
          ],
          [
           "ann robert h. lurie ' hospital chicago offering moderna individuals 6 4 5 . lurie ' continue offer pfizer 19 individual"
          ],
          [
           "president joe biden visited clinic tuesday celebrate virtually americans 19 tuesday authorization vaccines 5 weekend."
          ],
          [
           "president joe biden visited clinic tuesday celebrate virtually americans 19 tuesday authorization vaccines 5 weekend."
          ],
          [
           "moreover , underscores need thorough investigation apparent association 19 administration adverse cardiovascular outcomes among adults."
          ],
          [
           "hell kind parents 5 take , would never done first place , maybe may vulnerable ! !"
          ],
          [
           "cdc approved 19 shots 6 , lincoln lancaster county health department yet received doses."
          ],
          [
           "hooray keeping safe healthy ! first vaccines 5 administered today. lennon , aevin , callum sofia got pokes , first 3 , 3 series pfizer doses. vaccinessavelives learn"
          ],
          [
           "every got injection clinic day got double dose cdc says dont worry dont proof double dose hurt"
          ],
          [
           "5 .hell , 10 .vaccinated , youre sick head. please unfollow ."
          ],
          [
           "' listen pharmaceutical company. give !"
          ],
          [
           "saw 4000 trials 2 3 dropped out. make evaluation that."
          ],
          [
           "got covidvaccine third trimester january 2021 happy got antibodies , got boosters breastfeeding ! thankful 15 mo gets ! putkids1st"
          ],
          [
           "' official appointments ! ! hallelujah ! ! ! !"
          ],
          [
           "please watch share"
          ],
          [
           "u.s. president joe biden first lady jill biden visit clinic u.s. begins distributing vaccines 6"
          ],
          [
           "john williams newsclick would 5 ?"
          ],
          [
           "vaccines boosters best hope move beyond 19 pandemic. , 19 vaccines babies addition groups already eligible. learn"
          ],
          [
           "many parents faced question , also one version preferred ?"
          ],
          [
           "wrote tonight ' newsletter intro vaccines children. far one piece hate mail , improvement 2021 would several. apparently reckless wanting grandkids vaccinated."
          ],
          [
           "cdc admits never monitored vaers safety signals ' health defense"
          ],
          [
           "icymi schedule 19 younger 5 st. louis area."
          ],
          [
           "1. would never take masked pediatrician wanted masked. 2. yes , would talk pediatrician mrna , recommended , would find pediatrician , 3. agent well aap."
          ],
          [
           "approximately 500 younger 5 received first doses 19 rady ' hospital , according hospital officials. 207,723 san diego county included eligible group ."
          ],
          [
           "white house coordinator tells parents even immunity previous infection cases drop 11 100,000 per day mark first time since may"
          ],
          [
           "starting thursday , june 23 , 19 vaccines 6 older mecklenburg county public health details wccb covide health"
          ],
          [
           "6 5 soon able vaccinated. vaccinategoleta cityofgoleta"
          ],
          [
           "6 receive 19 vaccines. find regarding sites eligibility"
          ],
          [
           "justin buncombe county administered newly approved moderna 19 6 five 30 today. county still waiting shipment pfizer vaccines approved 6 four old. 13"
          ],
          [
           "know 19 san antonio know 19 san antonio"
          ],
          [
           "' seen many including group ' hospitalized heart inflammation infection. ' still learning means lifetime."
          ],
          [
           "biden visits clinic washington health authorities approve 19 vaccines six months."
          ],
          [
           "today , sedgwick county health department released statement following cdc recommending 19 vaccinations children. details kakenews"
          ],
          [
           "oldest 3 finally scheduled youngest eligible next month. thank scientists making possible"
          ],
          [
           "whywake resident clinic began vaccinating 6 mo 5 19 today. grateful hospital clinic leadership well nursing staff making happen quickly ! schedule appointment today."
          ],
          [
           "americans 19 shot."
          ],
          [
           "shipments vaccines younger providers began yesterday , june 20. recommend call first ask pediatrician preferred clinic yet. continuing work providers across oregon make doses available."
          ],
          [
           "co chair mu health care said 5 younger able first 19 dose coming days."
          ],
          [
           "president joe biden visited clinic tuesday celebrate virtually americans 19 tuesday authorization vaccines 5 weekend."
          ],
          [
           "tuesday , four younger across country began versions pfizer modena 19 shots smaller. ron heg omaha nebraska"
          ],
          [
           "appointments required ages six five , 18 younger must guardian them."
          ],
          [
           "starting youngest san franciscans week ! info go getvaccinated"
          ],
          [
           "vaccines 6mos 5yrs starting today. best way fully protect soon possible. also protects , loved ones , community ."
          ],
          [
           "tuesday , rady ' hospital administered hundreds 19 shots youngest san diegans eligible receive 19 vaccine."
          ],
          [
           "fda authorizing use little 6 , mexico follow california make attend public schools take shot."
          ],
          [
           "clare craig vs cdc director eua amendment request pfizer biontech 19 babies"
          ],
          [
           "cdc admits never monitored vaers safety signals ! response foia request submitted health defense."
          ],
          [
           "charlotte mistakenly given double dose , father says"
          ],
          [
           "19 shots tots 5 dc , md. va."
          ],
          [
           "excited first 19 today ! part trials , learned got placebo darn ! gets real thing ! scheduling church dedication 2 wks 3rd !"
          ],
          [
           "mercy offer clinics 5"
          ],
          [
           "marin county 19 status update june 21 , 2022 includes moderna pfizer approved opportunities marin updated local 19 data full update subscribe daily updates email"
          ],
          [
           "one question answered ages 0 4 really need ? complications side effects emergency vs. mathematically insignificant risk death 19."
          ],
          [
           "one preferred ?"
          ],
          [
           "one preferred ?"
          ],
          [
           "one preferred ?"
          ],
          [
           "people go tv exaggerate know vaccines ps proof benefits , proof reduction misc hospitalization low n uptake still plateau 20 . lies uptake. sad ."
          ],
          [
           "day come soon enough families."
          ],
          [
           "five younger 19 , parents still fence."
          ],
          [
           "five younger 19 , parents still fence."
          ],
          [
           "6 5 eligible 19. dedicated health safety patients communities serve , sharing information clinics details finalized ! theverybestforkids"
          ],
          [
           "missouri health officials approved today. ' springfield greene county health says parents next"
          ],
          [
           "lurie offering moderna individuals 6 4 5 . lurie ' continue offer pfizer 19 individuals 5 older. make appointment , visit"
          ],
          [
           "god deal him."
          ],
          [
           "virtually americans 19"
          ],
          [
           "virtually americans 19"
          ],
          [
           "jonesboro pharmacy stocked 19 doses youngest children."
          ],
          [
           "19 vaccines soon locally 5 age. find , visit parents also talk health care provider , visit learn more."
          ],
          [
           "3 northeast ohio doctors weigh questions surrounding 19 vaccines news reports"
          ],
          [
           "michiganders ages 6 eligible 19 vaccine."
          ],
          [
           "' turn ! 19 vaccines 6 months. visit book appointment , call ' healthcare provider. getvaccinated myc19vaccine vaccinatepasadena"
          ],
          [
           "19 vaccines ages 6 4 atrium health wake forest baptist facilities. forsyth county department public health begin offering vaccinations wednesday."
          ],
          [
           "one preferred ?"
          ],
          [
           "one preferred ?"
          ],
          [
           "healthcare providers across miami valley starting offer 19 doses six months."
          ],
          [
           "update 19 vaccines 6 4 old. talk ' doctor setting appointment major health systems sf general offering children. info"
          ],
          [
           "parents eager 19 wait much longer."
          ],
          [
           "c.d.c. recommends vaccinations children. apoorva mandavilli nyt"
          ],
          [
           "' ecstatic ' finally happening , said leah casanave , health department ' division chief community health , nutrition clinical services. ' waited long enough."
          ],
          [
           "families waiting 5 receive"
          ],
          [
           "little finally scheduled next week 29th chose moderna considering information given"
          ],
          [
           "catch article ? c.d.c. recommends vaccinations children. nyt"
          ],
          [
           "c.d.c. recommends vaccinations children. apoorva mandavilli nyt york times"
          ],
          [
           "aph expanding 19 eligibility. caregivers 5 yrs skip online appointment process bring little ones sims elementary 1203 springdale rd. , austin , tx 78721 . wed thurs 2 7 p.m. sat 11 a.m. 3 p.m."
          ],
          [
           "great pediatric family support zoom last night presenting information lt 5 yo dr. yeganeh ladph. link vaccinessavelives covidvaccine pediatrics thisisourshot vacunateya"
          ],
          [
           "dallas county began administering first doses group tuesday afternoon. tarrant county plans start administering wednesday."
          ],
          [
           "c.d.c. recommends vaccinations children. apoorva mandavilli nyt"
          ],
          [
           "thalidomide , reason fda longer rushes drugs market . 19 shot. babies born without arms legs. born tiny flipper arms legs. severely disabled babies. many babies miscarried. thousands survived. many abandoned."
          ],
          [
           "c.d.c. recommends vaccinations children. apoorva mandavilli nyt"
          ],
          [
           "c.d.c. recommends vaccinations children. apoorva mandavilli nyt"
          ],
          [
           "families waiting 5 receive"
          ],
          [
           "immunocompromised great opportunity first vaccinated. hope people group protected , dad said."
          ],
          [
           "parents debate whether give"
          ],
          [
           "1.3 million adverse reactions cited vaers. remember studies found vaers accounts approx 10 adverse events , number much bigger"
          ],
          [
           "little kids??? ? way go ! ! ! ! ! !"
          ],
          [
           "received first today ! ! ! finally ! !"
          ],
          [
           "fda cdc approved use pfizer six four , also approved moderna six five age."
          ],
          [
           "tuesday marked first day toddlers 6 4 could 19 , following federal state approvals moderna pfizer vaccines weekend."
          ],
          [
           "total 12 participants managed two infections w time frame trial. 11 recipients one received ! ... 12 two infections , one never group !"
          ],
          [
           "c.d.c. recommends vaccinations children. apoorva mandavilli nyt"
          ],
          [
           "mexico officials mexico department health announced tuesday ages six four eligible 19 vaccine."
          ],
          [
           "city lubbock public health department pfizer moderna vaccines begin providing community week. ' know eligibility more."
          ],
          [
           "' ok money prevent us caught guard another risk , ' really necessary them."
          ],
          [
           "side effects 5 ? nbc chicago"
          ],
          [
           "need booster. mobile parking lot nice see shots. pride2022."
          ],
          [
           "one preferred ?"
          ],
          [
           "live charlotte area looking 5 , put together little list ya !"
          ],
          [
           "u.s. begins vaccinating great day ! ! ! vaccinessavelives"
          ],
          [
           "biden touts 19 access 6"
          ],
          [
           "nm department health announces six 4 eligible 19 vaccine. announcement comes three days federal cdc issued recommendation seven eligibility extended ages 5 11. nmpol"
          ],
          [
           "joked good time visit ' everybody knows like better people. ' heard sexualized daughter used shower man allowed near"
          ],
          [
           "today , umc received first doses ages 5 under. cdc recently approved pfizer 19 5 under. dr. christina mateo , pediatrician umc west clinic , son , kai , one 1st patients receive"
          ],
          [
           "6 able 19 vaccines. cdc fda signed approval last week."
          ],
          [
           "moderna pfizer brand vaccines administered lower doses."
          ],
          [
           ". offering 19 6 5 old."
          ],
          [
           "stop giving"
          ],
          [
           "hey fellow moms , dads caregivers , questions fda approved 19 5 , msu dr. rebecca shein covered."
          ],
          [
           "biden hails 19 historic , says offers peace mind washington times"
          ],
          [
           "' everybody knows like better people . '"
          ],
          [
           "' ? ' got questions newly approved vaccines six ? ' crazy , actually wrote edited starred story read click link"
          ],
          [
           "since signed 4.5 yo ' first dose , moved prayers."
          ],
          [
           "countries banned people 30 adverse events want give zero risk ? pure evil , way around it."
          ],
          [
           "great news ! dph announced today federal state approvals recommendations , ages 6 4 years. information found"
          ],
          [
           "parents five vaccines san francisco sfgate"
          ],
          [
           "19 relief finally arrives"
          ],
          [
           "gillette ' providing pfizer 19 patients six older. please visit gillette 19 information page learn more."
          ],
          [
           "iowa health experts encourage parents 6 19 krebs"
          ],
          [
           "like adults , experience 19 side effects. learn recent approval 5 game changer"
          ],
          [
           "c.d.c. recommends 19 vaccines 5"
          ],
          [
           "cdc director signed 19 vaccines earlier week , expanding shots six five old. across country first doses today. locally , take time."
          ],
          [
           "cdc director signed 19 vaccines earlier week , expanding shots six five old. across country first doses today. locally , take time."
          ],
          [
           "fda cdc approved 19 6 months. ' let know available. ' yet accepting appointment requests. read image below. click faqs families"
          ],
          [
           "clinic washington dc place 6 jab ! worse ever !"
          ],
          [
           "u.s. president joe biden first lady jill biden visit clinic hosted district columbia ' department health highlight recent authorization recommendation vaccines 5"
          ],
          [
           "19 vaccines approved 5 , two local doctors discuss parents need know. full story"
          ],
          [
           "find mid missouri able shots abc 17 news 6."
          ],
          [
           "19 best way help protect contracting spreading virus reduces risk severe illness hospitalization. find pediatric site near"
          ],
          [
           "biden celebrates us 19 rollout 5"
          ],
          [
           "add list reasons smart parents rejecting lunacy. actually , considered reckless endangerment. risk , zero benefit. wh chief recommends jab previously infected"
          ],
          [
           "nearly 300,000 wisconsin eligible 19 fda cdc approved shots 5."
          ],
          [
           "cdc admits never monitored vaers safety signals ' health defense"
          ],
          [
           "please experiment ! injections increase risk severe zero long term safety data"
          ],
          [
           "' ' waited long enough ' douglas county ' first 5 19"
          ],
          [
           "san francisco department public health said parents start ages 6 4 19 vaccine."
          ],
          [
           "call doctor seek advice little ones '"
          ],
          [
           "fda gave final approval weekend group vaccine."
          ],
          [
           "3 marin among first patients 5 receive 19 advocate medical group naperville tuesday. dad , chris , watching daughter sign finally almost back normal."
          ],
          [
           "scheduled ' first appointment ! waiting hold 40 minutes ... itsabouttime"
          ],
          [
           "cdc recommends 6 older approving pfizer moderna vaccines saturday."
          ],
          [
           "blue cross covers 19 vaccines 0 newly eligible health officials recommend everyone six older. learn find resources vaccines covidvaccines getthefactsgetthevax"
          ],
          [
           "banning 6 5 yr olds wrong ?"
          ],
          [
           "biden takes selfies receiving"
          ],
          [
           "youngest group eligible , wisconsin department health services recommending five 19."
          ],
          [
           "fda cdc authorized 19 vaccines ages 6 5 years. offering free pfizer vaccines robert b. green clinic 903 w. martin st saturday , june 25 8 a.m. noon. registration opens wednesday , june 22"
          ],
          [
           "parents guardians ! 19 vaccines 6 help keep whole family safer. give peace mind help loved ones getvaccinated. visit find near you."
          ],
          [
           "wait 6 older eligible receive 19 vaccine. learn"
          ],
          [
           "wait 6 older eligible receive 19 vaccine. learn"
          ],
          [
           "fda gave final approval weekend group vaccine."
          ],
          [
           "right mind would give 6 ? whole ordeal like 98 survival rate 19. pfizer moderna clue long term side effects !"
          ],
          [
           "got tot ' ready ?"
          ],
          [
           "five eligible receive 19 first time utah tuesday."
          ],
          [
           "fda gave final approval weekend group vaccine."
          ],
          [
           "' offering 19 clinic 6 25 22 9 00 11 00 ages 6 4 old. please call office schedule appointment space limited. 615 790 3200 read"
          ],
          [
           "fda gave final approval weekend group vaccine."
          ],
          [
           "fda gave final approval weekend group vaccine."
          ],
          [
           "nearly 300,000 wisconsin eligible 19 fda cdc approved shots 5."
          ],
          [
           "million dollar question , 66 drop trials ? trial end date 2 2024 , authorized , emergency authorization ? hypnotized ' bother eua ? parents ."
          ],
          [
           "parents weigh 19 options following approval cdc"
          ],
          [
           "immunizations became tuesday 19 million ages 6 5 , last group americans afforded protection , reports."
          ],
          [
           "men myocarditis maybe found sooner ? response freedom information request cdc admitted never analyzed cdc run vaers safety signals 19 vax"
          ],
          [
           "families able 6 19 ! contact pediatric provider schedule appointment. options include walgreens ages 3 cvs 18 . info getvaccinated"
          ],
          [
           "announced six eligible receive 19 vaccination. state health officials say reportedly 2,200 appointments currently statewide."
          ],
          [
           "watch 7 min review false claims made v. real data , comment."
          ],
          [
           "news parents care givers 5 eligible vaccines contact pediatric provider schedule appointment provide 5 targeted clinics certain communities impacted"
          ],
          [
           "biden touts 19 access 6"
          ],
          [
           "families flock rady hospital 5 kick"
          ],
          [
           "june 21 , missouri department health human services approved distribution moderna pfizer biontech 19 6 old."
          ],
          [
           "19 hard find littlest state ' ourshot site slow update"
          ],
          [
           "looking 19 vaccines 5 ? lancaster county parents may hard time finding one."
          ],
          [
           "dr jane orient , executive director american physicians surgeons , talks janetwalker hautelifestylecom janeorient aaps covidvaccine kidscovid medical science 19 rush inject"
          ],
          [
           "nearly 300,000 wisconsin eligible 19 fda cdc approved shots 5."
          ],
          [
           "6 5 19 shots ! make plan talk doctor ask questions vaccinated. read learn find vaccines newsletter"
          ],
          [
           "looking 19 vaccines 5 ? lancaster county parents may hard time finding one."
          ],
          [
           "great news ! aged 6 5 old. best tool fight virus , encourage protect loved ones eligible."
          ],
          [
           "19 vaccines 6 older. little one help keep whole family safer serious illness hospitalization. learn"
          ],
          [
           "nation youngest chance vaccines 19. shots began monday locations , though expected ramp juneteenth federal holiday."
          ],
          [
           "6 4 eligible san francisco. talk ' doctor setting appointment. read additional information dph"
          ],
          [
           "president joe biden visited clinic tuesday celebrate virtually americans 19 tuesday authorization vaccines 5 weekend."
          ],
          [
           "vaccines way ages 6 4 ! encourage parents caregivers reach primary health care provider regarding opportunities visit 1 2"
          ],
          [
           "best protection , cdc recommends 19 vaccines everyone 6 older boosters everyone 5 older , eligible. link six things know demvoice1"
          ],
          [
           "like adults , experience 19 side effects. learn recent approval 5 game changer"
          ],
          [
           "listen vital role pediatricians play vaccinating 5 19 ? today ' askanexpert , dr. explained eric thomas primary care doctors assure parents safety."
          ],
          [
           "irini got first vax ! event packed toddlers babies. really warms heart. happy mom ."
          ],
          [
           "biden visits d.c. clinic approval shots 5 biden encouraged parents aged 6 older following last week ' approval vaccines 5. nbcnews"
          ],
          [
           "families flock rady ' hospital 5 kick"
          ],
          [
           "' ' long time coming ' largest effort american history finally reached nation ' youngest."
          ],
          [
           "families flock rady ' hospital 5 kick"
          ],
          [
           "birminghampediatrics providing pfizer 19 ages 6 5 soon ! ' share additional update soon ' offering next group."
          ],
          [
           "solano county expands 19 eligibility"
          ],
          [
           "solano county expands 19 eligibility"
          ],
          [
           "parents book appointments 5 receive 19 mall america site."
          ],
          [
           "thanks ' leadership , nearly every american , parents protect dangerous disease. ' bfd !"
          ],
          [
           "vaccines six , families still questions shots."
          ],
          [
           "parents book appointments 5 receive 19 mall america site."
          ],
          [
           "parents book appointments 5 receive 19 mall america site."
          ],
          [
           "parents book appointments 5 receive 19 mall america site."
          ],
          [
           "dr. bishara freij , beaumont chief pediatric infectious disease , covid. die it. spread , well. fact ' less deadly , ' mean ' deadly. serious."
          ],
          [
           "first doses sized vaccines administered douglas county health department tuesday. parents said felt relief."
          ],
          [
           "summer season , best way keep safe healthy soak sun 19. ages 5 eligible !"
          ],
          [
           "ages six five 19. put together list younger kansas city area. may updated information."
          ],
          [
           "president joe biden celebrating virtually americans 19 authorization vaccines 5 weekend."
          ],
          [
           "dallas county gets doses"
          ],
          [
           "listen six older finally 19. eric thomas spoke dr. , senior scholar center health security."
          ],
          [
           "' authorized , vaccines 5 still largely unavailable michigan. story features , asks , urgency ? especially immunocompromised ones."
          ],
          [
           "' ! ! ! ' got 19 toddlers ! please read call 708 424 7600 schedule appointment"
          ],
          [
           "parents book appointments 5 receive 19 mall america site."
          ],
          [
           "parents book appointments 5 receive 19 mall america site."
          ],
          [
           "parents book appointments 5 receive 19 mall america site."
          ],
          [
           "think ' despicable biden celebrating this. even think ' fine 19 , respect fact many concerned ' know long term damage ? something celebrate."
          ],
          [
           "dchhs announced today 6 older covid19. clinics appointment ! schedule appointment online visit 972 692 2780 monday friday 8 30am 3 30pm"
          ],
          [
           "6 safe effective 19 vaccines. give peace mind. help loved ones getvaccinated. visit information."
          ],
          [
           "zero f king chance giving less 1 daughter zero chance ! 1. 2 kicked ass 2. 2 kicked wife butt 3a. booster kicked wife butt 3b. booster exposed breastfeeding made sick"
          ],
          [
           "3 northeast ohio doctors weigh questions surrounding 19 vaccines"
          ],
          [
           "cdc , fda authorize emergency use 6 cov19"
          ],
          [
           "mid june , 23 million ages 5 17 received two doses vaccine. lot great shots protected"
          ],
          [
           "enjoyed alex coba ' live performance morning ! thank sharing story musical talents . listen houston ' makemusicday2022 segment"
          ],
          [
           "el paso officials pre ordered shots specific group anticipation."
          ],
          [
           "first doses sized vaccines administered douglas county health department tuesday. parents said felt relief. read"
          ],
          [
           "cook county health looking forward providing 19 vaccines 6 4 soon ! expect first pediatric patients starting week june 27 , share details soon ."
          ],
          [
           "5 kansas city"
          ],
          [
           "eliza wills able book 19 appointment son easy. fact , said frustrating. ' alone. several parents guardians expressed frustration rollout 5."
          ],
          [
           "minnesota parents book 19 appointments 6 5 mall america ! good news minnesota families. learn"
          ],
          [
           "ages 6 4 eligible 19"
          ],
          [
           "president biden tuesday pledged smooth rollout 19 aged 6 4 head pharmacies doctors offices shots , giving rollout different look mass efforts older ages"
          ],
          [
           "look gift received today enrolling trial. showed us way ahead together"
          ],
          [
           "centers disease control approved vaccines ages 5 , local healthcare providers deck appointments little ones."
          ],
          [
           "officials mercy hospital announced two locations tuesday morning vaccine."
          ],
          [
           "welcome opportunity expand protection offered 19 community members."
          ],
          [
           "cdc signed 19 vaccines six , fox 17 got tips local pediatric infectious disease specialist parents consider comes vaccinating kids."
          ],
          [
           "thisisourshot protect today , began offering 19 vaccinations ages 6 5 years. appointments open number locations across region"
          ],
          [
           "mu health care ' 19 co chair dr. margaret day said people interested well vaccinations going work ' safe get."
          ],
          [
           "vaccines uchd clinics starting june 27th. cdc accepted advisory committee immunization practices acip recommendation ages 6 older covid19."
          ],
          [
           "austin public health offers several options 19 families 5 ' access pediatrician healthcare provider."
          ],
          [
           "' really hoping people understand means sense normalcy people enjoying , says northridge mom manpreet dhillon brar. story ."
          ],
          [
           "tomorrow 6 able local clinics."
          ],
          [
           "lawn biden highlights 19 visit clinic"
          ],
          [
           "cosy fm news ages 6 4 eligible 19 southwestmichigan swmichigan localnews"
          ],
          [
           "missouri department health senior services dhss adopted centers disease control prevention cdc recommendation six receive pfizer biontech moderna 19 vaccines."
          ],
          [
           "city lubbock public health department pfizer moderna vaccines begin providing community thursday , june 23."
          ],
          [
           "highly recommend ' jab 5"
          ],
          [
           "inject , ' parent. obviously willing go distance protect harm ."
          ],
          [
           "biden visits dc clinic administering 19 vaccines 5 old. president joe biden first lady jill biden visited washington , dc , clinic tuesday 5 immunized ..."
          ],
          [
           "good news ! appointments 6 4 vaccines , starting appointments wednesday , june 22. read pediatrics"
          ],
          [
           "6 5 19 shots ! make plan talk doctor ask questions vaccinated. also search locations find locations map"
          ],
          [
           "clare craig vs cdc director eua amendment request pfizer biontech 19 babies"
          ],
          [
           "nation youngest chance vaccines 19. shots began monday locations , though expected ramp juneteenth federal holiday."
          ],
          [
           "nation ' youngest chance vaccines 19."
          ],
          [
           "newsroom ages 6 4 eligible 19"
          ],
          [
           "tearful , relieved parents us babies toddlers first 19 shots covidvaccinekids pfizer fda getyourfirstshot"
          ],
          [
           "good news ! june 18 , cdc announced recommendation 6 19 vaccine. summer great time kiddos ' protected vacations school starts back learn"
          ],
          [
           "indiana state health officials encourage parents call 211 line find clinics littlest vaccinated."
          ],
          [
           "? talking little"
          ],
          [
           "first time six days 19 approval babies , american academy pediatrics released sleep guidelines prevent sudden death syndrome ."
          ],
          [
           "clinics ages 6 scheduled. find clinic nearest coming state week coming weeks. contact health care provider check site additional locations ."
          ],
          [
           "fda deemed 19 vaccines safe ages 6 5 , giving access last major group eligible vaccination."
          ],
          [
           "washington ap president joe biden visited clinic tuesday celebrate virtually americans 19 tuesday authorization vaccines 5 weekend."
          ],
          [
           "wsjm news ages 6 4 eligible 19 local state wsjmnews"
          ],
          [
           "check slinging knowledge 5 vaccines save lives"
          ],
          [
           "six 19 public health immunization clinic locations starting thursday 6 23 saturday clinic northwest health department 2845 beatties ford rd , charlotte 9 a.m. 2 p.m."
          ],
          [
           "going current future 6 5 ? pfe mrna"
          ],
          [
           "today exciting day began administering 19 ages 6 5 ! schedule appointment texaschildrens , log mychart account visit"
          ],
          [
           "independent panel advisors centers disease control prevention voted saturday recommend vaccinating 19 vaccines manufactured either moderna pfizer"
          ],
          [
           "thread .. 6m 4 5 years. bottom line last 3 , get. , info pfizer vs. moderna 1 n"
          ],
          [
           "19 youngest eligible population coming southern nevada."
          ],
          [
           "clinic june 27 9 11 a.m. berna facio professional development complex , 3315 louisiana blvd. ne. first second shots , plus boosters , , teens , adults."
          ],
          [
           "pharmaceutical sales rep pushing vaccines kids. 2.5 data support need kids. dashboard shows strong immune system covid."
          ],
          [
           "city lubbock public health department pfizer moderna vaccines begin providing community thursday , june 23."
          ],
          [
           "5 arrive michigan week know"
          ],
          [
           "president joe biden visited clinic tuesday celebrate virtually americans 19 tuesday authorization vaccines 5 weekend."
          ],
          [
           "president joe biden visited clinic tuesday celebrate virtually americans 19 tuesday authorization vaccines 5 weekend."
          ],
          [
           "prosecute jail involved ! mortality rate 5 less 0.1 . viability studies show effective ! instead non inferiority. finally , myocarditis pericarditis rates increased vaccine. pfizersucks"
          ],
          [
           "clare craig vs cdc director eua amendment request pfizer biontech 19 babies"
          ],
          [
           "19 vaccines become ages five state. utah health officials working answer potential questions concerns parents attaining children."
          ],
          [
           "huge milestone science ! vaccines safe , effective made them. outdoor activities summer fun , ' delay keeping safe. getthevax"
          ],
          [
           "19 vaccines 6 help keep whole family safer serious illness hospitalization. give peace mind help loved ones getvaccinated. visit call 833 422 4255 find near you."
          ],
          [
           "u.s. begins vaccinating health"
          ],
          [
           "receive smaller doses , based age. like adult , ' helps keep seriously sick 19."
          ],
          [
           "immunity covid19ab vaccines fades time booster gives protection. ' eligible , book additional dose 3rd dose everyone 12 immunocompromised 5 4th dose seniors 70 congregate care fnmi 65"
          ],
          [
           "president joe biden visited clinic tuesday celebrate virtually americans 19 tuesday authorization vaccines 5 weekend."
          ],
          [
           "fda authorized 19 vaccines 5. parents know ? cnn"
          ],
          [
           ". begin administering starting tomorrow. need two doses moderna three pfizer becomes available."
          ],
          [
           ", six , able receive 19 vaccination. mesa county public health ready help answer questions. information make appointment call us 970 248 6900."
          ],
          [
           "president joe biden visited clinic tuesday celebrate virtually americans 19 tuesday authorization vaccines 5 weekend"
          ],
          [
           "northeast ohio parents 5 managed schedule little ones yet ? keep striking out. frustrated thread places ' 17 ."
          ],
          [
           "salt lake county health department offering pfizer moderna vaccines six older."
          ],
          [
           "following cdc ' june 18 recommendation , austin travis county eligible receive newly authorized moderna pfizer biontech vaccines"
          ],
          [
           "president joe biden visited clinic tuesday celebrate virtually americans 19 authorization vaccines 5 weekend."
          ],
          [
           "ages 6 older receive safe effective 19 vaccine. takeyourshotnc"
          ],
          [
           "understand parents still may questions , respect rights parents choose medical measures right , said lisa stefanovsky , administrative health officer."
          ],
          [
           "desantis biden admin lying policy"
          ],
          [
           "watch live biden 19 vaccinations 5 associated press nyt"
          ],
          [
           "wh chief recommends jab previously infected"
          ],
          [
           "salt lake county health department offering 19 6 older today 5 different clinics availability"
          ],
          [
           "wisconsin department health services dhs supports centers disease control prevention cdc recommendation ages 6 5 19. within group"
          ],
          [
           "southern nevada beginning tomorrow , 6 5 receive 19 clinic. families sacrificed much protect youngest nevadans , major step forward safeguarding communities."
          ],
          [
           "make sure keep latest news headlines bulldog reports !"
          ],
          [
           "46 life , never seen anything confusing pushed children. literally makes sense. missing something ?"
          ],
          [
           "desantis biden admin lying policy"
          ],
          [
           "podcast preview finally , 6 older 19 vaccine. full episode"
          ],
          [
           "even think 4 yo younger jabbed watched"
          ],
          [
           "19 approved six five"
          ],
          [
           "wait ! shares parents know 5 vaccineswork"
          ],
          [
           "advocating important aspect job pediatricians , starts ! excited add youngest list !"
          ],
          [
           "spread word ! 6 4 eligible receive vaccinations ! ? check flyers santa clara county."
          ],
          [
           "saturday , recommended 6 5 pfizer moderna 19 vaccine. parents schedule appointments starting week. head check availability appointments ."
          ],
          [
           "' look first ages 6mon 5 release , ahwfb says appointments open across region moderna pfizer vaccines"
          ],
          [
           "gov. newsom announces additional 400,000 19 doses 5. many parents unsure , largely see need it."
          ],
          [
           "spot take severe illness 19 , spring summer ! class learning , school activities weekend fun part active childhood experience. ' wait ages 5 11 !"
          ],
          [
           "gov. newsom announces additional 400,000 19 doses 5"
          ],
          [
           "los angeles county department public health said website due delays shipping , 6 older may wednesday."
          ],
          [
           "fda cdc approved moderna pfizer 19 6 older. pfizer mchd starting thursday. moderna later month. call 251 410 mchd 6243"
          ],
          [
           "offering moderna 6 older beginning clinic friday , june 24 , 2022. friday clinics 8 30 10am 2 3 30pm. walk ins welcome make appointment gcph"
          ],
          [
           "!"
          ],
          [
           "state health officials answering questions following fda approval 19 vaccines six five old."
          ],
          [
           "begins ' shots california"
          ],
          [
           "live wisconsin dhs officials hold q regarding regarding 19 vaccinations 6 5 old."
          ],
          [
           "today wi update , reminder. holding media briefing right 5. watch"
          ],
          [
           "austin public health offering 19 vaccines 5"
          ],
          [
           "19 update 5 eligible pfizer moderna vaccine. learn safe effective"
          ],
          [
           "6 5 eligible 19 vaccine. learn benefits younger children."
          ],
          [
           "need , preschooler pediatric 19 ? austin public health walk clinics wednesday , thursday saturday"
          ],
          [
           "another example follow science crowd easily purposely misled science , claim worse thereby justify children."
          ],
          [
           "moment many parents waiting 6 5 receive 19 vaccine. offering clinics week babies"
          ],
          [
           "arkansas department health prepares 19 rollout"
          ],
          [
           "19 vaccines ages 6 4 dayton ' s. learn schedule appointment."
          ],
          [
           "19 ? make appointment , says."
          ],
          [
           "ages 6 eligible 19 vaccination. click read full story. cdhd offers vaccinations 8 4 30 pm f 6 pm thursdays. call 308 385 5175 information."
          ],
          [
           "plus 19 authorized children."
          ],
          [
           "parents long waiting cdc recommend toddlers. , wpln ' reports families nashville tots shot."
          ],
          [
           "wh chief recommends jab previously infected please !"
          ],
          [
           "lawn biden highlights 19 clinic visit"
          ],
          [
           "looking speak parents guardians 5 central indiana struggling find place kiddos 19 ."
          ],
          [
           "finally youngest group 19 ! callyourpediatrician learn find vaccinated. vaccinateourkids"
          ],
          [
           "people dying sleep happening regular basis. dead healthy people died sleep vaccines. one thing common."
          ],
          [
           "dhhs announces expansion 19 eligibility 6 nhpolitics"
          ],
          [
           "dhhs announces expansion 19 eligibility 6"
          ],
          [
           "u.s. start vaccines , though hurdles remain source york times"
          ],
          [
           "cdc worked coerce 5 risk , fear misleading data. confirmed one lead researchers. important read ."
          ],
          [
           "dhhs announces expansion 19 eligibility 6 nhpolitics"
          ],
          [
           "vaccines 6 babies ! ! ! ! noooooo ! worked 15 taking care mommas newborn babies. actually . surprised approved newborns yet. glad retired."
          ],
          [
           "louisianans ages 6 eligible free safe 3 dose pfizer biontech 2 dose moderna vaccine. check list providers near louisiana sleevesupla givecovidtheboot"
          ],
          [
           "frequently asked questions 19"
          ],
          [
           "cdc director endorsed recommendation ages six 5 receive pfizer moderna 19 vaccines"
          ],
          [
           "arkansas department health prepares 19 rollout news arkansasnews"
          ],
          [
           "cases rising texas. dshs recommends ages 6 4 either pfizer moderna vaccines. questions , talk pediatrician. find providers"
          ],
          [
           "recent survey kaiser family foundation , 18 parents said would immediately. 38 said plan wait see 27 said ' intend all."
          ],
          [
           "newsletter tuesday jun. 21 week ' edition covers 19 eligibility , isbe june board meeting recap , act ' employment opportunities , funding youth community programming ! check"
          ],
          [
           "arkansas department health prepares 19 rollout"
          ],
          [
           "dhhs announces expansion 19 eligibility 6"
          ],
          [
           "per cdc recommendations , offering 19 vaccines everyone ages 6 older , boosters everyone ages 5 older eligible. live des moines , call south side clinic schedule ' appt. 515 612 9577."
          ],
          [
           "happy little receive vaccines , confused receiving omicron vaccine. understanding vaccines based original covid. omicron protect ? original long gone ."
          ],
          [
           "starting today , 6 older st. louis area."
          ],
          [
           "parents 5 , vaccines approved group ?"
          ],
          [
           "dr. kimberlin division pediatric infectious diseases says 19 6 older safe effective maximizes protection children. mother , listening answers helpful !"
          ],
          [
           "icymi cdc authorized 5 ! huge relief parents keep safer. book appointment link below."
          ],
          [
           "thanks last weekend ' announcement , nearly 20 million eligible covid19. many families , welcoming news marks another important step expanding prevention options virus health complications."
          ],
          [
           "sedgwick , reno counties offering small kwch12"
          ],
          [
           "know"
          ],
          [
           "weekend , updated guidance ages 6 5 old. , pfizer biontech moderna 19 vaccines people aged 6 older. childrenwithdisabilities"
          ],
          [
           "next , final , major phase 19 campaign kicked week , california finally able secure doses 5. however , immediate access may limited."
          ],
          [
           "5 , dr. norma perez tells w vaccinating safe , effective , protects harmful effects virus. altamed"
          ],
          [
           "covid19vaccines expert dr. shares thoughts q vaccines vaccinesideeffects covidvaccines covidvaccine vaccinateourkids publichealth"
          ],
          [
           "forsyth county department public health accepting 19 appointments younger 5 start wednesday afternoon."
          ],
          [
           "watch live president biden gives remarks 19 vaccines five president joe biden expected give remarks tuesday nation ' , toddlers preschoolers finally chance 19 vaccination."
          ],
          [
           "unscientific policies continue diminish disrupt ' lives. join diverse array doctors , scientists advocates open letter calling end testing policies exclude normal life."
          ],
          [
           "really excited ' research intention among parents kidney disease. work progress since 2020 vaccines available. vaccinessavelives idtwitter"
          ],
          [
           "attention parents waiting , u.s. six eligible 19 vaccine. . hhcga hispanichealth"
          ],
          [
           "across texas received vaccinations fda authorized vaccinations 6 old. vaccineswork ! ehf texas worked raise confidence increase access life saving vaccines."
          ],
          [
           "actual science , cdc pushing vax onto children. european journal epidemiology increases 19 unrelated levels across 68 countries 2947 counties united states."
          ],
          [
           "vaccines roll slowly u.s. younger 5. dana goldstein nyt"
          ],
          [
           "u.s. start vaccines , though hurdles remain source york times"
          ],
          [
           "pediatricians roll first 19 authorized 5"
          ],
          [
           "5 , dr. norma perez tells mcaboy w vaccinating safe , effective , protects harmful effects virus. altamed"
          ],
          [
           "parents caregivers 6 5 better protect 19. vaccinations help keep family safe severe illness , hospitalization , death. find vaccines near wecandothis"
          ],
          [
           ". clinicaltrial helped confirm safety younger children."
          ],
          [
           "statement advisory committee ' approval safe , effective 19 ages 6 5 years. vaccineswork thisisourshot putkids1st callyourpediatrician"
          ],
          [
           "dallas county offer 19"
          ],
          [
           "vaccines toddlers welcome addition multi layered strategy protection 19 includes mask wearing , social distancing , hand washing boosters adults. stopthespread."
          ],
          [
           "colorado public health leaders plans place anticipating go ahead cdc."
          ]
         ],
         "hovertemplate": "TB_polarity_no_emoji=%{x}<br>TB_subjectivity_no_emoji=%{y}<br>tweet_text=%{customdata[0]}<extra></extra>",
         "legendgroup": "",
         "marker": {
          "color": "#636efa",
          "symbol": "circle"
         },
         "mode": "markers",
         "name": "",
         "orientation": "v",
         "showlegend": false,
         "type": "scatter",
         "x": [
          0.39999999999999997,
          0.875,
          0.3125,
          -0.07500000000000001,
          0.2,
          0.060416666666666674,
          0,
          0.16666666666666666,
          -0.05,
          0.034999999999999996,
          0.275,
          0,
          0,
          -0.1875,
          0,
          0.033333333333333326,
          0.21666666666666667,
          0,
          0,
          0,
          0,
          0,
          0.5,
          0.55,
          0.55,
          -0.3333333333333333,
          -0.25,
          0,
          0,
          0,
          0,
          0,
          0.03333333333333333,
          0.15,
          0,
          0.4,
          -0.030000000000000006,
          0.4333333333333333,
          -0.2916666666666667,
          0,
          -0.15000000000000002,
          0,
          -0.6999999999999998,
          0,
          0,
          0,
          0,
          0,
          0.125,
          0,
          0,
          0.2857142857142857,
          0.08,
          0.7,
          0.7,
          0,
          0.25,
          0,
          0,
          0,
          0,
          0.325,
          -0.2333333333333333,
          0.25,
          0.1,
          -0.5,
          0,
          -0.1875,
          0,
          0.037500000000000006,
          0.4333333333333333,
          0.14464285714285716,
          0,
          0,
          0.3333333333333333,
          0.17083333333333334,
          0.25,
          0.1328125,
          0.44285714285714284,
          0.06666666666666667,
          0,
          0.5,
          -0.05,
          0,
          0,
          0,
          0,
          0,
          -0.05,
          0.35,
          0.0625,
          0.14285714285714285,
          -0.6,
          0.12323232323232323,
          0,
          0.1,
          0.12222222222222223,
          0,
          0.4,
          0,
          0,
          -0.024545454545454544,
          0.16666666666666666,
          0,
          0,
          -0.2916666666666667,
          0.1,
          0.19166666666666665,
          0.08333333333333333,
          0,
          0,
          0.35,
          0.1,
          0,
          0,
          0,
          0,
          0,
          0,
          0,
          0.13636363636363635,
          0.0625,
          0.1,
          0,
          0,
          0.25,
          -0.75,
          0,
          0.1,
          0,
          -0.3821428571428572,
          0.24166666666666667,
          0.25277777777777777,
          0,
          0.5,
          0.8,
          0,
          0.2,
          0,
          0,
          -0.1875,
          0.32499999999999996,
          0.55625,
          0,
          0,
          0,
          0.4285714285714286,
          -0.07333333333333333,
          0,
          0.4333333333333333,
          0,
          0,
          0,
          0.46666666666666673,
          0.05,
          -0.1875,
          0.5,
          0.6,
          0,
          0.55,
          0,
          0,
          0,
          0.06818181818181818,
          0.7,
          0.1,
          0.1,
          0.35,
          0.2,
          0,
          0,
          0.5166666666666667,
          0.21428571428571427,
          0,
          0,
          0,
          0.5,
          0.2857142857142857,
          0.2533333333333333,
          0.5,
          0,
          -0.1875,
          0.025,
          0.9,
          0.5,
          0.05,
          0.4090909090909091,
          0,
          -0.0625,
          -0.1625,
          0.03333333333333333,
          0.4000000000000001,
          0.5166666666666667,
          0.4,
          -0.1875,
          0,
          0.16666666666666666,
          0.48333333333333334,
          0.5,
          0,
          -0.1875,
          0.125,
          -0.6999999999999998,
          0,
          0,
          0.08333333333333333,
          0.3958333333333333,
          0.175,
          0,
          0,
          0,
          0.05,
          0,
          0,
          0.2888888888888889,
          0.1,
          0.1,
          0,
          0.39999999999999997,
          0.1,
          0.05555555555555555,
          -0.125,
          0.1,
          0,
          0.026666666666666665,
          0,
          0.05555555555555555,
          -0.3499999999999999,
          0,
          0.05,
          0,
          0.4,
          0.23333333333333336,
          -0.23333333333333328,
          0,
          0.3875,
          0,
          -0.2133333333333333,
          0,
          0.125,
          0,
          0,
          0,
          1,
          0.07777777777777777,
          0.4,
          0,
          -0.75,
          0.5166666666666667,
          0.2833333333333333,
          0,
          0.1,
          0.037500000000000006,
          0,
          0,
          0.25,
          0,
          0,
          1,
          0,
          0.13636363636363635,
          0.5166666666666667,
          0,
          0.13636363636363635,
          0.2,
          0.2,
          -0.13333333333333333,
          0.5,
          0.20000000000000004,
          0,
          0.15,
          -0.5,
          0.08333333333333333,
          0,
          0,
          0,
          0,
          0,
          0,
          0,
          -0.03749999999999999,
          0,
          0.16666666666666666,
          0.49375,
          0,
          0.5,
          -0.37142857142857144,
          0,
          0,
          0,
          0,
          0,
          0,
          0,
          0.1,
          0,
          -1,
          0,
          0,
          0.15,
          0,
          0,
          0.5,
          0.5,
          0,
          0,
          0,
          -0.625,
          0.2,
          0,
          0,
          0.08333333333333333,
          0,
          0,
          0,
          0,
          0.2857142857142857,
          0,
          0,
          0.16666666666666666,
          0.35,
          0.390625,
          0.5,
          0.2857142857142857,
          0,
          0.16,
          0.3333333333333333,
          0.2,
          0,
          0,
          0,
          0.08333333333333333,
          0.2857142857142857,
          0.55,
          -0.1,
          0.375,
          -0.2,
          0.125,
          0.15416666666666667,
          0.5,
          0.2857142857142857,
          -0.016071428571428598,
          0,
          0.3333333333333333,
          0.45,
          0.15333333333333338,
          0.32,
          0,
          0.1464285714285714,
          0,
          1,
          0.125,
          0.3333333333333333,
          0,
          0.0875,
          0.018750000000000003,
          0.3333333333333333,
          0,
          0,
          6.938893903907228e-18,
          0.1,
          0.1,
          -0.15,
          0,
          -0.1875,
          1,
          0,
          0.2833333333333333,
          0,
          0,
          0.1,
          0.19999999999999998,
          0.11666666666666665,
          0,
          0,
          0,
          0.2857142857142857,
          0.25,
          0.22812500000000002,
          0.2857142857142857,
          0.5,
          0,
          0.625,
          0,
          0.16666666666666666,
          0,
          0,
          0,
          0.7083333333333334,
          0,
          0.2857142857142857,
          -0.2899999999999999,
          0,
          0.16666666666666666,
          0.2857142857142857,
          0,
          0,
          0.3333333333333333,
          0.25,
          0,
          0,
          0,
          0.16666666666666666,
          0.4,
          0.14285714285714285,
          0,
          0.13636363636363635,
          0,
          0,
          0.25,
          0.5,
          0.05,
          0,
          0.25,
          0,
          0,
          -0.13333333333333333,
          0.16666666666666666,
          0.30000000000000004,
          0.125,
          0.15,
          0,
          0.55,
          -0.125,
          0,
          0,
          0.6,
          -0.1875,
          0.16666666666666666,
          -0.06249999999999996,
          0,
          0.4,
          0.4,
          0,
          0.1,
          -1,
          0.16666666666666666,
          0,
          0.385,
          0.04623015873015874,
          0.24285714285714285,
          0.24285714285714285,
          0.5,
          0,
          -0.02,
          -0.02,
          0,
          0,
          0.48828125,
          0,
          0,
          -0.3,
          -0.0625,
          0.3,
          0,
          0.55,
          0,
          0,
          0,
          0,
          0.10000000000000002,
          0.05,
          0.5,
          0.2,
          -0.10476190476190478,
          0,
          0.375,
          0,
          0,
          -0.1,
          0,
          0,
          0.29166666666666663,
          0.13333333333333333,
          0,
          0.625,
          0,
          0.08333333333333333,
          -0.30000000000000004,
          0.125,
          0.5,
          0.19583333333333333,
          0.5,
          -0.35,
          0.45,
          0.10416666666666667,
          -0.3,
          0.11333333333333333,
          0,
          0,
          0.5,
          0.0062500000000000056,
          0,
          0.2924242424242424,
          0,
          0,
          0.4,
          0,
          0.046875,
          0,
          0.4,
          0.4,
          0.4,
          0.4,
          -0.3,
          -0.07916666666666666,
          0,
          0,
          0,
          0.4,
          0.4,
          0,
          0.35,
          0,
          0,
          0.4,
          0,
          0,
          0,
          0,
          0,
          0,
          0,
          0.101010101010101,
          0.19583333333333333,
          0.16666666666666666,
          0.14583333333333331,
          0.0625,
          0.16666666666666666,
          -0.3,
          0,
          -0.3,
          0,
          0.08888888888888889,
          -0.5,
          -0.1111111111111111,
          0,
          0.375,
          0.325,
          0,
          -0.06874999999999999,
          0.21666666666666667,
          0,
          0.22402597402597402,
          0.375,
          0,
          0.21666666666666667,
          0,
          0,
          -1,
          0.08392857142857142,
          0,
          0,
          0.125,
          0,
          0,
          0,
          0,
          0,
          0,
          0.25,
          0.8,
          0,
          0.7000000000000001,
          -0.08333333333333333,
          0,
          0,
          0.35892857142857143,
          0,
          0.5,
          0.06666666666666665,
          0,
          0,
          0,
          -0.1,
          0,
          0,
          0,
          0.25,
          0,
          -0.10714285714285715,
          0.25,
          0,
          0.5,
          0,
          0.08333333333333333,
          0.35714285714285715,
          0.5,
          0.3333333333333333,
          0.5,
          0.275,
          0,
          0,
          0,
          0.5,
          0.35,
          -0.1,
          0,
          -0.2,
          0,
          0,
          0,
          0.02777777777777778,
          0,
          0.6,
          0.4,
          0,
          0.1,
          0.5,
          -6.938893903907228e-18,
          0,
          0,
          0,
          0.05,
          0.022916666666666658,
          0,
          0.40625,
          0,
          -0.7142857142857143,
          0,
          0,
          0.5,
          0,
          0,
          0.25,
          0,
          1,
          0.5,
          -0.1625,
          0,
          0,
          0,
          -0.05000000000000001,
          0.02777777777777778,
          0.05555555555555555,
          0.5,
          0,
          0.11818181818181818,
          0,
          0.5,
          0,
          0,
          0,
          0.41666666666666663,
          0,
          0.21666666666666667,
          0.25,
          0,
          0,
          0,
          0,
          0.425,
          0,
          -0.09375,
          0,
          0,
          0,
          0,
          0.25390625,
          0,
          0.11666666666666665,
          0.1,
          0,
          0,
          0,
          -0.25,
          0,
          0,
          0,
          0,
          0,
          0.16666666666666666,
          0,
          0,
          0,
          0,
          0.25,
          0,
          0,
          0,
          0,
          0,
          0,
          0,
          0.07083333333333335,
          0.2,
          0,
          -0.016666666666666666,
          0,
          -0.0625,
          0,
          0,
          0.056249999999999994,
          0.4,
          0.25,
          0,
          0.2,
          0,
          0,
          0,
          0.525,
          0,
          0,
          -0.7152557373046875,
          0.244140625,
          0,
          0.11666666666666665,
          0,
          0,
          0,
          0.25,
          0.25,
          0,
          0.6,
          0,
          -0.04900568181818182,
          1,
          0,
          0,
          0.43333333333333335,
          0.125,
          0.25,
          0,
          0.1,
          0,
          0,
          0.05,
          0.5,
          -0.15454545454545454,
          0.25,
          -0.39285714285714285,
          1,
          0,
          0,
          0.3333333333333333,
          0,
          -0.2,
          0,
          0.0875,
          0.0875,
          0.4,
          -0.5,
          0.125,
          0.175,
          0.25,
          0.55,
          0,
          0.015873015873015872,
          0.1,
          0,
          -0.05,
          0.06666666666666667,
          0,
          -0.1875,
          0,
          0.08,
          0.3125,
          0.16666666666666666,
          0.07575757575757575,
          -0.5,
          0,
          0,
          0.1,
          0.3333333333333333,
          0.16666666666666666,
          0.16666666666666666,
          0,
          0.14107142857142857,
          0.2,
          0.25,
          0,
          0.01428571428571429,
          0,
          0,
          0.1,
          0,
          0,
          0,
          0,
          0.625,
          0,
          -0.10000000000000003,
          0.21428571428571427,
          0,
          0,
          0.05,
          -0.2958333333333334,
          -0.2916666666666667,
          0,
          0.1,
          0,
          -0.2916666666666667,
          0.54,
          -0.03854166666666666,
          -0.1,
          0,
          0,
          0.4,
          0.4444444444444445,
          -0.2,
          0.25,
          0.4375,
          0.016666666666666663,
          0,
          -0.016666666666666666,
          0,
          0,
          0,
          0,
          0,
          -0.11249999999999999,
          0,
          0,
          0,
          0,
          -0.2708333333333333,
          0.25,
          0.7083333333333334,
          0,
          0,
          0,
          0.022222222222222216,
          0.10714285714285714,
          0,
          0,
          0,
          0,
          0.2888888888888889,
          0.20833333333333331,
          0.6,
          -0.46130952380952384,
          0,
          0,
          0.4,
          0.22348484848484848,
          0,
          0.25,
          0.125,
          0,
          0.13333333333333333,
          0.7,
          0,
          0.11666666666666667,
          0,
          -0.09375,
          0,
          0.8,
          0,
          0,
          0.375,
          0.08333333333333333,
          0.03333333333333333,
          0.35,
          0.25,
          0,
          0,
          0,
          0,
          0.16,
          0.25,
          0.175,
          0.4375,
          0,
          0,
          -0.1,
          0,
          0,
          0.25,
          0.5583333333333333,
          0,
          -0.1875,
          0.08333333333333333,
          0,
          0.1875,
          0,
          0,
          0,
          0,
          0,
          0.375,
          0,
          0,
          0,
          0.012500000000000004,
          0.4333333333333333,
          0,
          0,
          0,
          0,
          0.11458333333333334,
          0,
          0,
          0.4800000000000001,
          0.16666666666666666,
          0,
          -0.20476190476190478,
          0,
          0,
          0,
          0.2,
          0.2333333333333333,
          0,
          -0.12916666666666665,
          0.16666666666666666,
          0.06818181818181818,
          0,
          0.4222222222222222,
          0.14285714285714285,
          0,
          0.13636363636363635,
          -0.16666666666666666,
          0.08333333333333333,
          0,
          0.08750000000000001,
          0.5625,
          -0.25,
          0,
          0.2583333333333333,
          0,
          0,
          0,
          0.484375,
          0,
          0,
          0.125,
          0.35714285714285715,
          0.06666666666666667,
          0,
          0.013888888888888886,
          0.05555555555555555,
          0.48333333333333334,
          0,
          0.05,
          0,
          0.11818181818181818,
          0.2857142857142857,
          0,
          0.55,
          0,
          0,
          0.016666666666666663,
          0.5,
          0,
          0,
          0,
          0.22499999999999998,
          0,
          -0.05,
          -0.20833333333333331,
          0,
          0,
          0,
          0,
          0,
          0,
          0,
          0.4,
          0,
          0.3,
          0.3333333333333333,
          0.1,
          0,
          0,
          0,
          0,
          0,
          0,
          0,
          0.15656565656565655,
          0.15208333333333332,
          0.08333333333333333,
          0,
          0.47222222222222215,
          0.4000000000000001,
          0.24000000000000005,
          -0.25,
          0,
          0.05555555555555555,
          0.14851190476190476,
          0.55,
          0,
          0,
          0.012121212121212116,
          0.075,
          0.3875,
          0,
          0.125,
          0,
          -0.15000000000000002,
          0,
          0.25,
          0.55,
          0.3666666666666667,
          0,
          0.55,
          0,
          0.4166666666666667,
          0
         ],
         "xaxis": "x",
         "y": [
          0.5,
          0.5,
          0.6375,
          0.8,
          0.55,
          0.75,
          0,
          0.16666666666666666,
          0.4,
          0.585,
          0.35,
          0,
          0,
          0.5,
          0,
          0.3666666666666667,
          0.7111111111111111,
          0,
          0,
          0,
          0,
          0,
          0.5,
          0.65,
          0.65,
          0.6666666666666666,
          1,
          0,
          0,
          0,
          0,
          0,
          0.06666666666666667,
          0.8333333333333334,
          0,
          0.9,
          0.45,
          0.4666666666666667,
          0.5416666666666666,
          0,
          0.2333333333333333,
          0,
          0.6666666666666666,
          0,
          0,
          0,
          0,
          0,
          0.6666666666666666,
          0,
          0.4,
          0.5357142857142857,
          0.6900000000000001,
          0.6000000000000001,
          0.6000000000000001,
          0,
          0.35,
          0,
          0.06666666666666667,
          0.1,
          0,
          0.5125,
          0.4666666666666666,
          0.4,
          0.4,
          1,
          0,
          0.5,
          0,
          0.26875,
          0.5866666666666667,
          0.7017857142857142,
          0.5666666666666667,
          0.1,
          0.5,
          0.35,
          0.3333333333333333,
          0.55,
          0.7428571428571429,
          0.16666666666666666,
          0,
          0.5625,
          0.05,
          0,
          0.03333333333333333,
          0.25,
          0,
          0,
          0.4,
          0.35000000000000003,
          0.45,
          0.5178571428571428,
          0.9,
          0.49595959595959593,
          0,
          0.2,
          0.4444444444444444,
          0,
          0.525,
          0,
          0,
          0.3890909090909091,
          0.3333333333333333,
          0,
          0,
          0.5416666666666666,
          0.2,
          0.4083333333333333,
          0.21666666666666667,
          0,
          0.1,
          0.65,
          0.2,
          0.25,
          0,
          0.25,
          0.25,
          0,
          0.25,
          0,
          0.5,
          0.5,
          0.2,
          0,
          0,
          0.3333333333333333,
          0.8,
          0,
          0.2,
          0,
          0.6285714285714286,
          0.3333333333333333,
          0.5805555555555556,
          0,
          0.5,
          0.9,
          0,
          0.2,
          0,
          0,
          0.5,
          0.6000000000000001,
          0.6666666666666666,
          0,
          0.1,
          0,
          0.6857142857142857,
          0.47333333333333333,
          0,
          0.7333333333333333,
          0,
          0,
          0,
          0.6333333333333333,
          0.5625,
          0.5,
          0.625,
          0.6,
          0,
          0.65,
          0,
          0,
          0,
          0.75,
          0.6000000000000001,
          0.4,
          0.4,
          0.35,
          0.5,
          0,
          0,
          0.5333333333333333,
          0.42857142857142855,
          0,
          0,
          0,
          0.5,
          0.5357142857142857,
          0.3466666666666667,
          0.625,
          0,
          0.5,
          0.08333333333333334,
          0.875,
          0.5,
          0.5,
          0.5151515151515151,
          1,
          0.22083333333333333,
          0.3222222222222222,
          0.2333333333333333,
          0.5666666666666668,
          0.5333333333333333,
          0.5,
          0.5,
          0.06666666666666667,
          0.3333333333333333,
          0.6166666666666667,
          0.5625,
          0,
          0.5,
          0.6666666666666666,
          0.9,
          0,
          0,
          0.21666666666666667,
          0.41666666666666663,
          0.26666666666666666,
          0,
          0,
          0,
          0.15000000000000002,
          0,
          0,
          0.611111111111111,
          0.5,
          0.4,
          0,
          0.5,
          0.3,
          0.29444444444444445,
          0.125,
          0.3,
          0,
          0.6433333333333333,
          0,
          0.16666666666666666,
          0.5119047619047619,
          0,
          0.1,
          0,
          0.5,
          0.31666666666666665,
          0.41111111111111115,
          0,
          0.3875,
          0,
          0.5355555555555555,
          0,
          0.375,
          0,
          0,
          0,
          0.3,
          0.5111111111111111,
          0.65,
          0,
          1,
          0.5333333333333333,
          0.5666666666666667,
          0,
          0.4,
          0.6125,
          0,
          0,
          0.3333333333333333,
          0,
          0,
          1,
          0,
          0.45454545454545453,
          0.5333333333333333,
          0,
          0.45454545454545453,
          0.1,
          0.1,
          0.6333333333333333,
          0.9,
          0.65,
          0.23333333333333334,
          0.4666666666666666,
          0.5,
          0.19999999999999998,
          0.9444444444444444,
          0.22222222222222224,
          0,
          0,
          0,
          0,
          0,
          0.2875,
          0,
          0.5666666666666667,
          0.7,
          0,
          0.5,
          0.519047619047619,
          0,
          0,
          0,
          0,
          0.65,
          0,
          0,
          0.13333333333333333,
          0,
          1,
          0,
          0,
          0.75,
          0,
          0,
          0.625,
          0.5,
          0,
          0.125,
          0,
          1,
          0.2,
          0,
          0,
          0.16666666666666666,
          0,
          0,
          0,
          0,
          0.5357142857142857,
          0.25,
          0,
          0.3333333333333333,
          0.55,
          0.5069444444444444,
          0.9,
          0.5357142857142857,
          0,
          0.5399999999999999,
          0.5,
          0.2,
          0,
          0,
          0.125,
          0.21666666666666667,
          0.5357142857142857,
          0.65,
          0.25,
          0.78125,
          0.3,
          0.4,
          0.3666666666666667,
          0.65,
          0.5357142857142857,
          0.5892857142857142,
          0,
          0.7666666666666666,
          0.75,
          0.5133333333333334,
          0.6933333333333334,
          0.30000000000000004,
          0.5865079365079365,
          0,
          1,
          0.675,
          0.47916666666666663,
          0,
          0.825,
          0.49374999999999997,
          0.41666666666666663,
          0,
          0,
          0.45,
          0.6,
          0.4,
          0.25,
          0.1,
          0.5,
          0.3,
          0.625,
          0.5666666666666667,
          0.1,
          0,
          0.2,
          0.6416666666666667,
          0.24444444444444446,
          0,
          0,
          0,
          0.5357142857142857,
          0.7222222222222222,
          0.47500000000000003,
          0.5357142857142857,
          0.5625,
          0,
          0.5,
          0,
          0.5666666666666667,
          0,
          0.1,
          0.48333333333333334,
          0.43333333333333335,
          0,
          0.5357142857142857,
          0.46333333333333326,
          0,
          0.3333333333333333,
          0.5357142857142857,
          0,
          0,
          0.4166666666666667,
          0.35,
          0,
          0.06666666666666667,
          0.05,
          0.3333333333333333,
          0.4,
          0.26785714285714285,
          1,
          0.45454545454545453,
          0.5,
          0.125,
          0.3333333333333333,
          0.9,
          0.13333333333333333,
          0,
          0.3625,
          0,
          0,
          0.5777777777777778,
          0.3333333333333333,
          0.55,
          0.3,
          0.525,
          0,
          0.65,
          0.375,
          0,
          0,
          0.8,
          0.5,
          0.3333333333333333,
          0.7388888888888888,
          0,
          0.5,
          0.4,
          0,
          0.3333333333333333,
          1,
          0.3333333333333333,
          0,
          0.37,
          0.37757936507936507,
          0.5178571428571428,
          0.5178571428571428,
          0.8333333333333334,
          0,
          0.29000000000000004,
          0.29000000000000004,
          0,
          0,
          0.3333333333333333,
          0.5,
          0.1,
          0.7,
          0.4,
          0.45,
          0,
          0.65,
          0,
          0,
          0,
          0,
          0.6555555555555556,
          0.15000000000000002,
          0.5,
          0.1,
          0.5785714285714286,
          0,
          0.5,
          0,
          0,
          0.4,
          0,
          0.1,
          0.3645833333333333,
          0.16666666666666666,
          0,
          0.5,
          0,
          0.5166666666666667,
          0.2,
          0.5375,
          0.9,
          0.5499999999999999,
          0.9,
          0.5,
          0.5444444444444444,
          0.3,
          0.5,
          0.26,
          0.5,
          0,
          0.5,
          0.4,
          0.25,
          0.5151515151515151,
          0,
          0,
          0.4,
          0,
          0.75,
          0,
          0.4,
          0.4,
          0.4,
          0.4,
          0.5,
          0.5666666666666667,
          0,
          0,
          0,
          0.4,
          0.4,
          0,
          0.55,
          0,
          0,
          0.4,
          0.06666666666666667,
          0,
          0.038461538461538464,
          0.06666666666666667,
          0,
          0,
          0,
          0.27777777777777773,
          0.5499999999999999,
          0.3333333333333333,
          0.3666666666666667,
          0.65,
          0.3333333333333333,
          0.5,
          0,
          0.5,
          0,
          0.45555555555555555,
          0.5,
          0.5555555555555555,
          0,
          0.41666666666666663,
          0.3444444444444444,
          0,
          0.11875000000000001,
          0.9166666666666667,
          0,
          0.4411976911976912,
          0.47916666666666663,
          0,
          0.9166666666666667,
          0,
          0,
          1,
          0.30853174603174605,
          0,
          0,
          0.16666666666666666,
          0,
          0,
          0,
          0,
          0,
          0,
          0.3333333333333333,
          0.75,
          0,
          0.5333333333333333,
          0.16666666666666666,
          0,
          0,
          0.5922619047619048,
          0,
          0.5,
          0.6333333333333333,
          0,
          0,
          0,
          0.4,
          0,
          0,
          0,
          0.5333333333333333,
          0,
          0.7178571428571429,
          0.5333333333333333,
          0,
          0.5625,
          0,
          0.21666666666666667,
          0.5714285714285714,
          0.5,
          0.38888888888888884,
          0.625,
          0.5416666666666666,
          0,
          0,
          0,
          0.5,
          0.65,
          0.4,
          0.1,
          0,
          0,
          0,
          0,
          0.16666666666666666,
          0,
          0.7,
          0.5,
          0,
          0.26041666666666663,
          1,
          0.44999999999999996,
          0.4,
          0,
          0,
          0.35,
          0.5777777777777778,
          0,
          0.41666666666666663,
          0,
          0.8571428571428571,
          0,
          0,
          0.5,
          0,
          0,
          0.3333333333333333,
          0,
          0.3,
          0.5,
          0.5625,
          0,
          0,
          0,
          0.3111111111111111,
          0.16666666666666666,
          0.16666666666666666,
          0.625,
          0,
          0.32727272727272727,
          0,
          0.5,
          0,
          0.1,
          0.6666666666666666,
          0.5,
          0,
          0.24444444444444446,
          0.3194444444444444,
          0,
          0.25,
          0,
          0.1,
          0.55,
          0,
          0.2833333333333333,
          0,
          0,
          0,
          0,
          0.3458333333333333,
          0,
          0.18333333333333335,
          0.1,
          0,
          0,
          0,
          0.65,
          0.5,
          0,
          0,
          0,
          0,
          0.3333333333333333,
          0,
          0,
          0,
          0,
          0.25,
          0,
          0,
          0,
          0.06666666666666667,
          0,
          0,
          0.1,
          0.39999999999999997,
          0.2,
          0,
          0.6333333333333333,
          0,
          0.5,
          0,
          0,
          0.7,
          0.4083333333333333,
          0.3333333333333333,
          0,
          0.45,
          0,
          0,
          0,
          0.5416666666666666,
          0,
          0.5,
          0.5,
          0.6666666666666666,
          0,
          0.3444444444444445,
          0.75,
          0,
          0,
          0.2833333333333333,
          0.75,
          0,
          1,
          0,
          0.5,
          0.75,
          0,
          0,
          0.5,
          0.29166666666666663,
          0.3458333333333333,
          0,
          0.2,
          0,
          0,
          0,
          0.5,
          0.48484848484848486,
          0.3333333333333333,
          0.75,
          0.75,
          0,
          1,
          0.41666666666666663,
          0,
          0.325,
          0,
          0.2583333333333333,
          0.2583333333333333,
          0.4,
          0.6,
          0.29166666666666663,
          0.275,
          0.3125,
          0.35,
          0,
          0.30317460317460315,
          0.4,
          0,
          0.4,
          0.41111111111111115,
          0.06666666666666667,
          0.5,
          1,
          0.3966666666666666,
          0.3333333333333333,
          0.3333333333333333,
          0.22196969696969698,
          0.9,
          0,
          0,
          0.55,
          0.5333333333333333,
          0.3333333333333333,
          0.3333333333333333,
          1,
          0.44523809523809527,
          0.5,
          0.3333333333333333,
          1,
          0.17142857142857143,
          1,
          1,
          0.4,
          0,
          0.1,
          0.06666666666666667,
          0,
          0.625,
          0.4,
          0.45,
          0.5714285714285714,
          0,
          0,
          0.15000000000000002,
          0.4708333333333333,
          0.5416666666666666,
          0,
          0.4,
          0,
          0.5416666666666666,
          0.49000000000000005,
          0.475,
          0.4,
          0,
          0,
          0.5,
          0.3222222222222222,
          0.325,
          0.45,
          0.5111111111111111,
          0.225,
          0,
          0.4666666666666666,
          0,
          0,
          0,
          0,
          0,
          0.375,
          0,
          0,
          0,
          0,
          0.47361111111111115,
          0.3333333333333333,
          0.43333333333333335,
          0,
          0,
          0,
          0.4777777777777778,
          0.7142857142857143,
          0,
          0,
          0,
          0,
          0.4666666666666666,
          0.3333333333333333,
          0.7000000000000001,
          0.4619047619047619,
          0,
          0,
          0.375,
          0.39999999999999997,
          0.125,
          0.3333333333333333,
          0.21666666666666667,
          0,
          0.5895833333333333,
          0.6000000000000001,
          0,
          0.4583333333333333,
          0,
          0.25,
          0,
          0.9,
          0,
          0.5,
          0.5,
          0.21666666666666667,
          0.022222222222222223,
          0.4,
          0.3125,
          0,
          0,
          0,
          0.06666666666666667,
          0.5399999999999999,
          0.75,
          0.26666666666666666,
          0.35000000000000003,
          0,
          0,
          0.4,
          0,
          0,
          0.3333333333333333,
          0.45,
          0,
          0.5,
          0.27777777777777773,
          0,
          0.35555555555555557,
          0,
          0,
          0,
          0.08333333333333334,
          0.2625,
          0.8,
          0.125,
          0.06666666666666667,
          0,
          0.20833333333333331,
          0.7333333333333333,
          0.06666666666666667,
          0,
          0,
          0,
          0.4666666666666667,
          0,
          1,
          0.5800000000000001,
          0.5666666666666667,
          0,
          0.5523809523809523,
          0,
          0,
          0,
          0.25,
          0.3972222222222222,
          0,
          0.5666666666666667,
          0.3333333333333333,
          0.2772727272727273,
          0,
          0.5444444444444444,
          0.26785714285714285,
          0,
          0.5,
          0.16666666666666666,
          0.4666666666666667,
          0,
          0.2333333333333333,
          0.8944444444444444,
          0.225,
          0,
          0.44166666666666665,
          0,
          0,
          0,
          0.875,
          0,
          0.1,
          0.41666666666666663,
          0.4642857142857143,
          0.4,
          0,
          0.2583333333333333,
          0.14444444444444446,
          0.6166666666666667,
          0,
          0.15000000000000002,
          0,
          0.35,
          0.5357142857142857,
          0.06666666666666667,
          0.65,
          0,
          0.06666666666666667,
          0.7166666666666667,
          0.5,
          0,
          0,
          0,
          0.275,
          0,
          0.4,
          0.16666666666666666,
          0,
          0.25,
          1,
          0.36923076923076925,
          0,
          0,
          0,
          1,
          0,
          0.95,
          0.5666666666666668,
          0.3,
          0,
          0,
          0,
          0.25,
          0,
          0,
          0,
          0.38888888888888884,
          0.6833333333333335,
          0.21666666666666667,
          0,
          0.5444444444444444,
          0.9,
          0.4333333333333334,
          0.4,
          0,
          0.3111111111111111,
          0.4779761904761905,
          0.65,
          0,
          0.03333333333333333,
          0.6333333333333333,
          0.575,
          0.575,
          0,
          0.2,
          0.05,
          0.19999999999999998,
          0,
          0.3333333333333333,
          0.65,
          0.4666666666666666,
          0,
          0.65,
          0,
          0.48333333333333334,
          0.06666666666666667
         ],
         "yaxis": "y"
        }
       ],
       "layout": {
        "autosize": true,
        "legend": {
         "tracegroupgap": 0
        },
        "template": {
         "data": {
          "bar": [
           {
            "error_x": {
             "color": "#2a3f5f"
            },
            "error_y": {
             "color": "#2a3f5f"
            },
            "marker": {
             "line": {
              "color": "#E5ECF6",
              "width": 0.5
             }
            },
            "type": "bar"
           }
          ],
          "barpolar": [
           {
            "marker": {
             "line": {
              "color": "#E5ECF6",
              "width": 0.5
             }
            },
            "type": "barpolar"
           }
          ],
          "carpet": [
           {
            "aaxis": {
             "endlinecolor": "#2a3f5f",
             "gridcolor": "white",
             "linecolor": "white",
             "minorgridcolor": "white",
             "startlinecolor": "#2a3f5f"
            },
            "baxis": {
             "endlinecolor": "#2a3f5f",
             "gridcolor": "white",
             "linecolor": "white",
             "minorgridcolor": "white",
             "startlinecolor": "#2a3f5f"
            },
            "type": "carpet"
           }
          ],
          "choropleth": [
           {
            "colorbar": {
             "outlinewidth": 0,
             "ticks": ""
            },
            "type": "choropleth"
           }
          ],
          "contour": [
           {
            "colorbar": {
             "outlinewidth": 0,
             "ticks": ""
            },
            "colorscale": [
             [
              0,
              "#0d0887"
             ],
             [
              0.1111111111111111,
              "#46039f"
             ],
             [
              0.2222222222222222,
              "#7201a8"
             ],
             [
              0.3333333333333333,
              "#9c179e"
             ],
             [
              0.4444444444444444,
              "#bd3786"
             ],
             [
              0.5555555555555556,
              "#d8576b"
             ],
             [
              0.6666666666666666,
              "#ed7953"
             ],
             [
              0.7777777777777778,
              "#fb9f3a"
             ],
             [
              0.8888888888888888,
              "#fdca26"
             ],
             [
              1,
              "#f0f921"
             ]
            ],
            "type": "contour"
           }
          ],
          "contourcarpet": [
           {
            "colorbar": {
             "outlinewidth": 0,
             "ticks": ""
            },
            "type": "contourcarpet"
           }
          ],
          "heatmap": [
           {
            "colorbar": {
             "outlinewidth": 0,
             "ticks": ""
            },
            "colorscale": [
             [
              0,
              "#0d0887"
             ],
             [
              0.1111111111111111,
              "#46039f"
             ],
             [
              0.2222222222222222,
              "#7201a8"
             ],
             [
              0.3333333333333333,
              "#9c179e"
             ],
             [
              0.4444444444444444,
              "#bd3786"
             ],
             [
              0.5555555555555556,
              "#d8576b"
             ],
             [
              0.6666666666666666,
              "#ed7953"
             ],
             [
              0.7777777777777778,
              "#fb9f3a"
             ],
             [
              0.8888888888888888,
              "#fdca26"
             ],
             [
              1,
              "#f0f921"
             ]
            ],
            "type": "heatmap"
           }
          ],
          "heatmapgl": [
           {
            "colorbar": {
             "outlinewidth": 0,
             "ticks": ""
            },
            "colorscale": [
             [
              0,
              "#0d0887"
             ],
             [
              0.1111111111111111,
              "#46039f"
             ],
             [
              0.2222222222222222,
              "#7201a8"
             ],
             [
              0.3333333333333333,
              "#9c179e"
             ],
             [
              0.4444444444444444,
              "#bd3786"
             ],
             [
              0.5555555555555556,
              "#d8576b"
             ],
             [
              0.6666666666666666,
              "#ed7953"
             ],
             [
              0.7777777777777778,
              "#fb9f3a"
             ],
             [
              0.8888888888888888,
              "#fdca26"
             ],
             [
              1,
              "#f0f921"
             ]
            ],
            "type": "heatmapgl"
           }
          ],
          "histogram": [
           {
            "marker": {
             "colorbar": {
              "outlinewidth": 0,
              "ticks": ""
             }
            },
            "type": "histogram"
           }
          ],
          "histogram2d": [
           {
            "colorbar": {
             "outlinewidth": 0,
             "ticks": ""
            },
            "colorscale": [
             [
              0,
              "#0d0887"
             ],
             [
              0.1111111111111111,
              "#46039f"
             ],
             [
              0.2222222222222222,
              "#7201a8"
             ],
             [
              0.3333333333333333,
              "#9c179e"
             ],
             [
              0.4444444444444444,
              "#bd3786"
             ],
             [
              0.5555555555555556,
              "#d8576b"
             ],
             [
              0.6666666666666666,
              "#ed7953"
             ],
             [
              0.7777777777777778,
              "#fb9f3a"
             ],
             [
              0.8888888888888888,
              "#fdca26"
             ],
             [
              1,
              "#f0f921"
             ]
            ],
            "type": "histogram2d"
           }
          ],
          "histogram2dcontour": [
           {
            "colorbar": {
             "outlinewidth": 0,
             "ticks": ""
            },
            "colorscale": [
             [
              0,
              "#0d0887"
             ],
             [
              0.1111111111111111,
              "#46039f"
             ],
             [
              0.2222222222222222,
              "#7201a8"
             ],
             [
              0.3333333333333333,
              "#9c179e"
             ],
             [
              0.4444444444444444,
              "#bd3786"
             ],
             [
              0.5555555555555556,
              "#d8576b"
             ],
             [
              0.6666666666666666,
              "#ed7953"
             ],
             [
              0.7777777777777778,
              "#fb9f3a"
             ],
             [
              0.8888888888888888,
              "#fdca26"
             ],
             [
              1,
              "#f0f921"
             ]
            ],
            "type": "histogram2dcontour"
           }
          ],
          "mesh3d": [
           {
            "colorbar": {
             "outlinewidth": 0,
             "ticks": ""
            },
            "type": "mesh3d"
           }
          ],
          "parcoords": [
           {
            "line": {
             "colorbar": {
              "outlinewidth": 0,
              "ticks": ""
             }
            },
            "type": "parcoords"
           }
          ],
          "pie": [
           {
            "automargin": true,
            "type": "pie"
           }
          ],
          "scatter": [
           {
            "marker": {
             "colorbar": {
              "outlinewidth": 0,
              "ticks": ""
             }
            },
            "type": "scatter"
           }
          ],
          "scatter3d": [
           {
            "line": {
             "colorbar": {
              "outlinewidth": 0,
              "ticks": ""
             }
            },
            "marker": {
             "colorbar": {
              "outlinewidth": 0,
              "ticks": ""
             }
            },
            "type": "scatter3d"
           }
          ],
          "scattercarpet": [
           {
            "marker": {
             "colorbar": {
              "outlinewidth": 0,
              "ticks": ""
             }
            },
            "type": "scattercarpet"
           }
          ],
          "scattergeo": [
           {
            "marker": {
             "colorbar": {
              "outlinewidth": 0,
              "ticks": ""
             }
            },
            "type": "scattergeo"
           }
          ],
          "scattergl": [
           {
            "marker": {
             "colorbar": {
              "outlinewidth": 0,
              "ticks": ""
             }
            },
            "type": "scattergl"
           }
          ],
          "scattermapbox": [
           {
            "marker": {
             "colorbar": {
              "outlinewidth": 0,
              "ticks": ""
             }
            },
            "type": "scattermapbox"
           }
          ],
          "scatterpolar": [
           {
            "marker": {
             "colorbar": {
              "outlinewidth": 0,
              "ticks": ""
             }
            },
            "type": "scatterpolar"
           }
          ],
          "scatterpolargl": [
           {
            "marker": {
             "colorbar": {
              "outlinewidth": 0,
              "ticks": ""
             }
            },
            "type": "scatterpolargl"
           }
          ],
          "scatterternary": [
           {
            "marker": {
             "colorbar": {
              "outlinewidth": 0,
              "ticks": ""
             }
            },
            "type": "scatterternary"
           }
          ],
          "surface": [
           {
            "colorbar": {
             "outlinewidth": 0,
             "ticks": ""
            },
            "colorscale": [
             [
              0,
              "#0d0887"
             ],
             [
              0.1111111111111111,
              "#46039f"
             ],
             [
              0.2222222222222222,
              "#7201a8"
             ],
             [
              0.3333333333333333,
              "#9c179e"
             ],
             [
              0.4444444444444444,
              "#bd3786"
             ],
             [
              0.5555555555555556,
              "#d8576b"
             ],
             [
              0.6666666666666666,
              "#ed7953"
             ],
             [
              0.7777777777777778,
              "#fb9f3a"
             ],
             [
              0.8888888888888888,
              "#fdca26"
             ],
             [
              1,
              "#f0f921"
             ]
            ],
            "type": "surface"
           }
          ],
          "table": [
           {
            "cells": {
             "fill": {
              "color": "#EBF0F8"
             },
             "line": {
              "color": "white"
             }
            },
            "header": {
             "fill": {
              "color": "#C8D4E3"
             },
             "line": {
              "color": "white"
             }
            },
            "type": "table"
           }
          ]
         },
         "layout": {
          "annotationdefaults": {
           "arrowcolor": "#2a3f5f",
           "arrowhead": 0,
           "arrowwidth": 1
          },
          "coloraxis": {
           "colorbar": {
            "outlinewidth": 0,
            "ticks": ""
           }
          },
          "colorscale": {
           "diverging": [
            [
             0,
             "#8e0152"
            ],
            [
             0.1,
             "#c51b7d"
            ],
            [
             0.2,
             "#de77ae"
            ],
            [
             0.3,
             "#f1b6da"
            ],
            [
             0.4,
             "#fde0ef"
            ],
            [
             0.5,
             "#f7f7f7"
            ],
            [
             0.6,
             "#e6f5d0"
            ],
            [
             0.7,
             "#b8e186"
            ],
            [
             0.8,
             "#7fbc41"
            ],
            [
             0.9,
             "#4d9221"
            ],
            [
             1,
             "#276419"
            ]
           ],
           "sequential": [
            [
             0,
             "#0d0887"
            ],
            [
             0.1111111111111111,
             "#46039f"
            ],
            [
             0.2222222222222222,
             "#7201a8"
            ],
            [
             0.3333333333333333,
             "#9c179e"
            ],
            [
             0.4444444444444444,
             "#bd3786"
            ],
            [
             0.5555555555555556,
             "#d8576b"
            ],
            [
             0.6666666666666666,
             "#ed7953"
            ],
            [
             0.7777777777777778,
             "#fb9f3a"
            ],
            [
             0.8888888888888888,
             "#fdca26"
            ],
            [
             1,
             "#f0f921"
            ]
           ],
           "sequentialminus": [
            [
             0,
             "#0d0887"
            ],
            [
             0.1111111111111111,
             "#46039f"
            ],
            [
             0.2222222222222222,
             "#7201a8"
            ],
            [
             0.3333333333333333,
             "#9c179e"
            ],
            [
             0.4444444444444444,
             "#bd3786"
            ],
            [
             0.5555555555555556,
             "#d8576b"
            ],
            [
             0.6666666666666666,
             "#ed7953"
            ],
            [
             0.7777777777777778,
             "#fb9f3a"
            ],
            [
             0.8888888888888888,
             "#fdca26"
            ],
            [
             1,
             "#f0f921"
            ]
           ]
          },
          "colorway": [
           "#636efa",
           "#EF553B",
           "#00cc96",
           "#ab63fa",
           "#FFA15A",
           "#19d3f3",
           "#FF6692",
           "#B6E880",
           "#FF97FF",
           "#FECB52"
          ],
          "font": {
           "color": "#2a3f5f"
          },
          "geo": {
           "bgcolor": "white",
           "lakecolor": "white",
           "landcolor": "#E5ECF6",
           "showlakes": true,
           "showland": true,
           "subunitcolor": "white"
          },
          "hoverlabel": {
           "align": "left"
          },
          "hovermode": "closest",
          "mapbox": {
           "style": "light"
          },
          "paper_bgcolor": "white",
          "plot_bgcolor": "#E5ECF6",
          "polar": {
           "angularaxis": {
            "gridcolor": "white",
            "linecolor": "white",
            "ticks": ""
           },
           "bgcolor": "#E5ECF6",
           "radialaxis": {
            "gridcolor": "white",
            "linecolor": "white",
            "ticks": ""
           }
          },
          "scene": {
           "xaxis": {
            "backgroundcolor": "#E5ECF6",
            "gridcolor": "white",
            "gridwidth": 2,
            "linecolor": "white",
            "showbackground": true,
            "ticks": "",
            "zerolinecolor": "white"
           },
           "yaxis": {
            "backgroundcolor": "#E5ECF6",
            "gridcolor": "white",
            "gridwidth": 2,
            "linecolor": "white",
            "showbackground": true,
            "ticks": "",
            "zerolinecolor": "white"
           },
           "zaxis": {
            "backgroundcolor": "#E5ECF6",
            "gridcolor": "white",
            "gridwidth": 2,
            "linecolor": "white",
            "showbackground": true,
            "ticks": "",
            "zerolinecolor": "white"
           }
          },
          "shapedefaults": {
           "line": {
            "color": "#2a3f5f"
           }
          },
          "ternary": {
           "aaxis": {
            "gridcolor": "white",
            "linecolor": "white",
            "ticks": ""
           },
           "baxis": {
            "gridcolor": "white",
            "linecolor": "white",
            "ticks": ""
           },
           "bgcolor": "#E5ECF6",
           "caxis": {
            "gridcolor": "white",
            "linecolor": "white",
            "ticks": ""
           }
          },
          "title": {
           "x": 0.05
          },
          "xaxis": {
           "automargin": true,
           "gridcolor": "white",
           "linecolor": "white",
           "ticks": "",
           "title": {
            "standoff": 15
           },
           "zerolinecolor": "white",
           "zerolinewidth": 2
          },
          "yaxis": {
           "automargin": true,
           "gridcolor": "white",
           "linecolor": "white",
           "ticks": "",
           "title": {
            "standoff": 15
           },
           "zerolinecolor": "white",
           "zerolinewidth": 2
          }
         }
        },
        "title": {
         "text": "TextBlob Sentiment Analysis - No Emojis"
        },
        "xaxis": {
         "anchor": "y",
         "autorange": true,
         "domain": [
          0,
          1
         ],
         "range": [
          -1.1236973266878114,
          1.1236973266878114
         ],
         "title": {
          "text": "TB_polarity_no_emoji"
         },
         "type": "linear"
        },
        "yaxis": {
         "anchor": "x",
         "autorange": true,
         "domain": [
          0,
          1
         ],
         "range": [
          -0.0825242718446602,
          1.0825242718446602
         ],
         "title": {
          "text": "TB_subjectivity_no_emoji"
         },
         "type": "linear"
        }
       }
      },
      "image/png": "[encoded data removed]",
      "text/html": [
       "<div>\n",
       "        \n",
       "        \n",
       "            <div id=\"4a7f3ba9-8884-4209-8d40-8df05dd724f8\" class=\"plotly-graph-div\" style=\"height:525px; width:100%;\"></div>\n",
       "            <script type=\"text/javascript\">\n",
       "                require([\"plotly\"], function(Plotly) {\n",
       "                    window.PLOTLYENV=window.PLOTLYENV || {};\n",
       "                    \n",
       "                if (document.getElementById(\"4a7f3ba9-8884-4209-8d40-8df05dd724f8\")) {\n",
       "                    Plotly.newPlot(\n",
       "                        '4a7f3ba9-8884-4209-8d40-8df05dd724f8',\n",
       "                        [{\"customdata\": [[\"case missed recommends 19 six old. learn safe effective\"], [\"florida based grocery chain pharmacy retailer publix says offer 19 five ' time ' surprising ! publix heir gave sh load ron desantis campaign. boycottpublix\"], [\"thank misinformation safety key issue. must communicate vaccines safe effective ! thisisourshot parents give mixed reaction 5\"], [\"much damage done childhood trust rushing vax ? genuinely sad scientist really wonderful life saving vaccines places doubt , awful\"], [\"responsible publix give 5\"], [\"hey childhood diseases florida open ! ! ! diphtheria , chicken pox , whooping cough , polio , measles , tb , come free fools state ! ! ! shingles anyone?? ? florida state preorder\"], [\"one biggest challenges overcoming skepticism effectiveness necessity it.\"], [\"baylor scott white medical research team needs unvaccinated study aiming better understand 19 prevention transmission.\"], [\"pfizer reduces sperm quality long ? ' health defense\"], [\"soni although true many already exposed 19 , vaccines help prevent severely ill developing long term complications due virus , including death.\"], [\"despite tons evidence contrary , published following 19 vaccines locally , toddlers safe effective. find nearby tarrant county clinic .\"], [\"publix give 5 publix release statement explaining decision\"], [\"2. impulse make lot people.\"], [\"shots little here. hardest part\"], [\"news leader younger 5 receive 19 vaccines springfield\"], [\"aged 6 older eligible 19\"], [\"two plus stressful keeping free , finally got first vaccine.\"], [\"fda cdc unanimously reported benefits outweigh risk comes vaccinating , parents seem divided.\"], [\"data back notion safer taking vaccine. peace mind , science.\"], [\"17,000 19 vaccines 5 headed\"], [\"cdc director rochelle p. walensky endorsed advisory committee immunization practices acip recommendation 6 5 receive 19 vaccine. ...\"], [\"vaccines approved fda ages 6 five age. offering group clinics throughout valley walk basis\"], [\"litmus test trusting physician advice discernment whether recommend healthy adults .\"], [\"6 protect , time summer family trips. studies shown safe effective preventing 19 illness children. read\"], [\"6 protect , time summer family trips. studies shown safe effective preventing 19 illness children. read\"], [\"maternal 19 decreases risk serious illness hospitalization 6 maternal risk hospitalization 19 among nejm\"], [\"parents anxiously awaiting chance , remains seen robust demand be.\"], [\"georgia families struggle youngest\"], [\"19 vaccines soon locally 5 age. find , visit call 1 833 422 4255. parents also talk health care provider. visit learn .\"], [\"? tnvaxnow protectourfuture\"], [\"cdc recommends 19 vaccines children. read recommendation\"], [\"5 eligible 19. plan vaccinating ?\"], [\"vaccines moment since , rather longer studies effects , said nashare white , 15 old. white fully , says ' hesitant baby.\"], [\"pretty sad see publix stores refusing offer children. surprising , given politics owners.\"], [\"company reportedly said offer 19 group time.\"], [\"19 pregnancy two price one nejm evidence 19 vaccines help protect mothers highly relevant patient counseling 2 1 deal may encourage mothers receive 19 vaccination.\"], [\"hope recent events attended 5 younger parents still waiting eligibility thus risk far higher effects unvaccinated vulnerable. thisiswhyweshouldstillwearmasks\"], [\"good news families 19 preventable disease 6 older. dr. kris bryant , pediatric infectious diseases specialist norton s. reports.\"], [\"hard believe greedy publix could make money. know experience mother hurt store. publix give 5\"], [\"publix ' give 5 christopher ' donnell tampa bay times\"], [\"hesitancy , bureaucracy , inequity , need explain formulas could slow delivery last unprotected group.\"], [\"someone fill 5 would ever need given 1 4 represent 143 deaths. make make sense .\"], [\"icymi tennessee gop lawmakers push block access vaccines. docs say ' bad idea\"], [\". give 5 grocery chain said explain decision time. times\"], [\"four republican lawmakers ask gov. lee prevent giving 19 5\"], [\"case planning take publix ...\"], [\"company reportedly said offer 19 group time.\"], [\"company reportedly said offer 19 group time.\"], [\"finally eligible 19 two began shots first started going arms.\"], [\"hundreds locations across state offering , including one mall america , 6 months.\"], [\"maternal two doses mrna associated reduced risk hospitalization , including critical illness , among younger 6 age.\"], [\"ron desantis right. ' ' ' infants. sparkles maga cath\"], [\"free country world pushing vaccines young. especially light recent admissions injuries. literally zero risk death covid. sickening\"], [\"good. covidhearings\"], [\"good tips ' appointment 6 19 vaccine.\"], [\"6 option parents. questions , talk pediatrician .\"], [\"unitypoint clinic providing six five old. parents guardians use myunitypoint schedule gt call primary care physician office set appointment.\"], [\"company reportedly said offer 19 group time.\"], [\"encourage parents caregivers 6 5 take , said dr. janet memark , director cobb douglas public health.\"], [\"following eua moderna pfizer ages 6 four , parents questions vaccines whether child. please see faqs cdc learn benefits 19.\"], [\"mother provides protection fetus post natally covid.\"], [\"great pediatric programs many women investigators maternal 2 doses mrna associated w risk hospitalization 19 , including critical illness , among younger 6 mos womeninmedicine\"], [\"hinton , republican , said saddened hear florida pre order aged 6 up. felt desantis left cold , despite platform parents rights.\"], [\"primary health clinics idaho largest metro area accepting walk patients seeking vaccines developed pfizer moderna.\"], [\"dhec says vaccines ages 6 5 given clinics , health departments , providers request them. click article link find site near you.\"], [\"angelenos 6 eligible receive 19 , protecting families worst virus. decision comes safegaurd la families finally breathe sigh relief knowing every household member protected.\"], [\"biden says ' planning another washington ap president joe biden visited clinic washington tuesday celebrate virtually americans 19 authorization vaccines\"], [\"' ' discrediting ! ' expert slams fda ' approval 19 vaccines 5 saying little evidence needed parents america ' youngest line\"], [\"biden says ' planning another washington ap president joe biden visited clinic washington tuesday celebrate virtually americans 19 authorization vaccines\"], [\"ugh. case childcare center today , days able vaccinated. freaking close. technically exposed , given rapidly cases spread past , holding hope remain way.\"], [\"6 older 19 contra costa. ' safe , effective free way keep safe. info\"], [\"mean 13 eddie st. louis county ? filled insane amount excitement joy able finally see friends. 19 vaccines safe ! learn\"], [\"federal regulators approved 19 shots 5 last week. parents enthusiastically welcomed news made appointments quickly possible , many others wary vaccinated.\"], [\"starting week , 18 million additional eligible 19 vaccination. 19 ? , process ? find\"], [\"npr talks claire hannan , helped navigate rollouts 50 states , challenges involved quickly shots millions kids.\"], [\"recent study maternal fetal antibody levels supports 19 maternal booster following full protect pregnant people , reports.\"], [\"returned u.s. abroad okayed lt 5 years. go 3 first dose ?\"], [\"calling parents ! 19 vaccines 5 , anyone fence little ones ? please let know ! love hear .\"], [\"ron desantis right. ' ' ' infants. thetford karen rose pv\"], [\"' zero evidence benefit receiving shots. developed country injecting this. european countries even banned anyone 40yrs old. parents , defend this.\"], [\"u.s. states florida pre ordered covid19vaccine doses 5. federal government deadline june 14 states pre order doses.\"], [\"time politics. ' parents able everything keep safe , said president biden.\"], [\"6 4 eligible 19 vaccine. , call glenwood medical center schedule 320.634.5157.\"], [\"publix give 5\"], [\"19 vaccines approved 6 4 yrs local pediatricians , health centers marin county public health mcph preparing. appointments opening week. find spots marincounty\"], [\"parents give mixed reaction 5\"], [\"parents questions 19 5 ? rush experts answers.\"], [\"fda cdc unanimously reported benefits outweigh risk comes vaccinating , parents seem divided.\"], [\"governor , 19 emergency long passed tennessee.\"], [\"good decision. following data. publix give 5\"], [\"yeeeeessssss ! expanded eligibility vaccines ages 6 4 ! little excited starting tomorrow. info\"], [\"5 ? 18 right away. 38 wait see 11 required 27 definitely kff 19 monitor april 13 26 , 2022 president vp\"], [\"batshit crazy give six\"], [\"newly eligible 19 , want hear you. feeling news ? trouble finding shots hampshire , easy process ? let us know voices .org.\"], [\"tenn. representative asks gov. bill lee halt distribution\"], [\"19 5 6 old.\"], [\"ages 6 older green light 19 vaccine. ' time shots arms.\"], [\"fda cdc unanimously reported benefits outweigh risk comes vaccinating , parents seem divided.\"], [\"family part ground floor publix. great uncle personal accountant henry jenkins publix started\"], [\"courage\"], [\"publix give 5\"], [\"clowns dangerous. family recovering last days 5 first positive case house. thankfully boosted. heartless group human beings.protect republicans t.\"], [\"experts look side effects expect six older.\"], [\"fda cdc unanimously reported benefits outweigh risk comes vaccinating , parents seem divided.\"], [\"q ucr expert dr. david lo shares thoughts vaccines children. read ucriverside\"], [\"hard decision ... say parents decide 19\"], [\"19 5 6 old.\"], [\"cdc receive smaller doses 19 , based age. like adult , ' helps keep 19 vaccines safe fda authorized ages 6 older.\"], [\"starting today begun administering pfizer moderna vaccines 6 mos 4 yrs main clinic , 1001 e. 9th street , building b. schedule appointment , call 775 328 2427.\"], [\", cried booked appointment monday\"], [\"following fda approval 19 6 , four republican state lawmakers urging gov. bill lee tennessee department health distribute vaccine.\"], [\"seem like cool caring group people.\"], [\"19 six five old. listen story jacqueline froelich\"], [\"agriculture commissioner nikkifried decrying gov. rondesantis handling 19 , time lambasting recent decision pre order vaccinations florida.\"], [\"beginning june 28 , ages six four 19 ingham county health department.\"], [\"agriculture commissioner nikkifried decrying gov. rondesantis handling 19 , time lambasting recent decision pre order vaccinations florida.\"], [\"agriculture commissioner nikkifried decrying gov. rondesantis handling 19 , time lambasting recent decision pre order vaccinations florida.\"], [\"19 appointments june 23 24 national jewish health ages 5 11. visit website learn make appointment\"], [\"agriculture commissioner nikkifried decrying gov. rondesantis handling 19 , time lambasting recent decision pre order vaccinations florida.\"], [\"6 eligible receive 19 , san mateo county officials encouraging guardians look toward pediatrician treatment.\"], [\"live updates n.y.c. begins vaccinating , milestone\"], [\"way major grocery chain pharmacy retailer publix offer vaccinations nation youngest 1,200 us stores.\"], [\"letter gov. bill lee tennessee department health , four republican lawmakers ask halt distribution 6 old.\"], [\"iowa health experts encourage parents 6 19\"], [\"18 adults became eligible covid19vaccines , 6 4 u.s. cdc\"], [\"noah champ. got first dose pfizer 19 today. even cry.\"], [\"based florida company , drawing fucking line ! started , follow.\"], [\"publix offering 19 5\"], [\"fda authorized emergency use two 19 vaccines 6 4 old. dr. priya soni discusses parents caregivers need know. learn\"], [\"mercy holding 19 clinic five\"], [\"thinking vaccinating , know vaccinesideffects suffering long 20 months. trial participants still suffering. drug makers help gets sick .\"], [\"walk ins welcome starting thursday , three occhd clinic locations offer 19 doses 6 older. ne clinic , 2700 ne 63rd 405 419 4200. southern oaks clinic , 6728 hudson ave. , 405 419 4119. occhd w. clinic , 4330 nw 10th st 405 419 4150.\"], [\"heading tomorrow 2nd booster vaccination. continue wear n95 even , ' easy greatly reduces risk. protect others please. even mild cases long term effects , especially vax\"], [\"time add younger team protected 19 vaccine. ask ' doctor questions , ' preparing this.\"], [\"know better\"], [\"everyone ages 5 eligible 19 vaccines community based clinic regency mall ! walk ins welcome , ages 5 17 must accompanied guardian. information visit\"], [\"well , except parents 82\"], [\"5 really need 19 vaccine?? ?\"], [\"vaccines moment since , rather longer studies effects ,\"], [\"knoxville , tenn. wvlt tennessee representative jason zachary joined coalition gop housemembers asking gov. bill lee halt 19 distribution , promotion recommendation five age.\"], [\"little ones babies vaccines\"], [\"time rethink ban cuba , ' ? long declared u.s. national security threat , vicente v rez cuban chemist loved kids. cuba became pioneer 19 vaccines\"], [\"brave hospital patients among first ages 6 5 receive 19 louisiana , chnola ! schedule , go call nurse hotline 504.386.3125.\"], [\"cuba became pioneer 19 vaccines\"], [\"19 vaccines five tippecanoe county starting thursday\"], [\"tennessee house gop press gov. lee block state distribution youngest\"], [\"wait ! brhd begin offering free 19 vaccines friday , june 24 , appointment , ages 6 5 ! learn upcoming clinics , make appointment , read faqs special update\"], [\"must climate change sad sudden adult death definitely jab. anyone thinks killing people banned social media forever.\"], [\"clinics ages 6 scheduled. contact health care provider find state run walk clinic nearest arrives vermont , clinics scheduled.\"], [\"group strong level reinforce protection household , daycare facilities classrooms , thereby helping attendance also workplace , traxler said.\"], [\"younger valley opportunity .\"], [\"gets 5 unfit .\"], [\"learn importance vaccinating 5 19 ryan hassan , m.d. , m.p.h. visit\"], [\"father two boys , know huge relief many parents 5 dallas county. encourage parents keep safe , talk pediatrician vaccinated.\"], [\"exclusive whistleblower says 120,000 troops still unvaccinated , army may move june 30 deadline far future ' health defense\"], [\"shots little here. hardest part wired\"], [\"six able 19 health district community events across northern nevada.\"], [\"6 24 west chester library offer pfizer 19 5. primary doses boosters also available. walk ins welcome ! information visit\"], [\"four republican lawmakers ask gov. lee prevent giving 19 5 four republican lawmakers signed letter asking governor bill lee go federal recommendations give 19 vaccines minors.\"], [\"19 update 5 eligible pfizer moderna vaccine. learn safe effective\"], [\"south bay parents bring clinics\"], [\"southern nevada health district begin offering 19 vaccines 6 5 age.\"], [\"llp 225 19 approved lunchlearnpod somedocs podsincolor\"], [\"join 6 29 facebook live event addressing key questions infants. hear ' dr. peter marks , dr. sara oliver . rsvp\"], [\"5 , good luck finding st. joseph county.\"], [\"6 5 19 shots ! see doctors around state saying. talk health care provider find location near make appointment\"], [\"contact ' healthcare provider schedule routine vaccines , including 19 , visit find near you.\"], [\"really ' want folks lose sight say ' ' , ' many fatal infection. joe kurland , infectious disease specialist , shares parents\"], [\"5 access 19 vaccines. experts including , l.a. care deputy chief medical officer , say pfizer biontech moderna 19 vaccines offer important protection. find article.\"], [\"vaccinations five here. jim adams , md , chief medical officer , tells recommends youngest members families. covidvaccine\"], [\"wednesday announced soon receive initial doses children. see information .\"], [\"publix give 5 news , social impact perfect enemy vaccines\"], [\"dr understood large group parents fully diseases understand science already c19 b trial data include prev. infection\"], [\"genius doctor read jama study males adversely affected vaccine.\"], [\"statement u.s. secretary education miguel cardona 19 eligibility ages 5 younger\"], [\"four republican lawmakers ask gov. lee prevent giving 19 5\"], [\"19 6 , many parents wondering signed shot. chief health officer explains.\"], [\"u.s. country world six , president biden exclaimed ' ' country world right ' tuesday\"], [\"wch offering walk 19 clinic 6 24. initial series booster vaccines available. pediatric vaccines boosters also qualify . please use main entrance check welcome center desk.\"], [\"six able 19 health district community events across northern nevada.\"], [\". providing shots ages 6 4 beginning friday.\"], [\"whoever came idea invite reporters watch doctors hold little got deserves props.\"], [\"' see justification giving jabs babies 1 barely affected 2 ' ' immunity appears last matter weeks\"], [\"excellent ! need protected great news.\"], [\"ages 6 5 million doses shipped across country. question many parents ?\"], [\"19 trials vaccines conducted omicron predominance different incidence levels , efficacy estimates moderna pfizer vaccines cannot directly compared.\"], [\"5 patients tested positive week wednesday. patients 2 5yrs. summer continue keep babies safe healthy. remember 5 yet. cases start raising summer .\"], [\"parents eager opportunity protect potentially fatal illness , wait continues.\"], [\"23,500 doses toddlers due arrive iowa week federal regulators approved use , according iowa department public health.\"], [\"shots little here. hardest part wired science hesitancy , bureaucracy , inequity , need explain formulas could slow delivery last unprotected group.\"], [\"might heard cdc recommends 19 six old. office appointments next week pfizer vaccine. ' share page appointments open.\"], [\"5 eligible vaccine. learn safe effective vaccines 5 yet. recommend visiting locations near you.\"], [\"tennessee house gop press gov. lee block state distribution youngest news , social impact perfect enemy vaccines\"], [\"primary place 5 pediatrician ' office clinic. 5 19 vaccines sedgwick county\"], [\"post shots little here. hardest part\"], [\"franklin county public health holding clinics 6\"], [\". offering 19 northern nevada 6 older. information make appointment\"], [\"19 6 older. stop office 225 w. waco dr 8 30am 4 30pm , monday friday receive vaccine. walk ins welcome.\"], [\"time politics. ' parents able everything keep safe , said president biden.\"], [\"officials vanderburgh county health department say ' planning hold 19 clinic 6 months.\"], [\"shots little here. hardest part\"], [\"county received first supply moderna doses tuesday night providing appointment only.\"], [\"god ' sake ... f ' ng hell wrong stupid republican idiots?? ? tennessee house gop press gov. lee block state distribution youngest\"], [\"5 eligible 19 vaccines. tricare pediatric clinic offer coming days. watch fb page info. continue offer vaccines boosters everyone else. call 224 610 3899 today !\"], [\"5 walgreens ? ' know\"], [\"6 older eligible 19 vaccines. metro health offer 19 vaccines starting today pop clinics. find nearest clinic visit us online\"], [\"' moment many us waiting ! 19 vaccines authorized 6 older. talk doctor 19 vaccination.\"], [\"week , first 19 shots going arms youngest americans except florida state opted order vaccines ages six five old. newsbreaklocal\"], [\"national efforts must combined efforts expand healthequity reduce impact systemic racism. read chanya holness ' op ed vaccines , equity , kids. cc\"], [\"6 6 5 eligible 19 , southern nevada health district offering shots 8nn\"], [\"u.s. delivers 2.7 mln doses five administration sites number delivered canada zero.\"], [\"starting wednesday , immunizations mall 6 old.\"], [\"case ' wondering stand vaccines youngest , told gazette. 4yo appointment friday !\"], [\"5 walgreens ? ' know\"], [\"yes. vaccines safe fda authorized ages 6 older. 19 vaccines undergoing intense safety monitoring u.s. history.\"], [\"poll days federal regulators gave green light ages 6m 4yrs eligible 19 , gop lawmakers asking gov. lee halt distribution youngsters. ?\"], [\"wait supply , please complete form request appointment. contact child. form\"], [\"manitobans asked opinion 19 plans children.\"], [\"cdc recommends six old. learn safe effective\"], [\"colorado received vaccines 5. according vanessa bernal cdphe , shots begin administered early week.\"], [\"vaccines ages 5 older time , cdc food drug administration spent considerable time effort evaluating effectiveness safety vaccines\"], [\"biden enthuses ' ' country world ' giving ' need vax. ' making scheme. animals died vax. would foreign substance injected .\"], [\"cdc approved 6 , grace lee , pediatric infectious diseases physician , answers frequently asked questions vaccines children.\"], [\"offering appointments ages 6 4 pfizer 19 vaccine. make appointment answers questions\"], [\"willing five head examined. data far final heart issues long term complications given anyone , much less children.\"], [\"majority pediatric hospitalizations 0 4 see . let ' protect 19 ! vaccinessavelives\"], [\"last weekend , cdc gave official recommendation ages 6 older 19. vaccines ages 6mo jcph clinic starting today. info vaccines , visit\"], [\"injecting bad parenting .. simply unfit mom dad\"], [\"impulse make lot people.\"], [\"soon missouri younger 5 old. rollout pfizer moderna vaccines underway. co chair mu health care columbia dr.\"], [\"5 arrives michigan week know\"], [\"cdc recommends 19 vaccines 6 age. learn schedule appointment calling ' primary care provider visiting\"], [\"log twitter mental break find tn state legislature trying block literal landfill fire murfreesboro. great day middle tennesseans .\"], [\"overheard conversation alternative doctors office. lady said knows vaccines work , twice bad reaction shots never vaccinated. congrats public health creating bigger group anti vaxxers !\"], [\"republican members tennessee house calling gov. bill lee pause distribution 19 vaccines among , toddlers , preschoolers.\"], [\"pfizer moderna 19 5 available. contact pediatrician today make plan. readily accessible vaccines groups pharmacies pop clinics updates come.\"], [\"harlingen host 19 clinic\"], [\"uofn anti mandatory pro wide availability mabs , paxlovid evusheld high risk kids. bad approved treatment 12s remdesivir hospitalized kids. vaccines approved 6 up.\"], [\"appointment\"], [\"younger 5 ? would willing share thoughts news story ? contact soraya keiser skeiser .com .\"], [\"questions 19 ? please callyourpediatrician ! ! !\"], [\"dr. tim bray , director , joins ' ask expert discuss rollout 19 vaccines children.\"], [\"lack care society shown 5 parents microcosm lack care always ? article , close ...\"], [\"wondering best ? read consider\"], [\"weekly round chicago ' current cdc community level medium 5 approved availability vaccines masks still strongly recommended\"], [\"happening walk ins welcome 3 vaccines currently 2 dose tx . toddlers 3 need book appointment nurse shots.\"], [\"' offering pfizer moderna children. walk vaccines ages 3 807 w. layton ave. 6 2 , appointments required\"], [\"terrible legislature. tn gop conspiracy nuts needlessly keeping population risk. house gop lee stop state health officials giving '\"], [\"house gop lee stop state health officials giving ' news , social impact perfect enemy vaccines\"], [\"ages six older receive free houston health department sites learn vaccinations immunizations find nearby site\"], [\". offer 19 clinics ages 6 four years. please see dates , times , locations , including schools registration information.\"], [\"ages 6 4 eligible receive 19 ! visit find vaccinations near you. pathwaytothefuture getvaccinated\"], [\"' scheduled excitement barely absorbing immense frustration ' taken long , also believe ' actually care country\"], [\"five covid19. alex li , md , pediatrician deputy chief medical officer , spoke discuss safety efficacy children. millergeerpr\"], [\"five eligible receive vaccine. appointments patients 6 made california online appointment booking platform , read\"], [\"' thankful. ' thankful science. parents rushed make appointments first day 19 doses 5.\"], [\"letter governor tn gop reps want limit department health ' involvement vaccines\"], [\"biden enthuses country world giving\"], [\"excellent explanation help parents decide 19 apple podcasts\"], [\"tennessee house gop press gov. bill lee block distribution youngest\"], [\"parents caregivers lining newly approved 19 children. parents taking wait see approach planning all. ncga ncnews nchealth\"], [\"let florida 19 editorial news , social impact perfect enemy vaccines\"], [\"join call today 2 p.m. edt talking points healthcareworkers discussing parents 6 5 , plus online resources clinicians.\"], [\"fearless leader champion dr. johnson interviewed newly approved vaccinations 5. read covid19vaccine\"], [\"knoxville anti vax supermajority wants block distributing kids. government overreach anti science anti parental choice pro life\"], [\"knoxville anti vax supermajority wants block distributing kids. government overreach anti science anti parental choice pro life\"], [\"light shocking development , immediately halt cv19 recommendation children. everyone , really. 1\"], [\"latest recommendations moderna 19 ages 6 17 tomorrow , june 23 , advisory committee immunization practices. join call sccmsome\"], [\"looked replies tweet mine yesterday regarding vaccine. ' amazing number trolls anti vaxxers feel need spew anti science , bible verses threat. statistic need know. 70 dead az.\"], [\"summit county public health says currently pfizer , three series.\"], [\"folks , 19 vaccine. enough research long term studies effects. me. sincerely , mom vaccinates\"], [\"5 begun receiving doses 19 hospitals , pediatricians health care centers , merely days receiving approval fda .\"], [\"st. charles county department public health begin offering 19 vaccinations ages 6 older june 27. appointments required vaccinations. schedule online call 636 949 1899.\"], [\"creepy joe ' borders , meeting oil companies anywhere else needs sure show clinic fjb ... fjb .... fjb\"], [\"st. louis county department public health preparing offer 19 vaccinations six old. dph relies upon state missouri supply 19 , including doses aged six 5 years.\"], [\"tennessee house republican leadership wednesday asked gov. bill lee block department health distributing , promoting recommending 19 5.\"], [\"tennessee house republican leadership wednesday asked gov. bill lee block department health distributing , promoting recommending 19 5.\"], [\"tennessee house republican leadership wednesday asked gov. bill lee block department health distributing , promoting recommending 19 5.\"], [\"tennessee house republican leadership wednesday asked gov. bill lee block department health distributing , promoting recommending 19 5.\"], [\"tennessee house gop press gov. bill lee block distribution youngest\"], [\"joe biden complete mess. bidenadministration bidengaffes centersfordiseasecontrolandpreventioncdc joebiden usnews washingtondc\"], [\"tennessee house gop press gov. bill lee block distribution youngest\"], [\"19 vaccines 6 help keep whole family safer serious illness hospitalization. give peace mind help loved ones getvaccinated. visit call 833 422 4255 find near you.\"], [\"icymi vaccines ages 6 up. able ages 6 safe effective 19 vaccines significant milestone brings even hope protects littlest michiganders.\"], [\"tennessee house gop press gov. bill lee block distribution youngest kids.\"], [\"tennessee house gop press gov. bill lee block distribution youngest science healthcare mix well tn. gop ! guns ok vaccinations .\"], [\"' sick tired politicians trying make medical decisions. tennessee house gop press gov. bill lee block distribution youngest\"], [\"tennessee house republican leaders pressing gov. bill lee block department health promotion distribution 5 under.\"], [\"5 19 shots johnson county\"], [\"dr. sinda althoen , spoke discuss effectiveness safety 19 5. stjosephorange millergeerpr\"], [\"parents looking 6 4 19 , vanderbilt ' monroe carell jr. ' hospital holding event week.\"], [\"mother shares emotional experience chicagonews breakingnews news\"], [\"based known weighing benefits risks imho consenting jab tried endangerment.\"], [\"doctors discuss safety effectiveness 19 shots five. upcoming saturday mercy kansas , six four go clinic\"], [\"much ignorance , polite reaction like desantis trying control constituents public health choices. house gop lee stop state health officials giving '\"], [\"tucson residents looking place 5 try immunizeunder5\"], [\"tennessee house gop press gov. bill lee block distribution youngest worst timeline ever\"], [\"got call , take 9am tomorrow\"], [\"desantis biden admin lying policy slay news\"], [\"tennessee gop politicians pressuring governor stop state offering 19 5. would stunning incredibly predictable.\"], [\"group insists ' healthcare parents school governing bodies implement mask mandates. seems hypocritical legislate parents ' decisions covid.\"], [\"tennessee house gop press gov. bill lee block distribution youngest\"], [\"today 6 able moderna pfizer vaccines.\"], [\"parents , vaccinating 19 removes one many worries comes kids. learn facts yourchoicetheirhealth\"], [\"tennessee house gop press gov. bill lee block state distributing youngest\"], [\"several central ohio health departments hosting 19 clinics 6 receive vaccine.\"], [\"tennessee house gop press gov. bill lee block distribution youngest\"], [\"' heard ' difficult finding appt lt 5 19 vaccine. page comprehensive list vaxx locations dates , city. scroll see !\"], [\"pfizer 19 impacts semen study much yet know regarding , want start jabbing babies? ? kids? ?\"], [\"tennessee house gop press gov. bill lee block distribution youngest\"], [\"tennessee house gop press gov. bill lee block distribution youngest\"], [\"thursday ' immunization clinic friendship baptist church seaside people 5 older. younger yet.\"], [\"tennessee house gop press gov. bill lee block state distributing youngest\"], [\"tennessee house gop press gov. bill lee block state distributing youngest\"], [\"tennessee house gop press gov. bill lee block state distributing youngest\"], [\"mdhhs announces six eligible vaccine.\"], [\"ron desantis right. ' ' ' infants. foramerica 87harvey\"], [\"dr. norma perez spoke recent approval 5 19 vaccine. altamed\"], [\"health providers hopeful rates increase wisconsin , ages 6 5 eligible 19 vaccine.\"], [\"u.s. food drug administration authorized use pfizer everyone six older moderna six five age.\"], [\"province seeks feedback manitobans 19 plans children. read full story\"], [\"say mrna ' dontbetheexperiment sure hell let experiment ! ! protect future ! pfizer 19 impacts semen study\"], [\"cdc recommending 19 vaccines 6 amid troubling surge hospitalizations omicron wave . dr. jeff barke joined kusi discuss latest recommendation.\"], [\"ron desantis right. ' ' ' infants. slatter\"], [\"parents encouraged talk doctors 19 vaccines 6 up. visit link list locations providing vaccine.\"], [\"record high gas , groceries , rent , cost living , record inflation , find formula , crashing stock market , reckless pull afghanistan also leaving americans , sending trillions dollars overseas instead americans , hey , 6 shot.\"], [\". talks claire hannan , helped navigate rollouts 50 states , challenges involved quickly shots millions kids.\"], [\"got 2 yr am. took 30 mins appt. thanks utpol utleg childrenshealth\"], [\"moderna requires 2 shots pfizer 3.\"], [\"moderna requires 2 shots pfizer 3.\"], [\"several central ohio health departments hosting 19 clinics 6 receive vaccine.\"], [\"june 18 , cdc recommends 6 older pfizer moderna 19 vaccine. fcph offer clinics ages 6 starting week\"], [\"ron desantis right. ' ' ' infants.\"], [\"u. missouri specialist says 19 shots safe effective columbia missourian\"], [\"took lt 20 minutes attacked anti vax community vaccinating deadly virus. board certified pediatrician actually watched die suffer covid. thankful ! tweetiatrician\"], [\"go doctor eczema shots ready group may cry happy tears. finally able vaccinated. finally\"], [\"' wisconsin milwaukee set begin vaccinating youngest monday. bellin green bay waiting shipments.\"], [\"vacc problem vaccs ? know yall aint completely unvaccinated !\"], [\"6 older eligible receive 19 ! visit find sites near you. jesdcares getvaccinated getboosted\"], [\"today day ! vaccines finally ages 6 5 ! vaccines always best way protect family. callyourpediatrician learn schedule today.\"], [\"ron desantis right. ' ' ' infants. tahardy al\"], [\"infected 19 , teens really sick short long term health problems spread 19 loved ones community help protect teens 19.\"], [\"home. city ' home program offering vaccines 6 age. schedule appointment learn vaccines\"], [\"finally ! thank always protecting ! anywhere near charleston sc , want , practice incredible vaccinating 6mo moderna. tweetiatrician vaccineswork\"], [\"staying healthy pregnancy important health baby. encourages expecting mothers stay date 19 vaccines , including boosters. learn maternalhealth orangecounty\"], [\"claim safe effective without actually knowing serious malpractice. idea risks , know fact risks incredibly tiny. insanity.\"], [\"kiddo ' first scheduled friday morning. huge sigh relief is. ' wait finally see world. fair first 2 life .\"], [\"ordered 32,000 doses 19 vaccines 6 old. two batches expected arrive week.\"], [\"this. many friends parents yet sure sick thoughts care understand feel , worth read\"], [\"ask expert msu doctor answers questions 19\"], [\"happy wednesday ! week board certified pediatrician , dr. nina ford johnson joins us answer questions 19 know it. tbginsession podsincolor\"], [\"exciting long awaited 19 youngest approved. yet arrive office distribution. know many anxious vaccinated. let know soon offer one clinics.\"], [\"19 update everyone 6 older able 19. help protect severe disease , hospitalization , death 19. learn\"], [\"19 became 5. oaklandca alamedacounty\"], [\"' got approved saturday afternoon ages 6 5 , clinics ' offering vaccines anyone 3 18m pfizer cvs minute clinics . excited impatient .\"], [\". says due unexpected shipping delays currently access pfizer 5 old. moderna locations. wccb healthnews health news nc clt\"], [\"upmc community pediatrics offering 19 vaccines 6 older. please call office schedule appointment. learn more.\"], [\"b u e ht\"], [\"19 5 faqs parents infectious disease expert shares information 19\"], [\"' waiting long time access vaccine. every group , 6 , country eligible protection 19 , said us surgeon general dr. vivek murthy read ...\"], [\"wisconsin far ordered 48,500 19 doses 6 5 old.\"], [\"yesterday , joined leadership requesting direct halt distribution , promotion recommendation 5. letter sent governor .\"], [\"speaks grace lee , associate chief medical officer pediatric infectious diseases physician , answering common questions parents vaccines children.\"], [\"starting today , 6 5 clinics pontiac southfield. oaklandcounty , learn\"], [\"answering questions vaccinating little ones\"], [\"dr. rauner vax 6 mo.s 4 yrs. preventable death vax hesitancy affecting vax rates best sources follow info going forward dr. katelyn jetelina , dr. daniel griffin.\"], [\"rant bit pharmacies denying eligible 3 ? babies stuck homes entire lives. vaccinateourkids\"], [\"offering free vaccines 6 older. visit information hours locations note ' recommended call site ahead time confirm availability .\"], [\"22 million teens ages 5 17 fully 19. , 5 eligible ! starting today , vaccines everyone ages 6 . schedule appointment learn\"], [\"families ? surveyed parents 5 april found 18 eager asap 38 plan wait see 11 seek required 27 plan immunize disease\"], [\"none joe jill care old.\"], [\"parents say , want protect potential problems future , safest effective way maximize protection , said michael chang , md , .\"], [\"heard wake 5 27 morning started coughing. sign up. one lingering symptoms. got nearly 5 ago day , later afternoon receive first dose. parenting day\"], [\"let florida 19 editorial tampa bay times\"], [\"5 start 19 vaccines guidelines.\"], [\"thumbs dose one ! charlie got celebrate icecream cone. family celebrate day ? ps. questions vaccines , answers vaxyourfam\"], [\"ron desantis right. ' ' ' infants. t4\"], [\"republicans care 1 million americans dying one person dies , instantly blame ? 200 million americans , pretty noticeable vaccines actually safe like suggest .\"], [\"safe effective 19 opening big , world little ones ages 6 up. learn move forward protect family\"], [\"ron desantis right. ' ' ' infants. mc49\"], [\"time politics. ' parents able everything keep safe , said president biden.\"], [\"u.s. begins vaccinating\"], [\"beginning today , 5 mall america. plan take tot jab soon ? let ' talk ! better yet , email bethel ' finest soraya keiser skeiser .com tell fred sent !\"], [\"1990s , 20 5 died rotavirus annually us. , 77 rotavirus. comparison , 442 4 died us , 30 parents said group.\"], [\"19 vaccines 6 help keep whole family safer serious illness hospitalization. give peace mind help loved ones getvaccinated. visit call 833 422 4255 find near you.\"], [\"california 5 begin vaccines los angeles times 2e\"], [\"expanding 19 eligibility 5 following federal authorization. austin parents , talk pediatrician attend shots tots clinic , linked\"], [\"santa fe parents visiting city week mixed feelings shots. many eager ones inoculated virus , others remained wary.\"], [\"summer season , best way keep safe healthy soak sun 19. ages 5 eligible ! learn\"], [\"youngest americans start 19 vaccines tuesday. ' every know. usa today healthcare\"], [\"ron desantis right. ' ' ' infants. churchill\"], [\"take killing people causing heart inflammation twice without second time milder mildest cold 1st time nowhere near bad 5 flu attacks past\"], [\"even though patient 8yo , fully already recovered fever , still hospitalized beijing. point gotta ask , point zero policy hundreds cases shut capital city ?\"], [\"cdc recommends 6 older approving pfizer moderna vaccines saturday.\"], [\"ron desantis right. ' ' ' infants. fjc 1984\"], [\"llp 225 19 approved lunchlearnpod podsincolor somedocs\"], [\"6 5 19 shots ! make plan talk doctor ask questions vaccinated. also search locations find locations map mdh kidsdeserveavaccine\"], [\"health departments west virginia , ohio kentucky yet able administer 19 vaccines 5 , although federal government said parents able within next weeks.\"], [\"hcps attend today coca call 2 3 p.m. et recommendations pfizer biontech moderna primary series 6 5 old. learn\"], [\"missouri department health senior services adopted cdc ' recommendation 5 receive 19 vaccines thursday.\"], [\"franklin county public health holding 19 clinics week. ages eligible receive , including boosters.\"], [\"reminder us frantically trying schedule vaccines 5 government website friend , local pharmacies updating group respective pfizer moderna availability receive stock\"], [\"breakingnews 6 older eligible 19 vaccines.\"], [\"cnn vaccines 5yo available. ' dr. answers questions safety , efficacy , importance vaccinating group children.\"], [\"ron desantis right. ' ' ' infants. back seth co usmaga fl luney\"], [\"guess whose finally ? hottoddlersummer coming !\"], [\"chicago folks looking appointments booked newly eligible 6 5 , visit site anyone eligible vaccines , share others still need vaccines boosters. getvaccinated\"], [\"icymi utah 6 see one got son even earlier utpol\"], [\"must watch parents vaccinated. remember providers compelled comply mandates gov cdc nih ama recommendations employer. independent physicians pa nps independent thinkers vs group thinkers.\"], [\"3.5 1 got first vaccine.\"], [\"latest cdc recommendation , 6 5 eligible receive 19 vaccine. learn , , call 832 393 4220.\"], [\"lawrence douglas county public health announced dates times 15 upcoming 19 clinics ages 6 4 old.\"], [\"vaccines youngest coloradans here. answers questions.\"], [\"following decision federal health officials authorize 6 receive 19 vaccines , californians able book appointments tiniest charges.\"], [\"5 begins ' shots california\"], [\"19 doses 5 begun arriving wisconsin. ' ' mathew\"], [\"gotten first shot. waiting long feel numb. dress event season .\"], [\"6 older eligible 19 vaccine.\"], [\"rep. brenda lawrence mi 14 housedemocrat uscongress huge news ! youngest , 6 5 old.\"], [\"nothing brag ! ' vaxxed early , five boosters reach puberty ! biden enthuses ' ' country world ' giving\"], [\"cdc recently approved vaccinations 6 up. segment health director talks exciting news , questions ' heard 19.\"], [\"feel like pending doom biden enthuses ' ' country world ' giving\"], [\"minuteclinic vaccinating 18 cdc ' guidelines. schedule safe effective 19\"], [\"scheduled appointment , listen up. ' yet gotten pfizer due shipping delay , moderna administering today.\"], [\"cases littlest begin shots state rolls 19 ages 5 younger\"], [\"people\"], [\"good news keeping ' cute schools\"], [\"country giving shots little ...\"], [\"ages 6 older receive 19 vaccine. point , offering moderna group. please visit listing appointment walk clinics.\"], [\"bad. key points 1. make sure date vaccines 2. polio causes fever , fatigue , headache , nausea. life threatening paralysis would consider long polio 3.\"], [\"manitoba seeks feedback\"], [\"soon offering vaccines 6 months. contact ' pediatrician primary care provider schedule appointment. detail\"], [\"19 doses 5 begun arriving wisconsin. ' ' available.\"], [\"19 event held week monroe carell jr. hospital wanting ages six four shot.\"], [\"abolishing federal public health agencies reasonable proposal giving power.\"], [\"everyone 6 protection worst outcomes covid. learn wecandothis\"], [\"six older. salt lake county health department scheduling 19 shots ages six older. schedule appointment online calling 385 468 shot.\"], [\"5 kansas city\"], [\"join cdc southern alliance downtown square ruleville sunflower county health fair 9am 1pm june 25th ! ' food , educational resources , 19 booths , fun outdoor activities , much more.\"], [\"19 vaccines approved ages 6 older. best way protect sick , hospitalized , long lasting health impacts due 19. call 419 599 5545 schedule appointment today.\"], [\"parents may questions 19 whether right child. pediatricians ready help. schedule appointment , find doctor.\"], [\"parents may questions 19 whether right child. pediatricians ready help. schedule appointment , find doctor.\"], [\"nashville parents say confident 19 children.\"], [\"soon missouri five younger\"], [\"santa barbara county expected receive pediatric 19 vaccines aged five early week following recent emergency authorization pediatric vaccine.\"], [\"santa barbara county expected receive pediatric 19 vaccines aged five early week following recent emergency authorization pediatric vaccine.\"], [\"illinois updates quarantine rules , rollout\"], [\"illinois updates quarantine rules , rollout\"], [\"boy got first today ! ! !\"], [\"19 bigger threat us school shootings\"], [\"another expansion 19 eligibility , coconino county health human services cchhs begin offering doses wednesday , june 22.\"], [\"data emerging risks need weigh risks risks virus , virtually zero risk 19 , yet cdc recommending aged 6 5 take it. wtf going ?\"], [\"waiting long time , says sara saporta keating , mom pediatric epidemiologist . 19 vaccines kiddos 6 5 ! share details pfizer moderna\"], [\"parents 6 4 better protect 19. recommends , including already 19 , vaccinated. visit find 19 near\"], [\"shots tots parents nashville\"], [\"5 eligible receive 19 vaccines safe , effective , give parents peace mind knowing protected. make appointment\"], [\"6 5 19 ! ! ! find provider vaccines\"], [\"call medical provider check scheduling options uihc\"], [\"shots tots parents nashville\"], [\"biden demnazis ' ' country world ' alter dna\"], [\"mother offered 1,000 last .. ' relatively intelligent , well meaning , caring person. imagine pressure coercion shitbag , obsessed parents put .\"], [\"19 6 5 following approvals cdc fda , galveston county health district coastal health wellness week begin offering 19 vaccines ages 6 5 old.\"], [\"pfizer moderna vaccines ok 6 , doctors review three reasons parents.\"], [\"10 wants give 2\"], [\"this. saw morning shows florida rds prohibiting infants. , calls crap facts. right whole time. omicron variant proved that.\"], [\"faq viral solutions offer moderna 19 5 ? see answer\"], [\"ok salt lakes. vaccines 6mo higher\"], [\"let ! vaccineswork getvaccinated vaxup\"], [\"katie reis 6 son 3 daughter. neither ' plan changing time soon.\"], [\"work underway plan rollout aged six four , 19 group may approved use canada summer. covid19mb protectmb\"], [\"vaccines roll ?\"], [\"doctors health dallas department recommend 6 5 receive 19 , following centers disease control endorsement weekend.\"], [\"19 still spreading 12 older booster. keep future generations safe healthy , boosted today. connect nearest tribal clinic texting 55251.\"], [\"today ' newscast teton county residents sign 5 appointments. plus , wyoming residents comment primary elections electric vehicles , local documentary screens tonight.\"], [\"clare craig vs cdc director eua amendment request pfizer biontech 19 babies\"], [\"moment many parents waiting ! 5 eligible receive vaccine. txlege\"], [\"u.s. vaccines start roll\"], [\"deaths due induced myocarditis significant increase heart attack risk among youth , risks tied 19 shots continue grow effectiveness reached embarrassing low. epoch times\"], [\"another man 20s died. ravens linebacker jaylon ferguson 26 died. team say caused death. ferguson forced order play football.\"], [\"much evidence needed responsible fess stop pushing experimental , unlicensed inoculations , especially ?\"], [\"latest 19 news york city prepares 5 york times\"], [\"hour morning edition , nyc kicks latest rollout , time toddlers. ' explains launch may smooth ones past. tune ! 93.9fm\"], [\"latest 19 news york city prepares 5 york times news worldnews googlenews sport fortnite vbucks roblox\"], [\"7 30am already wasted sperm app blaming man death vaccine. fuckin weird. grow .\"], [\"united states first country world offer safe effective 19 vaccines six , president biden said.\"], [\"biden visited clinic washington , first shots given last major group ineligible vaccines.\"], [\"unsure 5 19 ? pediatric infectious diseases expert msu answered common questions.\"], [\"starting today , 6 older receive columbus public health. currently , pfizer offered plans add moderna dose soon supplies available. visit find walk clinic works you.\"], [\"open smartnews read 19 side effects ? experts seek ease parents concerns read web , tap\"], [\"biden enthuses ' ' country world ' giving\"], [\"2 million california eligible vaccine. many ?\"], [\"u.s. opens little shots begin week modern healthcare\"], [\"dallas county immunization clinics doses recently approved six 4\"], [\"waited really long time wasnt going son momma said .. immediate reaction positive versus mine hell wheels ... good read president\"], [\"president joe biden visited clinic tuesday celebrate virtually americans 19\"], [\"schedule ' 19 today.\"], [\"19 doses 5 begun arriving wisconsin. ' ' available.\"], [\"6 receive vaccine. call doctor local pharmacy determine availability. oaklandcounty residents schedule appointment us\"], [\"family excited finally access 19 ! days little one protection do. grateful science ! chicago\"], [\"number 19 cases texas reaches 7 million , san antonio ' youngest start receiving today. ' where.\"], [\"19 doses 5 begun arriving wisconsin. ' ' available.\"], [\"19 doses 5 begun arriving wisconsin. ' ' available.\"], [\"19 doses 5 begun arriving wisconsin. ' ' available.\"], [\"19 doses 5 begun arriving wisconsin. ' ' available.\"], [\"common side effects 5 alleviate\"], [\"parents anxious see little ones novel disease wait much longer.\"], [\"parents decide 19 loves politics would consider death jab child. loves would never consider death jab. said said\"], [\"19 authorized fda 6 5 ! pfizer moderna brands .\"], [\"plans made roll st. louis county city health departments.\"], [\"19 doses 5 begun arriving wisconsin. ' ' available.\"], [\"19 doses 5 begun arriving wisconsin. ' ' available.\"], [\"5 axiosam\"], [\", concerns side effects , time full number shots could play parental decision making.\"], [\"lincoln lancaster county health department ' received 19 doses 5. , pharmacy options parents. ' know\"], [\"questions 19 answered ! hhcga hispanichealth\"], [\"19 doses 5 begun arriving wisconsin. ' ' available.\"], [\"champaign urbana public health district host clinics week. danville ambucs honor community mover shaker dean carlton. covering stories newsroom chambana radio news\"], [\"19 vaccinations happening milwaukee.\"], [\"doctors cdc white house calling end testing policies exclude regular life.\"], [\"city lubbock public health dept. announces 19 availability\"], [\"5000,000 michigan 6 eligible receive 19 vaccine.\"], [\"cdc admits never monitored vaers safety signals ' health defense\"], [\"pediatric comes 3 doses 2 moderna. recommends even still shot. morning\"], [\"19 3 older walk hayat pharmacy clinic. parents 6 2 schedule appointment next tuesday. live details schedule one .\"], [\"hour morning edition , nyc kicks latest rollout , time toddlers. ' explains launch may smooth ones past. tune ! 93.9fm\"], [\"3 older walk pediatric 19 hayat pharmacy. 530 .\"], [\"dyk six older ? visit schedule appointment near you. vaccines covered medicaid meaning pocket costs members ! learn , visit\"], [\"meticulously structured lives around hope shots understood brutal luxury so. mothering lot work best circumstances. mothering ... relentless.\"], [\"san antonio metro health announced offer 19 , ages 6 older.\"], [\"common side effects 5 alleviate\"], [\"clare craig vs cdc director eua amendment request pfizer biontech 19 babies\"], [\"common side effects 5 alleviate\"], [\"need know , 5 charlotte.\"], [\"all. of. this. except 22 old. turned 4 gets tx friday. safe protected serious effects.\"], [\"uab pediatric infectious diseases co director dr. david kimberlin says protect younger worst 19.\"], [\"know data beginning covid. vascular target serious adults lc. forgetting mumps protect boys sterility. must learn possible control vascular damages lc , later\"], [\"president joe biden visited clinic tuesday celebrate virtually americans 19 tuesday authorization vaccines 5 weekend.\"], [\"two , many families waited 19 vaccines youngest kids. illinois providers begun giving first vaccines 5.\"], [\"charleston police station lockwood drive one first locations offer 19 ages 6 5 old. many locations still yet receive doses. tune delays rollout !\"], [\"wait parents want younger 19. ' experts say.\"], [\"flu killed 4x ' prove didnt mess going 5 trillion dollars spent way much money. someone countrys dont give\"], [\"gang cult tracking software say ezra miller hostage. vaccines finally kids. logistics ' easy warnerstudios npr talks claire hannan , helped navigate rollouts 50 states , challenge\"], [\"asking parents check appointment requirements taking receive 19\"], [\"' country world right , president biden said , first lady jill biden met newly parents.\"], [\"president biden visits parents clinic able first time.\"], [\"across miami valley 6 19 vaccine.\"], [\"cult gang tracking software says ezra miller hostage. vaccines finally kids. logistics ' easy mmiw npr talks claire hannan , helped navigate rollouts 50 states , challenges involved\"], [\"19 approved\"], [\"19 approved\"], [\"threat parents insane !\"], [\"reminder vaccines 5 still limited places due underfunded understaffed rollout full first 5 outside study complete august authorized treatment drugs babies\"], [\"cdc director rochelle p. walensky endorsed advisory committee immunization practices acip recommendation 6 5 receive 19 vaccine. ...\"], [\"cdc admits never monitored vaers safety signals ' health defense\"], [\"look news article daily caller gov. ron desantis plants flag first governor oppose vaccines\"], [\"biden celebrates access six ' monumental step forward '\"], [\"cdc recommends 19 vaccines link source article shared epocrates , 1 medical reference app.\"], [\"biden enthuses ' ' country world ' giving\"], [\"u.s. vaccines start roll\"], [\"austin travis county health authority approves 19 eligibility babies\"], [\"president joe biden visited clinic tuesday celebrate virtually americans 19 tuesday authorization vaccines 5 weekend.\"], [\"orleans 6 first 19 vaccines today\"], [\"chart doses intervals pedsicu great. thank tx\"], [\"dr. geert vanden bossche explains injected 19\"], [\"19 6 4 children. safe , effective , authorized fda recommended cdc. best place vax pediatrician office.\"], [\"us administer small , starting week learn usnews meded medical emednews\"], [\"president joe biden visited clinic tuesday celebrate virtually americans 19 tuesday authorization vaccines 5 weekend.\"], [\"medical community lost touch reality ? biden enthuses ' ' country world ' giving vaccineskill\"], [\"cdc orders injecting 6 babies two shots moderna cocid 19 important bullet point top right column gets myocarditis pericarditis first mrna experts advise additional mrna 19 shots given\"], [\"19 along recommended childhood immunizations protect severe illness disease.\"], [\"5 , parents still questions. gathered questions parents one county ' top health officials answer.\"], [\"think good news. injecting babies 6 experimental vax. crazy. biden enthuses ' ' country world ' giving redstate\"], [\"parents come decision ' going towards 19\"], [\"pfizer biontech vs. moderna 19 5 know pfizer moderna biontech kidsvaccine\"], [\"19 la county toddlers\"], [\"aged six four eligible receive 19 mexico , according mexico department health.\"], [\"biden visits clinic , celebrates shots 5\"], [\"president joe biden visited clinic tuesday celebrate virtually americans 19 tuesday authorization vaccines 5 weekend.\"], [\"local doctors address 19 5\"], [\"' fat no. required public school ? homeschool. make work. ' glad did. parents decide 19 foxnews\"], [\"parents 19 santa clara county\"], [\"gov desantis wrong zero risk kids. right time antivirals move routine supply chains. feds assure access 23m persons without health insurance offer medicare benefits equity\"], [\"this. , especially wait taken toll. sucked joy long awaited moment. compass spins , directionless. work care go bed again.\"], [\"parents decide 19\"], [\"time politics. ' parents able everything keep safe , said president biden.\"], [\"heartbreaking\"], [\"' official ! 6 older 19. vaccines health department starting thursday. klbk ' elizabeth fitz spoke officials find else parents know.\"], [\"tuesday , state health official signed allowing six five special versions pfizer moderna vaccines.\"], [\"5 , parents still questions. gathered questions parents one county ' top health officials answer.\"], [\"first day summer also first day many eligible 19. ' bay area rolling shots.\"], [\"6 able 19\"], [\"tuesday ' first day summer , first day many parents ' could 19. ' know bay area ' rollout far.\"], [\"utah 6 19 shots. breathing sign relief utpol\"], [\"cdc admits never monitored vaers safety signals ' health defense\"], [\"president biden visited clinic tuesday celebrate virtually americans 19 tuesday authorization vaccines 5 weekend.\"], [\"handling well better adults. getvaccinated\"], [\"cousin brooklyn got thinks train people think invincible bedridden lost 20lbs thought gonna die. vaccinated. , cool plan , america .\"], [\"c.d.c. expected recommend vaccines\"], [\"michigan department health human services announced tuesday michiganders ages 6 eligible 19 vaccine.\"], [\"turned comments , huh ? resources help people injured families victims killed 19 ?\"], [\"vanderbilt hospital offering pfizer lt 5 details link reposting clarity tennessee kidsafetyfirst vaccinateourkids covidvaccine\"], [\"5 arrive michigan week know story\"], [\"5 , business .\"], [\"white house coordinator tells parents even immunity previous infection cases drop 11 100,000 per day mark first time since may\"], [\"parents conflicting views whether younger 5\"], [\"mom thrilled chicagonews breakingnews news\"], [\"families toddlers find vaccines primary health care provider one san francisco ' clinics.\"], [\"parents 5 , info vandy\"], [\"dchd anticipates opening registration pediatric 19 fri. 6 24 appointments central public health center wheaton. residents seeking appointment sooner may able locate one using read\"], [\"happy tears ! got appointment 2yrs waiting ! sense relief hope immense us parents !\"], [\"vaccines 6 mo. 5 vaccinated. cdc given green light. moderna requires 2 doses. pfizer biontech requires 3. ' slow rollout shipping delays la county anticipates doses nearly 900 sites.\"], [\"ann robert h. lurie ' hospital chicago offering moderna individuals 6 4 5 . lurie ' continue offer pfizer 19 individual\"], [\"president joe biden visited clinic tuesday celebrate virtually americans 19 tuesday authorization vaccines 5 weekend.\"], [\"president joe biden visited clinic tuesday celebrate virtually americans 19 tuesday authorization vaccines 5 weekend.\"], [\"moreover , underscores need thorough investigation apparent association 19 administration adverse cardiovascular outcomes among adults.\"], [\"hell kind parents 5 take , would never done first place , maybe may vulnerable ! !\"], [\"cdc approved 19 shots 6 , lincoln lancaster county health department yet received doses.\"], [\"hooray keeping safe healthy ! first vaccines 5 administered today. lennon , aevin , callum sofia got pokes , first 3 , 3 series pfizer doses. vaccinessavelives learn\"], [\"every got injection clinic day got double dose cdc says dont worry dont proof double dose hurt\"], [\"5 .hell , 10 .vaccinated , youre sick head. please unfollow .\"], [\"' listen pharmaceutical company. give !\"], [\"saw 4000 trials 2 3 dropped out. make evaluation that.\"], [\"got covidvaccine third trimester january 2021 happy got antibodies , got boosters breastfeeding ! thankful 15 mo gets ! putkids1st\"], [\"' official appointments ! ! hallelujah ! ! ! !\"], [\"please watch share\"], [\"u.s. president joe biden first lady jill biden visit clinic u.s. begins distributing vaccines 6\"], [\"john williams newsclick would 5 ?\"], [\"vaccines boosters best hope move beyond 19 pandemic. , 19 vaccines babies addition groups already eligible. learn\"], [\"many parents faced question , also one version preferred ?\"], [\"wrote tonight ' newsletter intro vaccines children. far one piece hate mail , improvement 2021 would several. apparently reckless wanting grandkids vaccinated.\"], [\"cdc admits never monitored vaers safety signals ' health defense\"], [\"icymi schedule 19 younger 5 st. louis area.\"], [\"1. would never take masked pediatrician wanted masked. 2. yes , would talk pediatrician mrna , recommended , would find pediatrician , 3. agent well aap.\"], [\"approximately 500 younger 5 received first doses 19 rady ' hospital , according hospital officials. 207,723 san diego county included eligible group .\"], [\"white house coordinator tells parents even immunity previous infection cases drop 11 100,000 per day mark first time since may\"], [\"starting thursday , june 23 , 19 vaccines 6 older mecklenburg county public health details wccb covide health\"], [\"6 5 soon able vaccinated. vaccinategoleta cityofgoleta\"], [\"6 receive 19 vaccines. find regarding sites eligibility\"], [\"justin buncombe county administered newly approved moderna 19 6 five 30 today. county still waiting shipment pfizer vaccines approved 6 four old. 13\"], [\"know 19 san antonio know 19 san antonio\"], [\"' seen many including group ' hospitalized heart inflammation infection. ' still learning means lifetime.\"], [\"biden visits clinic washington health authorities approve 19 vaccines six months.\"], [\"today , sedgwick county health department released statement following cdc recommending 19 vaccinations children. details kakenews\"], [\"oldest 3 finally scheduled youngest eligible next month. thank scientists making possible\"], [\"whywake resident clinic began vaccinating 6 mo 5 19 today. grateful hospital clinic leadership well nursing staff making happen quickly ! schedule appointment today.\"], [\"americans 19 shot.\"], [\"shipments vaccines younger providers began yesterday , june 20. recommend call first ask pediatrician preferred clinic yet. continuing work providers across oregon make doses available.\"], [\"co chair mu health care said 5 younger able first 19 dose coming days.\"], [\"president joe biden visited clinic tuesday celebrate virtually americans 19 tuesday authorization vaccines 5 weekend.\"], [\"tuesday , four younger across country began versions pfizer modena 19 shots smaller. ron heg omaha nebraska\"], [\"appointments required ages six five , 18 younger must guardian them.\"], [\"starting youngest san franciscans week ! info go getvaccinated\"], [\"vaccines 6mos 5yrs starting today. best way fully protect soon possible. also protects , loved ones , community .\"], [\"tuesday , rady ' hospital administered hundreds 19 shots youngest san diegans eligible receive 19 vaccine.\"], [\"fda authorizing use little 6 , mexico follow california make attend public schools take shot.\"], [\"clare craig vs cdc director eua amendment request pfizer biontech 19 babies\"], [\"cdc admits never monitored vaers safety signals ! response foia request submitted health defense.\"], [\"charlotte mistakenly given double dose , father says\"], [\"19 shots tots 5 dc , md. va.\"], [\"excited first 19 today ! part trials , learned got placebo darn ! gets real thing ! scheduling church dedication 2 wks 3rd !\"], [\"mercy offer clinics 5\"], [\"marin county 19 status update june 21 , 2022 includes moderna pfizer approved opportunities marin updated local 19 data full update subscribe daily updates email\"], [\"one question answered ages 0 4 really need ? complications side effects emergency vs. mathematically insignificant risk death 19.\"], [\"one preferred ?\"], [\"one preferred ?\"], [\"one preferred ?\"], [\"people go tv exaggerate know vaccines ps proof benefits , proof reduction misc hospitalization low n uptake still plateau 20 . lies uptake. sad .\"], [\"day come soon enough families.\"], [\"five younger 19 , parents still fence.\"], [\"five younger 19 , parents still fence.\"], [\"6 5 eligible 19. dedicated health safety patients communities serve , sharing information clinics details finalized ! theverybestforkids\"], [\"missouri health officials approved today. ' springfield greene county health says parents next\"], [\"lurie offering moderna individuals 6 4 5 . lurie ' continue offer pfizer 19 individuals 5 older. make appointment , visit\"], [\"god deal him.\"], [\"virtually americans 19\"], [\"virtually americans 19\"], [\"jonesboro pharmacy stocked 19 doses youngest children.\"], [\"19 vaccines soon locally 5 age. find , visit parents also talk health care provider , visit learn more.\"], [\"3 northeast ohio doctors weigh questions surrounding 19 vaccines news reports\"], [\"michiganders ages 6 eligible 19 vaccine.\"], [\"' turn ! 19 vaccines 6 months. visit book appointment , call ' healthcare provider. getvaccinated myc19vaccine vaccinatepasadena\"], [\"19 vaccines ages 6 4 atrium health wake forest baptist facilities. forsyth county department public health begin offering vaccinations wednesday.\"], [\"one preferred ?\"], [\"one preferred ?\"], [\"healthcare providers across miami valley starting offer 19 doses six months.\"], [\"update 19 vaccines 6 4 old. talk ' doctor setting appointment major health systems sf general offering children. info\"], [\"parents eager 19 wait much longer.\"], [\"c.d.c. recommends vaccinations children. apoorva mandavilli nyt\"], [\"' ecstatic ' finally happening , said leah casanave , health department ' division chief community health , nutrition clinical services. ' waited long enough.\"], [\"families waiting 5 receive\"], [\"little finally scheduled next week 29th chose moderna considering information given\"], [\"catch article ? c.d.c. recommends vaccinations children. nyt\"], [\"c.d.c. recommends vaccinations children. apoorva mandavilli nyt york times\"], [\"aph expanding 19 eligibility. caregivers 5 yrs skip online appointment process bring little ones sims elementary 1203 springdale rd. , austin , tx 78721 . wed thurs 2 7 p.m. sat 11 a.m. 3 p.m.\"], [\"great pediatric family support zoom last night presenting information lt 5 yo dr. yeganeh ladph. link vaccinessavelives covidvaccine pediatrics thisisourshot vacunateya\"], [\"dallas county began administering first doses group tuesday afternoon. tarrant county plans start administering wednesday.\"], [\"c.d.c. recommends vaccinations children. apoorva mandavilli nyt\"], [\"thalidomide , reason fda longer rushes drugs market . 19 shot. babies born without arms legs. born tiny flipper arms legs. severely disabled babies. many babies miscarried. thousands survived. many abandoned.\"], [\"c.d.c. recommends vaccinations children. apoorva mandavilli nyt\"], [\"c.d.c. recommends vaccinations children. apoorva mandavilli nyt\"], [\"families waiting 5 receive\"], [\"immunocompromised great opportunity first vaccinated. hope people group protected , dad said.\"], [\"parents debate whether give\"], [\"1.3 million adverse reactions cited vaers. remember studies found vaers accounts approx 10 adverse events , number much bigger\"], [\"little kids??? ? way go ! ! ! ! ! !\"], [\"received first today ! ! ! finally ! !\"], [\"fda cdc approved use pfizer six four , also approved moderna six five age.\"], [\"tuesday marked first day toddlers 6 4 could 19 , following federal state approvals moderna pfizer vaccines weekend.\"], [\"total 12 participants managed two infections w time frame trial. 11 recipients one received ! ... 12 two infections , one never group !\"], [\"c.d.c. recommends vaccinations children. apoorva mandavilli nyt\"], [\"mexico officials mexico department health announced tuesday ages six four eligible 19 vaccine.\"], [\"city lubbock public health department pfizer moderna vaccines begin providing community week. ' know eligibility more.\"], [\"' ok money prevent us caught guard another risk , ' really necessary them.\"], [\"side effects 5 ? nbc chicago\"], [\"need booster. mobile parking lot nice see shots. pride2022.\"], [\"one preferred ?\"], [\"live charlotte area looking 5 , put together little list ya !\"], [\"u.s. begins vaccinating great day ! ! ! vaccinessavelives\"], [\"biden touts 19 access 6\"], [\"nm department health announces six 4 eligible 19 vaccine. announcement comes three days federal cdc issued recommendation seven eligibility extended ages 5 11. nmpol\"], [\"joked good time visit ' everybody knows like better people. ' heard sexualized daughter used shower man allowed near\"], [\"today , umc received first doses ages 5 under. cdc recently approved pfizer 19 5 under. dr. christina mateo , pediatrician umc west clinic , son , kai , one 1st patients receive\"], [\"6 able 19 vaccines. cdc fda signed approval last week.\"], [\"moderna pfizer brand vaccines administered lower doses.\"], [\". offering 19 6 5 old.\"], [\"stop giving\"], [\"hey fellow moms , dads caregivers , questions fda approved 19 5 , msu dr. rebecca shein covered.\"], [\"biden hails 19 historic , says offers peace mind washington times\"], [\"' everybody knows like better people . '\"], [\"' ? ' got questions newly approved vaccines six ? ' crazy , actually wrote edited starred story read click link\"], [\"since signed 4.5 yo ' first dose , moved prayers.\"], [\"countries banned people 30 adverse events want give zero risk ? pure evil , way around it.\"], [\"great news ! dph announced today federal state approvals recommendations , ages 6 4 years. information found\"], [\"parents five vaccines san francisco sfgate\"], [\"19 relief finally arrives\"], [\"gillette ' providing pfizer 19 patients six older. please visit gillette 19 information page learn more.\"], [\"iowa health experts encourage parents 6 19 krebs\"], [\"like adults , experience 19 side effects. learn recent approval 5 game changer\"], [\"c.d.c. recommends 19 vaccines 5\"], [\"cdc director signed 19 vaccines earlier week , expanding shots six five old. across country first doses today. locally , take time.\"], [\"cdc director signed 19 vaccines earlier week , expanding shots six five old. across country first doses today. locally , take time.\"], [\"fda cdc approved 19 6 months. ' let know available. ' yet accepting appointment requests. read image below. click faqs families\"], [\"clinic washington dc place 6 jab ! worse ever !\"], [\"u.s. president joe biden first lady jill biden visit clinic hosted district columbia ' department health highlight recent authorization recommendation vaccines 5\"], [\"19 vaccines approved 5 , two local doctors discuss parents need know. full story\"], [\"find mid missouri able shots abc 17 news 6.\"], [\"19 best way help protect contracting spreading virus reduces risk severe illness hospitalization. find pediatric site near\"], [\"biden celebrates us 19 rollout 5\"], [\"add list reasons smart parents rejecting lunacy. actually , considered reckless endangerment. risk , zero benefit. wh chief recommends jab previously infected\"], [\"nearly 300,000 wisconsin eligible 19 fda cdc approved shots 5.\"], [\"cdc admits never monitored vaers safety signals ' health defense\"], [\"please experiment ! injections increase risk severe zero long term safety data\"], [\"' ' waited long enough ' douglas county ' first 5 19\"], [\"san francisco department public health said parents start ages 6 4 19 vaccine.\"], [\"call doctor seek advice little ones '\"], [\"fda gave final approval weekend group vaccine.\"], [\"3 marin among first patients 5 receive 19 advocate medical group naperville tuesday. dad , chris , watching daughter sign finally almost back normal.\"], [\"scheduled ' first appointment ! waiting hold 40 minutes ... itsabouttime\"], [\"cdc recommends 6 older approving pfizer moderna vaccines saturday.\"], [\"blue cross covers 19 vaccines 0 newly eligible health officials recommend everyone six older. learn find resources vaccines covidvaccines getthefactsgetthevax\"], [\"banning 6 5 yr olds wrong ?\"], [\"biden takes selfies receiving\"], [\"youngest group eligible , wisconsin department health services recommending five 19.\"], [\"fda cdc authorized 19 vaccines ages 6 5 years. offering free pfizer vaccines robert b. green clinic 903 w. martin st saturday , june 25 8 a.m. noon. registration opens wednesday , june 22\"], [\"parents guardians ! 19 vaccines 6 help keep whole family safer. give peace mind help loved ones getvaccinated. visit find near you.\"], [\"wait 6 older eligible receive 19 vaccine. learn\"], [\"wait 6 older eligible receive 19 vaccine. learn\"], [\"fda gave final approval weekend group vaccine.\"], [\"right mind would give 6 ? whole ordeal like 98 survival rate 19. pfizer moderna clue long term side effects !\"], [\"got tot ' ready ?\"], [\"five eligible receive 19 first time utah tuesday.\"], [\"fda gave final approval weekend group vaccine.\"], [\"' offering 19 clinic 6 25 22 9 00 11 00 ages 6 4 old. please call office schedule appointment space limited. 615 790 3200 read\"], [\"fda gave final approval weekend group vaccine.\"], [\"fda gave final approval weekend group vaccine.\"], [\"nearly 300,000 wisconsin eligible 19 fda cdc approved shots 5.\"], [\"million dollar question , 66 drop trials ? trial end date 2 2024 , authorized , emergency authorization ? hypnotized ' bother eua ? parents .\"], [\"parents weigh 19 options following approval cdc\"], [\"immunizations became tuesday 19 million ages 6 5 , last group americans afforded protection , reports.\"], [\"men myocarditis maybe found sooner ? response freedom information request cdc admitted never analyzed cdc run vaers safety signals 19 vax\"], [\"families able 6 19 ! contact pediatric provider schedule appointment. options include walgreens ages 3 cvs 18 . info getvaccinated\"], [\"announced six eligible receive 19 vaccination. state health officials say reportedly 2,200 appointments currently statewide.\"], [\"watch 7 min review false claims made v. real data , comment.\"], [\"news parents care givers 5 eligible vaccines contact pediatric provider schedule appointment provide 5 targeted clinics certain communities impacted\"], [\"biden touts 19 access 6\"], [\"families flock rady hospital 5 kick\"], [\"june 21 , missouri department health human services approved distribution moderna pfizer biontech 19 6 old.\"], [\"19 hard find littlest state ' ourshot site slow update\"], [\"looking 19 vaccines 5 ? lancaster county parents may hard time finding one.\"], [\"dr jane orient , executive director american physicians surgeons , talks janetwalker hautelifestylecom janeorient aaps covidvaccine kidscovid medical science 19 rush inject\"], [\"nearly 300,000 wisconsin eligible 19 fda cdc approved shots 5.\"], [\"6 5 19 shots ! make plan talk doctor ask questions vaccinated. read learn find vaccines newsletter\"], [\"looking 19 vaccines 5 ? lancaster county parents may hard time finding one.\"], [\"great news ! aged 6 5 old. best tool fight virus , encourage protect loved ones eligible.\"], [\"19 vaccines 6 older. little one help keep whole family safer serious illness hospitalization. learn\"], [\"nation youngest chance vaccines 19. shots began monday locations , though expected ramp juneteenth federal holiday.\"], [\"6 4 eligible san francisco. talk ' doctor setting appointment. read additional information dph\"], [\"president joe biden visited clinic tuesday celebrate virtually americans 19 tuesday authorization vaccines 5 weekend.\"], [\"vaccines way ages 6 4 ! encourage parents caregivers reach primary health care provider regarding opportunities visit 1 2\"], [\"best protection , cdc recommends 19 vaccines everyone 6 older boosters everyone 5 older , eligible. link six things know demvoice1\"], [\"like adults , experience 19 side effects. learn recent approval 5 game changer\"], [\"listen vital role pediatricians play vaccinating 5 19 ? today ' askanexpert , dr. explained eric thomas primary care doctors assure parents safety.\"], [\"irini got first vax ! event packed toddlers babies. really warms heart. happy mom .\"], [\"biden visits d.c. clinic approval shots 5 biden encouraged parents aged 6 older following last week ' approval vaccines 5. nbcnews\"], [\"families flock rady ' hospital 5 kick\"], [\"' ' long time coming ' largest effort american history finally reached nation ' youngest.\"], [\"families flock rady ' hospital 5 kick\"], [\"birminghampediatrics providing pfizer 19 ages 6 5 soon ! ' share additional update soon ' offering next group.\"], [\"solano county expands 19 eligibility\"], [\"solano county expands 19 eligibility\"], [\"parents book appointments 5 receive 19 mall america site.\"], [\"thanks ' leadership , nearly every american , parents protect dangerous disease. ' bfd !\"], [\"vaccines six , families still questions shots.\"], [\"parents book appointments 5 receive 19 mall america site.\"], [\"parents book appointments 5 receive 19 mall america site.\"], [\"parents book appointments 5 receive 19 mall america site.\"], [\"dr. bishara freij , beaumont chief pediatric infectious disease , covid. die it. spread , well. fact ' less deadly , ' mean ' deadly. serious.\"], [\"first doses sized vaccines administered douglas county health department tuesday. parents said felt relief.\"], [\"summer season , best way keep safe healthy soak sun 19. ages 5 eligible !\"], [\"ages six five 19. put together list younger kansas city area. may updated information.\"], [\"president joe biden celebrating virtually americans 19 authorization vaccines 5 weekend.\"], [\"dallas county gets doses\"], [\"listen six older finally 19. eric thomas spoke dr. , senior scholar center health security.\"], [\"' authorized , vaccines 5 still largely unavailable michigan. story features , asks , urgency ? especially immunocompromised ones.\"], [\"' ! ! ! ' got 19 toddlers ! please read call 708 424 7600 schedule appointment\"], [\"parents book appointments 5 receive 19 mall america site.\"], [\"parents book appointments 5 receive 19 mall america site.\"], [\"parents book appointments 5 receive 19 mall america site.\"], [\"think ' despicable biden celebrating this. even think ' fine 19 , respect fact many concerned ' know long term damage ? something celebrate.\"], [\"dchhs announced today 6 older covid19. clinics appointment ! schedule appointment online visit 972 692 2780 monday friday 8 30am 3 30pm\"], [\"6 safe effective 19 vaccines. give peace mind. help loved ones getvaccinated. visit information.\"], [\"zero f king chance giving less 1 daughter zero chance ! 1. 2 kicked ass 2. 2 kicked wife butt 3a. booster kicked wife butt 3b. booster exposed breastfeeding made sick\"], [\"3 northeast ohio doctors weigh questions surrounding 19 vaccines\"], [\"cdc , fda authorize emergency use 6 cov19\"], [\"mid june , 23 million ages 5 17 received two doses vaccine. lot great shots protected\"], [\"enjoyed alex coba ' live performance morning ! thank sharing story musical talents . listen houston ' makemusicday2022 segment\"], [\"el paso officials pre ordered shots specific group anticipation.\"], [\"first doses sized vaccines administered douglas county health department tuesday. parents said felt relief. read\"], [\"cook county health looking forward providing 19 vaccines 6 4 soon ! expect first pediatric patients starting week june 27 , share details soon .\"], [\"5 kansas city\"], [\"eliza wills able book 19 appointment son easy. fact , said frustrating. ' alone. several parents guardians expressed frustration rollout 5.\"], [\"minnesota parents book 19 appointments 6 5 mall america ! good news minnesota families. learn\"], [\"ages 6 4 eligible 19\"], [\"president biden tuesday pledged smooth rollout 19 aged 6 4 head pharmacies doctors offices shots , giving rollout different look mass efforts older ages\"], [\"look gift received today enrolling trial. showed us way ahead together\"], [\"centers disease control approved vaccines ages 5 , local healthcare providers deck appointments little ones.\"], [\"officials mercy hospital announced two locations tuesday morning vaccine.\"], [\"welcome opportunity expand protection offered 19 community members.\"], [\"cdc signed 19 vaccines six , fox 17 got tips local pediatric infectious disease specialist parents consider comes vaccinating kids.\"], [\"thisisourshot protect today , began offering 19 vaccinations ages 6 5 years. appointments open number locations across region\"], [\"mu health care ' 19 co chair dr. margaret day said people interested well vaccinations going work ' safe get.\"], [\"vaccines uchd clinics starting june 27th. cdc accepted advisory committee immunization practices acip recommendation ages 6 older covid19.\"], [\"austin public health offers several options 19 families 5 ' access pediatrician healthcare provider.\"], [\"' really hoping people understand means sense normalcy people enjoying , says northridge mom manpreet dhillon brar. story .\"], [\"tomorrow 6 able local clinics.\"], [\"lawn biden highlights 19 visit clinic\"], [\"cosy fm news ages 6 4 eligible 19 southwestmichigan swmichigan localnews\"], [\"missouri department health senior services dhss adopted centers disease control prevention cdc recommendation six receive pfizer biontech moderna 19 vaccines.\"], [\"city lubbock public health department pfizer moderna vaccines begin providing community thursday , june 23.\"], [\"highly recommend ' jab 5\"], [\"inject , ' parent. obviously willing go distance protect harm .\"], [\"biden visits dc clinic administering 19 vaccines 5 old. president joe biden first lady jill biden visited washington , dc , clinic tuesday 5 immunized ...\"], [\"good news ! appointments 6 4 vaccines , starting appointments wednesday , june 22. read pediatrics\"], [\"6 5 19 shots ! make plan talk doctor ask questions vaccinated. also search locations find locations map\"], [\"clare craig vs cdc director eua amendment request pfizer biontech 19 babies\"], [\"nation youngest chance vaccines 19. shots began monday locations , though expected ramp juneteenth federal holiday.\"], [\"nation ' youngest chance vaccines 19.\"], [\"newsroom ages 6 4 eligible 19\"], [\"tearful , relieved parents us babies toddlers first 19 shots covidvaccinekids pfizer fda getyourfirstshot\"], [\"good news ! june 18 , cdc announced recommendation 6 19 vaccine. summer great time kiddos ' protected vacations school starts back learn\"], [\"indiana state health officials encourage parents call 211 line find clinics littlest vaccinated.\"], [\"? talking little\"], [\"first time six days 19 approval babies , american academy pediatrics released sleep guidelines prevent sudden death syndrome .\"], [\"clinics ages 6 scheduled. find clinic nearest coming state week coming weeks. contact health care provider check site additional locations .\"], [\"fda deemed 19 vaccines safe ages 6 5 , giving access last major group eligible vaccination.\"], [\"washington ap president joe biden visited clinic tuesday celebrate virtually americans 19 tuesday authorization vaccines 5 weekend.\"], [\"wsjm news ages 6 4 eligible 19 local state wsjmnews\"], [\"check slinging knowledge 5 vaccines save lives\"], [\"six 19 public health immunization clinic locations starting thursday 6 23 saturday clinic northwest health department 2845 beatties ford rd , charlotte 9 a.m. 2 p.m.\"], [\"going current future 6 5 ? pfe mrna\"], [\"today exciting day began administering 19 ages 6 5 ! schedule appointment texaschildrens , log mychart account visit\"], [\"independent panel advisors centers disease control prevention voted saturday recommend vaccinating 19 vaccines manufactured either moderna pfizer\"], [\"thread .. 6m 4 5 years. bottom line last 3 , get. , info pfizer vs. moderna 1 n\"], [\"19 youngest eligible population coming southern nevada.\"], [\"clinic june 27 9 11 a.m. berna facio professional development complex , 3315 louisiana blvd. ne. first second shots , plus boosters , , teens , adults.\"], [\"pharmaceutical sales rep pushing vaccines kids. 2.5 data support need kids. dashboard shows strong immune system covid.\"], [\"city lubbock public health department pfizer moderna vaccines begin providing community thursday , june 23.\"], [\"5 arrive michigan week know\"], [\"president joe biden visited clinic tuesday celebrate virtually americans 19 tuesday authorization vaccines 5 weekend.\"], [\"president joe biden visited clinic tuesday celebrate virtually americans 19 tuesday authorization vaccines 5 weekend.\"], [\"prosecute jail involved ! mortality rate 5 less 0.1 . viability studies show effective ! instead non inferiority. finally , myocarditis pericarditis rates increased vaccine. pfizersucks\"], [\"clare craig vs cdc director eua amendment request pfizer biontech 19 babies\"], [\"19 vaccines become ages five state. utah health officials working answer potential questions concerns parents attaining children.\"], [\"huge milestone science ! vaccines safe , effective made them. outdoor activities summer fun , ' delay keeping safe. getthevax\"], [\"19 vaccines 6 help keep whole family safer serious illness hospitalization. give peace mind help loved ones getvaccinated. visit call 833 422 4255 find near you.\"], [\"u.s. begins vaccinating health\"], [\"receive smaller doses , based age. like adult , ' helps keep seriously sick 19.\"], [\"immunity covid19ab vaccines fades time booster gives protection. ' eligible , book additional dose 3rd dose everyone 12 immunocompromised 5 4th dose seniors 70 congregate care fnmi 65\"], [\"president joe biden visited clinic tuesday celebrate virtually americans 19 tuesday authorization vaccines 5 weekend.\"], [\"fda authorized 19 vaccines 5. parents know ? cnn\"], [\". begin administering starting tomorrow. need two doses moderna three pfizer becomes available.\"], [\", six , able receive 19 vaccination. mesa county public health ready help answer questions. information make appointment call us 970 248 6900.\"], [\"president joe biden visited clinic tuesday celebrate virtually americans 19 tuesday authorization vaccines 5 weekend\"], [\"northeast ohio parents 5 managed schedule little ones yet ? keep striking out. frustrated thread places ' 17 .\"], [\"salt lake county health department offering pfizer moderna vaccines six older.\"], [\"following cdc ' june 18 recommendation , austin travis county eligible receive newly authorized moderna pfizer biontech vaccines\"], [\"president joe biden visited clinic tuesday celebrate virtually americans 19 authorization vaccines 5 weekend.\"], [\"ages 6 older receive safe effective 19 vaccine. takeyourshotnc\"], [\"understand parents still may questions , respect rights parents choose medical measures right , said lisa stefanovsky , administrative health officer.\"], [\"desantis biden admin lying policy\"], [\"watch live biden 19 vaccinations 5 associated press nyt\"], [\"wh chief recommends jab previously infected\"], [\"salt lake county health department offering 19 6 older today 5 different clinics availability\"], [\"wisconsin department health services dhs supports centers disease control prevention cdc recommendation ages 6 5 19. within group\"], [\"southern nevada beginning tomorrow , 6 5 receive 19 clinic. families sacrificed much protect youngest nevadans , major step forward safeguarding communities.\"], [\"make sure keep latest news headlines bulldog reports !\"], [\"46 life , never seen anything confusing pushed children. literally makes sense. missing something ?\"], [\"desantis biden admin lying policy\"], [\"podcast preview finally , 6 older 19 vaccine. full episode\"], [\"even think 4 yo younger jabbed watched\"], [\"19 approved six five\"], [\"wait ! shares parents know 5 vaccineswork\"], [\"advocating important aspect job pediatricians , starts ! excited add youngest list !\"], [\"spread word ! 6 4 eligible receive vaccinations ! ? check flyers santa clara county.\"], [\"saturday , recommended 6 5 pfizer moderna 19 vaccine. parents schedule appointments starting week. head check availability appointments .\"], [\"' look first ages 6mon 5 release , ahwfb says appointments open across region moderna pfizer vaccines\"], [\"gov. newsom announces additional 400,000 19 doses 5. many parents unsure , largely see need it.\"], [\"spot take severe illness 19 , spring summer ! class learning , school activities weekend fun part active childhood experience. ' wait ages 5 11 !\"], [\"gov. newsom announces additional 400,000 19 doses 5\"], [\"los angeles county department public health said website due delays shipping , 6 older may wednesday.\"], [\"fda cdc approved moderna pfizer 19 6 older. pfizer mchd starting thursday. moderna later month. call 251 410 mchd 6243\"], [\"offering moderna 6 older beginning clinic friday , june 24 , 2022. friday clinics 8 30 10am 2 3 30pm. walk ins welcome make appointment gcph\"], [\"!\"], [\"state health officials answering questions following fda approval 19 vaccines six five old.\"], [\"begins ' shots california\"], [\"live wisconsin dhs officials hold q regarding regarding 19 vaccinations 6 5 old.\"], [\"today wi update , reminder. holding media briefing right 5. watch\"], [\"austin public health offering 19 vaccines 5\"], [\"19 update 5 eligible pfizer moderna vaccine. learn safe effective\"], [\"6 5 eligible 19 vaccine. learn benefits younger children.\"], [\"need , preschooler pediatric 19 ? austin public health walk clinics wednesday , thursday saturday\"], [\"another example follow science crowd easily purposely misled science , claim worse thereby justify children.\"], [\"moment many parents waiting 6 5 receive 19 vaccine. offering clinics week babies\"], [\"arkansas department health prepares 19 rollout\"], [\"19 vaccines ages 6 4 dayton ' s. learn schedule appointment.\"], [\"19 ? make appointment , says.\"], [\"ages 6 eligible 19 vaccination. click read full story. cdhd offers vaccinations 8 4 30 pm f 6 pm thursdays. call 308 385 5175 information.\"], [\"plus 19 authorized children.\"], [\"parents long waiting cdc recommend toddlers. , wpln ' reports families nashville tots shot.\"], [\"wh chief recommends jab previously infected please !\"], [\"lawn biden highlights 19 clinic visit\"], [\"looking speak parents guardians 5 central indiana struggling find place kiddos 19 .\"], [\"finally youngest group 19 ! callyourpediatrician learn find vaccinated. vaccinateourkids\"], [\"people dying sleep happening regular basis. dead healthy people died sleep vaccines. one thing common.\"], [\"dhhs announces expansion 19 eligibility 6 nhpolitics\"], [\"dhhs announces expansion 19 eligibility 6\"], [\"u.s. start vaccines , though hurdles remain source york times\"], [\"cdc worked coerce 5 risk , fear misleading data. confirmed one lead researchers. important read .\"], [\"dhhs announces expansion 19 eligibility 6 nhpolitics\"], [\"vaccines 6 babies ! ! ! ! noooooo ! worked 15 taking care mommas newborn babies. actually . surprised approved newborns yet. glad retired.\"], [\"louisianans ages 6 eligible free safe 3 dose pfizer biontech 2 dose moderna vaccine. check list providers near louisiana sleevesupla givecovidtheboot\"], [\"frequently asked questions 19\"], [\"cdc director endorsed recommendation ages six 5 receive pfizer moderna 19 vaccines\"], [\"arkansas department health prepares 19 rollout news arkansasnews\"], [\"cases rising texas. dshs recommends ages 6 4 either pfizer moderna vaccines. questions , talk pediatrician. find providers\"], [\"recent survey kaiser family foundation , 18 parents said would immediately. 38 said plan wait see 27 said ' intend all.\"], [\"newsletter tuesday jun. 21 week ' edition covers 19 eligibility , isbe june board meeting recap , act ' employment opportunities , funding youth community programming ! check\"], [\"arkansas department health prepares 19 rollout\"], [\"dhhs announces expansion 19 eligibility 6\"], [\"per cdc recommendations , offering 19 vaccines everyone ages 6 older , boosters everyone ages 5 older eligible. live des moines , call south side clinic schedule ' appt. 515 612 9577.\"], [\"happy little receive vaccines , confused receiving omicron vaccine. understanding vaccines based original covid. omicron protect ? original long gone .\"], [\"starting today , 6 older st. louis area.\"], [\"parents 5 , vaccines approved group ?\"], [\"dr. kimberlin division pediatric infectious diseases says 19 6 older safe effective maximizes protection children. mother , listening answers helpful !\"], [\"icymi cdc authorized 5 ! huge relief parents keep safer. book appointment link below.\"], [\"thanks last weekend ' announcement , nearly 20 million eligible covid19. many families , welcoming news marks another important step expanding prevention options virus health complications.\"], [\"sedgwick , reno counties offering small kwch12\"], [\"know\"], [\"weekend , updated guidance ages 6 5 old. , pfizer biontech moderna 19 vaccines people aged 6 older. childrenwithdisabilities\"], [\"next , final , major phase 19 campaign kicked week , california finally able secure doses 5. however , immediate access may limited.\"], [\"5 , dr. norma perez tells w vaccinating safe , effective , protects harmful effects virus. altamed\"], [\"covid19vaccines expert dr. shares thoughts q vaccines vaccinesideeffects covidvaccines covidvaccine vaccinateourkids publichealth\"], [\"forsyth county department public health accepting 19 appointments younger 5 start wednesday afternoon.\"], [\"watch live president biden gives remarks 19 vaccines five president joe biden expected give remarks tuesday nation ' , toddlers preschoolers finally chance 19 vaccination.\"], [\"unscientific policies continue diminish disrupt ' lives. join diverse array doctors , scientists advocates open letter calling end testing policies exclude normal life.\"], [\"really excited ' research intention among parents kidney disease. work progress since 2020 vaccines available. vaccinessavelives idtwitter\"], [\"attention parents waiting , u.s. six eligible 19 vaccine. . hhcga hispanichealth\"], [\"across texas received vaccinations fda authorized vaccinations 6 old. vaccineswork ! ehf texas worked raise confidence increase access life saving vaccines.\"], [\"actual science , cdc pushing vax onto children. european journal epidemiology increases 19 unrelated levels across 68 countries 2947 counties united states.\"], [\"vaccines roll slowly u.s. younger 5. dana goldstein nyt\"], [\"u.s. start vaccines , though hurdles remain source york times\"], [\"pediatricians roll first 19 authorized 5\"], [\"5 , dr. norma perez tells mcaboy w vaccinating safe , effective , protects harmful effects virus. altamed\"], [\"parents caregivers 6 5 better protect 19. vaccinations help keep family safe severe illness , hospitalization , death. find vaccines near wecandothis\"], [\". clinicaltrial helped confirm safety younger children.\"], [\"statement advisory committee ' approval safe , effective 19 ages 6 5 years. vaccineswork thisisourshot putkids1st callyourpediatrician\"], [\"dallas county offer 19\"], [\"vaccines toddlers welcome addition multi layered strategy protection 19 includes mask wearing , social distancing , hand washing boosters adults. stopthespread.\"], [\"colorado public health leaders plans place anticipating go ahead cdc.\"]], \"hovertemplate\": \"TB_polarity_no_emoji=%{x}<br>TB_subjectivity_no_emoji=%{y}<br>tweet_text=%{customdata[0]}<extra></extra>\", \"legendgroup\": \"\", \"marker\": {\"color\": \"#636efa\", \"symbol\": \"circle\"}, \"mode\": \"markers\", \"name\": \"\", \"orientation\": \"v\", \"showlegend\": false, \"type\": \"scatter\", \"x\": [0.39999999999999997, 0.875, 0.3125, -0.07500000000000001, 0.2, 0.060416666666666674, 0.0, 0.16666666666666666, -0.05, 0.034999999999999996, 0.275, 0.0, 0.0, -0.1875, 0.0, 0.033333333333333326, 0.21666666666666667, 0.0, 0.0, 0.0, 0.0, 0.0, 0.5, 0.55, 0.55, -0.3333333333333333, -0.25, 0.0, 0.0, 0.0, 0.0, 0.0, 0.03333333333333333, 0.15, 0.0, 0.4, -0.030000000000000006, 0.4333333333333333, -0.2916666666666667, 0.0, -0.15000000000000002, 0.0, -0.6999999999999998, 0.0, 0.0, 0.0, 0.0, 0.0, 0.125, 0.0, 0.0, 0.2857142857142857, 0.08, 0.7, 0.7, 0.0, 0.25, 0.0, 0.0, 0.0, 0.0, 0.325, -0.2333333333333333, 0.25, 0.1, -0.5, 0.0, -0.1875, 0.0, 0.037500000000000006, 0.4333333333333333, 0.14464285714285716, 0.0, 0.0, 0.3333333333333333, 0.17083333333333334, 0.25, 0.1328125, 0.44285714285714284, 0.06666666666666667, 0.0, 0.5, -0.05, 0.0, 0.0, 0.0, 0.0, 0.0, -0.05, 0.35, 0.0625, 0.14285714285714285, -0.6, 0.12323232323232323, 0.0, 0.1, 0.12222222222222223, 0.0, 0.4, 0.0, 0.0, -0.024545454545454544, 0.16666666666666666, 0.0, 0.0, -0.2916666666666667, 0.1, 0.19166666666666665, 0.08333333333333333, 0.0, 0.0, 0.35, 0.1, 0.0, 0.0, 0.0, 0.0, 0.0, 0.0, 0.0, 0.13636363636363635, 0.0625, 0.1, 0.0, 0.0, 0.25, -0.75, 0.0, 0.1, 0.0, -0.3821428571428572, 0.24166666666666667, 0.25277777777777777, 0.0, 0.5, 0.8, 0.0, 0.2, 0.0, 0.0, -0.1875, 0.32499999999999996, 0.55625, 0.0, 0.0, 0.0, 0.4285714285714286, -0.07333333333333333, 0.0, 0.4333333333333333, 0.0, 0.0, 0.0, 0.46666666666666673, 0.05, -0.1875, 0.5, 0.6, 0.0, 0.55, 0.0, 0.0, 0.0, 0.06818181818181818, 0.7, 0.1, 0.1, 0.35, 0.2, 0.0, 0.0, 0.5166666666666667, 0.21428571428571427, 0.0, 0.0, 0.0, 0.5, 0.2857142857142857, 0.2533333333333333, 0.5, 0.0, -0.1875, 0.025, 0.9, 0.5, 0.05, 0.4090909090909091, 0.0, -0.0625, -0.1625, 0.03333333333333333, 0.4000000000000001, 0.5166666666666667, 0.4, -0.1875, 0.0, 0.16666666666666666, 0.48333333333333334, 0.5, 0.0, -0.1875, 0.125, -0.6999999999999998, 0.0, 0.0, 0.08333333333333333, 0.3958333333333333, 0.175, 0.0, 0.0, 0.0, 0.05, 0.0, 0.0, 0.2888888888888889, 0.1, 0.1, 0.0, 0.39999999999999997, 0.1, 0.05555555555555555, -0.125, 0.1, 0.0, 0.026666666666666665, 0.0, 0.05555555555555555, -0.3499999999999999, 0.0, 0.05, 0.0, 0.4, 0.23333333333333336, -0.23333333333333328, 0.0, 0.3875, 0.0, -0.2133333333333333, 0.0, 0.125, 0.0, 0.0, 0.0, 1.0, 0.07777777777777777, 0.4, 0.0, -0.75, 0.5166666666666667, 0.2833333333333333, 0.0, 0.1, 0.037500000000000006, 0.0, 0.0, 0.25, 0.0, 0.0, 1.0, 0.0, 0.13636363636363635, 0.5166666666666667, 0.0, 0.13636363636363635, 0.2, 0.2, -0.13333333333333333, 0.5, 0.20000000000000004, 0.0, 0.15, -0.5, 0.08333333333333333, 0.0, 0.0, 0.0, 0.0, 0.0, 0.0, 0.0, -0.03749999999999999, 0.0, 0.16666666666666666, 0.49375, 0.0, 0.5, -0.37142857142857144, 0.0, 0.0, 0.0, 0.0, 0.0, 0.0, 0.0, 0.1, 0.0, -1.0, 0.0, 0.0, 0.15, 0.0, 0.0, 0.5, 0.5, 0.0, 0.0, 0.0, -0.625, 0.2, 0.0, 0.0, 0.08333333333333333, 0.0, 0.0, 0.0, 0.0, 0.2857142857142857, 0.0, 0.0, 0.16666666666666666, 0.35, 0.390625, 0.5, 0.2857142857142857, 0.0, 0.16, 0.3333333333333333, 0.2, 0.0, 0.0, 0.0, 0.08333333333333333, 0.2857142857142857, 0.55, -0.1, 0.375, -0.2, 0.125, 0.15416666666666667, 0.5, 0.2857142857142857, -0.016071428571428598, 0.0, 0.3333333333333333, 0.45, 0.15333333333333338, 0.32, 0.0, 0.1464285714285714, 0.0, 1.0, 0.125, 0.3333333333333333, 0.0, 0.0875, 0.018750000000000003, 0.3333333333333333, 0.0, 0.0, 6.938893903907228e-18, 0.1, 0.1, -0.15, 0.0, -0.1875, 1.0, 0.0, 0.2833333333333333, 0.0, 0.0, 0.1, 0.19999999999999998, 0.11666666666666665, 0.0, 0.0, 0.0, 0.2857142857142857, 0.25, 0.22812500000000002, 0.2857142857142857, 0.5, 0.0, 0.625, 0.0, 0.16666666666666666, 0.0, 0.0, 0.0, 0.7083333333333334, 0.0, 0.2857142857142857, -0.2899999999999999, 0.0, 0.16666666666666666, 0.2857142857142857, 0.0, 0.0, 0.3333333333333333, 0.25, 0.0, 0.0, 0.0, 0.16666666666666666, 0.4, 0.14285714285714285, 0.0, 0.13636363636363635, 0.0, 0.0, 0.25, 0.5, 0.05, 0.0, 0.25, 0.0, 0.0, -0.13333333333333333, 0.16666666666666666, 0.30000000000000004, 0.125, 0.15, 0.0, 0.55, -0.125, 0.0, 0.0, 0.6, -0.1875, 0.16666666666666666, -0.06249999999999996, 0.0, 0.4, 0.4, 0.0, 0.1, -1.0, 0.16666666666666666, 0.0, 0.385, 0.04623015873015874, 0.24285714285714285, 0.24285714285714285, 0.5, 0.0, -0.02, -0.02, 0.0, 0.0, 0.48828125, 0.0, 0.0, -0.3, -0.0625, 0.3, 0.0, 0.55, 0.0, 0.0, 0.0, 0.0, 0.10000000000000002, 0.05, 0.5, 0.2, -0.10476190476190478, 0.0, 0.375, 0.0, 0.0, -0.1, 0.0, 0.0, 0.29166666666666663, 0.13333333333333333, 0.0, 0.625, 0.0, 0.08333333333333333, -0.30000000000000004, 0.125, 0.5, 0.19583333333333333, 0.5, -0.35, 0.45, 0.10416666666666667, -0.3, 0.11333333333333333, 0.0, 0.0, 0.5, 0.0062500000000000056, 0.0, 0.2924242424242424, 0.0, 0.0, 0.4, 0.0, 0.046875, 0.0, 0.4, 0.4, 0.4, 0.4, -0.3, -0.07916666666666666, 0.0, 0.0, 0.0, 0.4, 0.4, 0.0, 0.35, 0.0, 0.0, 0.4, 0.0, 0.0, 0.0, 0.0, 0.0, 0.0, 0.0, 0.101010101010101, 0.19583333333333333, 0.16666666666666666, 0.14583333333333331, 0.0625, 0.16666666666666666, -0.3, 0.0, -0.3, 0.0, 0.08888888888888889, -0.5, -0.1111111111111111, 0.0, 0.375, 0.325, 0.0, -0.06874999999999999, 0.21666666666666667, 0.0, 0.22402597402597402, 0.375, 0.0, 0.21666666666666667, 0.0, 0.0, -1.0, 0.08392857142857142, 0.0, 0.0, 0.125, 0.0, 0.0, 0.0, 0.0, 0.0, 0.0, 0.25, 0.8, 0.0, 0.7000000000000001, -0.08333333333333333, 0.0, 0.0, 0.35892857142857143, 0.0, 0.5, 0.06666666666666665, 0.0, 0.0, 0.0, -0.1, 0.0, 0.0, 0.0, 0.25, 0.0, -0.10714285714285715, 0.25, 0.0, 0.5, 0.0, 0.08333333333333333, 0.35714285714285715, 0.5, 0.3333333333333333, 0.5, 0.275, 0.0, 0.0, 0.0, 0.5, 0.35, -0.1, 0.0, -0.2, 0.0, 0.0, 0.0, 0.02777777777777778, 0.0, 0.6, 0.4, 0.0, 0.1, 0.5, -6.938893903907228e-18, 0.0, 0.0, 0.0, 0.05, 0.022916666666666658, 0.0, 0.40625, 0.0, -0.7142857142857143, 0.0, 0.0, 0.5, 0.0, 0.0, 0.25, 0.0, 1.0, 0.5, -0.1625, 0.0, 0.0, 0.0, -0.05000000000000001, 0.02777777777777778, 0.05555555555555555, 0.5, 0.0, 0.11818181818181818, 0.0, 0.5, 0.0, 0.0, 0.0, 0.41666666666666663, 0.0, 0.21666666666666667, 0.25, 0.0, 0.0, 0.0, 0.0, 0.425, 0.0, -0.09375, 0.0, 0.0, 0.0, 0.0, 0.25390625, 0.0, 0.11666666666666665, 0.1, 0.0, 0.0, 0.0, -0.25, 0.0, 0.0, 0.0, 0.0, 0.0, 0.16666666666666666, 0.0, 0.0, 0.0, 0.0, 0.25, 0.0, 0.0, 0.0, 0.0, 0.0, 0.0, 0.0, 0.07083333333333335, 0.2, 0.0, -0.016666666666666666, 0.0, -0.0625, 0.0, 0.0, 0.056249999999999994, 0.4, 0.25, 0.0, 0.2, 0.0, 0.0, 0.0, 0.525, 0.0, 0.0, -0.7152557373046875, 0.244140625, 0.0, 0.11666666666666665, 0.0, 0.0, 0.0, 0.25, 0.25, 0.0, 0.6, 0.0, -0.04900568181818182, 1.0, 0.0, 0.0, 0.43333333333333335, 0.125, 0.25, 0.0, 0.1, 0.0, 0.0, 0.05, 0.5, -0.15454545454545454, 0.25, -0.39285714285714285, 1.0, 0.0, 0.0, 0.3333333333333333, 0.0, -0.2, 0.0, 0.0875, 0.0875, 0.4, -0.5, 0.125, 0.175, 0.25, 0.55, 0.0, 0.015873015873015872, 0.1, 0.0, -0.05, 0.06666666666666667, 0.0, -0.1875, 0.0, 0.08, 0.3125, 0.16666666666666666, 0.07575757575757575, -0.5, 0.0, 0.0, 0.1, 0.3333333333333333, 0.16666666666666666, 0.16666666666666666, 0.0, 0.14107142857142857, 0.2, 0.25, 0.0, 0.01428571428571429, 0.0, 0.0, 0.1, 0.0, 0.0, 0.0, 0.0, 0.625, 0.0, -0.10000000000000003, 0.21428571428571427, 0.0, 0.0, 0.05, -0.2958333333333334, -0.2916666666666667, 0.0, 0.1, 0.0, -0.2916666666666667, 0.54, -0.03854166666666666, -0.1, 0.0, 0.0, 0.4, 0.4444444444444445, -0.2, 0.25, 0.4375, 0.016666666666666663, 0.0, -0.016666666666666666, 0.0, 0.0, 0.0, 0.0, 0.0, -0.11249999999999999, 0.0, 0.0, 0.0, 0.0, -0.2708333333333333, 0.25, 0.7083333333333334, 0.0, 0.0, 0.0, 0.022222222222222216, 0.10714285714285714, 0.0, 0.0, 0.0, 0.0, 0.2888888888888889, 0.20833333333333331, 0.6, -0.46130952380952384, 0.0, 0.0, 0.4, 0.22348484848484848, 0.0, 0.25, 0.125, 0.0, 0.13333333333333333, 0.7, 0.0, 0.11666666666666667, 0.0, -0.09375, 0.0, 0.8, 0.0, 0.0, 0.375, 0.08333333333333333, 0.03333333333333333, 0.35, 0.25, 0.0, 0.0, 0.0, 0.0, 0.16, 0.25, 0.175, 0.4375, 0.0, 0.0, -0.1, 0.0, 0.0, 0.25, 0.5583333333333333, 0.0, -0.1875, 0.08333333333333333, 0.0, 0.1875, 0.0, 0.0, 0.0, 0.0, 0.0, 0.375, 0.0, 0.0, 0.0, 0.012500000000000004, 0.4333333333333333, 0.0, 0.0, 0.0, 0.0, 0.11458333333333334, 0.0, 0.0, 0.4800000000000001, 0.16666666666666666, 0.0, -0.20476190476190478, 0.0, 0.0, 0.0, 0.2, 0.2333333333333333, 0.0, -0.12916666666666665, 0.16666666666666666, 0.06818181818181818, 0.0, 0.4222222222222222, 0.14285714285714285, 0.0, 0.13636363636363635, -0.16666666666666666, 0.08333333333333333, 0.0, 0.08750000000000001, 0.5625, -0.25, 0.0, 0.2583333333333333, 0.0, 0.0, 0.0, 0.484375, 0.0, 0.0, 0.125, 0.35714285714285715, 0.06666666666666667, 0.0, 0.013888888888888886, 0.05555555555555555, 0.48333333333333334, 0.0, 0.05, 0.0, 0.11818181818181818, 0.2857142857142857, 0.0, 0.55, 0.0, 0.0, 0.016666666666666663, 0.5, 0.0, 0.0, 0.0, 0.22499999999999998, 0.0, -0.05, -0.20833333333333331, 0.0, 0.0, 0.0, 0.0, 0.0, 0.0, 0.0, 0.4, 0.0, 0.3, 0.3333333333333333, 0.1, 0.0, 0.0, 0.0, 0.0, 0.0, 0.0, 0.0, 0.15656565656565655, 0.15208333333333332, 0.08333333333333333, 0.0, 0.47222222222222215, 0.4000000000000001, 0.24000000000000005, -0.25, 0.0, 0.05555555555555555, 0.14851190476190476, 0.55, 0.0, 0.0, 0.012121212121212116, 0.075, 0.3875, 0.0, 0.125, 0.0, -0.15000000000000002, 0.0, 0.25, 0.55, 0.3666666666666667, 0.0, 0.55, 0.0, 0.4166666666666667, 0.0], \"xaxis\": \"x\", \"y\": [0.5, 0.5, 0.6375, 0.8, 0.55, 0.75, 0.0, 0.16666666666666666, 0.4, 0.585, 0.35, 0.0, 0.0, 0.5, 0.0, 0.3666666666666667, 0.7111111111111111, 0.0, 0.0, 0.0, 0.0, 0.0, 0.5, 0.65, 0.65, 0.6666666666666666, 1.0, 0.0, 0.0, 0.0, 0.0, 0.0, 0.06666666666666667, 0.8333333333333334, 0.0, 0.9, 0.45, 0.4666666666666667, 0.5416666666666666, 0.0, 0.2333333333333333, 0.0, 0.6666666666666666, 0.0, 0.0, 0.0, 0.0, 0.0, 0.6666666666666666, 0.0, 0.4, 0.5357142857142857, 0.6900000000000001, 0.6000000000000001, 0.6000000000000001, 0.0, 0.35, 0.0, 0.06666666666666667, 0.1, 0.0, 0.5125, 0.4666666666666666, 0.4, 0.4, 1.0, 0.0, 0.5, 0.0, 0.26875, 0.5866666666666667, 0.7017857142857142, 0.5666666666666667, 0.1, 0.5, 0.35, 0.3333333333333333, 0.55, 0.7428571428571429, 0.16666666666666666, 0.0, 0.5625, 0.05, 0.0, 0.03333333333333333, 0.25, 0.0, 0.0, 0.4, 0.35000000000000003, 0.45, 0.5178571428571428, 0.9, 0.49595959595959593, 0.0, 0.2, 0.4444444444444444, 0.0, 0.525, 0.0, 0.0, 0.3890909090909091, 0.3333333333333333, 0.0, 0.0, 0.5416666666666666, 0.2, 0.4083333333333333, 0.21666666666666667, 0.0, 0.1, 0.65, 0.2, 0.25, 0.0, 0.25, 0.25, 0.0, 0.25, 0.0, 0.5, 0.5, 0.2, 0.0, 0.0, 0.3333333333333333, 0.8, 0.0, 0.2, 0.0, 0.6285714285714286, 0.3333333333333333, 0.5805555555555556, 0.0, 0.5, 0.9, 0.0, 0.2, 0.0, 0.0, 0.5, 0.6000000000000001, 0.6666666666666666, 0.0, 0.1, 0.0, 0.6857142857142857, 0.47333333333333333, 0.0, 0.7333333333333333, 0.0, 0.0, 0.0, 0.6333333333333333, 0.5625, 0.5, 0.625, 0.6, 0.0, 0.65, 0.0, 0.0, 0.0, 0.75, 0.6000000000000001, 0.4, 0.4, 0.35, 0.5, 0.0, 0.0, 0.5333333333333333, 0.42857142857142855, 0.0, 0.0, 0.0, 0.5, 0.5357142857142857, 0.3466666666666667, 0.625, 0.0, 0.5, 0.08333333333333334, 0.875, 0.5, 0.5, 0.5151515151515151, 1.0, 0.22083333333333333, 0.3222222222222222, 0.2333333333333333, 0.5666666666666668, 0.5333333333333333, 0.5, 0.5, 0.06666666666666667, 0.3333333333333333, 0.6166666666666667, 0.5625, 0.0, 0.5, 0.6666666666666666, 0.9, 0.0, 0.0, 0.21666666666666667, 0.41666666666666663, 0.26666666666666666, 0.0, 0.0, 0.0, 0.15000000000000002, 0.0, 0.0, 0.611111111111111, 0.5, 0.4, 0.0, 0.5, 0.3, 0.29444444444444445, 0.125, 0.3, 0.0, 0.6433333333333333, 0.0, 0.16666666666666666, 0.5119047619047619, 0.0, 0.1, 0.0, 0.5, 0.31666666666666665, 0.41111111111111115, 0.0, 0.3875, 0.0, 0.5355555555555555, 0.0, 0.375, 0.0, 0.0, 0.0, 0.3, 0.5111111111111111, 0.65, 0.0, 1.0, 0.5333333333333333, 0.5666666666666667, 0.0, 0.4, 0.6125, 0.0, 0.0, 0.3333333333333333, 0.0, 0.0, 1.0, 0.0, 0.45454545454545453, 0.5333333333333333, 0.0, 0.45454545454545453, 0.1, 0.1, 0.6333333333333333, 0.9, 0.65, 0.23333333333333334, 0.4666666666666666, 0.5, 0.19999999999999998, 0.9444444444444444, 0.22222222222222224, 0.0, 0.0, 0.0, 0.0, 0.0, 0.2875, 0.0, 0.5666666666666667, 0.7, 0.0, 0.5, 0.519047619047619, 0.0, 0.0, 0.0, 0.0, 0.65, 0.0, 0.0, 0.13333333333333333, 0.0, 1.0, 0.0, 0.0, 0.75, 0.0, 0.0, 0.625, 0.5, 0.0, 0.125, 0.0, 1.0, 0.2, 0.0, 0.0, 0.16666666666666666, 0.0, 0.0, 0.0, 0.0, 0.5357142857142857, 0.25, 0.0, 0.3333333333333333, 0.55, 0.5069444444444444, 0.9, 0.5357142857142857, 0.0, 0.5399999999999999, 0.5, 0.2, 0.0, 0.0, 0.125, 0.21666666666666667, 0.5357142857142857, 0.65, 0.25, 0.78125, 0.3, 0.4, 0.3666666666666667, 0.65, 0.5357142857142857, 0.5892857142857142, 0.0, 0.7666666666666666, 0.75, 0.5133333333333334, 0.6933333333333334, 0.30000000000000004, 0.5865079365079365, 0.0, 1.0, 0.675, 0.47916666666666663, 0.0, 0.825, 0.49374999999999997, 0.41666666666666663, 0.0, 0.0, 0.45, 0.6, 0.4, 0.25, 0.1, 0.5, 0.3, 0.625, 0.5666666666666667, 0.1, 0.0, 0.2, 0.6416666666666667, 0.24444444444444446, 0.0, 0.0, 0.0, 0.5357142857142857, 0.7222222222222222, 0.47500000000000003, 0.5357142857142857, 0.5625, 0.0, 0.5, 0.0, 0.5666666666666667, 0.0, 0.1, 0.48333333333333334, 0.43333333333333335, 0.0, 0.5357142857142857, 0.46333333333333326, 0.0, 0.3333333333333333, 0.5357142857142857, 0.0, 0.0, 0.4166666666666667, 0.35, 0.0, 0.06666666666666667, 0.05, 0.3333333333333333, 0.4, 0.26785714285714285, 1.0, 0.45454545454545453, 0.5, 0.125, 0.3333333333333333, 0.9, 0.13333333333333333, 0.0, 0.3625, 0.0, 0.0, 0.5777777777777778, 0.3333333333333333, 0.55, 0.3, 0.525, 0.0, 0.65, 0.375, 0.0, 0.0, 0.8, 0.5, 0.3333333333333333, 0.7388888888888888, 0.0, 0.5, 0.4, 0.0, 0.3333333333333333, 1.0, 0.3333333333333333, 0.0, 0.37, 0.37757936507936507, 0.5178571428571428, 0.5178571428571428, 0.8333333333333334, 0.0, 0.29000000000000004, 0.29000000000000004, 0.0, 0.0, 0.3333333333333333, 0.5, 0.1, 0.7, 0.4, 0.45, 0.0, 0.65, 0.0, 0.0, 0.0, 0.0, 0.6555555555555556, 0.15000000000000002, 0.5, 0.1, 0.5785714285714286, 0.0, 0.5, 0.0, 0.0, 0.4, 0.0, 0.1, 0.3645833333333333, 0.16666666666666666, 0.0, 0.5, 0.0, 0.5166666666666667, 0.2, 0.5375, 0.9, 0.5499999999999999, 0.9, 0.5, 0.5444444444444444, 0.3, 0.5, 0.26, 0.5, 0.0, 0.5, 0.4, 0.25, 0.5151515151515151, 0.0, 0.0, 0.4, 0.0, 0.75, 0.0, 0.4, 0.4, 0.4, 0.4, 0.5, 0.5666666666666667, 0.0, 0.0, 0.0, 0.4, 0.4, 0.0, 0.55, 0.0, 0.0, 0.4, 0.06666666666666667, 0.0, 0.038461538461538464, 0.06666666666666667, 0.0, 0.0, 0.0, 0.27777777777777773, 0.5499999999999999, 0.3333333333333333, 0.3666666666666667, 0.65, 0.3333333333333333, 0.5, 0.0, 0.5, 0.0, 0.45555555555555555, 0.5, 0.5555555555555555, 0.0, 0.41666666666666663, 0.3444444444444444, 0.0, 0.11875000000000001, 0.9166666666666667, 0.0, 0.4411976911976912, 0.47916666666666663, 0.0, 0.9166666666666667, 0.0, 0.0, 1.0, 0.30853174603174605, 0.0, 0.0, 0.16666666666666666, 0.0, 0.0, 0.0, 0.0, 0.0, 0.0, 0.3333333333333333, 0.75, 0.0, 0.5333333333333333, 0.16666666666666666, 0.0, 0.0, 0.5922619047619048, 0.0, 0.5, 0.6333333333333333, 0.0, 0.0, 0.0, 0.4, 0.0, 0.0, 0.0, 0.5333333333333333, 0.0, 0.7178571428571429, 0.5333333333333333, 0.0, 0.5625, 0.0, 0.21666666666666667, 0.5714285714285714, 0.5, 0.38888888888888884, 0.625, 0.5416666666666666, 0.0, 0.0, 0.0, 0.5, 0.65, 0.4, 0.1, 0.0, 0.0, 0.0, 0.0, 0.16666666666666666, 0.0, 0.7, 0.5, 0.0, 0.26041666666666663, 1.0, 0.44999999999999996, 0.4, 0.0, 0.0, 0.35, 0.5777777777777778, 0.0, 0.41666666666666663, 0.0, 0.8571428571428571, 0.0, 0.0, 0.5, 0.0, 0.0, 0.3333333333333333, 0.0, 0.3, 0.5, 0.5625, 0.0, 0.0, 0.0, 0.3111111111111111, 0.16666666666666666, 0.16666666666666666, 0.625, 0.0, 0.32727272727272727, 0.0, 0.5, 0.0, 0.1, 0.6666666666666666, 0.5, 0.0, 0.24444444444444446, 0.3194444444444444, 0.0, 0.25, 0.0, 0.1, 0.55, 0.0, 0.2833333333333333, 0.0, 0.0, 0.0, 0.0, 0.3458333333333333, 0.0, 0.18333333333333335, 0.1, 0.0, 0.0, 0.0, 0.65, 0.5, 0.0, 0.0, 0.0, 0.0, 0.3333333333333333, 0.0, 0.0, 0.0, 0.0, 0.25, 0.0, 0.0, 0.0, 0.06666666666666667, 0.0, 0.0, 0.1, 0.39999999999999997, 0.2, 0.0, 0.6333333333333333, 0.0, 0.5, 0.0, 0.0, 0.7, 0.4083333333333333, 0.3333333333333333, 0.0, 0.45, 0.0, 0.0, 0.0, 0.5416666666666666, 0.0, 0.5, 0.5, 0.6666666666666666, 0.0, 0.3444444444444445, 0.75, 0.0, 0.0, 0.2833333333333333, 0.75, 0.0, 1.0, 0.0, 0.5, 0.75, 0.0, 0.0, 0.5, 0.29166666666666663, 0.3458333333333333, 0.0, 0.2, 0.0, 0.0, 0.0, 0.5, 0.48484848484848486, 0.3333333333333333, 0.75, 0.75, 0.0, 1.0, 0.41666666666666663, 0.0, 0.325, 0.0, 0.2583333333333333, 0.2583333333333333, 0.4, 0.6, 0.29166666666666663, 0.275, 0.3125, 0.35, 0.0, 0.30317460317460315, 0.4, 0.0, 0.4, 0.41111111111111115, 0.06666666666666667, 0.5, 1.0, 0.3966666666666666, 0.3333333333333333, 0.3333333333333333, 0.22196969696969698, 0.9, 0.0, 0.0, 0.55, 0.5333333333333333, 0.3333333333333333, 0.3333333333333333, 1.0, 0.44523809523809527, 0.5, 0.3333333333333333, 1.0, 0.17142857142857143, 1.0, 1.0, 0.4, 0.0, 0.1, 0.06666666666666667, 0.0, 0.625, 0.4, 0.45, 0.5714285714285714, 0.0, 0.0, 0.15000000000000002, 0.4708333333333333, 0.5416666666666666, 0.0, 0.4, 0.0, 0.5416666666666666, 0.49000000000000005, 0.475, 0.4, 0.0, 0.0, 0.5, 0.3222222222222222, 0.325, 0.45, 0.5111111111111111, 0.225, 0.0, 0.4666666666666666, 0.0, 0.0, 0.0, 0.0, 0.0, 0.375, 0.0, 0.0, 0.0, 0.0, 0.47361111111111115, 0.3333333333333333, 0.43333333333333335, 0.0, 0.0, 0.0, 0.4777777777777778, 0.7142857142857143, 0.0, 0.0, 0.0, 0.0, 0.4666666666666666, 0.3333333333333333, 0.7000000000000001, 0.4619047619047619, 0.0, 0.0, 0.375, 0.39999999999999997, 0.125, 0.3333333333333333, 0.21666666666666667, 0.0, 0.5895833333333333, 0.6000000000000001, 0.0, 0.4583333333333333, 0.0, 0.25, 0.0, 0.9, 0.0, 0.5, 0.5, 0.21666666666666667, 0.022222222222222223, 0.4, 0.3125, 0.0, 0.0, 0.0, 0.06666666666666667, 0.5399999999999999, 0.75, 0.26666666666666666, 0.35000000000000003, 0.0, 0.0, 0.4, 0.0, 0.0, 0.3333333333333333, 0.45, 0.0, 0.5, 0.27777777777777773, 0.0, 0.35555555555555557, 0.0, 0.0, 0.0, 0.08333333333333334, 0.2625, 0.8, 0.125, 0.06666666666666667, 0.0, 0.20833333333333331, 0.7333333333333333, 0.06666666666666667, 0.0, 0.0, 0.0, 0.4666666666666667, 0.0, 1.0, 0.5800000000000001, 0.5666666666666667, 0.0, 0.5523809523809523, 0.0, 0.0, 0.0, 0.25, 0.3972222222222222, 0.0, 0.5666666666666667, 0.3333333333333333, 0.2772727272727273, 0.0, 0.5444444444444444, 0.26785714285714285, 0.0, 0.5, 0.16666666666666666, 0.4666666666666667, 0.0, 0.2333333333333333, 0.8944444444444444, 0.225, 0.0, 0.44166666666666665, 0.0, 0.0, 0.0, 0.875, 0.0, 0.1, 0.41666666666666663, 0.4642857142857143, 0.4, 0.0, 0.2583333333333333, 0.14444444444444446, 0.6166666666666667, 0.0, 0.15000000000000002, 0.0, 0.35, 0.5357142857142857, 0.06666666666666667, 0.65, 0.0, 0.06666666666666667, 0.7166666666666667, 0.5, 0.0, 0.0, 0.0, 0.275, 0.0, 0.4, 0.16666666666666666, 0.0, 0.25, 1.0, 0.36923076923076925, 0.0, 0.0, 0.0, 1.0, 0.0, 0.95, 0.5666666666666668, 0.3, 0.0, 0.0, 0.0, 0.25, 0.0, 0.0, 0.0, 0.38888888888888884, 0.6833333333333335, 0.21666666666666667, 0.0, 0.5444444444444444, 0.9, 0.4333333333333334, 0.4, 0.0, 0.3111111111111111, 0.4779761904761905, 0.65, 0.0, 0.03333333333333333, 0.6333333333333333, 0.575, 0.575, 0.0, 0.2, 0.05, 0.19999999999999998, 0.0, 0.3333333333333333, 0.65, 0.4666666666666666, 0.0, 0.65, 0.0, 0.48333333333333334, 0.06666666666666667], \"yaxis\": \"y\"}],\n",
       "                        {\"legend\": {\"tracegroupgap\": 0}, \"template\": {\"data\": {\"bar\": [{\"error_x\": {\"color\": \"#2a3f5f\"}, \"error_y\": {\"color\": \"#2a3f5f\"}, \"marker\": {\"line\": {\"color\": \"#E5ECF6\", \"width\": 0.5}}, \"type\": \"bar\"}], \"barpolar\": [{\"marker\": {\"line\": {\"color\": \"#E5ECF6\", \"width\": 0.5}}, \"type\": \"barpolar\"}], \"carpet\": [{\"aaxis\": {\"endlinecolor\": \"#2a3f5f\", \"gridcolor\": \"white\", \"linecolor\": \"white\", \"minorgridcolor\": \"white\", \"startlinecolor\": \"#2a3f5f\"}, \"baxis\": {\"endlinecolor\": \"#2a3f5f\", \"gridcolor\": \"white\", \"linecolor\": \"white\", \"minorgridcolor\": \"white\", \"startlinecolor\": \"#2a3f5f\"}, \"type\": \"carpet\"}], \"choropleth\": [{\"colorbar\": {\"outlinewidth\": 0, \"ticks\": \"\"}, \"type\": \"choropleth\"}], \"contour\": [{\"colorbar\": {\"outlinewidth\": 0, \"ticks\": \"\"}, \"colorscale\": [[0.0, \"#0d0887\"], [0.1111111111111111, \"#46039f\"], [0.2222222222222222, \"#7201a8\"], [0.3333333333333333, \"#9c179e\"], [0.4444444444444444, \"#bd3786\"], [0.5555555555555556, \"#d8576b\"], [0.6666666666666666, \"#ed7953\"], [0.7777777777777778, \"#fb9f3a\"], [0.8888888888888888, \"#fdca26\"], [1.0, \"#f0f921\"]], \"type\": \"contour\"}], \"contourcarpet\": [{\"colorbar\": {\"outlinewidth\": 0, \"ticks\": \"\"}, \"type\": \"contourcarpet\"}], \"heatmap\": [{\"colorbar\": {\"outlinewidth\": 0, \"ticks\": \"\"}, \"colorscale\": [[0.0, \"#0d0887\"], [0.1111111111111111, \"#46039f\"], [0.2222222222222222, \"#7201a8\"], [0.3333333333333333, \"#9c179e\"], [0.4444444444444444, \"#bd3786\"], [0.5555555555555556, \"#d8576b\"], [0.6666666666666666, \"#ed7953\"], [0.7777777777777778, \"#fb9f3a\"], [0.8888888888888888, \"#fdca26\"], [1.0, \"#f0f921\"]], \"type\": \"heatmap\"}], \"heatmapgl\": [{\"colorbar\": {\"outlinewidth\": 0, \"ticks\": \"\"}, \"colorscale\": [[0.0, \"#0d0887\"], [0.1111111111111111, \"#46039f\"], [0.2222222222222222, \"#7201a8\"], [0.3333333333333333, \"#9c179e\"], [0.4444444444444444, \"#bd3786\"], [0.5555555555555556, \"#d8576b\"], [0.6666666666666666, \"#ed7953\"], [0.7777777777777778, \"#fb9f3a\"], [0.8888888888888888, \"#fdca26\"], [1.0, \"#f0f921\"]], \"type\": \"heatmapgl\"}], \"histogram\": [{\"marker\": {\"colorbar\": {\"outlinewidth\": 0, \"ticks\": \"\"}}, \"type\": \"histogram\"}], \"histogram2d\": [{\"colorbar\": {\"outlinewidth\": 0, \"ticks\": \"\"}, \"colorscale\": [[0.0, \"#0d0887\"], [0.1111111111111111, \"#46039f\"], [0.2222222222222222, \"#7201a8\"], [0.3333333333333333, \"#9c179e\"], [0.4444444444444444, \"#bd3786\"], [0.5555555555555556, \"#d8576b\"], [0.6666666666666666, \"#ed7953\"], [0.7777777777777778, \"#fb9f3a\"], [0.8888888888888888, \"#fdca26\"], [1.0, \"#f0f921\"]], \"type\": \"histogram2d\"}], \"histogram2dcontour\": [{\"colorbar\": {\"outlinewidth\": 0, \"ticks\": \"\"}, \"colorscale\": [[0.0, \"#0d0887\"], [0.1111111111111111, \"#46039f\"], [0.2222222222222222, \"#7201a8\"], [0.3333333333333333, \"#9c179e\"], [0.4444444444444444, \"#bd3786\"], [0.5555555555555556, \"#d8576b\"], [0.6666666666666666, \"#ed7953\"], [0.7777777777777778, \"#fb9f3a\"], [0.8888888888888888, \"#fdca26\"], [1.0, \"#f0f921\"]], \"type\": \"histogram2dcontour\"}], \"mesh3d\": [{\"colorbar\": {\"outlinewidth\": 0, \"ticks\": \"\"}, \"type\": \"mesh3d\"}], \"parcoords\": [{\"line\": {\"colorbar\": {\"outlinewidth\": 0, \"ticks\": \"\"}}, \"type\": \"parcoords\"}], \"pie\": [{\"automargin\": true, \"type\": \"pie\"}], \"scatter\": [{\"marker\": {\"colorbar\": {\"outlinewidth\": 0, \"ticks\": \"\"}}, \"type\": \"scatter\"}], \"scatter3d\": [{\"line\": {\"colorbar\": {\"outlinewidth\": 0, \"ticks\": \"\"}}, \"marker\": {\"colorbar\": {\"outlinewidth\": 0, \"ticks\": \"\"}}, \"type\": \"scatter3d\"}], \"scattercarpet\": [{\"marker\": {\"colorbar\": {\"outlinewidth\": 0, \"ticks\": \"\"}}, \"type\": \"scattercarpet\"}], \"scattergeo\": [{\"marker\": {\"colorbar\": {\"outlinewidth\": 0, \"ticks\": \"\"}}, \"type\": \"scattergeo\"}], \"scattergl\": [{\"marker\": {\"colorbar\": {\"outlinewidth\": 0, \"ticks\": \"\"}}, \"type\": \"scattergl\"}], \"scattermapbox\": [{\"marker\": {\"colorbar\": {\"outlinewidth\": 0, \"ticks\": \"\"}}, \"type\": \"scattermapbox\"}], \"scatterpolar\": [{\"marker\": {\"colorbar\": {\"outlinewidth\": 0, \"ticks\": \"\"}}, \"type\": \"scatterpolar\"}], \"scatterpolargl\": [{\"marker\": {\"colorbar\": {\"outlinewidth\": 0, \"ticks\": \"\"}}, \"type\": \"scatterpolargl\"}], \"scatterternary\": [{\"marker\": {\"colorbar\": {\"outlinewidth\": 0, \"ticks\": \"\"}}, \"type\": \"scatterternary\"}], \"surface\": [{\"colorbar\": {\"outlinewidth\": 0, \"ticks\": \"\"}, \"colorscale\": [[0.0, \"#0d0887\"], [0.1111111111111111, \"#46039f\"], [0.2222222222222222, \"#7201a8\"], [0.3333333333333333, \"#9c179e\"], [0.4444444444444444, \"#bd3786\"], [0.5555555555555556, \"#d8576b\"], [0.6666666666666666, \"#ed7953\"], [0.7777777777777778, \"#fb9f3a\"], [0.8888888888888888, \"#fdca26\"], [1.0, \"#f0f921\"]], \"type\": \"surface\"}], \"table\": [{\"cells\": {\"fill\": {\"color\": \"#EBF0F8\"}, \"line\": {\"color\": \"white\"}}, \"header\": {\"fill\": {\"color\": \"#C8D4E3\"}, \"line\": {\"color\": \"white\"}}, \"type\": \"table\"}]}, \"layout\": {\"annotationdefaults\": {\"arrowcolor\": \"#2a3f5f\", \"arrowhead\": 0, \"arrowwidth\": 1}, \"coloraxis\": {\"colorbar\": {\"outlinewidth\": 0, \"ticks\": \"\"}}, \"colorscale\": {\"diverging\": [[0, \"#8e0152\"], [0.1, \"#c51b7d\"], [0.2, \"#de77ae\"], [0.3, \"#f1b6da\"], [0.4, \"#fde0ef\"], [0.5, \"#f7f7f7\"], [0.6, \"#e6f5d0\"], [0.7, \"#b8e186\"], [0.8, \"#7fbc41\"], [0.9, \"#4d9221\"], [1, \"#276419\"]], \"sequential\": [[0.0, \"#0d0887\"], [0.1111111111111111, \"#46039f\"], [0.2222222222222222, \"#7201a8\"], [0.3333333333333333, \"#9c179e\"], [0.4444444444444444, \"#bd3786\"], [0.5555555555555556, \"#d8576b\"], [0.6666666666666666, \"#ed7953\"], [0.7777777777777778, \"#fb9f3a\"], [0.8888888888888888, \"#fdca26\"], [1.0, \"#f0f921\"]], \"sequentialminus\": [[0.0, \"#0d0887\"], [0.1111111111111111, \"#46039f\"], [0.2222222222222222, \"#7201a8\"], [0.3333333333333333, \"#9c179e\"], [0.4444444444444444, \"#bd3786\"], [0.5555555555555556, \"#d8576b\"], [0.6666666666666666, \"#ed7953\"], [0.7777777777777778, \"#fb9f3a\"], [0.8888888888888888, \"#fdca26\"], [1.0, \"#f0f921\"]]}, \"colorway\": [\"#636efa\", \"#EF553B\", \"#00cc96\", \"#ab63fa\", \"#FFA15A\", \"#19d3f3\", \"#FF6692\", \"#B6E880\", \"#FF97FF\", \"#FECB52\"], \"font\": {\"color\": \"#2a3f5f\"}, \"geo\": {\"bgcolor\": \"white\", \"lakecolor\": \"white\", \"landcolor\": \"#E5ECF6\", \"showlakes\": true, \"showland\": true, \"subunitcolor\": \"white\"}, \"hoverlabel\": {\"align\": \"left\"}, \"hovermode\": \"closest\", \"mapbox\": {\"style\": \"light\"}, \"paper_bgcolor\": \"white\", \"plot_bgcolor\": \"#E5ECF6\", \"polar\": {\"angularaxis\": {\"gridcolor\": \"white\", \"linecolor\": \"white\", \"ticks\": \"\"}, \"bgcolor\": \"#E5ECF6\", \"radialaxis\": {\"gridcolor\": \"white\", \"linecolor\": \"white\", \"ticks\": \"\"}}, \"scene\": {\"xaxis\": {\"backgroundcolor\": \"#E5ECF6\", \"gridcolor\": \"white\", \"gridwidth\": 2, \"linecolor\": \"white\", \"showbackground\": true, \"ticks\": \"\", \"zerolinecolor\": \"white\"}, \"yaxis\": {\"backgroundcolor\": \"#E5ECF6\", \"gridcolor\": \"white\", \"gridwidth\": 2, \"linecolor\": \"white\", \"showbackground\": true, \"ticks\": \"\", \"zerolinecolor\": \"white\"}, \"zaxis\": {\"backgroundcolor\": \"#E5ECF6\", \"gridcolor\": \"white\", \"gridwidth\": 2, \"linecolor\": \"white\", \"showbackground\": true, \"ticks\": \"\", \"zerolinecolor\": \"white\"}}, \"shapedefaults\": {\"line\": {\"color\": \"#2a3f5f\"}}, \"ternary\": {\"aaxis\": {\"gridcolor\": \"white\", \"linecolor\": \"white\", \"ticks\": \"\"}, \"baxis\": {\"gridcolor\": \"white\", \"linecolor\": \"white\", \"ticks\": \"\"}, \"bgcolor\": \"#E5ECF6\", \"caxis\": {\"gridcolor\": \"white\", \"linecolor\": \"white\", \"ticks\": \"\"}}, \"title\": {\"x\": 0.05}, \"xaxis\": {\"automargin\": true, \"gridcolor\": \"white\", \"linecolor\": \"white\", \"ticks\": \"\", \"title\": {\"standoff\": 15}, \"zerolinecolor\": \"white\", \"zerolinewidth\": 2}, \"yaxis\": {\"automargin\": true, \"gridcolor\": \"white\", \"linecolor\": \"white\", \"ticks\": \"\", \"title\": {\"standoff\": 15}, \"zerolinecolor\": \"white\", \"zerolinewidth\": 2}}}, \"title\": {\"text\": \"TextBlob Sentiment Analysis - No Emojis\"}, \"xaxis\": {\"anchor\": \"y\", \"domain\": [0.0, 1.0], \"title\": {\"text\": \"TB_polarity_no_emoji\"}}, \"yaxis\": {\"anchor\": \"x\", \"domain\": [0.0, 1.0], \"title\": {\"text\": \"TB_subjectivity_no_emoji\"}}},\n",
       "                        {\"responsive\": true}\n",
       "                    ).then(function(){\n",
       "                            \n",
       "var gd = document.getElementById('4a7f3ba9-8884-4209-8d40-8df05dd724f8');\n",
       "var x = new MutationObserver(function (mutations, observer) {{\n",
       "        var display = window.getComputedStyle(gd).display;\n",
       "        if (!display || display === 'none') {{\n",
       "            console.log([gd, 'removed!']);\n",
       "            Plotly.purge(gd);\n",
       "            observer.disconnect();\n",
       "        }}\n",
       "}});\n",
       "\n",
       "// Listen for the removal of the full notebook cells\n",
       "var notebookContainer = gd.closest('#notebook-container');\n",
       "if (notebookContainer) {{\n",
       "    x.observe(notebookContainer, {childList: true});\n",
       "}}\n",
       "\n",
       "// Listen for the clearing of the current output cell\n",
       "var outputEl = gd.closest('.output');\n",
       "if (outputEl) {{\n",
       "    x.observe(outputEl, {childList: true});\n",
       "}}\n",
       "\n",
       "                        })\n",
       "                };\n",
       "                });\n",
       "            </script>\n",
       "        </div>"
      ]
     },
     "metadata": {},
     "output_type": "display_data"
    }
   ],
   "source": [
    "fig = px.scatter(df_no_emojis, x=\"TB_polarity_no_emoji\", y=\"TB_subjectivity_no_emoji\", hover_data=['tweet_text'],\n",
    "                 title=\"TextBlob Sentiment Analysis - No Emojis\")\n",
    "\n",
    "fig.show()"
   ]
  },
  {
   "cell_type": "code",
   "execution_count": 24,
   "id": "74d86c95-dfb2-402d-b644-c0d49e08e5c5",
   "metadata": {},
   "outputs": [],
   "source": [
    "analyser = SentimentIntensityAnalyzer()\n",
    "\n",
    "def get_vaderCompoundPolarity(text):\n",
    "    return analyser.polarity_scores(text)['compound']"
   ]
  },
  {
   "cell_type": "code",
   "execution_count": 25,
   "id": "9a495fd0-d191-459a-b7b9-feaff832a689",
   "metadata": {},
   "outputs": [],
   "source": [
    "df_no_emojis['vader_polarity_no_emoji'] = df_no_emojis['tweet_text'].apply(get_vaderCompoundPolarity)\n",
    "df_no_emojis['Vader_sentiment_no_emoji'] = df_no_emojis['vader_polarity_no_emoji'].apply(get_sentiment_label)\n",
    "\n",
    "df_with_emojis['vader_polarity_with_emoji'] = df_with_emojis['tweet_text_emojitise'].apply(getPolarity)\n",
    "df_with_emojis['vader_sentiment_with_emoji'] = df_with_emojis['vader_polarity_with_emoji'].apply(get_sentiment_label)\n"
   ]
  },
  {
   "cell_type": "code",
   "execution_count": 29,
   "id": "4be32e82-cacf-4258-839a-d6d94bbdcaeb",
   "metadata": {},
   "outputs": [
    {
     "name": "stdout",
     "output_type": "stream",
     "text": [
      "467    1\n",
      "414    1\n",
      "118    1\n",
      "Name: vader_sentiment_with_emoji, dtype: int64\n",
      "145    1\n",
      "437    1\n",
      "416    1\n",
      "Name: Vader_sentiment_no_emoji, dtype: int64\n"
     ]
    }
   ],
   "source": [
    "emojis_data = df_with_emojis['vader_sentiment_with_emoji'].value_counts()\n",
    "no_emojis_data = df_no_emojis['Vader_sentiment_no_emoji'].value_counts()\n",
    "\n",
    "neutral = [emojis_data['Neutral'],no_emojis_data['Neutral']]\n",
    "positive = [emojis_data['Positive'],no_emojis_data['Positive']]\n",
    "negative = [emojis_data['Negative'],no_emojis_data['Negative']]\n",
    "\n",
    "print(emojis_data.value_counts())\n",
    "print(no_emojis_data.value_counts())"
   ]
  },
  {
   "cell_type": "code",
   "execution_count": 27,
   "id": "4de66c16-9bdc-434e-8750-65bdd84eb130",
   "metadata": {},
   "outputs": [
    {
     "data": {
      "image/png": "[encoded data removed]",
      "text/plain": [
       "<Figure size 432x288 with 1 Axes>"
      ]
     },
     "metadata": {},
     "output_type": "display_data"
    }
   ],
   "source": [
    "X = ['With Emojis','Without Emojis']\n",
    "  \n",
    "X_axis = np.arange(len(X))\n",
    "\n",
    "plt.bar(X_axis, neutral, 0.2, label = 'Neutral')\n",
    "plt.bar(X_axis + 0.2, positive, 0.2, label = 'Positive')\n",
    "plt.bar(X_axis + 0.4, negative, 0.2, label = 'Negative')\n",
    "\n",
    "plt.xticks(X_axis, X)\n",
    "# plt.xlabel(\"Sentiments\")\n",
    "plt.ylabel(\"Count\")\n",
    "plt.title(\"Sentiment Analysis - Vader\")\n",
    "plt.legend()\n",
    "plt.show()"
   ]
  }
 ],
 "metadata": {
  "kernelspec": {
   "display_name": "Python 3",
   "language": "python",
   "name": "python3"
  },
  "language_info": {
   "codemirror_mode": {
    "name": "ipython",
    "version": 3
   },
   "file_extension": ".py",
   "mimetype": "text/x-python",
   "name": "python",
   "nbconvert_exporter": "python",
   "pygments_lexer": "ipython3",
   "version": "3.8.10"
  }
 },
 "nbformat": 4,
 "nbformat_minor": 5
}
