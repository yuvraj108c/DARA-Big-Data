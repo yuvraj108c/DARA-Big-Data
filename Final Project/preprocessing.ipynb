{
 "cells": [
  {
   "cell_type": "code",
   "execution_count": 1,
   "id": "3845bf54-94ea-4878-992d-f540d41ceef8",
   "metadata": {},
   "outputs": [
    {
     "name": "stderr",
     "output_type": "stream",
     "text": [
      "[nltk_data] Downloading package stopwords to /home/uom44/nltk_data...\n",
      "[nltk_data]   Package stopwords is already up-to-date!\n"
     ]
    },
    {
     "data": {
      "text/plain": [
       "True"
      ]
     },
     "execution_count": 1,
     "metadata": {},
     "output_type": "execute_result"
    }
   ],
   "source": [
    "import re\n",
    "import pandas as pd\n",
    "import nltk \n",
    "from nltk.corpus import stopwords\n",
    "from nltk.tokenize.toktok import ToktokTokenizer\n",
    "tokenizer = ToktokTokenizer()\n",
    "nltk.download(\"stopwords\")"
   ]
  },
  {
   "cell_type": "code",
   "execution_count": 2,
   "id": "beab2aa6-2891-4d86-9ecb-8fa9aab102bf",
   "metadata": {},
   "outputs": [],
   "source": [
    "# ___Cell no. 13___\n",
    "\n",
    "def clean_text_include_emoji(text):\n",
    "    \n",
    "    \"\"\"\n",
    "    A function to clean the tweet text\n",
    "    \"\"\"\n",
    "    #Remove hyper links\n",
    "    text = re.sub(r'https?:\\/\\/\\S+', ' ', text)\n",
    "    \n",
    "    #Remove @mentions\n",
    "    text = re.sub(r'@[A-Za-z0-9]+', ' ', text)\n",
    "    \n",
    "    #Remove hashtag symbol\n",
    "    text = re.sub(r\"#\",'',text)\n",
    "    \n",
    "    #Remove anything that isn't a letter, number, or one of the punctuation marks listed\n",
    "    # text = re.sub(r\"[^A-Za-z0-9#'?!,.]+\", ' ', text)   \n",
    "    \n",
    "    return text\n",
    "\n",
    "def clean_text_exclude_emoji(text):\n",
    "    \n",
    "    \"\"\"\n",
    "    A function to clean the tweet text\n",
    "    \"\"\"\n",
    "    #Remove hyper links\n",
    "    text = re.sub(r'https?:\\/\\/\\S+', ' ', text)\n",
    "    \n",
    "    #Remove @mentions\n",
    "    text = re.sub(r'@[A-Za-z0-9]+', ' ', text)\n",
    "    \n",
    "    #Remove hashtag symbol\n",
    "    text = re.sub(r\"#\",'',text)\n",
    "    \n",
    "    #Remove anything that isn't a letter, number, or one of the punctuation marks listed\n",
    "    text = re.sub(r\"[^A-Za-z0-9#'?!,.]+\", ' ', text)   \n",
    "    \n",
    "    return text"
   ]
  },
  {
   "cell_type": "code",
   "execution_count": 9,
   "id": "2a1c49c8-8389-418b-98d9-6c90534569e8",
   "metadata": {},
   "outputs": [
    {
     "data": {
      "text/plain": [
       "Unnamed: 0  tweet_id_str         date_time            location                     tweet_text                                                                                                                                                                                                                                                                     \n",
       "999         1539307192829943810  2022-06-21 18:00:08  Colorado Springs/Pueblo, CO  Colorado public health leaders have had plans in place anticipating the go-ahead from the CDC. https://t.co/ngVy3Vmu5W                                                                                                                                                             1\n",
       "326         1539647017760219139  2022-06-22 16:30:28  San Diego, California        .@NPR talks to Claire Hannan, who has helped navigate vaccine rollouts in all 50 states, about some of the challenges involved in quickly getting shots out to millions of young kids. https://t.co/pxZpKxa0nT                                                                     1\n",
       "339         1539643939107786752  2022-06-22 16:18:14  Columbus, Ohio               🚨Today is THE day! #COVID19 vaccines are finally available for kids ages 6 months to 5 years! Vaccines are ALWAYS the BEST way to protect you and your family. #Callyourpediatrician to learn more and schedule your vaccine TODAY. https://t.co/pBr18aUTNX                        1\n",
       "338         1539644526087659520  2022-06-22 16:20:34  Daly City, CA                Children 6 months and older are now eligible to receive the COVID-19 vaccine!\\n\\nVisit https://t.co/kja1uQ47Yl to find vaccination sites near you.\\n\\n#JESDcares #GetVaccinated #GetBoosted @SMCHealth https://t.co/GploT4UAKa                                                     1\n",
       "337         1539644634905083904  2022-06-22 16:21:00  Tallahassee, FL              So is it just the covid vacc that @GovRonDeSantis has a problem with or is it ALL vaccs? I know yall aint out here with COMPLETELY unvaccinated kids! 😳😳😳\\n\\nhttps://t.co/PXUYej1Ie6                                                                                               1\n",
       "                                                                                                                                                                                                                                                                                                                                                                     ..\n",
       "660         1539408443127255040  2022-06-22 00:42:28  Texas                        So excited to get my toddler his first Covid-19 vaccine shot today! He was part of the trials, and we just learned that he got the placebo (darn!) But now he gets the real thing! Now we’re scheduling his church dedication for 2 wks after 3rd shot! https://t.co/fGCcAeyXjl    1\n",
       "659         1539408924134227970  2022-06-22 00:44:23  USA                          COVID-19 shots for tots: Where to get children under 5 vaccinated in DC, Md. and Va. https://t.co/eoCBNjbvzR                                                                                                                                                                       1\n",
       "658         1539409228422602753  2022-06-22 00:45:35  Asheville                    Charlotte child mistakenly given double dose of COVID vaccine, father says https://t.co/vG3tgwNiT6 via @YouTube                                                                                                                                                                    1\n",
       "657         1539409705960976385  2022-06-22 00:47:29  United States                CDC Admits It Never Monitored VAERS for COVID Vaccine Safety Signals! In response to a FOIA Request submitted by Children’s Health Defense.\\nhttps://t.co/K4bJU4P85F                                                                                                               1\n",
       "0           1539759672227467264  2022-06-22 23:58:07  Topeka, KS                   In case you missed it: @CDCgov now recommends COVID-19 vaccination for children as young as six months old. Learn more about getting your child this safe &amp; effective vaccine: https://t.co/rhJsTvbqGR. https://t.co/vjDKdlyKuj                                                1\n",
       "Length: 995, dtype: int64"
      ]
     },
     "execution_count": 9,
     "metadata": {},
     "output_type": "execute_result"
    }
   ],
   "source": [
    "df = pd.read_csv(\"covidData.csv\")\n",
    "df = df.drop_duplicates(subset=['tweet_text'])\n",
    "df.value_counts()"
   ]
  },
  {
   "cell_type": "code",
   "execution_count": 4,
   "id": "67e8cd97-7048-4a2b-bdd1-cc2f6409a741",
   "metadata": {},
   "outputs": [],
   "source": [
    "stopwords = stopwords.words(\"english\")\n",
    "my_stopwords = ['coronavirus','covid','pandemic','covid19','lockdown','amp','via','vaccine','vaccination' ,'shot','vaccinated' ,'vaccinate','child','kids','baby','children','toddler','new','young','infants' ,'infant', 'kid','parent','get','months','month','old','age','getting','year','available','years']\n",
    "stopwords.extend(my_stopwords)"
   ]
  },
  {
   "cell_type": "code",
   "execution_count": 5,
   "id": "30097b1b-14f5-4fd9-8662-95a04d253301",
   "metadata": {},
   "outputs": [],
   "source": [
    "def remove_stopwords(text):\n",
    "    # Tokenize the text\n",
    "    tokens = tokenizer.tokenize(text)\n",
    "    tokens = [token.strip() for token in tokens]\n",
    "    \n",
    "    # Remove stop words\n",
    "    filtered_tokens = [token for token in tokens if token not in stopwords]\n",
    "    filtered_text = ' '.join(filtered_tokens)    \n",
    "    \n",
    "    return filtered_text"
   ]
  },
  {
   "cell_type": "code",
   "execution_count": 7,
   "id": "1d74b0ac-585a-423c-9233-d0e8b29037e4",
   "metadata": {},
   "outputs": [],
   "source": [
    "df_noStopWords_lcase_emojis = df\n",
    "\n",
    "df_noStopWords_lcase_emojis['tweet_text']=df_noStopWords_lcase_emojis['tweet_text'].str.lower()\n",
    "df_noStopWords_lcase_emojis['tweet_text'] = df_noStopWords_lcase_emojis['tweet_text'].apply(clean_text_include_emoji)\n",
    "\n",
    "df_noStopWords_lcase_emojis['tweet_text']=df_noStopWords_lcase_emojis['tweet_text'].apply(remove_stopwords)\n",
    "\n",
    "df_noStopWords_lcase_emojis.dropna(subset=['tweet_text'],inplace=True)\n",
    "\n",
    "df_noStopWords_lcase_emojis.to_csv(\"covidData_cleaned_lowercase_noStopwords_emojis.csv\",index=False)"
   ]
  },
  {
   "cell_type": "code",
   "execution_count": 6,
   "id": "d9209dfc-bb90-4180-a35f-870f705e5618",
   "metadata": {},
   "outputs": [],
   "source": [
    "df_noStopWords_lcase_no_emojis = df\n",
    "\n",
    "df_noStopWords_lcase_no_emojis['tweet_text']=df_noStopWords_lcase_no_emojis['tweet_text'].str.lower()\n",
    "df_noStopWords_lcase_no_emojis['tweet_text'] = df_noStopWords_lcase_no_emojis['tweet_text'].apply(clean_text_exclude_emoji)\n",
    "\n",
    "df_noStopWords_lcase_no_emojis['tweet_text']=df_noStopWords_lcase_no_emojis['tweet_text'].apply(remove_stopwords)\n",
    "\n",
    "df_noStopWords_lcase_no_emojis.dropna(subset=['tweet_text'],inplace=True)\n",
    "\n",
    "df_noStopWords_lcase_no_emojis.to_csv(\"covidData_cleaned_lowercase_noStopwords_no_emojis.csv\",index=False)"
   ]
  }
 ],
 "metadata": {
  "kernelspec": {
   "display_name": "Python 3",
   "language": "python",
   "name": "python3"
  },
  "language_info": {
   "codemirror_mode": {
    "name": "ipython",
    "version": 3
   },
   "file_extension": ".py",
   "mimetype": "text/x-python",
   "name": "python",
   "nbconvert_exporter": "python",
   "pygments_lexer": "ipython3",
   "version": "3.8.10"
  }
 },
 "nbformat": 4,
 "nbformat_minor": 5
}
